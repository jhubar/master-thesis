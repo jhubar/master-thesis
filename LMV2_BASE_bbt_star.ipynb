{
  "cells": [
    {
      "cell_type": "markdown",
      "metadata": {
        "id": "view-in-github",
        "colab_type": "text"
      },
      "source": [
        "<a href=\"https://colab.research.google.com/github/jhubar/master-thesis/blob/main/LMV2_BASE_bbt_star.ipynb\" target=\"_parent\"><img src=\"https://colab.research.google.com/assets/colab-badge.svg\" alt=\"Open In Colab\"/></a>"
      ]
    },
    {
      "cell_type": "markdown",
      "metadata": {
        "id": "Z7E3hFdIQBYu"
      },
      "source": [
        "\n",
        "## Install dependencies"
      ]
    },
    {
      "cell_type": "code",
      "execution_count": 23,
      "metadata": {
        "id": "vL18fbJlmXn8",
        "colab": {
          "base_uri": "https://localhost:8080/"
        },
        "outputId": "e61b919d-549c-408e-8a80-51f587c2a5ad"
      },
      "outputs": [
        {
          "output_type": "stream",
          "name": "stdout",
          "text": [
            "Cloning into 'transformers'...\n",
            "remote: Enumerating objects: 109833, done.\u001b[K\n",
            "remote: Counting objects: 100% (46/46), done.\u001b[K\n",
            "remote: Compressing objects: 100% (39/39), done.\u001b[K\n",
            "remote: Total 109833 (delta 12), reused 13 (delta 3), pack-reused 109787\n",
            "Receiving objects: 100% (109833/109833), 97.14 MiB | 32.85 MiB/s, done.\n",
            "Resolving deltas: 100% (80090/80090), done.\n",
            "/bin/bash: line 0: cd: tranformers: No such file or directory\n",
            "\u001b[33m  DEPRECATION: A future pip version will change local packages to be built in-place without first copying to a temporary directory. We recommend you use --use-feature=in-tree-build to test your packages with this new behavior before it becomes the default.\n",
            "   pip 21.3 will remove support for this functionality. You can find discussion regarding this at https://github.com/pypa/pip/issues/7555.\u001b[0m\n",
            "  Installing build dependencies ... \u001b[?25l\u001b[?25hdone\n",
            "  Getting requirements to build wheel ... \u001b[?25l\u001b[?25hdone\n",
            "    Preparing wheel metadata ... \u001b[?25l\u001b[?25hdone\n",
            "  Building wheel for transformers (PEP 517) ... \u001b[?25l\u001b[?25hdone\n"
          ]
        }
      ],
      "source": [
        "!rm -r transformers\n",
        "!git clone https://github.com/huggingface/transformers.git\n",
        "!cd tranformers\n",
        "!pip install -q ./transformers "
      ]
    },
    {
      "cell_type": "code",
      "source": [
        "!pip install -q datasets seqeval"
      ],
      "metadata": {
        "id": "5X6FRLUGOES9"
      },
      "execution_count": 24,
      "outputs": []
    },
    {
      "cell_type": "code",
      "source": [
        "!pip install pyyaml==5.1\n",
        "# workaround: install old version of pytorch since detectron2 hasn't released packages for pytorch 1.9 (issue: https://github.com/facebookresearch/detectron2/issues/3158)\n",
        "!pip install torch==1.8.0+cu101 torchvision==0.9.0+cu101 -f https://download.pytorch.org/whl/torch_stable.html\n",
        "\n",
        "# install detectron2 that matches pytorch 1.8\n",
        "# See https://detectron2.readthedocs.io/tutorials/install.html for instructions\n",
        "!pip install -q detectron2 -f https://dl.fbaipublicfiles.com/detectron2/wheels/cu101/torch1.8/index.html\n",
        "# exit(0)  # After installation, you need to \"restart runtime\" in Colab. This line can also restart runtime"
      ],
      "metadata": {
        "id": "iTY7cOwuNg3d",
        "colab": {
          "base_uri": "https://localhost:8080/"
        },
        "outputId": "cc51e2b3-d42d-41e0-a68a-f1a35ebc2711"
      },
      "execution_count": 25,
      "outputs": [
        {
          "output_type": "stream",
          "name": "stdout",
          "text": [
            "Requirement already satisfied: pyyaml==5.1 in /usr/local/lib/python3.7/dist-packages (5.1)\n",
            "Looking in links: https://download.pytorch.org/whl/torch_stable.html\n",
            "Requirement already satisfied: torch==1.8.0+cu101 in /usr/local/lib/python3.7/dist-packages (1.8.0+cu101)\n",
            "Requirement already satisfied: torchvision==0.9.0+cu101 in /usr/local/lib/python3.7/dist-packages (0.9.0+cu101)\n",
            "Requirement already satisfied: numpy in /usr/local/lib/python3.7/dist-packages (from torch==1.8.0+cu101) (1.21.5)\n",
            "Requirement already satisfied: typing-extensions in /usr/local/lib/python3.7/dist-packages (from torch==1.8.0+cu101) (4.1.1)\n",
            "Requirement already satisfied: pillow>=4.1.1 in /usr/local/lib/python3.7/dist-packages (from torchvision==0.9.0+cu101) (7.1.2)\n"
          ]
        }
      ]
    },
    {
      "cell_type": "code",
      "source": [
        ""
      ],
      "metadata": {
        "id": "Yd_gq1FD4YbS"
      },
      "execution_count": null,
      "outputs": []
    },
    {
      "cell_type": "code",
      "source": [
        "!pip install sentencepiece"
      ],
      "metadata": {
        "id": "DHZkW3Ss7C6p",
        "colab": {
          "base_uri": "https://localhost:8080/"
        },
        "outputId": "2f99eeac-4673-4b27-8233-fe32cba1910c"
      },
      "execution_count": 26,
      "outputs": [
        {
          "output_type": "stream",
          "name": "stdout",
          "text": [
            "Requirement already satisfied: sentencepiece in /usr/local/lib/python3.7/dist-packages (0.1.96)\n"
          ]
        }
      ]
    },
    {
      "cell_type": "code",
      "source": [
        "import pandas as pd\n",
        "from google.colab import drive\n",
        "drive.mount('/content/drive')\n"
      ],
      "metadata": {
        "id": "UbKp24nGOJqA",
        "colab": {
          "base_uri": "https://localhost:8080/"
        },
        "outputId": "955e6883-452d-403b-b6b5-c974d2a9870f"
      },
      "execution_count": 27,
      "outputs": [
        {
          "output_type": "stream",
          "name": "stdout",
          "text": [
            "Drive already mounted at /content/drive; to attempt to forcibly remount, call drive.mount(\"/content/drive\", force_remount=True).\n"
          ]
        }
      ]
    },
    {
      "cell_type": "code",
      "source": [
        "path_btt_large_qv = '/content/drive/MyDrive/LayoutLMv2/final/btt_large_star'"
      ],
      "metadata": {
        "id": "ipGwX-Co9b7c"
      },
      "execution_count": 28,
      "outputs": []
    },
    {
      "cell_type": "code",
      "source": [
        "train = pd.read_pickle(path_btt_large_qv+'/pickel/train.pkl')\n",
        "val = pd.read_pickle(path_btt_large_qv+'/pickel/dev.pkl')\n",
        "test = pd.read_pickle(path_btt_large_qv+'/pickel/test.pkl')"
      ],
      "metadata": {
        "id": "znnyG9l4OL7j"
      },
      "execution_count": 29,
      "outputs": []
    },
    {
      "cell_type": "markdown",
      "metadata": {
        "id": "iOxLV0JnQJWJ"
      },
      "source": [
        "## Prepare the data\n",
        "\n"
      ]
    },
    {
      "cell_type": "code",
      "execution_count": 30,
      "metadata": {
        "id": "1RJLFClPIYjt",
        "colab": {
          "base_uri": "https://localhost:8080/"
        },
        "outputId": "5bc27336-401f-4a2a-b044-ba22d51850b0"
      },
      "outputs": [
        {
          "output_type": "execute_result",
          "data": {
            "text/plain": [
              "Counter({'Base': 9690,\n",
              "         'DueDate': 17089,\n",
              "         'Duedate': 6,\n",
              "         'Rem': 6104,\n",
              "         'RemPay': 3034,\n",
              "         'TotAmount': 9253,\n",
              "         'VatNr': 19098,\n",
              "         'iban': 42302,\n",
              "         'noise': 1587894,\n",
              "         'tax': 9233})"
            ]
          },
          "metadata": {},
          "execution_count": 30
        }
      ],
      "source": [
        "from collections import Counter\n",
        "\n",
        "all_labels = [item for sublist in train[1] for item in sublist] + [item for sublist in val[1] for item in sublist] + [item for sublist in test[1] for item in sublist]\n",
        "Counter(all_labels)"
      ]
    },
    {
      "cell_type": "markdown",
      "metadata": {
        "id": "h5jvOQR2Ivs5"
      },
      "source": [
        "Let's replace label noise by the \"neutral\" label \"O\" (which stands for \"Outside\")."
      ]
    },
    {
      "cell_type": "code",
      "execution_count": 31,
      "metadata": {
        "id": "7UzRGzqlIx22"
      },
      "outputs": [],
      "source": [
        "replacing_labels = {'noise': 'O','Duedate': 'O'}"
      ]
    },
    {
      "cell_type": "code",
      "execution_count": 32,
      "metadata": {
        "id": "ldWhTh1wIyX-"
      },
      "outputs": [],
      "source": [
        "def replace_elem(elem):\n",
        "  try:\n",
        "    return replacing_labels[elem]\n",
        "  except KeyError:\n",
        "    return elem\n",
        "def replace_list(ls):\n",
        "  return [replace_elem(elem) for elem in ls]\n",
        "\n",
        "\n",
        "train[1] = [replace_list(ls) for ls in train[1]]\n",
        "val[1] = [replace_list(ls) for ls in val[1]]\n",
        "test[1] = [replace_list(ls) for ls in test[1]]\n"
      ]
    },
    {
      "cell_type": "code",
      "execution_count": 33,
      "metadata": {
        "id": "YIN8ptH4JD3T",
        "colab": {
          "base_uri": "https://localhost:8080/"
        },
        "outputId": "d93245c4-cc0e-4747-82b3-6a5a261625f1"
      },
      "outputs": [
        {
          "output_type": "stream",
          "name": "stdout",
          "text": [
            "['TotAmount', 'Rem', 'Base', 'DueDate', 'RemPay', 'iban', 'tax', 'VatNr', 'O']\n",
            "{'TotAmount': 0, 'Rem': 1, 'Base': 2, 'DueDate': 3, 'RemPay': 4, 'iban': 5, 'tax': 6, 'VatNr': 7, 'O': 8}\n",
            "{0: 'TotAmount', 1: 'Rem', 2: 'Base', 3: 'DueDate', 4: 'RemPay', 5: 'iban', 6: 'tax', 7: 'VatNr', 8: 'O'}\n"
          ]
        }
      ],
      "source": [
        "all_labels = [item for sublist in train[1] for item in sublist] + [item for sublist in val[1] for item in sublist] + [item for sublist in test[1] for item in sublist]\n",
        "Counter(all_labels)\n",
        "labels = list(set(all_labels))\n",
        "print(labels)\n",
        "label2id = {label: idx for idx, label in enumerate(labels)}\n",
        "id2label = {idx: label for idx, label in enumerate(labels)}\n",
        "print(label2id)\n",
        "print(id2label)"
      ]
    },
    {
      "cell_type": "markdown",
      "metadata": {
        "id": "shn-dMRbJGuu"
      },
      "source": [
        "Now we have to save all the unique labels in a list."
      ]
    },
    {
      "cell_type": "code",
      "execution_count": 34,
      "metadata": {
        "id": "Gq5CmIRZUy9O"
      },
      "outputs": [],
      "source": [
        "from os import listdir\n",
        "from torch.utils.data import Dataset\n",
        "import torch\n",
        "from PIL import Image\n",
        "class BILLYDataset(Dataset):\n",
        "    \"\"\"BillyDataset dataset.\"\"\"\n",
        "\n",
        "    def __init__(self, annotations, image_dir, processor=None, max_length=512):\n",
        "        \"\"\"\n",
        "        Args:\n",
        "            annotations (List[List]): List of lists containing the word-level annotations (words, labels, boxes).\n",
        "            image_dir (string): Directory with all the document images.\n",
        "            processor (LayoutLMv2Processor): Processor to prepare the text + image.\n",
        "        \"\"\"\n",
        "        self.words, self.labels, self.boxes = annotations\n",
        "        self.image_dir = image_dir\n",
        "        self.image_file_names = [f for f in listdir(image_dir)]\n",
        "        self.processor = processor\n",
        "        self.max_length = max_length\n",
        "        \n",
        "\n",
        "    def __len__(self):\n",
        "        return len(self.image_file_names)\n",
        "\n",
        "    def __getitem__(self, idx):\n",
        "        item = self.image_file_names[idx]\n",
        "        image = Image.open(self.image_dir + item).convert(\"RGB\")\n",
        "        words = self.words[idx]\n",
        "        boxes = self.boxes[idx]\n",
        "        word_labels = self.labels[idx]\n",
        "\n",
        "        \n",
        "        assert len(words) == len(boxes) == len(word_labels)\n",
        "       \n",
        "        word_labels = [label2id[label] for label in word_labels]\n",
        "       \n",
        "        # use processor to prepare everything\n",
        "        encoded_inputs = processor(image, words, boxes=boxes, word_labels=word_labels,\n",
        "                              padding=\"max_length\", truncation=True, max_length=512, return_token_type_ids=True,return_tensors=\"pt\")\n",
        "        \n",
        "        # remove batch dimension\n",
        "        for k,v in encoded_inputs.items():\n",
        "          encoded_inputs[k] = v.squeeze()\n",
        "\n",
        "        assert encoded_inputs.input_ids.shape == torch.Size([512])\n",
        "        assert encoded_inputs.attention_mask.shape == torch.Size([512])\n",
        "        assert encoded_inputs.token_type_ids.shape == torch.Size([512])\n",
        "        assert encoded_inputs.bbox.shape == torch.Size([512, 4])\n",
        "        assert encoded_inputs.image.shape == torch.Size([3, 224, 224])\n",
        "        assert encoded_inputs.labels.shape == torch.Size([512]) \n",
        "      \n",
        "        return encoded_inputs\n",
        "    \n"
      ]
    },
    {
      "cell_type": "code",
      "execution_count": 35,
      "metadata": {
        "id": "izA9k5e-egyy",
        "colab": {
          "base_uri": "https://localhost:8080/"
        },
        "outputId": "a19ac62e-48d3-49dd-e86d-d029873d22c0"
      },
      "outputs": [
        {
          "output_type": "stream",
          "name": "stdout",
          "text": [
            "8252\n",
            "980\n",
            "1031\n"
          ]
        }
      ],
      "source": [
        "# from transformers import LayoutLMv2FeatureExtractor\n",
        "# from transformers import LayoutXLMTokenizer\n",
        "# from transformers import LayoutXLMProcessor\n",
        "# from transformers import LayoutLMv2Processor\n",
        "\n",
        "\n",
        "# # feature_extractor = LayoutLMv2FeatureExtractor(apply_ocr=False)\n",
        "# # tokenizer = LayoutXLMTokenizer.from_pretrained(\"microsoft/layoutxlm-base\")\n",
        "# # processor = LayoutXLMProcessor(feature_extractor,tokenizer)\n",
        "# processor = LayoutLMv2Processor.from_pretrained(\"microsoft/layoutlmv2-large-uncased\", apply_ocr=False)\n",
        "\n",
        "from transformers import LayoutLMv2Processor,AutoTokenizer \n",
        "\n",
        "\n",
        "from transformers import LayoutLMv2FeatureExtractor, LayoutLMv2TokenizerFast, LayoutLMv2Processor\n",
        "\n",
        "feature_extractor = LayoutLMv2FeatureExtractor(apply_ocr=False)  # apply_ocr is set to True by default\n",
        "tokenizer = AutoTokenizer.from_pretrained(\"microsoft/layoutlmv2-base-uncased\")\n",
        "processor = LayoutLMv2Processor(feature_extractor, tokenizer)\n",
        "\n",
        "train_dataset = BILLYDataset(annotations=train,\n",
        "                            image_dir= path_btt_large_qv+'/train/image/', \n",
        "                            processor=processor)\n",
        "print(len(train_dataset))\n",
        "val_dataset = BILLYDataset(annotations=val,\n",
        "                            image_dir=path_btt_large_qv+'/dev/image/', \n",
        "                            processor=processor)\n",
        "print(len(val_dataset))\n",
        "test_dataset = BILLYDataset(annotations=test,\n",
        "                            image_dir=path_btt_large_qv+'/test/image/', \n",
        "                            processor=processor)\n",
        "print(len(test_dataset))\n",
        "\n",
        "\n"
      ]
    },
    {
      "cell_type": "markdown",
      "metadata": {
        "id": "PAQJLuPPf27V"
      },
      "source": [
        "Next, we create corresponding dataloaders."
      ]
    },
    {
      "cell_type": "code",
      "execution_count": 36,
      "metadata": {
        "id": "XI-eM0m4fmfF",
        "colab": {
          "base_uri": "https://localhost:8080/"
        },
        "outputId": "af962b19-69e6-43d4-c84f-7a5b6a46cc0c"
      },
      "outputs": [
        {
          "output_type": "stream",
          "name": "stdout",
          "text": [
            "4126\n",
            "490\n",
            "516\n",
            "5158\n"
          ]
        }
      ],
      "source": [
        "from torch.utils.data import DataLoader\n",
        "batch_size = 2\n",
        "train_dataloader = DataLoader(train_dataset, batch_size=batch_size, shuffle=True)\n",
        "print(len(train_dataloader))\n",
        "val_dataloader = DataLoader(val_dataset, batch_size=batch_size, shuffle=True)\n",
        "print(len(val_dataloader))\n",
        "test_dataloader = DataLoader(test_dataset, batch_size=batch_size)\n",
        "print(len(test_dataloader))\n",
        "print(len(test_dataloader)+len(test_dataloader)+len(train_dataloader))"
      ]
    },
    {
      "cell_type": "markdown",
      "metadata": {
        "id": "hHgKGixHgIIC"
      },
      "source": [
        "## Train the model\n",
        "\n",
        "train the model\n",
        "learning rate = 1e-5 \n",
        "\n"
      ]
    },
    {
      "cell_type": "code",
      "source": [
        "import warnings\n",
        "warnings.filterwarnings(\"ignore\")\n",
        "from seqeval.metrics import (\n",
        "    classification_report,\n",
        "    f1_score,\n",
        "    precision_score,\n",
        "    recall_score)\n",
        "\n",
        "def results_test(preds, out_label_ids, labels):\n",
        "  preds = np.argmax(preds, axis=2)\n",
        "\n",
        "  label_map = {i: label for i, label in enumerate(labels)}\n",
        "\n",
        "  out_label_list = [[] for _ in range(out_label_ids.shape[0])]\n",
        "  preds_list = [[] for _ in range(out_label_ids.shape[0])]\n",
        "\n",
        "  for i in range(out_label_ids.shape[0]):\n",
        "      for j in range(out_label_ids.shape[1]):\n",
        "          if out_label_ids[i, j] != -100:\n",
        "              out_label_list[i].append(label_map[out_label_ids[i][j]])\n",
        "              preds_list[i].append(label_map[preds[i][j]])\n",
        "\n",
        "  \n",
        "  results = {\n",
        "      \"precision\": precision_score(out_label_list, preds_list),\n",
        "      \"recall\": recall_score(out_label_list, preds_list),\n",
        "      \"f1\": f1_score(out_label_list, preds_list),\n",
        "  }\n",
        " \n",
        "  return results,out_label_list, preds_list"
      ],
      "metadata": {
        "id": "AjcHF59ZKOWs"
      },
      "execution_count": 37,
      "outputs": []
    },
    {
      "cell_type": "code",
      "source": [
        "from transformers import LayoutLMv2ForTokenClassification, AdamW\n",
        "import torch\n",
        "from tqdm.notebook import tqdm\n",
        "from numpy import asarray\n",
        "from numpy import savetxt\n",
        "import numpy as np\n",
        "print(torch.cuda.get_device_name(0))\n",
        "model = LayoutLMv2ForTokenClassification.from_pretrained(\"microsoft/layoutlmv2-base-uncased\",\n",
        "                                                                      num_labels=len(labels))\n",
        "labels = list(set(all_labels))\n",
        "device = torch.device('cuda:0' if torch.cuda.is_available() else 'cpu')\n",
        "# device = 'cuda'\n",
        "print(device)\n",
        "model.to(device)\n",
        "optimizer = AdamW(model.parameters(), lr=1e-5)\n"
      ],
      "metadata": {
        "id": "YPLqj_CMv2tO",
        "colab": {
          "base_uri": "https://localhost:8080/"
        },
        "outputId": "5b951beb-7cdc-4d0f-e57f-898323fc794c"
      },
      "execution_count": 38,
      "outputs": [
        {
          "output_type": "stream",
          "name": "stdout",
          "text": [
            "Tesla P100-PCIE-16GB\n"
          ]
        },
        {
          "output_type": "stream",
          "name": "stderr",
          "text": [
            "Some weights of the model checkpoint at microsoft/layoutlmv2-base-uncased were not used when initializing LayoutLMv2ForTokenClassification: ['layoutlmv2.visual.backbone.bottom_up.res4.16.conv3.norm.num_batches_tracked', 'layoutlmv2.visual.backbone.bottom_up.res2.0.conv3.norm.num_batches_tracked', 'layoutlmv2.visual.backbone.bottom_up.res4.8.conv1.norm.num_batches_tracked', 'layoutlmv2.visual.backbone.bottom_up.res4.21.conv1.norm.num_batches_tracked', 'layoutlmv2.visual.backbone.bottom_up.res4.10.conv2.norm.num_batches_tracked', 'layoutlmv2.visual.backbone.bottom_up.res4.18.conv3.norm.num_batches_tracked', 'layoutlmv2.visual.backbone.bottom_up.res4.9.conv2.norm.num_batches_tracked', 'layoutlmv2.visual.backbone.bottom_up.res4.1.conv1.norm.num_batches_tracked', 'layoutlmv2.visual.backbone.bottom_up.res4.12.conv1.norm.num_batches_tracked', 'layoutlmv2.visual.backbone.bottom_up.res4.2.conv1.norm.num_batches_tracked', 'layoutlmv2.visual.backbone.bottom_up.res4.18.conv2.norm.num_batches_tracked', 'layoutlmv2.visual.backbone.bottom_up.res3.0.conv1.norm.num_batches_tracked', 'layoutlmv2.visual.backbone.bottom_up.res4.15.conv1.norm.num_batches_tracked', 'layoutlmv2.visual.backbone.bottom_up.res4.10.conv1.norm.num_batches_tracked', 'layoutlmv2.visual.backbone.bottom_up.res4.3.conv2.norm.num_batches_tracked', 'layoutlmv2.visual.backbone.bottom_up.res3.2.conv3.norm.num_batches_tracked', 'layoutlmv2.visual.backbone.bottom_up.res4.7.conv1.norm.num_batches_tracked', 'layoutlmv2.visual.backbone.bottom_up.res3.1.conv1.norm.num_batches_tracked', 'layoutlmv2.visual.backbone.bottom_up.res4.0.conv2.norm.num_batches_tracked', 'layoutlmv2.visual.backbone.bottom_up.res4.7.conv3.norm.num_batches_tracked', 'layoutlmv2.visual.backbone.bottom_up.res4.3.conv1.norm.num_batches_tracked', 'layoutlmv2.visual.backbone.bottom_up.res3.2.conv1.norm.num_batches_tracked', 'layoutlmv2.visual.backbone.bottom_up.res4.6.conv3.norm.num_batches_tracked', 'layoutlmv2.visual.backbone.bottom_up.res3.3.conv1.norm.num_batches_tracked', 'layoutlmv2.visual.backbone.bottom_up.res4.0.conv3.norm.num_batches_tracked', 'layoutlmv2.visual.backbone.bottom_up.res4.5.conv3.norm.num_batches_tracked', 'layoutlmv2.visual.backbone.bottom_up.res4.13.conv2.norm.num_batches_tracked', 'layoutlmv2.visual.backbone.bottom_up.res4.20.conv3.norm.num_batches_tracked', 'layoutlmv2.visual.backbone.bottom_up.res4.19.conv1.norm.num_batches_tracked', 'layoutlmv2.visual.backbone.bottom_up.res4.1.conv3.norm.num_batches_tracked', 'layoutlmv2.visual.backbone.bottom_up.res2.0.shortcut.norm.num_batches_tracked', 'layoutlmv2.visual.backbone.bottom_up.res2.2.conv3.norm.num_batches_tracked', 'layoutlmv2.visual.backbone.bottom_up.res4.20.conv2.norm.num_batches_tracked', 'layoutlmv2.visual.backbone.bottom_up.res4.16.conv2.norm.num_batches_tracked', 'layoutlmv2.visual.backbone.bottom_up.res4.19.conv2.norm.num_batches_tracked', 'layoutlmv2.visual.backbone.bottom_up.res5.2.conv3.norm.num_batches_tracked', 'layoutlmv2.visual.backbone.bottom_up.res4.8.conv3.norm.num_batches_tracked', 'layoutlmv2.visual.backbone.bottom_up.res2.0.conv1.norm.num_batches_tracked', 'layoutlmv2.visual.backbone.bottom_up.res4.0.conv1.norm.num_batches_tracked', 'layoutlmv2.visual.backbone.bottom_up.res4.4.conv1.norm.num_batches_tracked', 'layoutlmv2.visual.backbone.bottom_up.res4.12.conv3.norm.num_batches_tracked', 'layoutlmv2.visual.backbone.bottom_up.res4.17.conv1.norm.num_batches_tracked', 'layoutlmv2.visual.backbone.bottom_up.res4.17.conv3.norm.num_batches_tracked', 'layoutlmv2.visual.backbone.bottom_up.res3.0.conv3.norm.num_batches_tracked', 'layoutlmv2.visual.backbone.bottom_up.res4.14.conv3.norm.num_batches_tracked', 'layoutlmv2.visual.backbone.bottom_up.res4.2.conv2.norm.num_batches_tracked', 'layoutlmv2.visual.backbone.bottom_up.res4.3.conv3.norm.num_batches_tracked', 'layoutlmv2.visual.backbone.bottom_up.res4.21.conv2.norm.num_batches_tracked', 'layoutlmv2.visual.backbone.bottom_up.res2.0.conv2.norm.num_batches_tracked', 'layoutlmv2.visual.backbone.bottom_up.res2.1.conv3.norm.num_batches_tracked', 'layoutlmv2.visual.backbone.bottom_up.res4.15.conv3.norm.num_batches_tracked', 'layoutlmv2.visual.backbone.bottom_up.res2.1.conv2.norm.num_batches_tracked', 'layoutlmv2.visual.backbone.bottom_up.res4.13.conv1.norm.num_batches_tracked', 'layoutlmv2.visual.backbone.bottom_up.res5.1.conv3.norm.num_batches_tracked', 'layoutlmv2.visual.backbone.bottom_up.res4.6.conv1.norm.num_batches_tracked', 'layoutlmv2.visual.backbone.bottom_up.res4.1.conv2.norm.num_batches_tracked', 'layoutlmv2.visual.backbone.bottom_up.res5.0.shortcut.norm.num_batches_tracked', 'layoutlmv2.visual.backbone.bottom_up.res2.2.conv2.norm.num_batches_tracked', 'layoutlmv2.visual.backbone.bottom_up.res4.8.conv2.norm.num_batches_tracked', 'layoutlmv2.visual.backbone.bottom_up.res5.0.conv3.norm.num_batches_tracked', 'layoutlmv2.visual.backbone.bottom_up.res4.11.conv2.norm.num_batches_tracked', 'layoutlmv2.visual.backbone.bottom_up.res3.1.conv2.norm.num_batches_tracked', 'layoutlmv2.visual.backbone.bottom_up.res4.2.conv3.norm.num_batches_tracked', 'layoutlmv2.visual.backbone.bottom_up.res4.16.conv1.norm.num_batches_tracked', 'layoutlmv2.visual.backbone.bottom_up.res5.2.conv1.norm.num_batches_tracked', 'layoutlmv2.visual.backbone.bottom_up.res4.21.conv3.norm.num_batches_tracked', 'layoutlmv2.visual.backbone.bottom_up.res2.1.conv1.norm.num_batches_tracked', 'layoutlmv2.visual.backbone.bottom_up.res4.9.conv1.norm.num_batches_tracked', 'layoutlmv2.visual.backbone.bottom_up.res4.14.conv2.norm.num_batches_tracked', 'layoutlmv2.visual.backbone.bottom_up.res4.5.conv1.norm.num_batches_tracked', 'layoutlmv2.visual.backbone.bottom_up.res4.6.conv2.norm.num_batches_tracked', 'layoutlmv2.visual.backbone.bottom_up.res5.2.conv2.norm.num_batches_tracked', 'layoutlmv2.visual.backbone.bottom_up.res4.22.conv2.norm.num_batches_tracked', 'layoutlmv2.visual.backbone.bottom_up.res4.9.conv3.norm.num_batches_tracked', 'layoutlmv2.visual.backbone.bottom_up.res4.10.conv3.norm.num_batches_tracked', 'layoutlmv2.visual.backbone.bottom_up.res4.17.conv2.norm.num_batches_tracked', 'layoutlmv2.visual.backbone.bottom_up.res3.0.conv2.norm.num_batches_tracked', 'layoutlmv2.visual.backbone.bottom_up.res3.1.conv3.norm.num_batches_tracked', 'layoutlmv2.visual.backbone.bottom_up.res4.22.conv3.norm.num_batches_tracked', 'layoutlmv2.visual.backbone.bottom_up.res3.3.conv3.norm.num_batches_tracked', 'layoutlmv2.visual.backbone.bottom_up.res5.1.conv2.norm.num_batches_tracked', 'layoutlmv2.visual.backbone.bottom_up.res4.0.shortcut.norm.num_batches_tracked', 'layoutlmv2.visual.backbone.bottom_up.res4.20.conv1.norm.num_batches_tracked', 'layoutlmv2.visual.backbone.bottom_up.res4.12.conv2.norm.num_batches_tracked', 'layoutlmv2.visual.backbone.bottom_up.res4.11.conv3.norm.num_batches_tracked', 'layoutlmv2.visual.backbone.bottom_up.res4.15.conv2.norm.num_batches_tracked', 'layoutlmv2.visual.backbone.bottom_up.res4.5.conv2.norm.num_batches_tracked', 'layoutlmv2.visual.backbone.bottom_up.res5.1.conv1.norm.num_batches_tracked', 'layoutlmv2.visual.backbone.bottom_up.res4.7.conv2.norm.num_batches_tracked', 'layoutlmv2.visual.backbone.bottom_up.res5.0.conv1.norm.num_batches_tracked', 'layoutlmv2.visual.backbone.bottom_up.res2.2.conv1.norm.num_batches_tracked', 'layoutlmv2.visual.backbone.bottom_up.res4.22.conv1.norm.num_batches_tracked', 'layoutlmv2.visual.backbone.bottom_up.res4.19.conv3.norm.num_batches_tracked', 'layoutlmv2.visual.backbone.bottom_up.stem.conv1.norm.num_batches_tracked', 'layoutlmv2.visual.backbone.bottom_up.res5.0.conv2.norm.num_batches_tracked', 'layoutlmv2.visual.backbone.bottom_up.res4.13.conv3.norm.num_batches_tracked', 'layoutlmv2.visual.backbone.bottom_up.res4.4.conv3.norm.num_batches_tracked', 'layoutlmv2.visual.backbone.bottom_up.res3.2.conv2.norm.num_batches_tracked', 'layoutlmv2.visual.backbone.bottom_up.res4.11.conv1.norm.num_batches_tracked', 'layoutlmv2.visual.backbone.bottom_up.res3.0.shortcut.norm.num_batches_tracked', 'layoutlmv2.visual.backbone.bottom_up.res3.3.conv2.norm.num_batches_tracked', 'layoutlmv2.visual.backbone.bottom_up.res4.14.conv1.norm.num_batches_tracked', 'layoutlmv2.visual.backbone.bottom_up.res4.4.conv2.norm.num_batches_tracked', 'layoutlmv2.visual.backbone.bottom_up.res4.18.conv1.norm.num_batches_tracked']\n",
            "- This IS expected if you are initializing LayoutLMv2ForTokenClassification from the checkpoint of a model trained on another task or with another architecture (e.g. initializing a BertForSequenceClassification model from a BertForPreTraining model).\n",
            "- This IS NOT expected if you are initializing LayoutLMv2ForTokenClassification from the checkpoint of a model that you expect to be exactly identical (initializing a BertForSequenceClassification model from a BertForSequenceClassification model).\n",
            "Some weights of LayoutLMv2ForTokenClassification were not initialized from the model checkpoint at microsoft/layoutlmv2-base-uncased and are newly initialized: ['classifier.bias', 'classifier.weight']\n",
            "You should probably TRAIN this model on a down-stream task to be able to use it for predictions and inference.\n"
          ]
        },
        {
          "output_type": "stream",
          "name": "stdout",
          "text": [
            "cuda:0\n"
          ]
        }
      ]
    },
    {
      "cell_type": "code",
      "execution_count": 18,
      "metadata": {
        "id": "NxahVHZ0NKq7",
        "colab": {
          "base_uri": "https://localhost:8080/",
          "height": 1000,
          "referenced_widgets": [
            "3f7835dceceb4b9eabbf7e920c18a71c",
            "53afa5fb457949548eeac882b1e8392f",
            "5b10503c3fe94770908fa5b671b03566",
            "a37f557f1b2a48b29c0f1c96fcbac0cf",
            "1697b56b854b447786d088a3b018d0d9",
            "229006d2c64b43b2be95a5155f64e059",
            "6cacaffa22514fd39d33d735722613ec",
            "16a756db0f294a52bec815810af78e12",
            "be2e8b636baf462f8c40c9b104426637",
            "e53dd00b1fe64868b6225a80a301c370",
            "5881eb5126b9475abc4f80894b19371e",
            "9a47e241c43d4722877a658fbf50093a",
            "5568493b32084c29a17b33b00a0788d2",
            "32a4209a712342c881a826732d584465",
            "18988e776f1746e88f1af67aa2afcf39",
            "1b19cad072604286b5f38256bdbc3eb6",
            "0ebf7004b4c54bbaa550d96e16b8e440",
            "21ac34eda8924d8a8dede264a76e2d5e",
            "4b8de0c647ac4355a8a83ae33b99d214",
            "006fff0490034012812fa508193f98ec",
            "ec8eef491e024aedae062e5ef8d6e1c0",
            "a57a6101a3bf422b99a8e3400f06e340"
          ]
        },
        "outputId": "58ae85e1-6818-4f2f-fad6-9207cf774dc8"
      },
      "outputs": [
        {
          "output_type": "stream",
          "name": "stdout",
          "text": [
            "Epoch: 0\n"
          ]
        },
        {
          "output_type": "display_data",
          "data": {
            "text/plain": [
              "  0%|          | 0/4126 [00:00<?, ?it/s]"
            ],
            "application/vnd.jupyter.widget-view+json": {
              "version_major": 2,
              "version_minor": 0,
              "model_id": "3f7835dceceb4b9eabbf7e920c18a71c"
            }
          },
          "metadata": {}
        },
        {
          "output_type": "stream",
          "name": "stdout",
          "text": [
            "Overall results: {'precision': 0.010416666666666666, 'recall': 0.10526315789473684, 'f1': 0.01895734597156398}\n",
            "Loss after 0 steps: 2.1947379112243652\n",
            "Validation loss: 2.1520564556121826\n",
            "Overall results: {'precision': 0.005333333333333333, 'recall': 0.0013477088948787063, 'f1': 0.0021516944593867673}\n",
            "Loss after 100 steps: 0.9557793736457825\n",
            "Validation loss: 0.9167739748954773\n",
            "Overall results: {'precision': 0.005333333333333333, 'recall': 0.0006915629322268327, 'f1': 0.001224364860728497}\n",
            "Loss after 200 steps: 0.89491868019104\n",
            "Validation loss: 0.8472157120704651\n",
            "Overall results: {'precision': 0.005333333333333333, 'recall': 0.0004641448131817127, 'f1': 0.0008539709649871904}\n",
            "Loss after 300 steps: 0.8244134187698364\n",
            "Validation loss: 0.7394670248031616\n",
            "Overall results: {'precision': 0.005333333333333333, 'recall': 0.00034788658897199514, 'f1': 0.0006531678641410843}\n",
            "Loss after 400 steps: 0.7696592211723328\n",
            "Validation loss: 0.6756110787391663\n",
            "Overall results: {'precision': 0.005333333333333333, 'recall': 0.0002789400278940028, 'f1': 0.0005301524188204108}\n",
            "Loss after 500 steps: 0.6580333709716797\n",
            "Validation loss: 0.7244603633880615\n",
            "Overall results: {'precision': 0.005333333333333333, 'recall': 0.00023293733985557886, 'f1': 0.00044637875237138713}\n",
            "Loss after 600 steps: 0.8025767207145691\n",
            "Validation loss: 0.5392261743545532\n",
            "Overall results: {'precision': 0.0199501246882793, 'recall': 0.0007979253939756633, 'f1': 0.0015344777980243602}\n",
            "Loss after 700 steps: 0.6340950131416321\n",
            "Validation loss: 0.46972888708114624\n",
            "Overall results: {'precision': 0.23076923076923078, 'recall': 0.018369489153254023, 'f1': 0.03403014098201264}\n",
            "Loss after 800 steps: 0.6164596080780029\n",
            "Validation loss: 0.45643043518066406\n",
            "Overall results: {'precision': 0.3248045486851457, 'recall': 0.03544284163176671, 'f1': 0.06391161457240753}\n",
            "Loss after 900 steps: 0.4688528776168823\n",
            "Validation loss: 0.4948202073574066\n",
            "Overall results: {'precision': 0.4450777202072539, 'recall': 0.059831441108866755, 'f1': 0.1054829004727697}\n",
            "Loss after 1000 steps: 0.44510701298713684\n",
            "Validation loss: 0.3796358108520508\n",
            "Overall results: {'precision': 0.5316045380875203, 'recall': 0.08310108943501393, 'f1': 0.14373356704645046}\n",
            "Loss after 1100 steps: 0.487392783164978\n",
            "Validation loss: 0.2974158823490143\n",
            "Overall results: {'precision': 0.5865161076054467, 'recall': 0.1024659123875834, 'f1': 0.17445421317791168}\n",
            "Loss after 1200 steps: 0.42646297812461853\n",
            "Validation loss: 0.3345631957054138\n",
            "Overall results: {'precision': 0.6279135074417298, 'recall': 0.11987990564014583, 'f1': 0.2013235492729483}\n",
            "Loss after 1300 steps: 0.5002973675727844\n",
            "Validation loss: 0.2523641288280487\n",
            "Overall results: {'precision': 0.6610002463661, 'recall': 0.13392901712174912, 'f1': 0.22272953677569318}\n",
            "Loss after 1400 steps: 0.2562178671360016\n",
            "Validation loss: 0.22809381783008575\n",
            "Overall results: {'precision': 0.6862047310027214, 'recall': 0.15233757784180685, 'f1': 0.24932496672371168}\n",
            "Loss after 1500 steps: 0.3063550591468811\n",
            "Validation loss: 0.29082462191581726\n",
            "Overall results: {'precision': 0.6886626886626886, 'recall': 0.17101765090433646, 'f1': 0.27399364591697795}\n",
            "Loss after 1600 steps: 0.18216994404792786\n",
            "Validation loss: 0.18212704360485077\n",
            "Overall results: {'precision': 0.6825258256947475, 'recall': 0.19219895931495062, 'f1': 0.29993606138107415}\n",
            "Loss after 1700 steps: 0.2066030651330948\n",
            "Validation loss: 0.18875455856323242\n",
            "Overall results: {'precision': 0.6920204157848874, 'recall': 0.2150899593731863, 'f1': 0.32817757836944333}\n",
            "Loss after 1800 steps: 0.20100200176239014\n",
            "Validation loss: 0.23734711110591888\n",
            "Overall results: {'precision': 0.7070422535211267, 'recall': 0.23921410505480004, 'f1': 0.35748130700336883}\n",
            "Loss after 1900 steps: 0.15728610754013062\n",
            "Validation loss: 0.23728781938552856\n",
            "Overall results: {'precision': 0.7202998846597463, 'recall': 0.2612150998640594, 'f1': 0.3833934463970532}\n",
            "Loss after 2000 steps: 0.2203420102596283\n",
            "Validation loss: 0.15161147713661194\n",
            "Overall results: {'precision': 0.7370952503650262, 'recall': 0.2846056907872919, 'f1': 0.4106514821637917}\n",
            "Loss after 2100 steps: 0.11214855313301086\n",
            "Validation loss: 0.13567101955413818\n",
            "Overall results: {'precision': 0.750561797752809, 'recall': 0.30687830687830686, 'f1': 0.43563911127102634}\n",
            "Loss after 2200 steps: 0.11776433140039444\n",
            "Validation loss: 0.1550086885690689\n",
            "Overall results: {'precision': 0.7635245032175942, 'recall': 0.32766835604382266, 'f1': 0.4585492227979275}\n",
            "Loss after 2300 steps: 0.09343235939741135\n",
            "Validation loss: 0.10467254370450974\n",
            "Overall results: {'precision': 0.7748996244009844, 'recall': 0.3476669184728921, 'f1': 0.4799839550742078}\n",
            "Loss after 2400 steps: 0.09872777760028839\n",
            "Validation loss: 0.10518769174814224\n",
            "Overall results: {'precision': 0.7834090365766196, 'recall': 0.36598168416350235, 'f1': 0.49889624724061815}\n",
            "Loss after 2500 steps: 0.08100953698158264\n",
            "Validation loss: 0.11419876664876938\n",
            "Overall results: {'precision': 0.7917105920213061, 'recall': 0.3831015411050851, 'f1': 0.5163473194738462}\n",
            "Loss after 2600 steps: 0.1076902523636818\n",
            "Validation loss: 0.1746775209903717\n",
            "Overall results: {'precision': 0.7981291022791875, 'recall': 0.3991367501486134, 'f1': 0.5321502412129566}\n",
            "Loss after 2700 steps: 0.1015397161245346\n",
            "Validation loss: 0.0913451761007309\n",
            "Overall results: {'precision': 0.8049133645446209, 'recall': 0.4153673723536737, 'f1': 0.547963659662554}\n",
            "Loss after 2800 steps: 0.10695936530828476\n",
            "Validation loss: 0.09724654257297516\n",
            "Overall results: {'precision': 0.809685602971822, 'recall': 0.4298667564577421, 'f1': 0.5615848677182178}\n",
            "Loss after 2900 steps: 0.08907277137041092\n",
            "Validation loss: 0.09557382017374039\n",
            "Overall results: {'precision': 0.814707263953538, 'recall': 0.4437776227029542, 'f1': 0.5745779812369178}\n",
            "Loss after 3000 steps: 0.07384288311004639\n",
            "Validation loss: 0.06415006518363953\n",
            "Overall results: {'precision': 0.8195703864909524, 'recall': 0.45720452348299195, 'f1': 0.5869653062402587}\n",
            "Loss after 3100 steps: 0.08133526146411896\n",
            "Validation loss: 0.11431784927845001\n",
            "Overall results: {'precision': 0.8226521872132151, 'recall': 0.46908250479679053, 'f1': 0.5974783381470784}\n",
            "Loss after 3200 steps: 0.09297709912061691\n",
            "Validation loss: 0.10015512257814407\n",
            "Overall results: {'precision': 0.8252339160078335, 'recall': 0.48088505674253473, 'f1': 0.6076669381651156}\n",
            "Loss after 3300 steps: 0.05514641851186752\n",
            "Validation loss: 0.05096994340419769\n",
            "Overall results: {'precision': 0.8276779543883898, 'recall': 0.49158560111644706, 'f1': 0.6168207452424483}\n",
            "Loss after 3400 steps: 0.12386316806077957\n",
            "Validation loss: 0.052069682627916336\n",
            "Overall results: {'precision': 0.8313015476620773, 'recall': 0.5039039158666295, 'f1': 0.6274631381837573}\n",
            "Loss after 3500 steps: 0.07491237670183182\n",
            "Validation loss: 0.09066207706928253\n",
            "Overall results: {'precision': 0.8342855349070819, 'recall': 0.5146591789310612, 'f1': 0.6366053463638977}\n",
            "Loss after 3600 steps: 0.06150589883327484\n",
            "Validation loss: 0.07275474071502686\n",
            "Overall results: {'precision': 0.8371666516340459, 'recall': 0.5250999471977069, 'f1': 0.6453893312009642}\n",
            "Loss after 3700 steps: 0.09545538574457169\n",
            "Validation loss: 0.04211246222257614\n",
            "Overall results: {'precision': 0.8406001612717429, 'recall': 0.5356271217542894, 'f1': 0.6543225097793071}\n",
            "Loss after 3800 steps: 0.051014598459005356\n",
            "Validation loss: 0.04343999922275543\n",
            "Overall results: {'precision': 0.8433327793474046, 'recall': 0.5447193745191705, 'f1': 0.6619055383444752}\n",
            "Loss after 3900 steps: 0.0543481819331646\n",
            "Validation loss: 0.033795636147260666\n",
            "Overall results: {'precision': 0.8462235730091445, 'recall': 0.5537895177611836, 'f1': 0.6694648035855523}\n",
            "Loss after 4000 steps: 0.07597021758556366\n",
            "Validation loss: 0.043183986097574234\n",
            "Overall results: {'precision': 0.8491292957312375, 'recall': 0.5625510481894909, 'f1': 0.6767517553376594}\n",
            "Loss after 4100 steps: 0.04010530933737755\n",
            "Validation loss: 0.04919447377324104\n",
            "Epoch: 1\n"
          ]
        },
        {
          "output_type": "display_data",
          "data": {
            "text/plain": [
              "  0%|          | 0/4126 [00:00<?, ?it/s]"
            ],
            "application/vnd.jupyter.widget-view+json": {
              "version_major": 2,
              "version_minor": 0,
              "model_id": "9a47e241c43d4722877a658fbf50093a"
            }
          },
          "metadata": {}
        },
        {
          "output_type": "stream",
          "name": "stdout",
          "text": [
            "Overall results: {'precision': 0.8511761643903527, 'recall': 0.5706238160124962, 'f1': 0.6832204216034461}\n",
            "Loss after 4200 steps: 0.06451421231031418\n",
            "Validation loss: 0.19996735453605652\n",
            "Overall results: {'precision': 0.8533928869993074, 'recall': 0.5793015111226409, 'f1': 0.6901287387848527}\n",
            "Loss after 4300 steps: 0.08989184349775314\n",
            "Validation loss: 0.043548956513404846\n",
            "Overall results: {'precision': 0.8547716884436031, 'recall': 0.5870313119302418, 'f1': 0.6960420328405065}\n",
            "Loss after 4400 steps: 0.036517009139060974\n",
            "Validation loss: 0.106416717171669\n",
            "Overall results: {'precision': 0.8569611212784002, 'recall': 0.5947674958951641, 'f1': 0.7021871913975348}\n",
            "Loss after 4500 steps: 0.06038329005241394\n",
            "Validation loss: 0.059546440839767456\n",
            "Overall results: {'precision': 0.8588479501816295, 'recall': 0.6019549897704024, 'f1': 0.7078132100184439}\n",
            "Loss after 4600 steps: 0.02727465331554413\n",
            "Validation loss: 0.12431711703538895\n",
            "Overall results: {'precision': 0.8602132482579129, 'recall': 0.6082065741633895, 'f1': 0.7125855219118657}\n",
            "Loss after 4700 steps: 0.07021208852529526\n",
            "Validation loss: 0.024951931089162827\n",
            "Overall results: {'precision': 0.8622131565527792, 'recall': 0.6146039316040479, 'f1': 0.7176509537270481}\n",
            "Loss after 4800 steps: 0.04103255271911621\n",
            "Validation loss: 0.039204951375722885\n",
            "Overall results: {'precision': 0.8637614588076901, 'recall': 0.6210460382085813, 'f1': 0.7225658989838762}\n",
            "Loss after 4900 steps: 0.04366685077548027\n",
            "Validation loss: 0.05897504463791847\n",
            "Overall results: {'precision': 0.8650723410804987, 'recall': 0.6272039950898337, 'f1': 0.7271801009186182}\n",
            "Loss after 5000 steps: 0.032472558319568634\n",
            "Validation loss: 0.023684225976467133\n",
            "Overall results: {'precision': 0.866244062979169, 'recall': 0.6332012028430837, 'f1': 0.731612943982059}\n",
            "Loss after 5100 steps: 0.0275257620960474\n",
            "Validation loss: 0.08399978280067444\n",
            "Overall results: {'precision': 0.8680826259608729, 'recall': 0.6389916867792974, 'f1': 0.7361250559940685}\n",
            "Loss after 5200 steps: 0.034446489065885544\n",
            "Validation loss: 0.09194109588861465\n",
            "Overall results: {'precision': 0.8686784414662289, 'recall': 0.644119776242185, 'f1': 0.7397324465270956}\n",
            "Loss after 5300 steps: 0.036719247698783875\n",
            "Validation loss: 0.027769746258854866\n",
            "Overall results: {'precision': 0.8698835216947334, 'recall': 0.6493249790065241, 'f1': 0.7435939164398153}\n",
            "Loss after 5400 steps: 0.0530584417283535\n",
            "Validation loss: 0.05802559852600098\n",
            "Overall results: {'precision': 0.8710369044805348, 'recall': 0.6545263104480641, 'f1': 0.7474178267734786}\n",
            "Loss after 5500 steps: 0.02861807681620121\n",
            "Validation loss: 0.045955367386341095\n",
            "Overall results: {'precision': 0.8724010675804804, 'recall': 0.6596614054538886, 'f1': 0.7512608976314278}\n",
            "Loss after 5600 steps: 0.03215034678578377\n",
            "Validation loss: 0.02102700062096119\n",
            "Overall results: {'precision': 0.8735528540375171, 'recall': 0.6643074926224791, 'f1': 0.7546949336449379}\n",
            "Loss after 5700 steps: 0.11131690442562103\n",
            "Validation loss: 0.040295541286468506\n",
            "Overall results: {'precision': 0.8744002391177812, 'recall': 0.6688688327316487, 'f1': 0.7579482773902786}\n",
            "Loss after 5800 steps: 0.020979341119527817\n",
            "Validation loss: 0.0641205757856369\n",
            "Overall results: {'precision': 0.8752285683553834, 'recall': 0.6735051022218018, 'f1': 0.7612295355830271}\n",
            "Loss after 5900 steps: 0.0260195042937994\n",
            "Validation loss: 0.018059751018881798\n",
            "Overall results: {'precision': 0.876403819590415, 'recall': 0.6780109881175008, 'f1': 0.764546782189565}\n",
            "Loss after 6000 steps: 0.014742176048457623\n",
            "Validation loss: 0.013739330694079399\n",
            "Overall results: {'precision': 0.8773228739735284, 'recall': 0.6822096822096823, 'f1': 0.7675609677730297}\n",
            "Loss after 6100 steps: 0.03293547034263611\n",
            "Validation loss: 0.06341734528541565\n",
            "Overall results: {'precision': 0.8782646233541982, 'recall': 0.6861642927004755, 'f1': 0.7704202062532345}\n",
            "Loss after 6200 steps: 0.010857922025024891\n",
            "Validation loss: 0.012702331878244877\n",
            "Overall results: {'precision': 0.8790556730091614, 'recall': 0.6901439621117393, 'f1': 0.7732285319332263}\n",
            "Loss after 6300 steps: 0.01589314267039299\n",
            "Validation loss: 0.04514792561531067\n",
            "Overall results: {'precision': 0.8800016585810839, 'recall': 0.693932491199006, 'f1': 0.7759686048920793}\n",
            "Loss after 6400 steps: 0.01094986591488123\n",
            "Validation loss: 0.024294136092066765\n",
            "Overall results: {'precision': 0.880801973755558, 'recall': 0.6974559896951481, 'f1': 0.7784793443879996}\n",
            "Loss after 6500 steps: 0.02379581891000271\n",
            "Validation loss: 0.02634824998676777\n",
            "Overall results: {'precision': 0.8816908520703769, 'recall': 0.7013339816498245, 'f1': 0.7812382253202713}\n",
            "Loss after 6600 steps: 0.07917774468660355\n",
            "Validation loss: 0.04322526603937149\n",
            "Overall results: {'precision': 0.8823422084946111, 'recall': 0.70485778536626, 'f1': 0.7836766348541234}\n",
            "Loss after 6700 steps: 0.0231099184602499\n",
            "Validation loss: 0.009857072494924068\n",
            "Overall results: {'precision': 0.8831233612585534, 'recall': 0.7083123890809491, 'f1': 0.7861168353580089}\n",
            "Loss after 6800 steps: 0.01682310923933983\n",
            "Validation loss: 0.053040966391563416\n",
            "Overall results: {'precision': 0.8836701393247145, 'recall': 0.7116776515304678, 'f1': 0.7884027458929191}\n",
            "Loss after 6900 steps: 0.02531055361032486\n",
            "Validation loss: 0.06606120616197586\n",
            "Overall results: {'precision': 0.8847462222989129, 'recall': 0.7151766944635403, 'f1': 0.7909754552216192}\n",
            "Loss after 7000 steps: 0.026581725105643272\n",
            "Validation loss: 0.008042254485189915\n",
            "Overall results: {'precision': 0.8853836283078711, 'recall': 0.7183773696100579, 'f1': 0.7931849731042859}\n",
            "Loss after 7100 steps: 0.01504708081483841\n",
            "Validation loss: 0.015446636825799942\n",
            "Overall results: {'precision': 0.88605682885926, 'recall': 0.7215764901881018, 'f1': 0.7954024952087081}\n",
            "Loss after 7200 steps: 0.01714775338768959\n",
            "Validation loss: 0.009306436404585838\n",
            "Overall results: {'precision': 0.8867461143532108, 'recall': 0.7245458628367208, 'f1': 0.7974820673552241}\n",
            "Loss after 7300 steps: 0.019308175891637802\n",
            "Validation loss: 0.09605257213115692\n",
            "Overall results: {'precision': 0.8873305820276127, 'recall': 0.7275983635918029, 'f1': 0.7995649359057362}\n",
            "Loss after 7400 steps: 0.009799488820135593\n",
            "Validation loss: 0.009998813271522522\n",
            "Overall results: {'precision': 0.8879907751789005, 'recall': 0.7306272033039094, 'f1': 0.8016594715409815}\n",
            "Loss after 7500 steps: 0.03841182589530945\n",
            "Validation loss: 0.008596524596214294\n",
            "Overall results: {'precision': 0.8884736865518928, 'recall': 0.733260516388402, 'f1': 0.8034395192718679}\n",
            "Loss after 7600 steps: 0.017677990719676018\n",
            "Validation loss: 0.0710320696234703\n",
            "Overall results: {'precision': 0.8888694377277153, 'recall': 0.7360095670372082, 'f1': 0.8052493854571405}\n",
            "Loss after 7700 steps: 0.048388510942459106\n",
            "Validation loss: 0.014881954528391361\n",
            "Overall results: {'precision': 0.8894177956792384, 'recall': 0.7385751846750971, 'f1': 0.8070082864290182}\n",
            "Loss after 7800 steps: 0.07138536125421524\n",
            "Validation loss: 0.010469016619026661\n",
            "Overall results: {'precision': 0.8901317951926033, 'recall': 0.7413480983036179, 'f1': 0.8089557416383206}\n",
            "Loss after 7900 steps: 0.010670892894268036\n",
            "Validation loss: 0.03747153654694557\n",
            "Overall results: {'precision': 0.8907026259758695, 'recall': 0.7438722499215509, 'f1': 0.8106927081354258}\n",
            "Loss after 8000 steps: 0.011753351427614689\n",
            "Validation loss: 0.005592482164502144\n",
            "Overall results: {'precision': 0.891387461459404, 'recall': 0.7463899072305124, 'f1': 0.8124701407949341}\n",
            "Loss after 8100 steps: 0.039436813443899155\n",
            "Validation loss: 0.012349128723144531\n",
            "Overall results: {'precision': 0.8919775590391704, 'recall': 0.7487970755759585, 'f1': 0.8141400696928524}\n",
            "Loss after 8200 steps: 0.03237104415893555\n",
            "Validation loss: 0.007780245039612055\n"
          ]
        }
      ],
      "source": [
        "\n",
        "\n",
        "val_iterator = iter(val_dataloader)\n",
        "global_step = 0\n",
        "num_train_epochs = 2\n",
        "train_loss = []\n",
        "val_loss = []\n",
        "val_precision = []\n",
        "val_recall = []\n",
        "val_f1 = []\n",
        "preds_val = None\n",
        "out_label_ids = None\n",
        "batch_logits_array = []\n",
        "out_label_list=[]\n",
        "preds_list=[]\n",
        "#put the model in training mode\n",
        "val_batch_idx = 0\n",
        "for epoch in range(num_train_epochs):  \n",
        "   print(\"Epoch:\", epoch)\n",
        "   loop = tqdm(train_dataloader, leave=True)\n",
        "   for batch_id, batch in enumerate(loop):\n",
        "        model.train() \n",
        "        input_ids = batch['input_ids'].to(device)\n",
        "        bbox = batch['bbox'].to(device)\n",
        "        image = batch['image'].to(device)\n",
        "        attention_mask = batch['attention_mask'].to(device)\n",
        "        token_type_ids = batch['token_type_ids'].to(device)\n",
        "        labels = batch['labels'].to(device)\n",
        "        # zero the parameter gradients\n",
        "        optimizer.zero_grad()\n",
        "        # forward + backward + optimize\n",
        "        outputs = model(input_ids=input_ids,\n",
        "                        bbox=bbox,\n",
        "                        image=image,\n",
        "                        attention_mask=attention_mask,\n",
        "                        token_type_ids=token_type_ids,\n",
        "                        labels=labels) \n",
        "        loss = outputs.loss\n",
        "        train_loss.append(loss.item())\n",
        "        loss.backward()\n",
        "        optimizer.step()\n",
        "        \n",
        "        # Testing part\n",
        "        if val_batch_idx >= len(val_iterator):\n",
        "            val_iterator = iter(val_dataloader)\n",
        "            val_batch_idx = 0\n",
        "        val_batch_idx += 1\n",
        "        model.eval()\n",
        "        with torch.no_grad():\n",
        "            batch = next(val_iterator)\n",
        "            input_ids = batch['input_ids'].to(device)\n",
        "            bbox = batch['bbox'].to(device)\n",
        "            image = batch['image'].to(device)\n",
        "            attention_mask = batch['attention_mask'].to(device)\n",
        "            token_type_ids = batch['token_type_ids'].to(device)\n",
        "            labels = batch['labels'].to(device)\n",
        "            # forward pass\n",
        "            outputs = model(input_ids=input_ids, bbox=bbox, image=image, attention_mask=attention_mask, \n",
        "                            token_type_ids=token_type_ids, labels=labels)\n",
        "            if preds_val is None:\n",
        "                preds_val = outputs.logits.detach().cpu().numpy()\n",
        "                out_label_ids = batch[\"labels\"].detach().cpu().numpy()\n",
        "            else:\n",
        "                preds_val = np.append(preds_val, outputs.logits.detach().cpu().numpy(), axis=0)\n",
        "                out_label_ids = np.append(out_label_ids, batch[\"labels\"].detach().cpu().numpy(), axis=0)\n",
        "       \n",
        "\n",
        "        \n",
        "        loss = outputs.loss\n",
        "        val_loss.append(loss.item())\n",
        "         \n",
        "        if global_step % 100 == 0 or global_step == 0:\n",
        "            val_result,out_label_l,preds_l = results_test(preds_val, out_label_ids, list(set(all_labels)))\n",
        "            val_precision.append(val_result['precision'])\n",
        "            val_recall.append(val_result['recall'])\n",
        "            val_f1.append(val_result['f1'])\n",
        "            out_label_list.append(out_label_l)\n",
        "            preds_list.append(preds_l)\n",
        "\n",
        "        \n",
        "            \n",
        "            print(\"Overall results:\", val_result)\n",
        "            print(f\"Loss after {global_step} steps: {train_loss[-1]}\")\n",
        "            print(\"Validation loss: {}\".format(loss.item()))\n",
        "        global_step += 1\n",
        "\n",
        "\n",
        "model.save_pretrained(path_btt_large_qv +\"check_points/LargeCheckpoints_xlm_lr_1e5\")\n",
        "path_model = path_btt_large_qv +'/model/large_model_xlm_btt_qv_lr_star_1e5.pt'\n",
        "torch.save(model, path_model)\n",
        "\n",
        "# define data\n",
        "data_loss = pd.DataFrame({'batch_loss_array': train_loss,'val_loss':val_loss})\n",
        "data_loss.to_csv(path_btt_large_qv + '/output/logits_btt_qv_large_star_lr_1e5.csv')\n",
        "data_loss = pd.DataFrame({'precison':val_precision,'recall':val_recall,'f1':val_f1})\n",
        "data_loss.to_csv(path_btt_large_qv + '/output/metrics.csv')\n",
        "data_loss = pd.DataFrame({'preds_list':preds_list,'out_label_list':out_label_list})\n",
        "data_loss.to_csv(path_btt_large_qv + '/output/classification_reports.csv')\n",
        "\n"
      ]
    },
    {
      "cell_type": "code",
      "source": [
        "import matplotlib.pyplot as plt\n",
        "import pandas as pd \n",
        "import numpy as np \n",
        "\n",
        "\n",
        "\n",
        "x_avg_train_loss = []\n",
        "y_avg_train_loss = []\n",
        "x_avg_val_loss = []\n",
        "y_avg_val_loss = []\n",
        "\n",
        "x_val_precision = []\n",
        "y_val_precision = []\n",
        "\n",
        "x_avg_val_recall = []\n",
        "y_avg_val_recall = []\n",
        "\n",
        "x_avg_val_f1 = []\n",
        "y_avg_val_f1 = []\n",
        "\n",
        "for i in range(0,len(train_loss)):\n",
        "   if i%100==0:\n",
        "      x_avg_train_loss.append(i)\n",
        "      y_avg_train_loss.append(train_loss[i]) \n",
        "\n",
        "for i in range(0,len(val_loss)):\n",
        "   if i%100==0:\n",
        "      x_avg_val_loss.append(i)\n",
        "      y_avg_val_loss.append(val_loss[i]) \n",
        "      \n",
        "\n",
        "for i in range(0,len(val_loss)):\n",
        "  if i%100==0:\n",
        "    try:\n",
        "      x_val_precision.append(i)\n",
        "      y_val_precision.append(val_precision[i])\n",
        "      x_avg_val_recall.append(i)\n",
        "      y_avg_val_recall.append(val_recall[i])\n",
        "      x_avg_val_f1.append(i)\n",
        "      y_avg_val_f1.append(val_f1[i])\n",
        "    except:\n",
        "      break\n",
        "        \n",
        "\n",
        "# # Loss \n",
        "plt.plot((train_loss), label = 'trainnning loss',color= 'navajowhite')\n",
        "plt.plot((val_loss),label = 'validation loss',color='dodgerblue')\n",
        "plt.plot(x_avg_train_loss,y_avg_train_loss,label='trainning loss every 100 steps',linewidth=2,color='orange')\n",
        "plt.plot(x_avg_val_loss,y_avg_val_loss,label='trainning loss every 100 steps',linewidth=2,color='blue')\n",
        "\n",
        "\n",
        "\n",
        "plt.yscale('log')\n",
        "plt.xlabel('epoch')\n",
        "plt.ylabel('Loss')\n",
        "plt.savefig(path_btt_large_qv+'/btt_qv_lr__star_1e5_log_test.png')\n",
        "plt.legend()\n",
        "plt.show()\n",
        "# Loss \n",
        "plt.plot((train_loss), label = 'trainnning loss',color= 'navajowhite')\n",
        "plt.plot((val_loss),label = 'validation loss',color='dodgerblue')\n",
        "plt.plot(x_avg_train_loss,y_avg_train_loss,label='trainning loss every 100 steps',linewidth=2,color='orange')\n",
        "plt.plot(x_avg_val_loss,y_avg_val_loss,label='trainning loss every 100 steps',linewidth=2,color='blue')\n",
        "\n",
        "plt.xlabel('epoch')\n",
        "plt.ylabel('Loss')\n",
        "plt.legend()\n",
        "plt.savefig(path_btt_large_qv+'/btt_qv_star_lr_1e5_test.png')\n",
        "plt.show()\n",
        "\n"
      ],
      "metadata": {
        "id": "MSng0Gb8fZy7",
        "colab": {
          "base_uri": "https://localhost:8080/",
          "height": 541
        },
        "outputId": "94467ad3-324d-4db0-fbc6-24e7ea323082"
      },
      "execution_count": 19,
      "outputs": [
        {
          "output_type": "display_data",
          "data": {
            "text/plain": [
              "<Figure size 432x288 with 1 Axes>"
            ],
            "image/png": "[encoded data removed]"
          },
          "metadata": {
            "needs_background": "light"
          }
        },
        {
          "output_type": "display_data",
          "data": {
            "text/plain": [
              "<Figure size 432x288 with 1 Axes>"
            ],
            "image/png": "[encoded data removed]"
          },
          "metadata": {
            "needs_background": "light"
          }
        }
      ]
    },
    {
      "cell_type": "markdown",
      "metadata": {
        "id": "jDREDNOhPv0C"
      },
      "source": [
        "## Evaluation\n",
        "\n",
        "Let's evaluate the model on the test set. First, let's do a sanity check on the first example of the test set."
      ]
    },
    {
      "cell_type": "code",
      "execution_count": 20,
      "metadata": {
        "id": "-QGUtQuIacyF",
        "colab": {
          "base_uri": "https://localhost:8080/",
          "height": 67,
          "referenced_widgets": [
            "ee6b1bae85784f4b8f2b872ca857f781",
            "121e4d31e5c246f080e6a75e5e2b226f",
            "5884e9ad9ef845f7ae3a06a8e938e8b9",
            "25bc40a8716e4fd0905962677797d238",
            "bd432daa25f445f0a271357e8697644a",
            "e955c5059940461894570095ccf03c84",
            "dfad2095332b477f8ef23ce2d3176fcb",
            "4ad9d77c38804437982cc95cbfaa9162",
            "b59b008560ca4cef9dcd685b6be7e960",
            "d072714e123241fcbdf474f16083a350",
            "9cd67de6879f46ff977d1ac83b42ada4"
          ]
        },
        "outputId": "5ff1f8f9-54e6-4a17-a271-080204f3bbe6"
      },
      "outputs": [
        {
          "output_type": "stream",
          "name": "stdout",
          "text": [
            "cuda:0\n"
          ]
        },
        {
          "output_type": "display_data",
          "data": {
            "text/plain": [
              "Evaluating:   0%|          | 0/516 [00:00<?, ?it/s]"
            ],
            "application/vnd.jupyter.widget-view+json": {
              "version_major": 2,
              "version_minor": 0,
              "model_id": "ee6b1bae85784f4b8f2b872ca857f781"
            }
          },
          "metadata": {}
        }
      ],
      "source": [
        "import warnings\n",
        "warnings.filterwarnings(\"ignore\")\n",
        "from seqeval.metrics import (\n",
        "    classification_report,\n",
        "    f1_score,\n",
        "    precision_score,\n",
        "    recall_score)\n",
        "import numpy as np\n",
        "\n",
        "from transformers import LayoutLMv2ForTokenClassification, AdamW\n",
        "import torch\n",
        "device = torch.device('cuda:0' if torch.cuda.is_available() else 'cpu')\n",
        "# device = 'cuda'\n",
        "print(device)\n",
        "from tqdm.notebook import tqdm\n",
        "from numpy import asarray\n",
        "from numpy import savetxt\n",
        "import numpy as np\n",
        "# PATH=path_btt_large_qv +'/model/large_model_xlm_btt_qv_lr_star_1e5.pt'\n",
        "# model = torch.load(PATH)\n",
        "\n",
        "preds_val = None\n",
        "out_label_ids = None\n",
        "\n",
        "# put model in evaluation mode\n",
        "model.eval()\n",
        "batch_test_array = []\n",
        "for batch in tqdm(test_dataloader, desc=\"Evaluating\"):\n",
        "    with torch.no_grad():\n",
        "        input_ids = batch['input_ids'].to(device)\n",
        "        bbox = batch['bbox'].to(device)\n",
        "        image = batch['image'].to(device)\n",
        "        attention_mask = batch['attention_mask'].to(device)\n",
        "        token_type_ids = batch['token_type_ids'].to(device)\n",
        "        labels = batch['labels'].to(device)\n",
        "\n",
        "        # forward pass\n",
        "        outputs = model(input_ids=input_ids, bbox=bbox, image=image, attention_mask=attention_mask, \n",
        "                        token_type_ids=token_type_ids, labels=labels)\n",
        "      \n",
        "        \n",
        "        if preds_val is None:\n",
        "          preds_val = outputs.logits.detach().cpu().numpy()\n",
        "          out_label_ids = batch[\"labels\"].detach().cpu().numpy()\n",
        "        else:\n",
        "          preds_val = np.append(preds_val, outputs.logits.detach().cpu().numpy(), axis=0)\n",
        "          out_label_ids = np.append(\n",
        "              out_label_ids, batch[\"labels\"].detach().cpu().numpy(), axis=0\n",
        "          )\n",
        "        \n"
      ]
    },
    {
      "cell_type": "code",
      "execution_count": 21,
      "metadata": {
        "id": "zPW1CISc0DL9"
      },
      "outputs": [],
      "source": [
        "import warnings\n",
        "warnings.filterwarnings(\"ignore\")\n",
        "from seqeval.metrics import (\n",
        "    classification_report,\n",
        "    f1_score,\n",
        "    precision_score,\n",
        "    recall_score)\n",
        "\n",
        "def results_test(preds, out_label_ids, labels):\n",
        "  preds = np.argmax(preds, axis=2)\n",
        "\n",
        "  label_map = {i: label for i, label in enumerate(labels)}\n",
        "\n",
        "  out_label_list = [[] for _ in range(out_label_ids.shape[0])]\n",
        "  preds_list = [[] for _ in range(out_label_ids.shape[0])]\n",
        "\n",
        "  for i in range(out_label_ids.shape[0]):\n",
        "      for j in range(out_label_ids.shape[1]):\n",
        "          if out_label_ids[i, j] != -100:\n",
        "              out_label_list[i].append(label_map[out_label_ids[i][j]])\n",
        "              preds_list[i].append(label_map[preds[i][j]])\n",
        "\n",
        "  \n",
        "  results = {\n",
        "      \"precision\": precision_score(out_label_list, preds_list),\n",
        "      \"recall\": recall_score(out_label_list, preds_list),\n",
        "      \"f1\": f1_score(out_label_list, preds_list),\n",
        "  }\n",
        "  return results, classification_report(out_label_list, preds_list)"
      ]
    },
    {
      "cell_type": "code",
      "execution_count": 22,
      "metadata": {
        "id": "dVuQ73870FMF",
        "colab": {
          "base_uri": "https://localhost:8080/"
        },
        "outputId": "2c8aa0ea-37d8-4743-98b2-72899ffc8f5c"
      },
      "outputs": [
        {
          "output_type": "stream",
          "name": "stdout",
          "text": [
            "Overall results: {'precision': 0.9171372291529876, 'recall': 0.9544895448954489, 'f1': 0.9354406643450308}\n",
            "              precision    recall  f1-score   support\n",
            "\n",
            "         ase       0.91      0.93      0.92       971\n",
            "        atNr       0.96      1.00      0.98      1423\n",
            "          ax       0.94      0.96      0.95       941\n",
            "         ban       0.98      0.99      0.99      1088\n",
            "          em       0.73      0.81      0.77       546\n",
            "       emPay       1.00      0.98      0.99       284\n",
            "    otAmount       0.93      0.91      0.92       918\n",
            "      ueDate       0.86      0.98      0.92      1146\n",
            "\n",
            "   micro avg       0.92      0.95      0.94      7317\n",
            "   macro avg       0.91      0.94      0.93      7317\n",
            "weighted avg       0.92      0.95      0.94      7317\n",
            "\n"
          ]
        }
      ],
      "source": [
        "labels = list(set(all_labels))\n",
        "val_result, class_report = results_test(preds_val, out_label_ids, labels)\n",
        "print(\"Overall results:\", val_result)\n",
        "print(class_report)"
      ]
    },
    {
      "cell_type": "code",
      "source": [
        "from matplotlib import figure\n",
        "from sklearn.metrics import ConfusionMatrixDisplay, confusion_matrix\n",
        "\n",
        "import itertools\n",
        "\n",
        "def plot_confusion_matrix(y_preds,y_true,labels):\n",
        "  cm = confusion_matrix(y_true,y_preds,normalize= \"true\")\n",
        "  fig, ax = plt.subplots(figsize=(10,10))\n",
        "  disp = ConfusionMatrixDisplay(confusion_matrix=cm, display_labels = labels)\n",
        "  disp.plot(cmap=\"Blues\",values_format=\".2f\",ax=ax,colorbar=False)\n",
        "  plt.title(\"Normalized confusion matrix\")\n",
        "  plt.show()\n",
        "\n",
        "def results_cm(preds, out_label_ids, labels):\n",
        "  preds = np.argmax(preds, axis=2)\n",
        "\n",
        "  label_map = {i: label for i, label in enumerate(labels)}\n",
        "\n",
        "  out_label_list = [[] for _ in range(out_label_ids.shape[0])]\n",
        "  preds_list = [[] for _ in range(out_label_ids.shape[0])]\n",
        "\n",
        "  for i in range(out_label_ids.shape[0]):\n",
        "      for j in range(out_label_ids.shape[1]):\n",
        "          if out_label_ids[i, j] != -100:\n",
        "              out_label_list[i].append(label_map[out_label_ids[i][j]])\n",
        "              preds_list[i].append(label_map[preds[i][j]])\n",
        "\n",
        "\n",
        "  return out_label_list,preds_list\n",
        "def flatten(list_of_lists):\n",
        "    if len(list_of_lists) == 0:\n",
        "        return list_of_lists\n",
        "    if isinstance(list_of_lists[0], list):\n",
        "        return flatten(list_of_lists[0]) + flatten(list_of_lists[1:])\n",
        "    return list_of_lists[:1] + flatten(list_of_lists[1:])\n",
        "\n",
        "# plot_confusion_matrix(preds_val, out_label_ids, labels)\n",
        "# preds_val\n",
        "out_label_list,preds_list =results_cm(preds_val, out_label_ids, labels)\n",
        "\n",
        "out_label_list = list(itertools.chain(*out_label_list))\n",
        "preds_list = list(itertools.chain(*preds_list))\n",
        "\n",
        "\n",
        "plot_confusion_matrix(preds_list,out_label_list, labels)"
      ],
      "metadata": {
        "colab": {
          "base_uri": "https://localhost:8080/",
          "height": 621
        },
        "id": "PjvxNZGBRm0p",
        "outputId": "8e830fed-9b1a-4dd7-b0f5-c8a9123148ad"
      },
      "execution_count": 56,
      "outputs": [
        {
          "output_type": "display_data",
          "data": {
            "text/plain": [
              "<Figure size 720x720 with 1 Axes>"
            ],
            "image/png": "[encoded data removed]"
          },
          "metadata": {
            "needs_background": "light"
          }
        }
      ]
    }
  ],
  "metadata": {
    "accelerator": "GPU",
    "colab": {
      "collapsed_sections": [
        "Z7E3hFdIQBYu",
        "iOxLV0JnQJWJ"
      ],
      "name": "LMV2_BASE_bbt_star.ipynb",
      "provenance": [],
      "background_execution": "on",
      "machine_shape": "hm",
      "include_colab_link": true
    },
    "kernelspec": {
      "display_name": "Python 3",
      "name": "python3"
    },
    "language_info": {
      "name": "python"
    },
    "widgets": {
      "application/vnd.jupyter.widget-state+json": {
        "3f7835dceceb4b9eabbf7e920c18a71c": {
          "model_module": "@jupyter-widgets/controls",
          "model_name": "HBoxModel",
          "model_module_version": "1.5.0",
          "state": {
            "_dom_classes": [],
            "_model_module": "@jupyter-widgets/controls",
            "_model_module_version": "1.5.0",
            "_model_name": "HBoxModel",
            "_view_count": null,
            "_view_module": "@jupyter-widgets/controls",
            "_view_module_version": "1.5.0",
            "_view_name": "HBoxView",
            "box_style": "",
            "children": [
              "IPY_MODEL_53afa5fb457949548eeac882b1e8392f",
              "IPY_MODEL_5b10503c3fe94770908fa5b671b03566",
              "IPY_MODEL_a37f557f1b2a48b29c0f1c96fcbac0cf"
            ],
            "layout": "IPY_MODEL_1697b56b854b447786d088a3b018d0d9"
          }
        },
        "53afa5fb457949548eeac882b1e8392f": {
          "model_module": "@jupyter-widgets/controls",
          "model_name": "HTMLModel",
          "model_module_version": "1.5.0",
          "state": {
            "_dom_classes": [],
            "_model_module": "@jupyter-widgets/controls",
            "_model_module_version": "1.5.0",
            "_model_name": "HTMLModel",
            "_view_count": null,
            "_view_module": "@jupyter-widgets/controls",
            "_view_module_version": "1.5.0",
            "_view_name": "HTMLView",
            "description": "",
            "description_tooltip": null,
            "layout": "IPY_MODEL_229006d2c64b43b2be95a5155f64e059",
            "placeholder": "​",
            "style": "IPY_MODEL_6cacaffa22514fd39d33d735722613ec",
            "value": "100%"
          }
        },
        "5b10503c3fe94770908fa5b671b03566": {
          "model_module": "@jupyter-widgets/controls",
          "model_name": "FloatProgressModel",
          "model_module_version": "1.5.0",
          "state": {
            "_dom_classes": [],
            "_model_module": "@jupyter-widgets/controls",
            "_model_module_version": "1.5.0",
            "_model_name": "FloatProgressModel",
            "_view_count": null,
            "_view_module": "@jupyter-widgets/controls",
            "_view_module_version": "1.5.0",
            "_view_name": "ProgressView",
            "bar_style": "success",
            "description": "",
            "description_tooltip": null,
            "layout": "IPY_MODEL_16a756db0f294a52bec815810af78e12",
            "max": 4126,
            "min": 0,
            "orientation": "horizontal",
            "style": "IPY_MODEL_be2e8b636baf462f8c40c9b104426637",
            "value": 4126
          }
        },
        "a37f557f1b2a48b29c0f1c96fcbac0cf": {
          "model_module": "@jupyter-widgets/controls",
          "model_name": "HTMLModel",
          "model_module_version": "1.5.0",
          "state": {
            "_dom_classes": [],
            "_model_module": "@jupyter-widgets/controls",
            "_model_module_version": "1.5.0",
            "_model_name": "HTMLModel",
            "_view_count": null,
            "_view_module": "@jupyter-widgets/controls",
            "_view_module_version": "1.5.0",
            "_view_name": "HTMLView",
            "description": "",
            "description_tooltip": null,
            "layout": "IPY_MODEL_e53dd00b1fe64868b6225a80a301c370",
            "placeholder": "​",
            "style": "IPY_MODEL_5881eb5126b9475abc4f80894b19371e",
            "value": " 4126/4126 [3:01:07&lt;00:00,  2.67s/it]"
          }
        },
        "1697b56b854b447786d088a3b018d0d9": {
          "model_module": "@jupyter-widgets/base",
          "model_name": "LayoutModel",
          "model_module_version": "1.2.0",
          "state": {
            "_model_module": "@jupyter-widgets/base",
            "_model_module_version": "1.2.0",
            "_model_name": "LayoutModel",
            "_view_count": null,
            "_view_module": "@jupyter-widgets/base",
            "_view_module_version": "1.2.0",
            "_view_name": "LayoutView",
            "align_content": null,
            "align_items": null,
            "align_self": null,
            "border": null,
            "bottom": null,
            "display": null,
            "flex": null,
            "flex_flow": null,
            "grid_area": null,
            "grid_auto_columns": null,
            "grid_auto_flow": null,
            "grid_auto_rows": null,
            "grid_column": null,
            "grid_gap": null,
            "grid_row": null,
            "grid_template_areas": null,
            "grid_template_columns": null,
            "grid_template_rows": null,
            "height": null,
            "justify_content": null,
            "justify_items": null,
            "left": null,
            "margin": null,
            "max_height": null,
            "max_width": null,
            "min_height": null,
            "min_width": null,
            "object_fit": null,
            "object_position": null,
            "order": null,
            "overflow": null,
            "overflow_x": null,
            "overflow_y": null,
            "padding": null,
            "right": null,
            "top": null,
            "visibility": null,
            "width": null
          }
        },
        "229006d2c64b43b2be95a5155f64e059": {
          "model_module": "@jupyter-widgets/base",
          "model_name": "LayoutModel",
          "model_module_version": "1.2.0",
          "state": {
            "_model_module": "@jupyter-widgets/base",
            "_model_module_version": "1.2.0",
            "_model_name": "LayoutModel",
            "_view_count": null,
            "_view_module": "@jupyter-widgets/base",
            "_view_module_version": "1.2.0",
            "_view_name": "LayoutView",
            "align_content": null,
            "align_items": null,
            "align_self": null,
            "border": null,
            "bottom": null,
            "display": null,
            "flex": null,
            "flex_flow": null,
            "grid_area": null,
            "grid_auto_columns": null,
            "grid_auto_flow": null,
            "grid_auto_rows": null,
            "grid_column": null,
            "grid_gap": null,
            "grid_row": null,
            "grid_template_areas": null,
            "grid_template_columns": null,
            "grid_template_rows": null,
            "height": null,
            "justify_content": null,
            "justify_items": null,
            "left": null,
            "margin": null,
            "max_height": null,
            "max_width": null,
            "min_height": null,
            "min_width": null,
            "object_fit": null,
            "object_position": null,
            "order": null,
            "overflow": null,
            "overflow_x": null,
            "overflow_y": null,
            "padding": null,
            "right": null,
            "top": null,
            "visibility": null,
            "width": null
          }
        },
        "6cacaffa22514fd39d33d735722613ec": {
          "model_module": "@jupyter-widgets/controls",
          "model_name": "DescriptionStyleModel",
          "model_module_version": "1.5.0",
          "state": {
            "_model_module": "@jupyter-widgets/controls",
            "_model_module_version": "1.5.0",
            "_model_name": "DescriptionStyleModel",
            "_view_count": null,
            "_view_module": "@jupyter-widgets/base",
            "_view_module_version": "1.2.0",
            "_view_name": "StyleView",
            "description_width": ""
          }
        },
        "16a756db0f294a52bec815810af78e12": {
          "model_module": "@jupyter-widgets/base",
          "model_name": "LayoutModel",
          "model_module_version": "1.2.0",
          "state": {
            "_model_module": "@jupyter-widgets/base",
            "_model_module_version": "1.2.0",
            "_model_name": "LayoutModel",
            "_view_count": null,
            "_view_module": "@jupyter-widgets/base",
            "_view_module_version": "1.2.0",
            "_view_name": "LayoutView",
            "align_content": null,
            "align_items": null,
            "align_self": null,
            "border": null,
            "bottom": null,
            "display": null,
            "flex": null,
            "flex_flow": null,
            "grid_area": null,
            "grid_auto_columns": null,
            "grid_auto_flow": null,
            "grid_auto_rows": null,
            "grid_column": null,
            "grid_gap": null,
            "grid_row": null,
            "grid_template_areas": null,
            "grid_template_columns": null,
            "grid_template_rows": null,
            "height": null,
            "justify_content": null,
            "justify_items": null,
            "left": null,
            "margin": null,
            "max_height": null,
            "max_width": null,
            "min_height": null,
            "min_width": null,
            "object_fit": null,
            "object_position": null,
            "order": null,
            "overflow": null,
            "overflow_x": null,
            "overflow_y": null,
            "padding": null,
            "right": null,
            "top": null,
            "visibility": null,
            "width": null
          }
        },
        "be2e8b636baf462f8c40c9b104426637": {
          "model_module": "@jupyter-widgets/controls",
          "model_name": "ProgressStyleModel",
          "model_module_version": "1.5.0",
          "state": {
            "_model_module": "@jupyter-widgets/controls",
            "_model_module_version": "1.5.0",
            "_model_name": "ProgressStyleModel",
            "_view_count": null,
            "_view_module": "@jupyter-widgets/base",
            "_view_module_version": "1.2.0",
            "_view_name": "StyleView",
            "bar_color": null,
            "description_width": ""
          }
        },
        "e53dd00b1fe64868b6225a80a301c370": {
          "model_module": "@jupyter-widgets/base",
          "model_name": "LayoutModel",
          "model_module_version": "1.2.0",
          "state": {
            "_model_module": "@jupyter-widgets/base",
            "_model_module_version": "1.2.0",
            "_model_name": "LayoutModel",
            "_view_count": null,
            "_view_module": "@jupyter-widgets/base",
            "_view_module_version": "1.2.0",
            "_view_name": "LayoutView",
            "align_content": null,
            "align_items": null,
            "align_self": null,
            "border": null,
            "bottom": null,
            "display": null,
            "flex": null,
            "flex_flow": null,
            "grid_area": null,
            "grid_auto_columns": null,
            "grid_auto_flow": null,
            "grid_auto_rows": null,
            "grid_column": null,
            "grid_gap": null,
            "grid_row": null,
            "grid_template_areas": null,
            "grid_template_columns": null,
            "grid_template_rows": null,
            "height": null,
            "justify_content": null,
            "justify_items": null,
            "left": null,
            "margin": null,
            "max_height": null,
            "max_width": null,
            "min_height": null,
            "min_width": null,
            "object_fit": null,
            "object_position": null,
            "order": null,
            "overflow": null,
            "overflow_x": null,
            "overflow_y": null,
            "padding": null,
            "right": null,
            "top": null,
            "visibility": null,
            "width": null
          }
        },
        "5881eb5126b9475abc4f80894b19371e": {
          "model_module": "@jupyter-widgets/controls",
          "model_name": "DescriptionStyleModel",
          "model_module_version": "1.5.0",
          "state": {
            "_model_module": "@jupyter-widgets/controls",
            "_model_module_version": "1.5.0",
            "_model_name": "DescriptionStyleModel",
            "_view_count": null,
            "_view_module": "@jupyter-widgets/base",
            "_view_module_version": "1.2.0",
            "_view_name": "StyleView",
            "description_width": ""
          }
        },
        "9a47e241c43d4722877a658fbf50093a": {
          "model_module": "@jupyter-widgets/controls",
          "model_name": "HBoxModel",
          "model_module_version": "1.5.0",
          "state": {
            "_dom_classes": [],
            "_model_module": "@jupyter-widgets/controls",
            "_model_module_version": "1.5.0",
            "_model_name": "HBoxModel",
            "_view_count": null,
            "_view_module": "@jupyter-widgets/controls",
            "_view_module_version": "1.5.0",
            "_view_name": "HBoxView",
            "box_style": "",
            "children": [
              "IPY_MODEL_5568493b32084c29a17b33b00a0788d2",
              "IPY_MODEL_32a4209a712342c881a826732d584465",
              "IPY_MODEL_18988e776f1746e88f1af67aa2afcf39"
            ],
            "layout": "IPY_MODEL_1b19cad072604286b5f38256bdbc3eb6"
          }
        },
        "5568493b32084c29a17b33b00a0788d2": {
          "model_module": "@jupyter-widgets/controls",
          "model_name": "HTMLModel",
          "model_module_version": "1.5.0",
          "state": {
            "_dom_classes": [],
            "_model_module": "@jupyter-widgets/controls",
            "_model_module_version": "1.5.0",
            "_model_name": "HTMLModel",
            "_view_count": null,
            "_view_module": "@jupyter-widgets/controls",
            "_view_module_version": "1.5.0",
            "_view_name": "HTMLView",
            "description": "",
            "description_tooltip": null,
            "layout": "IPY_MODEL_0ebf7004b4c54bbaa550d96e16b8e440",
            "placeholder": "​",
            "style": "IPY_MODEL_21ac34eda8924d8a8dede264a76e2d5e",
            "value": "100%"
          }
        },
        "32a4209a712342c881a826732d584465": {
          "model_module": "@jupyter-widgets/controls",
          "model_name": "FloatProgressModel",
          "model_module_version": "1.5.0",
          "state": {
            "_dom_classes": [],
            "_model_module": "@jupyter-widgets/controls",
            "_model_module_version": "1.5.0",
            "_model_name": "FloatProgressModel",
            "_view_count": null,
            "_view_module": "@jupyter-widgets/controls",
            "_view_module_version": "1.5.0",
            "_view_name": "ProgressView",
            "bar_style": "success",
            "description": "",
            "description_tooltip": null,
            "layout": "IPY_MODEL_4b8de0c647ac4355a8a83ae33b99d214",
            "max": 4126,
            "min": 0,
            "orientation": "horizontal",
            "style": "IPY_MODEL_006fff0490034012812fa508193f98ec",
            "value": 4126
          }
        },
        "18988e776f1746e88f1af67aa2afcf39": {
          "model_module": "@jupyter-widgets/controls",
          "model_name": "HTMLModel",
          "model_module_version": "1.5.0",
          "state": {
            "_dom_classes": [],
            "_model_module": "@jupyter-widgets/controls",
            "_model_module_version": "1.5.0",
            "_model_name": "HTMLModel",
            "_view_count": null,
            "_view_module": "@jupyter-widgets/controls",
            "_view_module_version": "1.5.0",
            "_view_name": "HTMLView",
            "description": "",
            "description_tooltip": null,
            "layout": "IPY_MODEL_ec8eef491e024aedae062e5ef8d6e1c0",
            "placeholder": "​",
            "style": "IPY_MODEL_a57a6101a3bf422b99a8e3400f06e340",
            "value": " 4126/4126 [2:35:19&lt;00:00,  2.05s/it]"
          }
        },
        "1b19cad072604286b5f38256bdbc3eb6": {
          "model_module": "@jupyter-widgets/base",
          "model_name": "LayoutModel",
          "model_module_version": "1.2.0",
          "state": {
            "_model_module": "@jupyter-widgets/base",
            "_model_module_version": "1.2.0",
            "_model_name": "LayoutModel",
            "_view_count": null,
            "_view_module": "@jupyter-widgets/base",
            "_view_module_version": "1.2.0",
            "_view_name": "LayoutView",
            "align_content": null,
            "align_items": null,
            "align_self": null,
            "border": null,
            "bottom": null,
            "display": null,
            "flex": null,
            "flex_flow": null,
            "grid_area": null,
            "grid_auto_columns": null,
            "grid_auto_flow": null,
            "grid_auto_rows": null,
            "grid_column": null,
            "grid_gap": null,
            "grid_row": null,
            "grid_template_areas": null,
            "grid_template_columns": null,
            "grid_template_rows": null,
            "height": null,
            "justify_content": null,
            "justify_items": null,
            "left": null,
            "margin": null,
            "max_height": null,
            "max_width": null,
            "min_height": null,
            "min_width": null,
            "object_fit": null,
            "object_position": null,
            "order": null,
            "overflow": null,
            "overflow_x": null,
            "overflow_y": null,
            "padding": null,
            "right": null,
            "top": null,
            "visibility": null,
            "width": null
          }
        },
        "0ebf7004b4c54bbaa550d96e16b8e440": {
          "model_module": "@jupyter-widgets/base",
          "model_name": "LayoutModel",
          "model_module_version": "1.2.0",
          "state": {
            "_model_module": "@jupyter-widgets/base",
            "_model_module_version": "1.2.0",
            "_model_name": "LayoutModel",
            "_view_count": null,
            "_view_module": "@jupyter-widgets/base",
            "_view_module_version": "1.2.0",
            "_view_name": "LayoutView",
            "align_content": null,
            "align_items": null,
            "align_self": null,
            "border": null,
            "bottom": null,
            "display": null,
            "flex": null,
            "flex_flow": null,
            "grid_area": null,
            "grid_auto_columns": null,
            "grid_auto_flow": null,
            "grid_auto_rows": null,
            "grid_column": null,
            "grid_gap": null,
            "grid_row": null,
            "grid_template_areas": null,
            "grid_template_columns": null,
            "grid_template_rows": null,
            "height": null,
            "justify_content": null,
            "justify_items": null,
            "left": null,
            "margin": null,
            "max_height": null,
            "max_width": null,
            "min_height": null,
            "min_width": null,
            "object_fit": null,
            "object_position": null,
            "order": null,
            "overflow": null,
            "overflow_x": null,
            "overflow_y": null,
            "padding": null,
            "right": null,
            "top": null,
            "visibility": null,
            "width": null
          }
        },
        "21ac34eda8924d8a8dede264a76e2d5e": {
          "model_module": "@jupyter-widgets/controls",
          "model_name": "DescriptionStyleModel",
          "model_module_version": "1.5.0",
          "state": {
            "_model_module": "@jupyter-widgets/controls",
            "_model_module_version": "1.5.0",
            "_model_name": "DescriptionStyleModel",
            "_view_count": null,
            "_view_module": "@jupyter-widgets/base",
            "_view_module_version": "1.2.0",
            "_view_name": "StyleView",
            "description_width": ""
          }
        },
        "4b8de0c647ac4355a8a83ae33b99d214": {
          "model_module": "@jupyter-widgets/base",
          "model_name": "LayoutModel",
          "model_module_version": "1.2.0",
          "state": {
            "_model_module": "@jupyter-widgets/base",
            "_model_module_version": "1.2.0",
            "_model_name": "LayoutModel",
            "_view_count": null,
            "_view_module": "@jupyter-widgets/base",
            "_view_module_version": "1.2.0",
            "_view_name": "LayoutView",
            "align_content": null,
            "align_items": null,
            "align_self": null,
            "border": null,
            "bottom": null,
            "display": null,
            "flex": null,
            "flex_flow": null,
            "grid_area": null,
            "grid_auto_columns": null,
            "grid_auto_flow": null,
            "grid_auto_rows": null,
            "grid_column": null,
            "grid_gap": null,
            "grid_row": null,
            "grid_template_areas": null,
            "grid_template_columns": null,
            "grid_template_rows": null,
            "height": null,
            "justify_content": null,
            "justify_items": null,
            "left": null,
            "margin": null,
            "max_height": null,
            "max_width": null,
            "min_height": null,
            "min_width": null,
            "object_fit": null,
            "object_position": null,
            "order": null,
            "overflow": null,
            "overflow_x": null,
            "overflow_y": null,
            "padding": null,
            "right": null,
            "top": null,
            "visibility": null,
            "width": null
          }
        },
        "006fff0490034012812fa508193f98ec": {
          "model_module": "@jupyter-widgets/controls",
          "model_name": "ProgressStyleModel",
          "model_module_version": "1.5.0",
          "state": {
            "_model_module": "@jupyter-widgets/controls",
            "_model_module_version": "1.5.0",
            "_model_name": "ProgressStyleModel",
            "_view_count": null,
            "_view_module": "@jupyter-widgets/base",
            "_view_module_version": "1.2.0",
            "_view_name": "StyleView",
            "bar_color": null,
            "description_width": ""
          }
        },
        "ec8eef491e024aedae062e5ef8d6e1c0": {
          "model_module": "@jupyter-widgets/base",
          "model_name": "LayoutModel",
          "model_module_version": "1.2.0",
          "state": {
            "_model_module": "@jupyter-widgets/base",
            "_model_module_version": "1.2.0",
            "_model_name": "LayoutModel",
            "_view_count": null,
            "_view_module": "@jupyter-widgets/base",
            "_view_module_version": "1.2.0",
            "_view_name": "LayoutView",
            "align_content": null,
            "align_items": null,
            "align_self": null,
            "border": null,
            "bottom": null,
            "display": null,
            "flex": null,
            "flex_flow": null,
            "grid_area": null,
            "grid_auto_columns": null,
            "grid_auto_flow": null,
            "grid_auto_rows": null,
            "grid_column": null,
            "grid_gap": null,
            "grid_row": null,
            "grid_template_areas": null,
            "grid_template_columns": null,
            "grid_template_rows": null,
            "height": null,
            "justify_content": null,
            "justify_items": null,
            "left": null,
            "margin": null,
            "max_height": null,
            "max_width": null,
            "min_height": null,
            "min_width": null,
            "object_fit": null,
            "object_position": null,
            "order": null,
            "overflow": null,
            "overflow_x": null,
            "overflow_y": null,
            "padding": null,
            "right": null,
            "top": null,
            "visibility": null,
            "width": null
          }
        },
        "a57a6101a3bf422b99a8e3400f06e340": {
          "model_module": "@jupyter-widgets/controls",
          "model_name": "DescriptionStyleModel",
          "model_module_version": "1.5.0",
          "state": {
            "_model_module": "@jupyter-widgets/controls",
            "_model_module_version": "1.5.0",
            "_model_name": "DescriptionStyleModel",
            "_view_count": null,
            "_view_module": "@jupyter-widgets/base",
            "_view_module_version": "1.2.0",
            "_view_name": "StyleView",
            "description_width": ""
          }
        },
        "ee6b1bae85784f4b8f2b872ca857f781": {
          "model_module": "@jupyter-widgets/controls",
          "model_name": "HBoxModel",
          "model_module_version": "1.5.0",
          "state": {
            "_dom_classes": [],
            "_model_module": "@jupyter-widgets/controls",
            "_model_module_version": "1.5.0",
            "_model_name": "HBoxModel",
            "_view_count": null,
            "_view_module": "@jupyter-widgets/controls",
            "_view_module_version": "1.5.0",
            "_view_name": "HBoxView",
            "box_style": "",
            "children": [
              "IPY_MODEL_121e4d31e5c246f080e6a75e5e2b226f",
              "IPY_MODEL_5884e9ad9ef845f7ae3a06a8e938e8b9",
              "IPY_MODEL_25bc40a8716e4fd0905962677797d238"
            ],
            "layout": "IPY_MODEL_bd432daa25f445f0a271357e8697644a"
          }
        },
        "121e4d31e5c246f080e6a75e5e2b226f": {
          "model_module": "@jupyter-widgets/controls",
          "model_name": "HTMLModel",
          "model_module_version": "1.5.0",
          "state": {
            "_dom_classes": [],
            "_model_module": "@jupyter-widgets/controls",
            "_model_module_version": "1.5.0",
            "_model_name": "HTMLModel",
            "_view_count": null,
            "_view_module": "@jupyter-widgets/controls",
            "_view_module_version": "1.5.0",
            "_view_name": "HTMLView",
            "description": "",
            "description_tooltip": null,
            "layout": "IPY_MODEL_e955c5059940461894570095ccf03c84",
            "placeholder": "​",
            "style": "IPY_MODEL_dfad2095332b477f8ef23ce2d3176fcb",
            "value": "Evaluating: 100%"
          }
        },
        "5884e9ad9ef845f7ae3a06a8e938e8b9": {
          "model_module": "@jupyter-widgets/controls",
          "model_name": "FloatProgressModel",
          "model_module_version": "1.5.0",
          "state": {
            "_dom_classes": [],
            "_model_module": "@jupyter-widgets/controls",
            "_model_module_version": "1.5.0",
            "_model_name": "FloatProgressModel",
            "_view_count": null,
            "_view_module": "@jupyter-widgets/controls",
            "_view_module_version": "1.5.0",
            "_view_name": "ProgressView",
            "bar_style": "success",
            "description": "",
            "description_tooltip": null,
            "layout": "IPY_MODEL_4ad9d77c38804437982cc95cbfaa9162",
            "max": 516,
            "min": 0,
            "orientation": "horizontal",
            "style": "IPY_MODEL_b59b008560ca4cef9dcd685b6be7e960",
            "value": 516
          }
        },
        "25bc40a8716e4fd0905962677797d238": {
          "model_module": "@jupyter-widgets/controls",
          "model_name": "HTMLModel",
          "model_module_version": "1.5.0",
          "state": {
            "_dom_classes": [],
            "_model_module": "@jupyter-widgets/controls",
            "_model_module_version": "1.5.0",
            "_model_name": "HTMLModel",
            "_view_count": null,
            "_view_module": "@jupyter-widgets/controls",
            "_view_module_version": "1.5.0",
            "_view_name": "HTMLView",
            "description": "",
            "description_tooltip": null,
            "layout": "IPY_MODEL_d072714e123241fcbdf474f16083a350",
            "placeholder": "​",
            "style": "IPY_MODEL_9cd67de6879f46ff977d1ac83b42ada4",
            "value": " 516/516 [11:54&lt;00:00,  1.15s/it]"
          }
        },
        "bd432daa25f445f0a271357e8697644a": {
          "model_module": "@jupyter-widgets/base",
          "model_name": "LayoutModel",
          "model_module_version": "1.2.0",
          "state": {
            "_model_module": "@jupyter-widgets/base",
            "_model_module_version": "1.2.0",
            "_model_name": "LayoutModel",
            "_view_count": null,
            "_view_module": "@jupyter-widgets/base",
            "_view_module_version": "1.2.0",
            "_view_name": "LayoutView",
            "align_content": null,
            "align_items": null,
            "align_self": null,
            "border": null,
            "bottom": null,
            "display": null,
            "flex": null,
            "flex_flow": null,
            "grid_area": null,
            "grid_auto_columns": null,
            "grid_auto_flow": null,
            "grid_auto_rows": null,
            "grid_column": null,
            "grid_gap": null,
            "grid_row": null,
            "grid_template_areas": null,
            "grid_template_columns": null,
            "grid_template_rows": null,
            "height": null,
            "justify_content": null,
            "justify_items": null,
            "left": null,
            "margin": null,
            "max_height": null,
            "max_width": null,
            "min_height": null,
            "min_width": null,
            "object_fit": null,
            "object_position": null,
            "order": null,
            "overflow": null,
            "overflow_x": null,
            "overflow_y": null,
            "padding": null,
            "right": null,
            "top": null,
            "visibility": null,
            "width": null
          }
        },
        "e955c5059940461894570095ccf03c84": {
          "model_module": "@jupyter-widgets/base",
          "model_name": "LayoutModel",
          "model_module_version": "1.2.0",
          "state": {
            "_model_module": "@jupyter-widgets/base",
            "_model_module_version": "1.2.0",
            "_model_name": "LayoutModel",
            "_view_count": null,
            "_view_module": "@jupyter-widgets/base",
            "_view_module_version": "1.2.0",
            "_view_name": "LayoutView",
            "align_content": null,
            "align_items": null,
            "align_self": null,
            "border": null,
            "bottom": null,
            "display": null,
            "flex": null,
            "flex_flow": null,
            "grid_area": null,
            "grid_auto_columns": null,
            "grid_auto_flow": null,
            "grid_auto_rows": null,
            "grid_column": null,
            "grid_gap": null,
            "grid_row": null,
            "grid_template_areas": null,
            "grid_template_columns": null,
            "grid_template_rows": null,
            "height": null,
            "justify_content": null,
            "justify_items": null,
            "left": null,
            "margin": null,
            "max_height": null,
            "max_width": null,
            "min_height": null,
            "min_width": null,
            "object_fit": null,
            "object_position": null,
            "order": null,
            "overflow": null,
            "overflow_x": null,
            "overflow_y": null,
            "padding": null,
            "right": null,
            "top": null,
            "visibility": null,
            "width": null
          }
        },
        "dfad2095332b477f8ef23ce2d3176fcb": {
          "model_module": "@jupyter-widgets/controls",
          "model_name": "DescriptionStyleModel",
          "model_module_version": "1.5.0",
          "state": {
            "_model_module": "@jupyter-widgets/controls",
            "_model_module_version": "1.5.0",
            "_model_name": "DescriptionStyleModel",
            "_view_count": null,
            "_view_module": "@jupyter-widgets/base",
            "_view_module_version": "1.2.0",
            "_view_name": "StyleView",
            "description_width": ""
          }
        },
        "4ad9d77c38804437982cc95cbfaa9162": {
          "model_module": "@jupyter-widgets/base",
          "model_name": "LayoutModel",
          "model_module_version": "1.2.0",
          "state": {
            "_model_module": "@jupyter-widgets/base",
            "_model_module_version": "1.2.0",
            "_model_name": "LayoutModel",
            "_view_count": null,
            "_view_module": "@jupyter-widgets/base",
            "_view_module_version": "1.2.0",
            "_view_name": "LayoutView",
            "align_content": null,
            "align_items": null,
            "align_self": null,
            "border": null,
            "bottom": null,
            "display": null,
            "flex": null,
            "flex_flow": null,
            "grid_area": null,
            "grid_auto_columns": null,
            "grid_auto_flow": null,
            "grid_auto_rows": null,
            "grid_column": null,
            "grid_gap": null,
            "grid_row": null,
            "grid_template_areas": null,
            "grid_template_columns": null,
            "grid_template_rows": null,
            "height": null,
            "justify_content": null,
            "justify_items": null,
            "left": null,
            "margin": null,
            "max_height": null,
            "max_width": null,
            "min_height": null,
            "min_width": null,
            "object_fit": null,
            "object_position": null,
            "order": null,
            "overflow": null,
            "overflow_x": null,
            "overflow_y": null,
            "padding": null,
            "right": null,
            "top": null,
            "visibility": null,
            "width": null
          }
        },
        "b59b008560ca4cef9dcd685b6be7e960": {
          "model_module": "@jupyter-widgets/controls",
          "model_name": "ProgressStyleModel",
          "model_module_version": "1.5.0",
          "state": {
            "_model_module": "@jupyter-widgets/controls",
            "_model_module_version": "1.5.0",
            "_model_name": "ProgressStyleModel",
            "_view_count": null,
            "_view_module": "@jupyter-widgets/base",
            "_view_module_version": "1.2.0",
            "_view_name": "StyleView",
            "bar_color": null,
            "description_width": ""
          }
        },
        "d072714e123241fcbdf474f16083a350": {
          "model_module": "@jupyter-widgets/base",
          "model_name": "LayoutModel",
          "model_module_version": "1.2.0",
          "state": {
            "_model_module": "@jupyter-widgets/base",
            "_model_module_version": "1.2.0",
            "_model_name": "LayoutModel",
            "_view_count": null,
            "_view_module": "@jupyter-widgets/base",
            "_view_module_version": "1.2.0",
            "_view_name": "LayoutView",
            "align_content": null,
            "align_items": null,
            "align_self": null,
            "border": null,
            "bottom": null,
            "display": null,
            "flex": null,
            "flex_flow": null,
            "grid_area": null,
            "grid_auto_columns": null,
            "grid_auto_flow": null,
            "grid_auto_rows": null,
            "grid_column": null,
            "grid_gap": null,
            "grid_row": null,
            "grid_template_areas": null,
            "grid_template_columns": null,
            "grid_template_rows": null,
            "height": null,
            "justify_content": null,
            "justify_items": null,
            "left": null,
            "margin": null,
            "max_height": null,
            "max_width": null,
            "min_height": null,
            "min_width": null,
            "object_fit": null,
            "object_position": null,
            "order": null,
            "overflow": null,
            "overflow_x": null,
            "overflow_y": null,
            "padding": null,
            "right": null,
            "top": null,
            "visibility": null,
            "width": null
          }
        },
        "9cd67de6879f46ff977d1ac83b42ada4": {
          "model_module": "@jupyter-widgets/controls",
          "model_name": "DescriptionStyleModel",
          "model_module_version": "1.5.0",
          "state": {
            "_model_module": "@jupyter-widgets/controls",
            "_model_module_version": "1.5.0",
            "_model_name": "DescriptionStyleModel",
            "_view_count": null,
            "_view_module": "@jupyter-widgets/base",
            "_view_module_version": "1.2.0",
            "_view_name": "StyleView",
            "description_width": ""
          }
        }
      }
    }
  },
  "nbformat": 4,
  "nbformat_minor": 0
}