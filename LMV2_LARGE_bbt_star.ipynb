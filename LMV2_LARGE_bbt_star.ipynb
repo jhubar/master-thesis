{
  "cells": [
    {
      "cell_type": "markdown",
      "metadata": {
        "colab_type": "text",
        "id": "view-in-github"
      },
      "source": [
        "<a href=\"https://colab.research.google.com/github/jhubar/master-thesis/blob/main/LMV2_LARGE_bbt_star.ipynb\" target=\"_parent\"><img src=\"https://colab.research.google.com/assets/colab-badge.svg\" alt=\"Open In Colab\"/></a>"
      ]
    },
    {
      "cell_type": "markdown",
      "metadata": {
        "id": "Z7E3hFdIQBYu"
      },
      "source": [
        "\n",
        "## Install dependencies"
      ]
    },
    {
      "cell_type": "code",
      "execution_count": 1,
      "metadata": {
        "colab": {
          "base_uri": "https://localhost:8080/"
        },
        "id": "vL18fbJlmXn8",
        "outputId": "6a1e81ab-6ded-4d4c-ac81-90fb73832d77"
      },
      "outputs": [
        {
          "name": "stdout",
          "output_type": "stream",
          "text": [
            "Cloning into 'transformers'...\n",
            "remote: Enumerating objects: 110141, done.\u001b[K\n",
            "remote: Counting objects: 100% (5/5), done.\u001b[K\n",
            "remote: Compressing objects: 100% (5/5), done.\u001b[K\n",
            "remote: Total 110141 (delta 0), reused 4 (delta 0), pack-reused 110136\u001b[K\n",
            "Receiving objects: 100% (110141/110141), 97.43 MiB | 36.20 MiB/s, done.\n",
            "Resolving deltas: 100% (80335/80335), done.\n",
            "/bin/bash: line 0: cd: tranformers: No such file or directory\n",
            "\u001b[33m  DEPRECATION: A future pip version will change local packages to be built in-place without first copying to a temporary directory. We recommend you use --use-feature=in-tree-build to test your packages with this new behavior before it becomes the default.\n",
            "   pip 21.3 will remove support for this functionality. You can find discussion regarding this at https://github.com/pypa/pip/issues/7555.\u001b[0m\n",
            "  Installing build dependencies ... \u001b[?25l\u001b[?25hdone\n",
            "  Getting requirements to build wheel ... \u001b[?25l\u001b[?25hdone\n",
            "    Preparing wheel metadata ... \u001b[?25l\u001b[?25hdone\n",
            "  Building wheel for transformers (PEP 517) ... \u001b[?25l\u001b[?25hdone\n"
          ]
        }
      ],
      "source": [
        "!rm -r transformers\n",
        "!git clone https://github.com/huggingface/transformers.git\n",
        "!cd tranformers\n",
        "!pip install -q ./transformers "
      ]
    },
    {
      "cell_type": "code",
      "execution_count": 2,
      "metadata": {
        "id": "5X6FRLUGOES9"
      },
      "outputs": [],
      "source": [
        "!pip install -q datasets seqeval"
      ]
    },
    {
      "cell_type": "code",
      "execution_count": 3,
      "metadata": {
        "colab": {
          "base_uri": "https://localhost:8080/"
        },
        "id": "iTY7cOwuNg3d",
        "outputId": "068da6db-b59b-4a13-9c06-c7fd782cc402"
      },
      "outputs": [
        {
          "name": "stdout",
          "output_type": "stream",
          "text": [
            "Requirement already satisfied: pyyaml==5.1 in /usr/local/lib/python3.7/dist-packages (5.1)\n",
            "Looking in links: https://download.pytorch.org/whl/torch_stable.html\n",
            "Requirement already satisfied: torch==1.8.0+cu101 in /usr/local/lib/python3.7/dist-packages (1.8.0+cu101)\n",
            "Requirement already satisfied: torchvision==0.9.0+cu101 in /usr/local/lib/python3.7/dist-packages (0.9.0+cu101)\n",
            "Requirement already satisfied: numpy in /usr/local/lib/python3.7/dist-packages (from torch==1.8.0+cu101) (1.21.6)\n",
            "Requirement already satisfied: typing-extensions in /usr/local/lib/python3.7/dist-packages (from torch==1.8.0+cu101) (4.1.1)\n",
            "Requirement already satisfied: pillow>=4.1.1 in /usr/local/lib/python3.7/dist-packages (from torchvision==0.9.0+cu101) (7.1.2)\n"
          ]
        }
      ],
      "source": [
        "!pip install pyyaml==5.1\n",
        "# workaround: install old version of pytorch since detectron2 hasn't released packages for pytorch 1.9 (issue: https://github.com/facebookresearch/detectron2/issues/3158)\n",
        "!pip install torch==1.8.0+cu101 torchvision==0.9.0+cu101 -f https://download.pytorch.org/whl/torch_stable.html\n",
        "\n",
        "# install detectron2 that matches pytorch 1.8\n",
        "# See https://detectron2.readthedocs.io/tutorials/install.html for instructions\n",
        "!pip install -q detectron2 -f https://dl.fbaipublicfiles.com/detectron2/wheels/cu101/torch1.8/index.html\n",
        "# exit(0)  # After installation, you need to \"restart runtime\" in Colab. This line can also restart runtime"
      ]
    },
    {
      "cell_type": "code",
      "execution_count": 4,
      "metadata": {
        "colab": {
          "base_uri": "https://localhost:8080/"
        },
        "id": "DHZkW3Ss7C6p",
        "outputId": "f7fb01a8-88c9-4428-faf7-e426eca16586"
      },
      "outputs": [
        {
          "name": "stdout",
          "output_type": "stream",
          "text": [
            "Requirement already satisfied: sentencepiece in /usr/local/lib/python3.7/dist-packages (0.1.96)\n"
          ]
        }
      ],
      "source": [
        "!pip install sentencepiece"
      ]
    },
    {
      "cell_type": "code",
      "execution_count": 5,
      "metadata": {
        "colab": {
          "base_uri": "https://localhost:8080/"
        },
        "id": "UbKp24nGOJqA",
        "outputId": "c7cca500-034e-492f-f201-2277918eedd1"
      },
      "outputs": [
        {
          "name": "stdout",
          "output_type": "stream",
          "text": [
            "Drive already mounted at /content/drive; to attempt to forcibly remount, call drive.mount(\"/content/drive\", force_remount=True).\n"
          ]
        }
      ],
      "source": [
        "import pandas as pd\n",
        "from google.colab import drive\n",
        "drive.mount('/content/drive')\n"
      ]
    },
    {
      "cell_type": "code",
      "execution_count": 6,
      "metadata": {
        "id": "ipGwX-Co9b7c"
      },
      "outputs": [],
      "source": [
        "path_btt_large_qv = '/content/drive/MyDrive/LayoutLMv2/final/btt_large_star'\n",
        "folder = '/content/drive/MyDrive/lr_1e5/LMV2/bttStar/'"
      ]
    },
    {
      "cell_type": "code",
      "execution_count": 7,
      "metadata": {
        "id": "znnyG9l4OL7j"
      },
      "outputs": [],
      "source": [
        "train = pd.read_pickle(path_btt_large_qv+'/pickel/train.pkl')\n",
        "val = pd.read_pickle(path_btt_large_qv+'/pickel/dev.pkl')\n",
        "test = pd.read_pickle(path_btt_large_qv+'/pickel/test.pkl')"
      ]
    },
    {
      "cell_type": "markdown",
      "metadata": {
        "id": "iOxLV0JnQJWJ"
      },
      "source": [
        "## Prepare the data\n",
        "\n"
      ]
    },
    {
      "cell_type": "code",
      "execution_count": 8,
      "metadata": {
        "colab": {
          "base_uri": "https://localhost:8080/"
        },
        "id": "1RJLFClPIYjt",
        "outputId": "4ce979c2-9c67-48d9-f353-7cc79f214476"
      },
      "outputs": [
        {
          "data": {
            "text/plain": [
              "Counter({'Base': 9690,\n",
              "         'DueDate': 17089,\n",
              "         'Duedate': 6,\n",
              "         'Rem': 6104,\n",
              "         'RemPay': 3034,\n",
              "         'TotAmount': 9253,\n",
              "         'VatNr': 19098,\n",
              "         'iban': 42302,\n",
              "         'noise': 1587894,\n",
              "         'tax': 9233})"
            ]
          },
          "execution_count": 8,
          "metadata": {},
          "output_type": "execute_result"
        }
      ],
      "source": [
        "from collections import Counter\n",
        "\n",
        "all_labels = [item for sublist in train[1] for item in sublist] + [item for sublist in val[1] for item in sublist] + [item for sublist in test[1] for item in sublist]\n",
        "Counter(all_labels)"
      ]
    },
    {
      "cell_type": "markdown",
      "metadata": {
        "id": "h5jvOQR2Ivs5"
      },
      "source": [
        "Let's replace label noise by the \"neutral\" label \"O\" (which stands for \"Outside\")."
      ]
    },
    {
      "cell_type": "code",
      "execution_count": 9,
      "metadata": {
        "id": "7UzRGzqlIx22"
      },
      "outputs": [],
      "source": [
        "replacing_labels = {'noise': 'O','dueDate':'O'}"
      ]
    },
    {
      "cell_type": "code",
      "execution_count": 10,
      "metadata": {
        "id": "ldWhTh1wIyX-"
      },
      "outputs": [],
      "source": [
        "def replace_elem(elem):\n",
        "  try:\n",
        "    return replacing_labels[elem]\n",
        "  except KeyError:\n",
        "    return elem\n",
        "def replace_list(ls):\n",
        "  return [replace_elem(elem) for elem in ls]\n",
        "\n",
        "\n",
        "train[1] = [replace_list(ls) for ls in train[1]]\n",
        "val[1] = [replace_list(ls) for ls in val[1]]\n",
        "test[1] = [replace_list(ls) for ls in test[1]]\n"
      ]
    },
    {
      "cell_type": "code",
      "execution_count": 11,
      "metadata": {
        "colab": {
          "base_uri": "https://localhost:8080/"
        },
        "id": "YIN8ptH4JD3T",
        "outputId": "5bbd07a4-f8e7-4d17-d4f7-6ca1fc6b6bae"
      },
      "outputs": [
        {
          "name": "stdout",
          "output_type": "stream",
          "text": [
            "['VatNr', 'RemPay', 'Base', 'Duedate', 'iban', 'O', 'TotAmount', 'Rem', 'tax', 'DueDate']\n",
            "{'VatNr': 0, 'RemPay': 1, 'Base': 2, 'Duedate': 3, 'iban': 4, 'O': 5, 'TotAmount': 6, 'Rem': 7, 'tax': 8, 'DueDate': 9}\n",
            "{0: 'VatNr', 1: 'RemPay', 2: 'Base', 3: 'Duedate', 4: 'iban', 5: 'O', 6: 'TotAmount', 7: 'Rem', 8: 'tax', 9: 'DueDate'}\n"
          ]
        }
      ],
      "source": [
        "all_labels = [item for sublist in train[1] for item in sublist] + [item for sublist in val[1] for item in sublist] + [item for sublist in test[1] for item in sublist]\n",
        "Counter(all_labels)\n",
        "labels = list(set(all_labels))\n",
        "print(labels)\n",
        "label2id = {label: idx for idx, label in enumerate(labels)}\n",
        "id2label = {idx: label for idx, label in enumerate(labels)}\n",
        "print(label2id)\n",
        "print(id2label)\n"
      ]
    },
    {
      "cell_type": "markdown",
      "metadata": {
        "id": "shn-dMRbJGuu"
      },
      "source": [
        "Now we have to save all the unique labels in a list."
      ]
    },
    {
      "cell_type": "code",
      "execution_count": 12,
      "metadata": {
        "id": "Gq5CmIRZUy9O"
      },
      "outputs": [],
      "source": [
        "from os import listdir\n",
        "from torch.utils.data import Dataset\n",
        "import torch\n",
        "from PIL import Image\n",
        "class BILLYDataset(Dataset):\n",
        "    \"\"\"BillyDataset dataset.\"\"\"\n",
        "\n",
        "    def __init__(self, annotations, image_dir, processor=None, max_length=512):\n",
        "        self.words, self.labels, self.boxes = annotations\n",
        "        self.image_dir = image_dir\n",
        "        self.image_file_names = [f for f in listdir(image_dir)]\n",
        "        self.processor = processor\n",
        "        self.max_length = max_length\n",
        "        \n",
        "\n",
        "    def __len__(self):\n",
        "        return len(self.image_file_names)\n",
        "\n",
        "    def __getitem__(self, idx):\n",
        "        item = self.image_file_names[idx]\n",
        "        image = Image.open(self.image_dir + item).convert(\"RGB\")\n",
        "        words = self.words[idx]\n",
        "        boxes = self.boxes[idx]\n",
        "        word_labels = self.labels[idx]\n",
        "\n",
        "        \n",
        "        assert len(words) == len(boxes) == len(word_labels)\n",
        "       \n",
        "        word_labels = [label2id[label] for label in word_labels]\n",
        "        encoded_inputs = processor(image, words, boxes=boxes, word_labels=word_labels,\n",
        "                              padding=\"max_length\", truncation=True, max_length=512, return_token_type_ids=True,return_tensors=\"pt\")\n",
        "        for k,v in encoded_inputs.items():\n",
        "          encoded_inputs[k] = v.squeeze()\n",
        "\n",
        "        assert encoded_inputs.input_ids.shape == torch.Size([512])\n",
        "        assert encoded_inputs.attention_mask.shape == torch.Size([512])\n",
        "        assert encoded_inputs.token_type_ids.shape == torch.Size([512])\n",
        "        assert encoded_inputs.bbox.shape == torch.Size([512, 4])\n",
        "        assert encoded_inputs.image.shape == torch.Size([3, 224, 224])\n",
        "        assert encoded_inputs.labels.shape == torch.Size([512]) \n",
        "      \n",
        "        return encoded_inputs\n",
        "    \n"
      ]
    },
    {
      "cell_type": "code",
      "execution_count": 13,
      "metadata": {
        "colab": {
          "base_uri": "https://localhost:8080/"
        },
        "id": "izA9k5e-egyy",
        "outputId": "9e7461a6-4262-41f9-8465-a75b293ddf78"
      },
      "outputs": [
        {
          "name": "stdout",
          "output_type": "stream",
          "text": [
            "8252\n",
            "980\n",
            "1031\n"
          ]
        }
      ],
      "source": [
        "# from transformers import LayoutLMv2FeatureExtractor\n",
        "# from transformers import LayoutXLMTokenizer\n",
        "# from transformers import LayoutXLMProcessor\n",
        "# from transformers import LayoutLMv2Processor\n",
        "\n",
        "\n",
        "# # feature_extractor = LayoutLMv2FeatureExtractor(apply_ocr=False)\n",
        "# # tokenizer = LayoutXLMTokenizer.from_pretrained(\"microsoft/layoutxlm-base\")\n",
        "# # processor = LayoutXLMProcessor(feature_extractor,tokenizer)\n",
        "# processor = LayoutLMv2Processor.from_pretrained(\"microsoft/layoutlmv2-large-uncased\", apply_ocr=False)\n",
        "\n",
        "from transformers import LayoutLMv2Processor,AutoTokenizer \n",
        "\n",
        "\n",
        "from transformers import LayoutLMv2FeatureExtractor, LayoutLMv2TokenizerFast, LayoutLMv2Processor\n",
        "\n",
        "feature_extractor = LayoutLMv2FeatureExtractor(apply_ocr=False)  # apply_ocr is set to True by default\n",
        "tokenizer = AutoTokenizer.from_pretrained(\"microsoft/layoutlmv2-large-uncased\")\n",
        "processor = LayoutLMv2Processor(feature_extractor, tokenizer)\n",
        "\n",
        "train_dataset = BILLYDataset(annotations=train,\n",
        "                            image_dir= path_btt_large_qv+'/train/image/', \n",
        "                            processor=processor)\n",
        "print(len(train_dataset))\n",
        "val_dataset = BILLYDataset(annotations=val,\n",
        "                            image_dir=path_btt_large_qv+'/dev/image/', \n",
        "                            processor=processor)\n",
        "print(len(val_dataset))\n",
        "test_dataset = BILLYDataset(annotations=test,\n",
        "                            image_dir=path_btt_large_qv+'/test/image/', \n",
        "                            processor=processor)\n",
        "print(len(test_dataset))\n",
        "\n",
        "\n"
      ]
    },
    {
      "cell_type": "code",
      "execution_count": 24,
      "metadata": {
        "colab": {
          "base_uri": "https://localhost:8080/"
        },
        "id": "h2lf9145Vecd",
        "outputId": "7d5f6040-c9de-41d2-b0f1-a2c7692b4a2c"
      },
      "outputs": [
        {
          "name": "stdout",
          "output_type": "stream",
          "text": [
            "10263\n"
          ]
        }
      ],
      "source": [
        "print(len(test_dataset)+len(val_dataset)+len(train_dataset))"
      ]
    },
    {
      "cell_type": "markdown",
      "metadata": {
        "id": "PAQJLuPPf27V"
      },
      "source": [
        "Next, we create corresponding dataloaders."
      ]
    },
    {
      "cell_type": "code",
      "execution_count": 14,
      "metadata": {
        "colab": {
          "base_uri": "https://localhost:8080/"
        },
        "id": "XI-eM0m4fmfF",
        "outputId": "0bccbc83-941e-4241-831a-fdf929ae0ba1"
      },
      "outputs": [
        {
          "name": "stdout",
          "output_type": "stream",
          "text": [
            "4126\n",
            "490\n",
            "516\n",
            "5158\n"
          ]
        }
      ],
      "source": [
        "from torch.utils.data import DataLoader\n",
        "batch_size = 2\n",
        "train_dataloader = DataLoader(train_dataset, batch_size=batch_size, shuffle=True)\n",
        "print(len(train_dataloader))\n",
        "val_dataloader = DataLoader(val_dataset, batch_size=batch_size, shuffle=True)\n",
        "print(len(val_dataloader))\n",
        "test_dataloader = DataLoader(test_dataset, batch_size=batch_size)\n",
        "print(len(test_dataloader))\n",
        "print(len(test_dataloader)+len(test_dataloader)+len(train_dataloader))"
      ]
    },
    {
      "cell_type": "markdown",
      "metadata": {
        "id": "hHgKGixHgIIC"
      },
      "source": [
        "## Train the model\n",
        "\n",
        "train the model\n",
        "learning rate = 1e-5 \n",
        "\n"
      ]
    },
    {
      "cell_type": "code",
      "execution_count": 15,
      "metadata": {
        "id": "AjcHF59ZKOWs"
      },
      "outputs": [],
      "source": [
        "import warnings\n",
        "warnings.filterwarnings(\"ignore\")\n",
        "from seqeval.metrics import (\n",
        "    classification_report,\n",
        "    f1_score,\n",
        "    precision_score,\n",
        "    recall_score)\n",
        "\n",
        "def results_test(preds, out_label_ids, labels):\n",
        "  preds = np.argmax(preds, axis=2)\n",
        "\n",
        "  label_map = {i: label for i, label in enumerate(labels)}\n",
        "\n",
        "  out_label_list = [[] for _ in range(out_label_ids.shape[0])]\n",
        "  preds_list = [[] for _ in range(out_label_ids.shape[0])]\n",
        "\n",
        "  for i in range(out_label_ids.shape[0]):\n",
        "      for j in range(out_label_ids.shape[1]):\n",
        "          if out_label_ids[i, j] != -100:\n",
        "              out_label_list[i].append(label_map[out_label_ids[i][j]])\n",
        "              preds_list[i].append(label_map[preds[i][j]])\n",
        "\n",
        "  \n",
        "  results = {\n",
        "      \"precision\": precision_score(out_label_list, preds_list),\n",
        "      \"recall\": recall_score(out_label_list, preds_list),\n",
        "      \"f1\": f1_score(out_label_list, preds_list),\n",
        "  }\n",
        " \n",
        "  return results,out_label_list, preds_list"
      ]
    },
    {
      "cell_type": "code",
      "execution_count": 16,
      "metadata": {
        "colab": {
          "base_uri": "https://localhost:8080/"
        },
        "id": "YPLqj_CMv2tO",
        "outputId": "3ff9dcf3-ba7b-49d6-aeef-d059686d2b54"
      },
      "outputs": [
        {
          "name": "stdout",
          "output_type": "stream",
          "text": [
            "Tesla P100-PCIE-16GB\n"
          ]
        },
        {
          "name": "stderr",
          "output_type": "stream",
          "text": [
            "Some weights of the model checkpoint at microsoft/layoutlmv2-large-uncased were not used when initializing LayoutLMv2ForTokenClassification: ['layoutlmv2.visual.backbone.bottom_up.res4.9.conv1.norm.num_batches_tracked', 'layoutlmv2.visual.backbone.bottom_up.res5.0.shortcut.norm.num_batches_tracked', 'layoutlmv2.visual.backbone.bottom_up.res4.3.conv2.norm.num_batches_tracked', 'layoutlmv2.visual.backbone.bottom_up.res4.17.conv1.norm.num_batches_tracked', 'layoutlmv2.visual.backbone.bottom_up.res4.6.conv2.norm.num_batches_tracked', 'layoutlmv2.visual.backbone.bottom_up.res4.12.conv1.norm.num_batches_tracked', 'layoutlmv2.visual.backbone.bottom_up.res4.1.conv1.norm.num_batches_tracked', 'layoutlmv2.visual.backbone.bottom_up.res4.18.conv3.norm.num_batches_tracked', 'layoutlmv2.visual.backbone.bottom_up.res4.8.conv1.norm.num_batches_tracked', 'layoutlmv2.visual.backbone.bottom_up.res4.16.conv2.norm.num_batches_tracked', 'layoutlmv2.visual.backbone.bottom_up.res4.19.conv2.norm.num_batches_tracked', 'layoutlmv2.visual.backbone.bottom_up.res4.13.conv1.norm.num_batches_tracked', 'layoutlmv2.visual.backbone.bottom_up.res4.5.conv2.norm.num_batches_tracked', 'layoutlmv2.visual.backbone.bottom_up.res4.9.conv2.norm.num_batches_tracked', 'layoutlmv2.visual.backbone.bottom_up.res3.0.shortcut.norm.num_batches_tracked', 'layoutlmv2.visual.backbone.bottom_up.res3.0.conv1.norm.num_batches_tracked', 'layoutlmv2.visual.backbone.bottom_up.res2.0.conv1.norm.num_batches_tracked', 'layoutlmv2.visual.backbone.bottom_up.res2.0.conv2.norm.num_batches_tracked', 'layoutlmv2.visual.backbone.bottom_up.res4.20.conv3.norm.num_batches_tracked', 'layoutlmv2.visual.backbone.bottom_up.res5.2.conv3.norm.num_batches_tracked', 'layoutlmv2.visual.backbone.bottom_up.res4.1.conv2.norm.num_batches_tracked', 'layoutlmv2.visual.backbone.bottom_up.res4.4.conv1.norm.num_batches_tracked', 'layoutlmv2.visual.backbone.bottom_up.res3.2.conv3.norm.num_batches_tracked', 'layoutlmv2.visual.backbone.bottom_up.res4.22.conv3.norm.num_batches_tracked', 'layoutlmv2.visual.backbone.bottom_up.res4.6.conv3.norm.num_batches_tracked', 'layoutlmv2.visual.backbone.bottom_up.res3.3.conv3.norm.num_batches_tracked', 'layoutlmv2.visual.backbone.bottom_up.res2.2.conv1.norm.num_batches_tracked', 'layoutlmv2.visual.backbone.bottom_up.res4.7.conv3.norm.num_batches_tracked', 'layoutlmv2.visual.backbone.bottom_up.res4.15.conv2.norm.num_batches_tracked', 'layoutlmv2.visual.backbone.bottom_up.res4.19.conv3.norm.num_batches_tracked', 'layoutlmv2.visual.backbone.bottom_up.res4.7.conv2.norm.num_batches_tracked', 'layoutlmv2.visual.backbone.bottom_up.res2.1.conv3.norm.num_batches_tracked', 'layoutlmv2.visual.backbone.bottom_up.res4.22.conv2.norm.num_batches_tracked', 'layoutlmv2.visual.backbone.bottom_up.res4.13.conv3.norm.num_batches_tracked', 'layoutlmv2.visual.backbone.bottom_up.res4.12.conv2.norm.num_batches_tracked', 'layoutlmv2.visual.backbone.bottom_up.res3.0.conv3.norm.num_batches_tracked', 'layoutlmv2.visual.backbone.bottom_up.res4.14.conv2.norm.num_batches_tracked', 'layoutlmv2.visual.backbone.bottom_up.res4.4.conv3.norm.num_batches_tracked', 'layoutlmv2.visual.backbone.bottom_up.res4.18.conv2.norm.num_batches_tracked', 'layoutlmv2.visual.backbone.bottom_up.res4.20.conv2.norm.num_batches_tracked', 'layoutlmv2.visual.backbone.bottom_up.res4.0.conv1.norm.num_batches_tracked', 'layoutlmv2.visual.backbone.bottom_up.res4.13.conv2.norm.num_batches_tracked', 'layoutlmv2.visual.backbone.bottom_up.res4.20.conv1.norm.num_batches_tracked', 'layoutlmv2.visual.backbone.bottom_up.res4.14.conv1.norm.num_batches_tracked', 'layoutlmv2.visual.backbone.bottom_up.res4.21.conv3.norm.num_batches_tracked', 'layoutlmv2.visual.backbone.bottom_up.res4.17.conv2.norm.num_batches_tracked', 'layoutlmv2.visual.backbone.bottom_up.res4.8.conv2.norm.num_batches_tracked', 'layoutlmv2.visual.backbone.bottom_up.res5.1.conv3.norm.num_batches_tracked', 'layoutlmv2.visual.backbone.bottom_up.res4.2.conv3.norm.num_batches_tracked', 'layoutlmv2.visual.backbone.bottom_up.res4.7.conv1.norm.num_batches_tracked', 'layoutlmv2.visual.backbone.bottom_up.res2.0.conv3.norm.num_batches_tracked', 'layoutlmv2.visual.backbone.bottom_up.stem.conv1.norm.num_batches_tracked', 'layoutlmv2.visual.backbone.bottom_up.res5.0.conv3.norm.num_batches_tracked', 'layoutlmv2.visual.backbone.bottom_up.res4.10.conv1.norm.num_batches_tracked', 'layoutlmv2.visual.backbone.bottom_up.res4.15.conv3.norm.num_batches_tracked', 'layoutlmv2.visual.backbone.bottom_up.res4.1.conv3.norm.num_batches_tracked', 'layoutlmv2.visual.backbone.bottom_up.res3.0.conv2.norm.num_batches_tracked', 'layoutlmv2.visual.backbone.bottom_up.res4.5.conv1.norm.num_batches_tracked', 'layoutlmv2.visual.backbone.bottom_up.res4.17.conv3.norm.num_batches_tracked', 'layoutlmv2.visual.backbone.bottom_up.res4.8.conv3.norm.num_batches_tracked', 'layoutlmv2.visual.backbone.bottom_up.res3.1.conv3.norm.num_batches_tracked', 'layoutlmv2.visual.backbone.bottom_up.res3.3.conv2.norm.num_batches_tracked', 'layoutlmv2.visual.backbone.bottom_up.res4.16.conv3.norm.num_batches_tracked', 'layoutlmv2.visual.backbone.bottom_up.res4.3.conv3.norm.num_batches_tracked', 'layoutlmv2.visual.backbone.bottom_up.res4.22.conv1.norm.num_batches_tracked', 'layoutlmv2.visual.backbone.bottom_up.res4.12.conv3.norm.num_batches_tracked', 'layoutlmv2.visual.backbone.bottom_up.res5.0.conv1.norm.num_batches_tracked', 'layoutlmv2.visual.backbone.bottom_up.res3.1.conv2.norm.num_batches_tracked', 'layoutlmv2.visual.backbone.bottom_up.res3.2.conv2.norm.num_batches_tracked', 'layoutlmv2.visual.backbone.bottom_up.res5.1.conv1.norm.num_batches_tracked', 'layoutlmv2.visual.backbone.bottom_up.res2.1.conv2.norm.num_batches_tracked', 'layoutlmv2.visual.backbone.bottom_up.res3.1.conv1.norm.num_batches_tracked', 'layoutlmv2.visual.backbone.bottom_up.res4.10.conv3.norm.num_batches_tracked', 'layoutlmv2.visual.backbone.bottom_up.res4.0.conv2.norm.num_batches_tracked', 'layoutlmv2.visual.backbone.bottom_up.res4.15.conv1.norm.num_batches_tracked', 'layoutlmv2.visual.backbone.bottom_up.res4.2.conv2.norm.num_batches_tracked', 'layoutlmv2.visual.backbone.bottom_up.res4.2.conv1.norm.num_batches_tracked', 'layoutlmv2.visual.backbone.bottom_up.res4.21.conv1.norm.num_batches_tracked', 'layoutlmv2.visual.backbone.bottom_up.res4.10.conv2.norm.num_batches_tracked', 'layoutlmv2.visual.backbone.bottom_up.res5.0.conv2.norm.num_batches_tracked', 'layoutlmv2.visual.backbone.bottom_up.res4.9.conv3.norm.num_batches_tracked', 'layoutlmv2.visual.backbone.bottom_up.res3.2.conv1.norm.num_batches_tracked', 'layoutlmv2.visual.backbone.bottom_up.res4.6.conv1.norm.num_batches_tracked', 'layoutlmv2.visual.backbone.bottom_up.res5.1.conv2.norm.num_batches_tracked', 'layoutlmv2.visual.backbone.bottom_up.res4.11.conv3.norm.num_batches_tracked', 'layoutlmv2.visual.backbone.bottom_up.res4.18.conv1.norm.num_batches_tracked', 'layoutlmv2.visual.backbone.bottom_up.res4.19.conv1.norm.num_batches_tracked', 'layoutlmv2.visual.backbone.bottom_up.res5.2.conv2.norm.num_batches_tracked', 'layoutlmv2.visual.backbone.bottom_up.res2.0.shortcut.norm.num_batches_tracked', 'layoutlmv2.visual.backbone.bottom_up.res3.3.conv1.norm.num_batches_tracked', 'layoutlmv2.visual.backbone.bottom_up.res2.1.conv1.norm.num_batches_tracked', 'layoutlmv2.visual.backbone.bottom_up.res2.2.conv3.norm.num_batches_tracked', 'layoutlmv2.visual.backbone.bottom_up.res4.0.shortcut.norm.num_batches_tracked', 'layoutlmv2.visual.backbone.bottom_up.res4.5.conv3.norm.num_batches_tracked', 'layoutlmv2.visual.backbone.bottom_up.res5.2.conv1.norm.num_batches_tracked', 'layoutlmv2.visual.backbone.bottom_up.res4.11.conv1.norm.num_batches_tracked', 'layoutlmv2.visual.backbone.bottom_up.res4.21.conv2.norm.num_batches_tracked', 'layoutlmv2.visual.backbone.bottom_up.res2.2.conv2.norm.num_batches_tracked', 'layoutlmv2.visual.backbone.bottom_up.res4.14.conv3.norm.num_batches_tracked', 'layoutlmv2.visual.backbone.bottom_up.res4.16.conv1.norm.num_batches_tracked', 'layoutlmv2.visual.backbone.bottom_up.res4.3.conv1.norm.num_batches_tracked', 'layoutlmv2.visual.backbone.bottom_up.res4.11.conv2.norm.num_batches_tracked', 'layoutlmv2.visual.backbone.bottom_up.res4.4.conv2.norm.num_batches_tracked', 'layoutlmv2.visual.backbone.bottom_up.res4.0.conv3.norm.num_batches_tracked']\n",
            "- This IS expected if you are initializing LayoutLMv2ForTokenClassification from the checkpoint of a model trained on another task or with another architecture (e.g. initializing a BertForSequenceClassification model from a BertForPreTraining model).\n",
            "- This IS NOT expected if you are initializing LayoutLMv2ForTokenClassification from the checkpoint of a model that you expect to be exactly identical (initializing a BertForSequenceClassification model from a BertForSequenceClassification model).\n",
            "Some weights of LayoutLMv2ForTokenClassification were not initialized from the model checkpoint at microsoft/layoutlmv2-large-uncased and are newly initialized: ['classifier.bias', 'classifier.weight']\n",
            "You should probably TRAIN this model on a down-stream task to be able to use it for predictions and inference.\n"
          ]
        },
        {
          "name": "stdout",
          "output_type": "stream",
          "text": [
            "cuda:0\n"
          ]
        }
      ],
      "source": [
        "from transformers import LayoutLMv2ForTokenClassification, AdamW\n",
        "import torch\n",
        "from tqdm.notebook import tqdm\n",
        "from numpy import asarray\n",
        "from numpy import savetxt\n",
        "import numpy as np\n",
        "import json\n",
        "import itertools\n",
        "print(torch.cuda.get_device_name(0))\n",
        "model = LayoutLMv2ForTokenClassification.from_pretrained(\"microsoft/layoutlmv2-large-uncased\",\n",
        "                                                                      num_labels=len(labels))\n",
        "labels = list(set(all_labels))\n",
        "device = torch.device('cuda:0' if torch.cuda.is_available() else 'cpu')\n",
        "# device = 'cuda'\n",
        "print(device)\n",
        "model.to(device)\n",
        "optimizer = AdamW(model.parameters(), lr=1e-5)\n"
      ]
    },
    {
      "cell_type": "code",
      "execution_count": 17,
      "metadata": {
        "colab": {
          "base_uri": "https://localhost:8080/",
          "height": 1000,
          "referenced_widgets": [
            "fc5b526699d1497db5d2c81ef0634f17",
            "09277cbe90494d59865212975bc5493c",
            "f8977fd8e4404c028122366c59b57856",
            "76d4fd4d546742cc96607ce761c592ab",
            "97d029a25f2d40c7baac04c4a88baffd",
            "8bc2c5c4b28242dbb0db6ab4045696dc",
            "41b955d433984675a4506a085a5883d8",
            "c4a25f5e17cb40018d62479ea646e817",
            "34d4de241d69473bb2d16bf46740ca0f",
            "c3b8b472391342e691f6cb627ba7f906",
            "3063d9daf67249ae8d8d013258f6bc1c",
            "54bf344b579c4d94ab20345438f9121e",
            "9d8e56f6be5246b8a31e209a49ff042a",
            "cb723c49f4c243ceb46bbe1e242cd267",
            "be97f777429140df90287ea9d1e1555c",
            "b11c8319aa3e4447a3e2ba721d3b5c89",
            "c32528e6b873470c9fb1be71972686e9",
            "628d4d2ee92f4fe49f1a26f33adffdb4",
            "bae605581d8c47fdba67c69864c643af",
            "fa0b6518c5854174af6bfc63153fe98f",
            "fa63cf1da2e942e388dc03928ad93423",
            "85555b148b4a4ed4a9b04833ca7fac70"
          ]
        },
        "id": "NxahVHZ0NKq7",
        "outputId": "d635ba19-52d2-4f99-de9c-febed9e7dccc"
      },
      "outputs": [
        {
          "name": "stdout",
          "output_type": "stream",
          "text": [
            "Epoch: 0\n"
          ]
        },
        {
          "data": {
            "application/vnd.jupyter.widget-view+json": {
              "model_id": "fc5b526699d1497db5d2c81ef0634f17",
              "version_major": 2,
              "version_minor": 0
            },
            "text/plain": [
              "  0%|          | 0/4126 [00:00<?, ?it/s]"
            ]
          },
          "metadata": {},
          "output_type": "display_data"
        },
        {
          "name": "stdout",
          "output_type": "stream",
          "text": [
            "Overall results: {'precision': 0.00423728813559322, 'recall': 0.058823529411764705, 'f1': 0.007905138339920948}\n",
            "Loss after 0 steps: 2.5148932933807373\n",
            "Validation loss: 2.0364980697631836\n",
            "Overall results: {'precision': 0.39690107270560193, 'recall': 0.22981366459627328, 'f1': 0.2910839160839161}\n",
            "Loss after 100 steps: 0.0840936079621315\n",
            "Validation loss: 0.11576658487319946\n",
            "Overall results: {'precision': 0.6176470588235294, 'recall': 0.48259052924791085, 'f1': 0.5418295543393276}\n",
            "Loss after 200 steps: 0.08836435526609421\n",
            "Validation loss: 0.039186980575323105\n",
            "Overall results: {'precision': 0.697225891677675, 'recall': 0.6094688221709007, 'f1': 0.6504004929143562}\n",
            "Loss after 300 steps: 0.07512229681015015\n",
            "Validation loss: 0.06328985095024109\n",
            "Overall results: {'precision': 0.7328172205438066, 'recall': 0.6739017190484459, 'f1': 0.7021257349615558}\n",
            "Loss after 400 steps: 0.019884375855326653\n",
            "Validation loss: 0.03515053167939186\n",
            "Overall results: {'precision': 0.7578113539680211, 'recall': 0.7204016176265514, 'f1': 0.7386331140977982}\n",
            "Loss after 500 steps: 0.04876001179218292\n",
            "Validation loss: 0.0014208030188456178\n",
            "Overall results: {'precision': 0.7776704888352444, 'recall': 0.7492731712989883, 'f1': 0.7632077706704572}\n",
            "Loss after 600 steps: 0.027108903974294662\n",
            "Validation loss: 0.020960316061973572\n",
            "Overall results: {'precision': 0.7959204592045921, 'recall': 0.7724830879426979, 'f1': 0.7840266558966074}\n",
            "Loss after 700 steps: 0.08820614218711853\n",
            "Validation loss: 0.0415889248251915\n",
            "Overall results: {'precision': 0.8086809570399359, 'recall': 0.7900590893291624, 'f1': 0.7992615709199596}\n",
            "Loss after 800 steps: 0.028042389079928398\n",
            "Validation loss: 0.02478824555873871\n",
            "Overall results: {'precision': 0.8177025963808026, 'recall': 0.804100580270793, 'f1': 0.8108445484688902}\n",
            "Loss after 900 steps: 0.011990061961114407\n",
            "Validation loss: 0.010153845883905888\n",
            "Overall results: {'precision': 0.8251866460064798, 'recall': 0.815139497669241, 'f1': 0.8201323019845299}\n",
            "Loss after 1000 steps: 0.05524653568863869\n",
            "Validation loss: 0.020261501893401146\n",
            "Overall results: {'precision': 0.8318161563434974, 'recall': 0.8261364354808118, 'f1': 0.8289665672778024}\n",
            "Loss after 1100 steps: 0.01226534228771925\n",
            "Validation loss: 0.014807584695518017\n",
            "Overall results: {'precision': 0.8383679646120715, 'recall': 0.8349176907025272, 'f1': 0.8366392704672843}\n",
            "Loss after 1200 steps: 0.028456782922148705\n",
            "Validation loss: 0.014783952385187149\n",
            "Overall results: {'precision': 0.8431982828011806, 'recall': 0.8423394446231371, 'f1': 0.8427686449086863}\n",
            "Loss after 1300 steps: 0.002492897678166628\n",
            "Validation loss: 0.018762556836009026\n",
            "Overall results: {'precision': 0.847729872196529, 'recall': 0.8482782643312102, 'f1': 0.8480039796045268}\n",
            "Loss after 1400 steps: 0.09297698736190796\n",
            "Validation loss: 0.014843222685158253\n",
            "Overall results: {'precision': 0.8526164408981258, 'recall': 0.8538047012914615, 'f1': 0.8532101573743094}\n",
            "Loss after 1500 steps: 0.060056883841753006\n",
            "Validation loss: 0.015179128386080265\n",
            "Overall results: {'precision': 0.8568451217923668, 'recall': 0.8598692810457517, 'f1': 0.8583545377438507}\n",
            "Loss after 1600 steps: 0.02300567366182804\n",
            "Validation loss: 0.012528825551271439\n",
            "Overall results: {'precision': 0.8594196975888844, 'recall': 0.8631941879078932, 'f1': 0.8613028075276964}\n",
            "Loss after 1700 steps: 0.009562364779412746\n",
            "Validation loss: 0.0004729110805783421\n",
            "Overall results: {'precision': 0.8622295788744322, 'recall': 0.8676402231174466, 'f1': 0.86492643935591}\n",
            "Loss after 1800 steps: 0.05607236176729202\n",
            "Validation loss: 0.006440882105380297\n",
            "Overall results: {'precision': 0.8646936769684395, 'recall': 0.8718663975041292, 'f1': 0.8682652240660866}\n",
            "Loss after 1900 steps: 0.004939194303005934\n",
            "Validation loss: 0.06900986284017563\n",
            "Overall results: {'precision': 0.8669567920422754, 'recall': 0.8752092050209205, 'f1': 0.8710634532299203}\n",
            "Loss after 2000 steps: 0.045498788356781006\n",
            "Validation loss: 0.008134808391332626\n",
            "Overall results: {'precision': 0.8683181653908072, 'recall': 0.8779231995748074, 'f1': 0.8730942666952973}\n",
            "Loss after 2100 steps: 0.009432527236640453\n",
            "Validation loss: 0.02076238952577114\n",
            "Overall results: {'precision': 0.8706980239877243, 'recall': 0.8809885931558935, 'f1': 0.8758130817570442}\n",
            "Loss after 2200 steps: 0.0007527918787673116\n",
            "Validation loss: 0.059834714978933334\n",
            "Overall results: {'precision': 0.8731935010921277, 'recall': 0.8839850967800563, 'f1': 0.8785561610018966}\n",
            "Loss after 2300 steps: 0.014456460252404213\n",
            "Validation loss: 0.0017998614348471165\n",
            "Overall results: {'precision': 0.8747275438797751, 'recall': 0.8865505915181816, 'f1': 0.8805993850240361}\n",
            "Loss after 2400 steps: 0.002574449870735407\n",
            "Validation loss: 0.09761668741703033\n",
            "Overall results: {'precision': 0.8764950097605235, 'recall': 0.8892081113497532, 'f1': 0.8828057932485947}\n",
            "Loss after 2500 steps: 0.01894514448940754\n",
            "Validation loss: 0.00968947820365429\n",
            "Overall results: {'precision': 0.8781853230874858, 'recall': 0.8916056730743451, 'f1': 0.8848446147296722}\n",
            "Loss after 2600 steps: 0.03632185235619545\n",
            "Validation loss: 0.03902054950594902\n",
            "Overall results: {'precision': 0.8799644263753017, 'recall': 0.8936340412355173, 'f1': 0.8867465560505966}\n",
            "Loss after 2700 steps: 0.003965064417570829\n",
            "Validation loss: 0.0014473870396614075\n",
            "Overall results: {'precision': 0.8816150529204234, 'recall': 0.8954362215697009, 'f1': 0.8884718895829733}\n",
            "Loss after 2800 steps: 0.005306669510900974\n",
            "Validation loss: 0.017891135066747665\n",
            "Overall results: {'precision': 0.8834200567644276, 'recall': 0.897429120615089, 'f1': 0.8903694874851013}\n",
            "Loss after 2900 steps: 0.016522420570254326\n",
            "Validation loss: 0.05713151395320892\n",
            "Overall results: {'precision': 0.8843761434321259, 'recall': 0.8986382860064135, 'f1': 0.8914501740393259}\n",
            "Loss after 3000 steps: 0.0012984336353838444\n",
            "Validation loss: 0.002432481152936816\n",
            "Overall results: {'precision': 0.8860291676809702, 'recall': 0.9001731231872653, 'f1': 0.8930451463240542}\n",
            "Loss after 3100 steps: 0.002316177124157548\n",
            "Validation loss: 0.011021807789802551\n",
            "Overall results: {'precision': 0.8868369688780215, 'recall': 0.901454204547932, 'f1': 0.8940858471186073}\n",
            "Loss after 3200 steps: 0.009665586985647678\n",
            "Validation loss: 0.027879519388079643\n",
            "Overall results: {'precision': 0.8877268852527185, 'recall': 0.9028376892497674, 'f1': 0.8952185262451645}\n",
            "Loss after 3300 steps: 0.026946639642119408\n",
            "Validation loss: 0.01949993707239628\n",
            "Overall results: {'precision': 0.8889538871182475, 'recall': 0.904294831017996, 'f1': 0.8965587394590415}\n",
            "Loss after 3400 steps: 0.009025093168020248\n",
            "Validation loss: 0.019380081444978714\n",
            "Overall results: {'precision': 0.8903342083610861, 'recall': 0.9052665126284758, 'f1': 0.8977382716049382}\n",
            "Loss after 3500 steps: 0.012578512541949749\n",
            "Validation loss: 0.007032740395516157\n",
            "Overall results: {'precision': 0.8913730116447218, 'recall': 0.9066225421891934, 'f1': 0.8989331081859001}\n",
            "Loss after 3600 steps: 0.0041176266968250275\n",
            "Validation loss: 0.054853349924087524\n",
            "Overall results: {'precision': 0.8923866520909377, 'recall': 0.907605623186221, 'f1': 0.8999317992843595}\n",
            "Loss after 3700 steps: 0.010902893729507923\n",
            "Validation loss: 0.001849488471634686\n",
            "Overall results: {'precision': 0.8928165430628485, 'recall': 0.9085216944235325, 'f1': 0.900600655260284}\n",
            "Loss after 3800 steps: 0.008646858856081963\n",
            "Validation loss: 0.0044625261798501015\n",
            "Overall results: {'precision': 0.8937715411127524, 'recall': 0.9094276154520567, 'f1': 0.9015316122280657}\n",
            "Loss after 3900 steps: 0.00889208260923624\n",
            "Validation loss: 0.04153921455144882\n",
            "Overall results: {'precision': 0.8947801350378723, 'recall': 0.9105081435496809, 'f1': 0.9025756266205706}\n",
            "Loss after 4000 steps: 0.019428804516792297\n",
            "Validation loss: 0.006045869551599026\n",
            "Overall results: {'precision': 0.895598703338569, 'recall': 0.9112671506537225, 'f1': 0.9033649916149094}\n",
            "Loss after 4100 steps: 0.007988584227859974\n",
            "Validation loss: 0.018316082656383514\n",
            "Epoch: 1\n"
          ]
        },
        {
          "data": {
            "application/vnd.jupyter.widget-view+json": {
              "model_id": "54bf344b579c4d94ab20345438f9121e",
              "version_major": 2,
              "version_minor": 0
            },
            "text/plain": [
              "  0%|          | 0/4126 [00:00<?, ?it/s]"
            ]
          },
          "metadata": {},
          "output_type": "display_data"
        },
        {
          "name": "stdout",
          "output_type": "stream",
          "text": [
            "Overall results: {'precision': 0.8963913993931286, 'recall': 0.9122105088403752, 'f1': 0.9042317724404071}\n",
            "Loss after 4200 steps: 0.007939334027469158\n",
            "Validation loss: 0.0041371663101017475\n",
            "Overall results: {'precision': 0.8974179152056104, 'recall': 0.9130180969060129, 'f1': 0.9051507941611471}\n",
            "Loss after 4300 steps: 0.024167608469724655\n",
            "Validation loss: 0.004939881619066\n",
            "Overall results: {'precision': 0.8982242990654206, 'recall': 0.9139696326116588, 'f1': 0.906028563797194}\n",
            "Loss after 4400 steps: 0.0037834204267710447\n",
            "Validation loss: 0.010584026575088501\n",
            "Overall results: {'precision': 0.8991989522417154, 'recall': 0.914873177458591, 'f1': 0.9069683494235924}\n",
            "Loss after 4500 steps: 0.006995456293225288\n",
            "Validation loss: 0.007138874381780624\n",
            "Overall results: {'precision': 0.8995888206900662, 'recall': 0.9154084045843187, 'f1': 0.9074296705938928}\n",
            "Loss after 4600 steps: 0.005308070220053196\n",
            "Validation loss: 0.018969647586345673\n",
            "Overall results: {'precision': 0.9004258297847518, 'recall': 0.9163414018788679, 'f1': 0.9083139025986922}\n",
            "Loss after 4700 steps: 0.003894054563716054\n",
            "Validation loss: 0.0030016375239938498\n",
            "Overall results: {'precision': 0.9009151782527377, 'recall': 0.9170324080802209, 'f1': 0.9089023485606874}\n",
            "Loss after 4800 steps: 0.07118010520935059\n",
            "Validation loss: 0.028321312740445137\n",
            "Overall results: {'precision': 0.9014484243491877, 'recall': 0.9177959346353128, 'f1': 0.9095487311148414}\n",
            "Loss after 4900 steps: 0.0028313049115240574\n",
            "Validation loss: 0.0017506860895082355\n",
            "Overall results: {'precision': 0.9022014603339863, 'recall': 0.9185216178521618, 'f1': 0.9102883957511213}\n",
            "Loss after 5000 steps: 0.009371470659971237\n",
            "Validation loss: 0.004522043280303478\n",
            "Overall results: {'precision': 0.9029480894500034, 'recall': 0.9191949575465894, 'f1': 0.9109990921040151}\n",
            "Loss after 5100 steps: 0.009231282398104668\n",
            "Validation loss: 0.025521231815218925\n",
            "Overall results: {'precision': 0.9035092341333615, 'recall': 0.9198551599275799, 'f1': 0.9116089288206328}\n",
            "Loss after 5200 steps: 0.002369710709899664\n",
            "Validation loss: 0.010962558910250664\n",
            "Overall results: {'precision': 0.9037475294208833, 'recall': 0.9205505408037054, 'f1': 0.9120716515980158}\n",
            "Loss after 5300 steps: 0.00957288034260273\n",
            "Validation loss: 0.063576340675354\n",
            "Overall results: {'precision': 0.9043386753220408, 'recall': 0.9213232064894469, 'f1': 0.912751935504511}\n",
            "Loss after 5400 steps: 0.004735170863568783\n",
            "Validation loss: 0.004963889718055725\n",
            "Overall results: {'precision': 0.9046783407385282, 'recall': 0.9216899551137372, 'f1': 0.9131049210187482}\n",
            "Loss after 5500 steps: 0.0021054865792393684\n",
            "Validation loss: 0.0012083895271643996\n",
            "Overall results: {'precision': 0.9052065509655342, 'recall': 0.9223641933796608, 'f1': 0.9137048322826584}\n",
            "Loss after 5600 steps: 0.05618743225932121\n",
            "Validation loss: 0.006704080384224653\n",
            "Overall results: {'precision': 0.9057838733696827, 'recall': 0.9229536081843436, 'f1': 0.9142881387779347}\n",
            "Loss after 5700 steps: 0.0225637536495924\n",
            "Validation loss: 0.016123447567224503\n",
            "Overall results: {'precision': 0.9062872519975923, 'recall': 0.9234312239940352, 'f1': 0.9147789207831738}\n",
            "Loss after 5800 steps: 0.025150276720523834\n",
            "Validation loss: 0.006933727767318487\n",
            "Overall results: {'precision': 0.9066259818310497, 'recall': 0.9238071594079539, 'f1': 0.9151359359171795}\n",
            "Loss after 5900 steps: 0.006859740242362022\n",
            "Validation loss: 0.10241439938545227\n",
            "Overall results: {'precision': 0.9071123690397389, 'recall': 0.9242854152615299, 'f1': 0.9156183761865265}\n",
            "Loss after 6000 steps: 0.033658500760793686\n",
            "Validation loss: 0.01449396088719368\n",
            "Overall results: {'precision': 0.9074930412139715, 'recall': 0.9248701699800965, 'f1': 0.9160992080127806}\n",
            "Loss after 6100 steps: 0.006575507111847401\n",
            "Validation loss: 0.01631811633706093\n",
            "Overall results: {'precision': 0.9079919186566423, 'recall': 0.925327962917126, 'f1': 0.9165779751589481}\n",
            "Loss after 6200 steps: 0.021603548899292946\n",
            "Validation loss: 0.023805534467101097\n",
            "Overall results: {'precision': 0.9085853319429962, 'recall': 0.9258218040951854, 'f1': 0.9171225892749459}\n",
            "Loss after 6300 steps: 0.006075326818972826\n",
            "Validation loss: 0.0028094458393752575\n",
            "Overall results: {'precision': 0.9087098774672283, 'recall': 0.9262088732440414, 'f1': 0.9173759343713739}\n",
            "Loss after 6400 steps: 0.0071041700430214405\n",
            "Validation loss: 0.0020881800446659327\n",
            "Overall results: {'precision': 0.9089741700524178, 'recall': 0.9266376951553195, 'f1': 0.9177209472850836}\n",
            "Loss after 6500 steps: 0.014937100000679493\n",
            "Validation loss: 0.026497717946767807\n",
            "Overall results: {'precision': 0.9094236711669674, 'recall': 0.9269362475691215, 'f1': 0.9180964544055609}\n",
            "Loss after 6600 steps: 0.013583570718765259\n",
            "Validation loss: 0.08356042951345444\n",
            "Overall results: {'precision': 0.9099091735714505, 'recall': 0.9271972015741146, 'f1': 0.918471843368586}\n",
            "Loss after 6700 steps: 0.009466970339417458\n",
            "Validation loss: 0.002251430181786418\n",
            "Overall results: {'precision': 0.9103305993055905, 'recall': 0.9277340745223126, 'f1': 0.918949945648309}\n",
            "Loss after 6800 steps: 0.016356024891138077\n",
            "Validation loss: 0.023735035210847855\n",
            "Overall results: {'precision': 0.9105770089175007, 'recall': 0.9282370190606198, 'f1': 0.9193222104272238}\n",
            "Loss after 6900 steps: 0.0029804527293890715\n",
            "Validation loss: 0.024124369025230408\n",
            "Overall results: {'precision': 0.9109996283909327, 'recall': 0.9284596601385359, 'f1': 0.9196467795037342}\n",
            "Loss after 7000 steps: 0.01685594953596592\n",
            "Validation loss: 0.017844364047050476\n",
            "Overall results: {'precision': 0.9114244953827765, 'recall': 0.9288935171085853, 'f1': 0.9200760948363523}\n",
            "Loss after 7100 steps: 0.05224846675992012\n",
            "Validation loss: 0.004704603459686041\n",
            "Overall results: {'precision': 0.9117551998174835, 'recall': 0.9292544688272053, 'f1': 0.9204216668026161}\n",
            "Loss after 7200 steps: 0.0031359100248664618\n",
            "Validation loss: 0.0009093097178265452\n",
            "Overall results: {'precision': 0.9121157289781836, 'recall': 0.9295808291690155, 'f1': 0.9207654669177842}\n",
            "Loss after 7300 steps: 0.0004516028275247663\n",
            "Validation loss: 0.0483226552605629\n",
            "Overall results: {'precision': 0.9124189535410713, 'recall': 0.9298607772719132, 'f1': 0.9210572999822602}\n",
            "Loss after 7400 steps: 0.030722713097929955\n",
            "Validation loss: 0.024385856464505196\n",
            "Overall results: {'precision': 0.9129022841713493, 'recall': 0.9302904950034859, 'f1': 0.9215143716131289}\n",
            "Loss after 7500 steps: 0.0031035186257213354\n",
            "Validation loss: 0.0025192336179316044\n",
            "Overall results: {'precision': 0.9132431604920483, 'recall': 0.9307012472123565, 'f1': 0.9218895590634928}\n",
            "Loss after 7600 steps: 0.006755450274795294\n",
            "Validation loss: 0.004107902757823467\n",
            "Overall results: {'precision': 0.9133549620016889, 'recall': 0.9309048412813451, 'f1': 0.9220463997774677}\n",
            "Loss after 7700 steps: 0.015894630923867226\n",
            "Validation loss: 0.07294365763664246\n",
            "Overall results: {'precision': 0.9137510527793374, 'recall': 0.931334501752629, 'f1': 0.9224589931625748}\n",
            "Loss after 7800 steps: 0.07654104381799698\n",
            "Validation loss: 0.0018314553890377283\n",
            "Overall results: {'precision': 0.9142141569606211, 'recall': 0.93175234057587, 'f1': 0.9228999352614911}\n",
            "Loss after 7900 steps: 0.015311392024159431\n",
            "Validation loss: 0.0014668512158095837\n",
            "Overall results: {'precision': 0.9143903607859245, 'recall': 0.931984300043611, 'f1': 0.9231035048767635}\n",
            "Loss after 8000 steps: 0.0030173668637871742\n",
            "Validation loss: 0.028588341549038887\n",
            "Overall results: {'precision': 0.9147625485888119, 'recall': 0.932411714039621, 'f1': 0.9235028152192459}\n",
            "Loss after 8100 steps: 0.0024847909808158875\n",
            "Validation loss: 0.028167445212602615\n",
            "Overall results: {'precision': 0.915085681867481, 'recall': 0.9327901893916845, 'f1': 0.9238531221441236}\n",
            "Loss after 8200 steps: 0.00337080261670053\n",
            "Validation loss: 0.43112146854400635\n"
          ]
        }
      ],
      "source": [
        "\n",
        "\n",
        "val_iterator = iter(val_dataloader)\n",
        "global_step = 0\n",
        "num_train_epochs = 2\n",
        "train_loss = []\n",
        "val_loss = []\n",
        "val_precision = []\n",
        "val_recall = []\n",
        "val_f1 = []\n",
        "preds_val = None\n",
        "out_label_ids = None\n",
        "batch_logits_array = []\n",
        "out_label_list=[]\n",
        "preds_list=[]\n",
        "#put the model in training mode\n",
        "val_batch_idx = 0\n",
        "for epoch in range(num_train_epochs):  \n",
        "   print(\"Epoch:\", epoch)\n",
        "   loop = tqdm(train_dataloader, leave=True)\n",
        "   for batch_id, batch in enumerate(loop):\n",
        "        model.train() \n",
        "        input_ids = batch['input_ids'].to(device)\n",
        "        bbox = batch['bbox'].to(device)\n",
        "        image = batch['image'].to(device)\n",
        "        attention_mask = batch['attention_mask'].to(device)\n",
        "        token_type_ids = batch['token_type_ids'].to(device)\n",
        "        labels = batch['labels'].to(device)\n",
        "        # zero the parameter gradients\n",
        "        optimizer.zero_grad()\n",
        "        # forward + backward + optimize\n",
        "        outputs = model(input_ids=input_ids,\n",
        "                        bbox=bbox,\n",
        "                        image=image,\n",
        "                        attention_mask=attention_mask,\n",
        "                        token_type_ids=token_type_ids,\n",
        "                        labels=labels) \n",
        "        loss = outputs.loss\n",
        "        train_loss.append(loss.item())\n",
        "        loss.backward()\n",
        "        optimizer.step()\n",
        "        \n",
        "        # Testing part\n",
        "        if val_batch_idx >= len(val_iterator):\n",
        "            val_iterator = iter(val_dataloader)\n",
        "            val_batch_idx = 0\n",
        "        val_batch_idx += 1\n",
        "        model.eval()\n",
        "        with torch.no_grad():\n",
        "            batch = next(val_iterator)\n",
        "            input_ids = batch['input_ids'].to(device)\n",
        "            bbox = batch['bbox'].to(device)\n",
        "            image = batch['image'].to(device)\n",
        "            attention_mask = batch['attention_mask'].to(device)\n",
        "            token_type_ids = batch['token_type_ids'].to(device)\n",
        "            labels = batch['labels'].to(device)\n",
        "            # forward pass\n",
        "            outputs = model(input_ids=input_ids, bbox=bbox, image=image, attention_mask=attention_mask, \n",
        "                            token_type_ids=token_type_ids, labels=labels)\n",
        "            if preds_val is None:\n",
        "                preds_val = outputs.logits.detach().cpu().numpy()\n",
        "                out_label_ids = batch[\"labels\"].detach().cpu().numpy()\n",
        "            else:\n",
        "                preds_val = np.append(preds_val, outputs.logits.detach().cpu().numpy(), axis=0)\n",
        "                out_label_ids = np.append(out_label_ids, batch[\"labels\"].detach().cpu().numpy(), axis=0)\n",
        "       \n",
        "\n",
        "        \n",
        "        loss = outputs.loss\n",
        "        val_loss.append(loss.item())\n",
        "         \n",
        "        if global_step % 100 == 0 or global_step == 0:\n",
        "            val_result,out_label_l,preds_l = results_test(preds_val, out_label_ids, list(set(all_labels)))\n",
        "            val_precision.append(val_result['precision'])\n",
        "            val_recall.append(val_result['recall'])\n",
        "            val_f1.append(val_result['f1'])\n",
        "            out_label_list.append(list(itertools.chain(*out_label_l)))\n",
        "            preds_list.append(list(itertools.chain(*preds_l)))\n",
        "\n",
        "        \n",
        "            \n",
        "            print(\"Overall results:\", val_result)\n",
        "            print(f\"Loss after {global_step} steps: {train_loss[-1]}\")\n",
        "            print(\"Validation loss: {}\".format(loss.item()))\n",
        "        global_step += 1\n",
        "\n",
        "\n",
        "model.save_pretrained(folder +\"check_points/LargeCheckpoints_xlm_lr_1e5\")\n",
        "path_model = folder +'model/large_model_xlm_btt_qv_lr_star_1e5.pt'\n",
        "torch.save(model, path_model)\n",
        "\n",
        "\n"
      ]
    },
    {
      "cell_type": "code",
      "execution_count": 18,
      "metadata": {
        "id": "Y85YqKghFpsh"
      },
      "outputs": [],
      "source": [
        "# define data\n",
        "data_loss = pd.DataFrame({'batch_loss_array': train_loss,'val_loss':val_loss})\n",
        "data_loss.to_csv(folder + '/output/logits_btt_qv_large_star_lr_1e5.csv')\n",
        "data_loss = pd.DataFrame({'precison':val_precision,'recall':val_recall,'f1':val_f1})\n",
        "data_loss.to_csv(folder + '/output/metrics.csv')\n",
        "data_loss = pd.DataFrame({'preds_list':preds_list,'out_label_list':out_label_list})\n",
        "data_loss.to_csv(folder + '/output/classification_reports.csv')\n"
      ]
    },
    {
      "cell_type": "code",
      "execution_count": 19,
      "metadata": {
        "colab": {
          "base_uri": "https://localhost:8080/",
          "height": 541
        },
        "id": "MSng0Gb8fZy7",
        "outputId": "be1bd749-eed9-4690-97fe-ddce154d316b"
      },
      "outputs": [
        {
          "data": {
            "image/png": "[encoded data removed]",
            "text/plain": [
              "<Figure size 432x288 with 1 Axes>"
            ]
          },
          "metadata": {
            "needs_background": "light"
          },
          "output_type": "display_data"
        },
        {
          "data": {
            "image/png": "[encoded data removed]",
            "text/plain": [
              "<Figure size 432x288 with 1 Axes>"
            ]
          },
          "metadata": {
            "needs_background": "light"
          },
          "output_type": "display_data"
        }
      ],
      "source": [
        "import matplotlib.pyplot as plt\n",
        "import pandas as pd \n",
        "import numpy as np \n",
        "\n",
        "\n",
        "\n",
        "x_avg_train_loss = []\n",
        "y_avg_train_loss = []\n",
        "x_avg_val_loss = []\n",
        "y_avg_val_loss = []\n",
        "\n",
        "x_val_precision = []\n",
        "y_val_precision = []\n",
        "\n",
        "x_avg_val_recall = []\n",
        "y_avg_val_recall = []\n",
        "\n",
        "x_avg_val_f1 = []\n",
        "y_avg_val_f1 = []\n",
        "\n",
        "for i in range(0,len(train_loss)):\n",
        "   if i%100==0:\n",
        "      x_avg_train_loss.append(i)\n",
        "      y_avg_train_loss.append(train_loss[i]) \n",
        "\n",
        "for i in range(0,len(val_loss)):\n",
        "   if i%100==0:\n",
        "      x_avg_val_loss.append(i)\n",
        "      y_avg_val_loss.append(val_loss[i]) \n",
        "      \n",
        "\n",
        "for i in range(0,len(val_loss)):\n",
        "  if i%100==0:\n",
        "    try:\n",
        "      x_val_precision.append(i)\n",
        "      y_val_precision.append(val_precision[i])\n",
        "      x_avg_val_recall.append(i)\n",
        "      y_avg_val_recall.append(val_recall[i])\n",
        "      x_avg_val_f1.append(i)\n",
        "      y_avg_val_f1.append(val_f1[i])\n",
        "    except:\n",
        "      break\n",
        "        \n",
        "\n",
        "# # Loss \n",
        "plt.plot((train_loss), label = 'trainnning loss',color= 'navajowhite')\n",
        "plt.plot((val_loss),label = 'validation loss',color='dodgerblue')\n",
        "plt.plot(x_avg_train_loss,y_avg_train_loss,label='trainning loss every 100 steps',linewidth=2,color='orange')\n",
        "plt.plot(x_avg_val_loss,y_avg_val_loss,label='trainning loss every 100 steps',linewidth=2,color='blue')\n",
        "\n",
        "\n",
        "\n",
        "plt.yscale('log')\n",
        "plt.xlabel('epoch')\n",
        "plt.ylabel('Loss')\n",
        "plt.savefig(folder+'btt_qv_lr__star_1e5_log_test.png')\n",
        "plt.legend()\n",
        "plt.show()\n",
        "# Loss \n",
        "plt.plot((train_loss), label = 'trainnning loss',color= 'navajowhite')\n",
        "plt.plot((val_loss),label = 'validation loss',color='dodgerblue')\n",
        "plt.plot(x_avg_train_loss,y_avg_train_loss,label='trainning loss every 100 steps',linewidth=2,color='orange')\n",
        "plt.plot(x_avg_val_loss,y_avg_val_loss,label='trainning loss every 100 steps',linewidth=2,color='blue')\n",
        "\n",
        "plt.xlabel('epoch')\n",
        "plt.ylabel('Loss')\n",
        "plt.legend()\n",
        "plt.savefig(folder+'btt_qv_star_lr_1e5_test.png')\n",
        "plt.show()\n",
        "\n"
      ]
    },
    {
      "cell_type": "markdown",
      "metadata": {
        "id": "jDREDNOhPv0C"
      },
      "source": [
        "## Evaluation\n",
        "\n",
        "Let's evaluate the model on the test set. First, let's do a sanity check on the first example of the test set."
      ]
    },
    {
      "cell_type": "code",
      "execution_count": 20,
      "metadata": {
        "colab": {
          "base_uri": "https://localhost:8080/",
          "height": 67,
          "referenced_widgets": [
            "f1b91dd56d784c52a243fd260506a5d0",
            "febc1623c33148078fa2d4da6cca7269",
            "e137665ea841417888ed170bd67cfbfb",
            "85aeb8d578394a15bfc70f5debba0a33",
            "a806628d7d4c49d4b49dacf8e4351521",
            "af21625aeb994f0eb2d8d0abeb995be3",
            "7e6b289ccf5649a2a1811977957cb3c7",
            "6f291f108cf14fc99ef65dc48a243ec3",
            "b56fd253ecae48faa639e3d032ed5847",
            "43adc8c6b26a458cafef7dd806c315b3",
            "6fc162e1196146e99a1b466c27982f62"
          ]
        },
        "id": "-QGUtQuIacyF",
        "outputId": "a9e07e49-e3ac-4a37-f8bc-7b91271134ad"
      },
      "outputs": [
        {
          "name": "stdout",
          "output_type": "stream",
          "text": [
            "cuda:0\n"
          ]
        },
        {
          "data": {
            "application/vnd.jupyter.widget-view+json": {
              "model_id": "f1b91dd56d784c52a243fd260506a5d0",
              "version_major": 2,
              "version_minor": 0
            },
            "text/plain": [
              "Evaluating:   0%|          | 0/516 [00:00<?, ?it/s]"
            ]
          },
          "metadata": {},
          "output_type": "display_data"
        }
      ],
      "source": [
        "import warnings\n",
        "warnings.filterwarnings(\"ignore\")\n",
        "from seqeval.metrics import (\n",
        "    classification_report,\n",
        "    f1_score,\n",
        "    precision_score,\n",
        "    recall_score)\n",
        "import numpy as np\n",
        "\n",
        "from transformers import LayoutLMv2ForTokenClassification, AdamW\n",
        "import torch\n",
        "device = torch.device('cuda:0' if torch.cuda.is_available() else 'cpu')\n",
        "# device = 'cuda'\n",
        "print(device)\n",
        "from tqdm.notebook import tqdm\n",
        "from numpy import asarray\n",
        "from numpy import savetxt\n",
        "import numpy as np\n",
        "\n",
        "\n",
        "preds_val = None\n",
        "out_label_ids = None\n",
        "\n",
        "# put model in evaluation mode\n",
        "model.eval()\n",
        "batch_test_array = []\n",
        "for batch in tqdm(test_dataloader, desc=\"Evaluating\"):\n",
        "    with torch.no_grad():\n",
        "        input_ids = batch['input_ids'].to(device)\n",
        "        bbox = batch['bbox'].to(device)\n",
        "        image = batch['image'].to(device)\n",
        "        attention_mask = batch['attention_mask'].to(device)\n",
        "        token_type_ids = batch['token_type_ids'].to(device)\n",
        "        labels = batch['labels'].to(device)\n",
        "\n",
        "        # forward pass\n",
        "        outputs = model(input_ids=input_ids, bbox=bbox, image=image, attention_mask=attention_mask, \n",
        "                        token_type_ids=token_type_ids, labels=labels)\n",
        "      \n",
        "        \n",
        "        if preds_val is None:\n",
        "          preds_val = outputs.logits.detach().cpu().numpy()\n",
        "          out_label_ids = batch[\"labels\"].detach().cpu().numpy()\n",
        "        else:\n",
        "          preds_val = np.append(preds_val, outputs.logits.detach().cpu().numpy(), axis=0)\n",
        "          out_label_ids = np.append(\n",
        "              out_label_ids, batch[\"labels\"].detach().cpu().numpy(), axis=0\n",
        "          )\n",
        "        \n"
      ]
    },
    {
      "cell_type": "code",
      "execution_count": 21,
      "metadata": {
        "id": "zPW1CISc0DL9"
      },
      "outputs": [],
      "source": [
        "import warnings\n",
        "warnings.filterwarnings(\"ignore\")\n",
        "from seqeval.metrics import (\n",
        "    classification_report,\n",
        "    f1_score,\n",
        "    precision_score,\n",
        "    recall_score)\n",
        "\n",
        "def results_test(preds, out_label_ids, labels):\n",
        "  preds = np.argmax(preds, axis=2)\n",
        "\n",
        "  label_map = {i: label for i, label in enumerate(labels)}\n",
        "\n",
        "  out_label_list = [[] for _ in range(out_label_ids.shape[0])]\n",
        "  preds_list = [[] for _ in range(out_label_ids.shape[0])]\n",
        "\n",
        "  for i in range(out_label_ids.shape[0]):\n",
        "      for j in range(out_label_ids.shape[1]):\n",
        "          if out_label_ids[i, j] != -100:\n",
        "              out_label_list[i].append(label_map[out_label_ids[i][j]])\n",
        "              preds_list[i].append(label_map[preds[i][j]])\n",
        "\n",
        "  \n",
        "  results = {\n",
        "      \"precision\": precision_score(out_label_list, preds_list),\n",
        "      \"recall\": recall_score(out_label_list, preds_list),\n",
        "      \"f1\": f1_score(out_label_list, preds_list),\n",
        "  }\n",
        "  return results, classification_report(out_label_list, preds_list)"
      ]
    },
    {
      "cell_type": "code",
      "execution_count": 22,
      "metadata": {
        "colab": {
          "base_uri": "https://localhost:8080/"
        },
        "id": "dVuQ73870FMF",
        "outputId": "3deb42f0-f23c-4758-a3ad-a76f67300d09"
      },
      "outputs": [
        {
          "name": "stdout",
          "output_type": "stream",
          "text": [
            "Overall results: {'precision': 0.934593023255814, 'recall': 0.966652999863332, 'f1': 0.9503527040644945}\n",
            "              precision    recall  f1-score   support\n",
            "\n",
            "         ase       0.91      0.95      0.93       971\n",
            "        atNr       0.98      1.00      0.99      1423\n",
            "          ax       0.95      0.97      0.96       941\n",
            "         ban       0.98      1.00      0.99      1088\n",
            "          em       0.74      0.85      0.79       546\n",
            "       emPay       0.99      0.97      0.98       284\n",
            "    otAmount       0.92      0.95      0.93       918\n",
            "      ueDate       0.95      0.98      0.97      1146\n",
            "\n",
            "   micro avg       0.93      0.97      0.95      7317\n",
            "   macro avg       0.93      0.96      0.94      7317\n",
            "weighted avg       0.94      0.97      0.95      7317\n",
            "\n"
          ]
        }
      ],
      "source": [
        "labels = list(set(all_labels))\n",
        "val_result, class_report = results_test(preds_val, out_label_ids, labels)\n",
        "print(\"Overall results:\", val_result)\n",
        "print(class_report)"
      ]
    },
    {
      "cell_type": "code",
      "execution_count": 23,
      "metadata": {
        "colab": {
          "base_uri": "https://localhost:8080/",
          "height": 605
        },
        "id": "TKgw_ZqH0AHr",
        "outputId": "999fcfd4-b94a-4e19-846b-ac5369e7b7bb"
      },
      "outputs": [
        {
          "data": {
            "image/png": "[encoded data removed]",
            "text/plain": [
              "<Figure size 720x720 with 1 Axes>"
            ]
          },
          "metadata": {
            "needs_background": "light"
          },
          "output_type": "display_data"
        }
      ],
      "source": [
        "from matplotlib import figure\n",
        "from sklearn.metrics import ConfusionMatrixDisplay, confusion_matrix\n",
        "import json\n",
        "import itertools\n",
        "\n",
        "def plot_confusion_matrix(y_preds,y_true,labels):\n",
        "  cm = confusion_matrix(y_true,y_preds,normalize= \"true\")\n",
        "  fig, ax = plt.subplots(figsize=(10,10))\n",
        "  disp = ConfusionMatrixDisplay(confusion_matrix=cm, display_labels = labels)\n",
        "  disp.plot(cmap=\"Blues\",values_format=\".3f\",ax=ax,colorbar=False)\n",
        "  # plt.title(\"Normalized confusion matrix\")\n",
        "  plt.show()\n",
        "\n",
        "def results_cm(preds, out_label_ids, labels):\n",
        "  preds = np.argmax(preds, axis=2)\n",
        "\n",
        "  label_map = {i: label for i, label in enumerate(labels)}\n",
        "\n",
        "  out_label_list = [[] for _ in range(out_label_ids.shape[0])]\n",
        "  preds_list = [[] for _ in range(out_label_ids.shape[0])]\n",
        "\n",
        "  for i in range(out_label_ids.shape[0]):\n",
        "      for j in range(out_label_ids.shape[1]):\n",
        "          if out_label_ids[i, j] != -100:\n",
        "              out_label_list[i].append(label_map[out_label_ids[i][j]])\n",
        "              preds_list[i].append(label_map[preds[i][j]])\n",
        "\n",
        "\n",
        "  return out_label_list,preds_list\n",
        "def flatten(list_of_lists):\n",
        "    if len(list_of_lists) == 0:\n",
        "        return list_of_lists\n",
        "    if isinstance(list_of_lists[0], list):\n",
        "        return flatten(list_of_lists[0]) + flatten(list_of_lists[1:])\n",
        "    return list_of_lists[:1] + flatten(list_of_lists[1:])\n",
        "\n",
        "# plot_confusion_matrix(preds_val, out_label_ids, labels)\n",
        "# preds_val\n",
        "out_label_list,preds_list =results_cm(preds_val, out_label_ids, labels)\n",
        "\n",
        "out_label_list = list(itertools.chain(*out_label_list))\n",
        "preds_list = list(itertools.chain(*preds_list))\n",
        "\n",
        "data_conf = {'out_label_list':out_label_list,'preds_list':preds_list,'labels':labels}\n",
        "\n",
        "with open(folder+'data_conf.json', 'w', encoding='utf-8') as f:\n",
        "    json.dump(data_conf, f, ensure_ascii=False, indent=4)\n",
        "\n",
        "\n",
        "plot_confusion_matrix(preds_list,out_label_list, labels)"
      ]
    }
  ],
  "metadata": {
    "accelerator": "GPU",
    "colab": {
      "background_execution": "on",
      "collapsed_sections": [],
      "include_colab_link": true,
      "machine_shape": "hm",
      "name": "LMV2_LARGE_bbt_star.ipynb",
      "provenance": []
    },
    "kernelspec": {
      "display_name": "Python 3",
      "name": "python3"
    },
    "language_info": {
      "name": "python"
    },
    "widgets": {
      "application/vnd.jupyter.widget-state+json": {
        "09277cbe90494d59865212975bc5493c": {
          "model_module": "@jupyter-widgets/controls",
          "model_module_version": "1.5.0",
          "model_name": "HTMLModel",
          "state": {
            "_dom_classes": [],
            "_model_module": "@jupyter-widgets/controls",
            "_model_module_version": "1.5.0",
            "_model_name": "HTMLModel",
            "_view_count": null,
            "_view_module": "@jupyter-widgets/controls",
            "_view_module_version": "1.5.0",
            "_view_name": "HTMLView",
            "description": "",
            "description_tooltip": null,
            "layout": "IPY_MODEL_8bc2c5c4b28242dbb0db6ab4045696dc",
            "placeholder": "​",
            "style": "IPY_MODEL_41b955d433984675a4506a085a5883d8",
            "value": "100%"
          }
        },
        "3063d9daf67249ae8d8d013258f6bc1c": {
          "model_module": "@jupyter-widgets/controls",
          "model_module_version": "1.5.0",
          "model_name": "DescriptionStyleModel",
          "state": {
            "_model_module": "@jupyter-widgets/controls",
            "_model_module_version": "1.5.0",
            "_model_name": "DescriptionStyleModel",
            "_view_count": null,
            "_view_module": "@jupyter-widgets/base",
            "_view_module_version": "1.2.0",
            "_view_name": "StyleView",
            "description_width": ""
          }
        },
        "34d4de241d69473bb2d16bf46740ca0f": {
          "model_module": "@jupyter-widgets/controls",
          "model_module_version": "1.5.0",
          "model_name": "ProgressStyleModel",
          "state": {
            "_model_module": "@jupyter-widgets/controls",
            "_model_module_version": "1.5.0",
            "_model_name": "ProgressStyleModel",
            "_view_count": null,
            "_view_module": "@jupyter-widgets/base",
            "_view_module_version": "1.2.0",
            "_view_name": "StyleView",
            "bar_color": null,
            "description_width": ""
          }
        },
        "41b955d433984675a4506a085a5883d8": {
          "model_module": "@jupyter-widgets/controls",
          "model_module_version": "1.5.0",
          "model_name": "DescriptionStyleModel",
          "state": {
            "_model_module": "@jupyter-widgets/controls",
            "_model_module_version": "1.5.0",
            "_model_name": "DescriptionStyleModel",
            "_view_count": null,
            "_view_module": "@jupyter-widgets/base",
            "_view_module_version": "1.2.0",
            "_view_name": "StyleView",
            "description_width": ""
          }
        },
        "43adc8c6b26a458cafef7dd806c315b3": {
          "model_module": "@jupyter-widgets/base",
          "model_module_version": "1.2.0",
          "model_name": "LayoutModel",
          "state": {
            "_model_module": "@jupyter-widgets/base",
            "_model_module_version": "1.2.0",
            "_model_name": "LayoutModel",
            "_view_count": null,
            "_view_module": "@jupyter-widgets/base",
            "_view_module_version": "1.2.0",
            "_view_name": "LayoutView",
            "align_content": null,
            "align_items": null,
            "align_self": null,
            "border": null,
            "bottom": null,
            "display": null,
            "flex": null,
            "flex_flow": null,
            "grid_area": null,
            "grid_auto_columns": null,
            "grid_auto_flow": null,
            "grid_auto_rows": null,
            "grid_column": null,
            "grid_gap": null,
            "grid_row": null,
            "grid_template_areas": null,
            "grid_template_columns": null,
            "grid_template_rows": null,
            "height": null,
            "justify_content": null,
            "justify_items": null,
            "left": null,
            "margin": null,
            "max_height": null,
            "max_width": null,
            "min_height": null,
            "min_width": null,
            "object_fit": null,
            "object_position": null,
            "order": null,
            "overflow": null,
            "overflow_x": null,
            "overflow_y": null,
            "padding": null,
            "right": null,
            "top": null,
            "visibility": null,
            "width": null
          }
        },
        "54bf344b579c4d94ab20345438f9121e": {
          "model_module": "@jupyter-widgets/controls",
          "model_module_version": "1.5.0",
          "model_name": "HBoxModel",
          "state": {
            "_dom_classes": [],
            "_model_module": "@jupyter-widgets/controls",
            "_model_module_version": "1.5.0",
            "_model_name": "HBoxModel",
            "_view_count": null,
            "_view_module": "@jupyter-widgets/controls",
            "_view_module_version": "1.5.0",
            "_view_name": "HBoxView",
            "box_style": "",
            "children": [
              "IPY_MODEL_9d8e56f6be5246b8a31e209a49ff042a",
              "IPY_MODEL_cb723c49f4c243ceb46bbe1e242cd267",
              "IPY_MODEL_be97f777429140df90287ea9d1e1555c"
            ],
            "layout": "IPY_MODEL_b11c8319aa3e4447a3e2ba721d3b5c89"
          }
        },
        "628d4d2ee92f4fe49f1a26f33adffdb4": {
          "model_module": "@jupyter-widgets/controls",
          "model_module_version": "1.5.0",
          "model_name": "DescriptionStyleModel",
          "state": {
            "_model_module": "@jupyter-widgets/controls",
            "_model_module_version": "1.5.0",
            "_model_name": "DescriptionStyleModel",
            "_view_count": null,
            "_view_module": "@jupyter-widgets/base",
            "_view_module_version": "1.2.0",
            "_view_name": "StyleView",
            "description_width": ""
          }
        },
        "6f291f108cf14fc99ef65dc48a243ec3": {
          "model_module": "@jupyter-widgets/base",
          "model_module_version": "1.2.0",
          "model_name": "LayoutModel",
          "state": {
            "_model_module": "@jupyter-widgets/base",
            "_model_module_version": "1.2.0",
            "_model_name": "LayoutModel",
            "_view_count": null,
            "_view_module": "@jupyter-widgets/base",
            "_view_module_version": "1.2.0",
            "_view_name": "LayoutView",
            "align_content": null,
            "align_items": null,
            "align_self": null,
            "border": null,
            "bottom": null,
            "display": null,
            "flex": null,
            "flex_flow": null,
            "grid_area": null,
            "grid_auto_columns": null,
            "grid_auto_flow": null,
            "grid_auto_rows": null,
            "grid_column": null,
            "grid_gap": null,
            "grid_row": null,
            "grid_template_areas": null,
            "grid_template_columns": null,
            "grid_template_rows": null,
            "height": null,
            "justify_content": null,
            "justify_items": null,
            "left": null,
            "margin": null,
            "max_height": null,
            "max_width": null,
            "min_height": null,
            "min_width": null,
            "object_fit": null,
            "object_position": null,
            "order": null,
            "overflow": null,
            "overflow_x": null,
            "overflow_y": null,
            "padding": null,
            "right": null,
            "top": null,
            "visibility": null,
            "width": null
          }
        },
        "6fc162e1196146e99a1b466c27982f62": {
          "model_module": "@jupyter-widgets/controls",
          "model_module_version": "1.5.0",
          "model_name": "DescriptionStyleModel",
          "state": {
            "_model_module": "@jupyter-widgets/controls",
            "_model_module_version": "1.5.0",
            "_model_name": "DescriptionStyleModel",
            "_view_count": null,
            "_view_module": "@jupyter-widgets/base",
            "_view_module_version": "1.2.0",
            "_view_name": "StyleView",
            "description_width": ""
          }
        },
        "76d4fd4d546742cc96607ce761c592ab": {
          "model_module": "@jupyter-widgets/controls",
          "model_module_version": "1.5.0",
          "model_name": "HTMLModel",
          "state": {
            "_dom_classes": [],
            "_model_module": "@jupyter-widgets/controls",
            "_model_module_version": "1.5.0",
            "_model_name": "HTMLModel",
            "_view_count": null,
            "_view_module": "@jupyter-widgets/controls",
            "_view_module_version": "1.5.0",
            "_view_name": "HTMLView",
            "description": "",
            "description_tooltip": null,
            "layout": "IPY_MODEL_c3b8b472391342e691f6cb627ba7f906",
            "placeholder": "​",
            "style": "IPY_MODEL_3063d9daf67249ae8d8d013258f6bc1c",
            "value": " 4126/4126 [3:20:07&lt;00:00,  2.86s/it]"
          }
        },
        "7e6b289ccf5649a2a1811977957cb3c7": {
          "model_module": "@jupyter-widgets/controls",
          "model_module_version": "1.5.0",
          "model_name": "DescriptionStyleModel",
          "state": {
            "_model_module": "@jupyter-widgets/controls",
            "_model_module_version": "1.5.0",
            "_model_name": "DescriptionStyleModel",
            "_view_count": null,
            "_view_module": "@jupyter-widgets/base",
            "_view_module_version": "1.2.0",
            "_view_name": "StyleView",
            "description_width": ""
          }
        },
        "85555b148b4a4ed4a9b04833ca7fac70": {
          "model_module": "@jupyter-widgets/controls",
          "model_module_version": "1.5.0",
          "model_name": "DescriptionStyleModel",
          "state": {
            "_model_module": "@jupyter-widgets/controls",
            "_model_module_version": "1.5.0",
            "_model_name": "DescriptionStyleModel",
            "_view_count": null,
            "_view_module": "@jupyter-widgets/base",
            "_view_module_version": "1.2.0",
            "_view_name": "StyleView",
            "description_width": ""
          }
        },
        "85aeb8d578394a15bfc70f5debba0a33": {
          "model_module": "@jupyter-widgets/controls",
          "model_module_version": "1.5.0",
          "model_name": "HTMLModel",
          "state": {
            "_dom_classes": [],
            "_model_module": "@jupyter-widgets/controls",
            "_model_module_version": "1.5.0",
            "_model_name": "HTMLModel",
            "_view_count": null,
            "_view_module": "@jupyter-widgets/controls",
            "_view_module_version": "1.5.0",
            "_view_name": "HTMLView",
            "description": "",
            "description_tooltip": null,
            "layout": "IPY_MODEL_43adc8c6b26a458cafef7dd806c315b3",
            "placeholder": "​",
            "style": "IPY_MODEL_6fc162e1196146e99a1b466c27982f62",
            "value": " 516/516 [12:55&lt;00:00,  1.28s/it]"
          }
        },
        "8bc2c5c4b28242dbb0db6ab4045696dc": {
          "model_module": "@jupyter-widgets/base",
          "model_module_version": "1.2.0",
          "model_name": "LayoutModel",
          "state": {
            "_model_module": "@jupyter-widgets/base",
            "_model_module_version": "1.2.0",
            "_model_name": "LayoutModel",
            "_view_count": null,
            "_view_module": "@jupyter-widgets/base",
            "_view_module_version": "1.2.0",
            "_view_name": "LayoutView",
            "align_content": null,
            "align_items": null,
            "align_self": null,
            "border": null,
            "bottom": null,
            "display": null,
            "flex": null,
            "flex_flow": null,
            "grid_area": null,
            "grid_auto_columns": null,
            "grid_auto_flow": null,
            "grid_auto_rows": null,
            "grid_column": null,
            "grid_gap": null,
            "grid_row": null,
            "grid_template_areas": null,
            "grid_template_columns": null,
            "grid_template_rows": null,
            "height": null,
            "justify_content": null,
            "justify_items": null,
            "left": null,
            "margin": null,
            "max_height": null,
            "max_width": null,
            "min_height": null,
            "min_width": null,
            "object_fit": null,
            "object_position": null,
            "order": null,
            "overflow": null,
            "overflow_x": null,
            "overflow_y": null,
            "padding": null,
            "right": null,
            "top": null,
            "visibility": null,
            "width": null
          }
        },
        "97d029a25f2d40c7baac04c4a88baffd": {
          "model_module": "@jupyter-widgets/base",
          "model_module_version": "1.2.0",
          "model_name": "LayoutModel",
          "state": {
            "_model_module": "@jupyter-widgets/base",
            "_model_module_version": "1.2.0",
            "_model_name": "LayoutModel",
            "_view_count": null,
            "_view_module": "@jupyter-widgets/base",
            "_view_module_version": "1.2.0",
            "_view_name": "LayoutView",
            "align_content": null,
            "align_items": null,
            "align_self": null,
            "border": null,
            "bottom": null,
            "display": null,
            "flex": null,
            "flex_flow": null,
            "grid_area": null,
            "grid_auto_columns": null,
            "grid_auto_flow": null,
            "grid_auto_rows": null,
            "grid_column": null,
            "grid_gap": null,
            "grid_row": null,
            "grid_template_areas": null,
            "grid_template_columns": null,
            "grid_template_rows": null,
            "height": null,
            "justify_content": null,
            "justify_items": null,
            "left": null,
            "margin": null,
            "max_height": null,
            "max_width": null,
            "min_height": null,
            "min_width": null,
            "object_fit": null,
            "object_position": null,
            "order": null,
            "overflow": null,
            "overflow_x": null,
            "overflow_y": null,
            "padding": null,
            "right": null,
            "top": null,
            "visibility": null,
            "width": null
          }
        },
        "9d8e56f6be5246b8a31e209a49ff042a": {
          "model_module": "@jupyter-widgets/controls",
          "model_module_version": "1.5.0",
          "model_name": "HTMLModel",
          "state": {
            "_dom_classes": [],
            "_model_module": "@jupyter-widgets/controls",
            "_model_module_version": "1.5.0",
            "_model_name": "HTMLModel",
            "_view_count": null,
            "_view_module": "@jupyter-widgets/controls",
            "_view_module_version": "1.5.0",
            "_view_name": "HTMLView",
            "description": "",
            "description_tooltip": null,
            "layout": "IPY_MODEL_c32528e6b873470c9fb1be71972686e9",
            "placeholder": "​",
            "style": "IPY_MODEL_628d4d2ee92f4fe49f1a26f33adffdb4",
            "value": "100%"
          }
        },
        "a806628d7d4c49d4b49dacf8e4351521": {
          "model_module": "@jupyter-widgets/base",
          "model_module_version": "1.2.0",
          "model_name": "LayoutModel",
          "state": {
            "_model_module": "@jupyter-widgets/base",
            "_model_module_version": "1.2.0",
            "_model_name": "LayoutModel",
            "_view_count": null,
            "_view_module": "@jupyter-widgets/base",
            "_view_module_version": "1.2.0",
            "_view_name": "LayoutView",
            "align_content": null,
            "align_items": null,
            "align_self": null,
            "border": null,
            "bottom": null,
            "display": null,
            "flex": null,
            "flex_flow": null,
            "grid_area": null,
            "grid_auto_columns": null,
            "grid_auto_flow": null,
            "grid_auto_rows": null,
            "grid_column": null,
            "grid_gap": null,
            "grid_row": null,
            "grid_template_areas": null,
            "grid_template_columns": null,
            "grid_template_rows": null,
            "height": null,
            "justify_content": null,
            "justify_items": null,
            "left": null,
            "margin": null,
            "max_height": null,
            "max_width": null,
            "min_height": null,
            "min_width": null,
            "object_fit": null,
            "object_position": null,
            "order": null,
            "overflow": null,
            "overflow_x": null,
            "overflow_y": null,
            "padding": null,
            "right": null,
            "top": null,
            "visibility": null,
            "width": null
          }
        },
        "af21625aeb994f0eb2d8d0abeb995be3": {
          "model_module": "@jupyter-widgets/base",
          "model_module_version": "1.2.0",
          "model_name": "LayoutModel",
          "state": {
            "_model_module": "@jupyter-widgets/base",
            "_model_module_version": "1.2.0",
            "_model_name": "LayoutModel",
            "_view_count": null,
            "_view_module": "@jupyter-widgets/base",
            "_view_module_version": "1.2.0",
            "_view_name": "LayoutView",
            "align_content": null,
            "align_items": null,
            "align_self": null,
            "border": null,
            "bottom": null,
            "display": null,
            "flex": null,
            "flex_flow": null,
            "grid_area": null,
            "grid_auto_columns": null,
            "grid_auto_flow": null,
            "grid_auto_rows": null,
            "grid_column": null,
            "grid_gap": null,
            "grid_row": null,
            "grid_template_areas": null,
            "grid_template_columns": null,
            "grid_template_rows": null,
            "height": null,
            "justify_content": null,
            "justify_items": null,
            "left": null,
            "margin": null,
            "max_height": null,
            "max_width": null,
            "min_height": null,
            "min_width": null,
            "object_fit": null,
            "object_position": null,
            "order": null,
            "overflow": null,
            "overflow_x": null,
            "overflow_y": null,
            "padding": null,
            "right": null,
            "top": null,
            "visibility": null,
            "width": null
          }
        },
        "b11c8319aa3e4447a3e2ba721d3b5c89": {
          "model_module": "@jupyter-widgets/base",
          "model_module_version": "1.2.0",
          "model_name": "LayoutModel",
          "state": {
            "_model_module": "@jupyter-widgets/base",
            "_model_module_version": "1.2.0",
            "_model_name": "LayoutModel",
            "_view_count": null,
            "_view_module": "@jupyter-widgets/base",
            "_view_module_version": "1.2.0",
            "_view_name": "LayoutView",
            "align_content": null,
            "align_items": null,
            "align_self": null,
            "border": null,
            "bottom": null,
            "display": null,
            "flex": null,
            "flex_flow": null,
            "grid_area": null,
            "grid_auto_columns": null,
            "grid_auto_flow": null,
            "grid_auto_rows": null,
            "grid_column": null,
            "grid_gap": null,
            "grid_row": null,
            "grid_template_areas": null,
            "grid_template_columns": null,
            "grid_template_rows": null,
            "height": null,
            "justify_content": null,
            "justify_items": null,
            "left": null,
            "margin": null,
            "max_height": null,
            "max_width": null,
            "min_height": null,
            "min_width": null,
            "object_fit": null,
            "object_position": null,
            "order": null,
            "overflow": null,
            "overflow_x": null,
            "overflow_y": null,
            "padding": null,
            "right": null,
            "top": null,
            "visibility": null,
            "width": null
          }
        },
        "b56fd253ecae48faa639e3d032ed5847": {
          "model_module": "@jupyter-widgets/controls",
          "model_module_version": "1.5.0",
          "model_name": "ProgressStyleModel",
          "state": {
            "_model_module": "@jupyter-widgets/controls",
            "_model_module_version": "1.5.0",
            "_model_name": "ProgressStyleModel",
            "_view_count": null,
            "_view_module": "@jupyter-widgets/base",
            "_view_module_version": "1.2.0",
            "_view_name": "StyleView",
            "bar_color": null,
            "description_width": ""
          }
        },
        "bae605581d8c47fdba67c69864c643af": {
          "model_module": "@jupyter-widgets/base",
          "model_module_version": "1.2.0",
          "model_name": "LayoutModel",
          "state": {
            "_model_module": "@jupyter-widgets/base",
            "_model_module_version": "1.2.0",
            "_model_name": "LayoutModel",
            "_view_count": null,
            "_view_module": "@jupyter-widgets/base",
            "_view_module_version": "1.2.0",
            "_view_name": "LayoutView",
            "align_content": null,
            "align_items": null,
            "align_self": null,
            "border": null,
            "bottom": null,
            "display": null,
            "flex": null,
            "flex_flow": null,
            "grid_area": null,
            "grid_auto_columns": null,
            "grid_auto_flow": null,
            "grid_auto_rows": null,
            "grid_column": null,
            "grid_gap": null,
            "grid_row": null,
            "grid_template_areas": null,
            "grid_template_columns": null,
            "grid_template_rows": null,
            "height": null,
            "justify_content": null,
            "justify_items": null,
            "left": null,
            "margin": null,
            "max_height": null,
            "max_width": null,
            "min_height": null,
            "min_width": null,
            "object_fit": null,
            "object_position": null,
            "order": null,
            "overflow": null,
            "overflow_x": null,
            "overflow_y": null,
            "padding": null,
            "right": null,
            "top": null,
            "visibility": null,
            "width": null
          }
        },
        "be97f777429140df90287ea9d1e1555c": {
          "model_module": "@jupyter-widgets/controls",
          "model_module_version": "1.5.0",
          "model_name": "HTMLModel",
          "state": {
            "_dom_classes": [],
            "_model_module": "@jupyter-widgets/controls",
            "_model_module_version": "1.5.0",
            "_model_name": "HTMLModel",
            "_view_count": null,
            "_view_module": "@jupyter-widgets/controls",
            "_view_module_version": "1.5.0",
            "_view_name": "HTMLView",
            "description": "",
            "description_tooltip": null,
            "layout": "IPY_MODEL_fa63cf1da2e942e388dc03928ad93423",
            "placeholder": "​",
            "style": "IPY_MODEL_85555b148b4a4ed4a9b04833ca7fac70",
            "value": " 4126/4126 [2:47:13&lt;00:00,  2.30s/it]"
          }
        },
        "c32528e6b873470c9fb1be71972686e9": {
          "model_module": "@jupyter-widgets/base",
          "model_module_version": "1.2.0",
          "model_name": "LayoutModel",
          "state": {
            "_model_module": "@jupyter-widgets/base",
            "_model_module_version": "1.2.0",
            "_model_name": "LayoutModel",
            "_view_count": null,
            "_view_module": "@jupyter-widgets/base",
            "_view_module_version": "1.2.0",
            "_view_name": "LayoutView",
            "align_content": null,
            "align_items": null,
            "align_self": null,
            "border": null,
            "bottom": null,
            "display": null,
            "flex": null,
            "flex_flow": null,
            "grid_area": null,
            "grid_auto_columns": null,
            "grid_auto_flow": null,
            "grid_auto_rows": null,
            "grid_column": null,
            "grid_gap": null,
            "grid_row": null,
            "grid_template_areas": null,
            "grid_template_columns": null,
            "grid_template_rows": null,
            "height": null,
            "justify_content": null,
            "justify_items": null,
            "left": null,
            "margin": null,
            "max_height": null,
            "max_width": null,
            "min_height": null,
            "min_width": null,
            "object_fit": null,
            "object_position": null,
            "order": null,
            "overflow": null,
            "overflow_x": null,
            "overflow_y": null,
            "padding": null,
            "right": null,
            "top": null,
            "visibility": null,
            "width": null
          }
        },
        "c3b8b472391342e691f6cb627ba7f906": {
          "model_module": "@jupyter-widgets/base",
          "model_module_version": "1.2.0",
          "model_name": "LayoutModel",
          "state": {
            "_model_module": "@jupyter-widgets/base",
            "_model_module_version": "1.2.0",
            "_model_name": "LayoutModel",
            "_view_count": null,
            "_view_module": "@jupyter-widgets/base",
            "_view_module_version": "1.2.0",
            "_view_name": "LayoutView",
            "align_content": null,
            "align_items": null,
            "align_self": null,
            "border": null,
            "bottom": null,
            "display": null,
            "flex": null,
            "flex_flow": null,
            "grid_area": null,
            "grid_auto_columns": null,
            "grid_auto_flow": null,
            "grid_auto_rows": null,
            "grid_column": null,
            "grid_gap": null,
            "grid_row": null,
            "grid_template_areas": null,
            "grid_template_columns": null,
            "grid_template_rows": null,
            "height": null,
            "justify_content": null,
            "justify_items": null,
            "left": null,
            "margin": null,
            "max_height": null,
            "max_width": null,
            "min_height": null,
            "min_width": null,
            "object_fit": null,
            "object_position": null,
            "order": null,
            "overflow": null,
            "overflow_x": null,
            "overflow_y": null,
            "padding": null,
            "right": null,
            "top": null,
            "visibility": null,
            "width": null
          }
        },
        "c4a25f5e17cb40018d62479ea646e817": {
          "model_module": "@jupyter-widgets/base",
          "model_module_version": "1.2.0",
          "model_name": "LayoutModel",
          "state": {
            "_model_module": "@jupyter-widgets/base",
            "_model_module_version": "1.2.0",
            "_model_name": "LayoutModel",
            "_view_count": null,
            "_view_module": "@jupyter-widgets/base",
            "_view_module_version": "1.2.0",
            "_view_name": "LayoutView",
            "align_content": null,
            "align_items": null,
            "align_self": null,
            "border": null,
            "bottom": null,
            "display": null,
            "flex": null,
            "flex_flow": null,
            "grid_area": null,
            "grid_auto_columns": null,
            "grid_auto_flow": null,
            "grid_auto_rows": null,
            "grid_column": null,
            "grid_gap": null,
            "grid_row": null,
            "grid_template_areas": null,
            "grid_template_columns": null,
            "grid_template_rows": null,
            "height": null,
            "justify_content": null,
            "justify_items": null,
            "left": null,
            "margin": null,
            "max_height": null,
            "max_width": null,
            "min_height": null,
            "min_width": null,
            "object_fit": null,
            "object_position": null,
            "order": null,
            "overflow": null,
            "overflow_x": null,
            "overflow_y": null,
            "padding": null,
            "right": null,
            "top": null,
            "visibility": null,
            "width": null
          }
        },
        "cb723c49f4c243ceb46bbe1e242cd267": {
          "model_module": "@jupyter-widgets/controls",
          "model_module_version": "1.5.0",
          "model_name": "FloatProgressModel",
          "state": {
            "_dom_classes": [],
            "_model_module": "@jupyter-widgets/controls",
            "_model_module_version": "1.5.0",
            "_model_name": "FloatProgressModel",
            "_view_count": null,
            "_view_module": "@jupyter-widgets/controls",
            "_view_module_version": "1.5.0",
            "_view_name": "ProgressView",
            "bar_style": "success",
            "description": "",
            "description_tooltip": null,
            "layout": "IPY_MODEL_bae605581d8c47fdba67c69864c643af",
            "max": 4126,
            "min": 0,
            "orientation": "horizontal",
            "style": "IPY_MODEL_fa0b6518c5854174af6bfc63153fe98f",
            "value": 4126
          }
        },
        "e137665ea841417888ed170bd67cfbfb": {
          "model_module": "@jupyter-widgets/controls",
          "model_module_version": "1.5.0",
          "model_name": "FloatProgressModel",
          "state": {
            "_dom_classes": [],
            "_model_module": "@jupyter-widgets/controls",
            "_model_module_version": "1.5.0",
            "_model_name": "FloatProgressModel",
            "_view_count": null,
            "_view_module": "@jupyter-widgets/controls",
            "_view_module_version": "1.5.0",
            "_view_name": "ProgressView",
            "bar_style": "success",
            "description": "",
            "description_tooltip": null,
            "layout": "IPY_MODEL_6f291f108cf14fc99ef65dc48a243ec3",
            "max": 516,
            "min": 0,
            "orientation": "horizontal",
            "style": "IPY_MODEL_b56fd253ecae48faa639e3d032ed5847",
            "value": 516
          }
        },
        "f1b91dd56d784c52a243fd260506a5d0": {
          "model_module": "@jupyter-widgets/controls",
          "model_module_version": "1.5.0",
          "model_name": "HBoxModel",
          "state": {
            "_dom_classes": [],
            "_model_module": "@jupyter-widgets/controls",
            "_model_module_version": "1.5.0",
            "_model_name": "HBoxModel",
            "_view_count": null,
            "_view_module": "@jupyter-widgets/controls",
            "_view_module_version": "1.5.0",
            "_view_name": "HBoxView",
            "box_style": "",
            "children": [
              "IPY_MODEL_febc1623c33148078fa2d4da6cca7269",
              "IPY_MODEL_e137665ea841417888ed170bd67cfbfb",
              "IPY_MODEL_85aeb8d578394a15bfc70f5debba0a33"
            ],
            "layout": "IPY_MODEL_a806628d7d4c49d4b49dacf8e4351521"
          }
        },
        "f8977fd8e4404c028122366c59b57856": {
          "model_module": "@jupyter-widgets/controls",
          "model_module_version": "1.5.0",
          "model_name": "FloatProgressModel",
          "state": {
            "_dom_classes": [],
            "_model_module": "@jupyter-widgets/controls",
            "_model_module_version": "1.5.0",
            "_model_name": "FloatProgressModel",
            "_view_count": null,
            "_view_module": "@jupyter-widgets/controls",
            "_view_module_version": "1.5.0",
            "_view_name": "ProgressView",
            "bar_style": "success",
            "description": "",
            "description_tooltip": null,
            "layout": "IPY_MODEL_c4a25f5e17cb40018d62479ea646e817",
            "max": 4126,
            "min": 0,
            "orientation": "horizontal",
            "style": "IPY_MODEL_34d4de241d69473bb2d16bf46740ca0f",
            "value": 4126
          }
        },
        "fa0b6518c5854174af6bfc63153fe98f": {
          "model_module": "@jupyter-widgets/controls",
          "model_module_version": "1.5.0",
          "model_name": "ProgressStyleModel",
          "state": {
            "_model_module": "@jupyter-widgets/controls",
            "_model_module_version": "1.5.0",
            "_model_name": "ProgressStyleModel",
            "_view_count": null,
            "_view_module": "@jupyter-widgets/base",
            "_view_module_version": "1.2.0",
            "_view_name": "StyleView",
            "bar_color": null,
            "description_width": ""
          }
        },
        "fa63cf1da2e942e388dc03928ad93423": {
          "model_module": "@jupyter-widgets/base",
          "model_module_version": "1.2.0",
          "model_name": "LayoutModel",
          "state": {
            "_model_module": "@jupyter-widgets/base",
            "_model_module_version": "1.2.0",
            "_model_name": "LayoutModel",
            "_view_count": null,
            "_view_module": "@jupyter-widgets/base",
            "_view_module_version": "1.2.0",
            "_view_name": "LayoutView",
            "align_content": null,
            "align_items": null,
            "align_self": null,
            "border": null,
            "bottom": null,
            "display": null,
            "flex": null,
            "flex_flow": null,
            "grid_area": null,
            "grid_auto_columns": null,
            "grid_auto_flow": null,
            "grid_auto_rows": null,
            "grid_column": null,
            "grid_gap": null,
            "grid_row": null,
            "grid_template_areas": null,
            "grid_template_columns": null,
            "grid_template_rows": null,
            "height": null,
            "justify_content": null,
            "justify_items": null,
            "left": null,
            "margin": null,
            "max_height": null,
            "max_width": null,
            "min_height": null,
            "min_width": null,
            "object_fit": null,
            "object_position": null,
            "order": null,
            "overflow": null,
            "overflow_x": null,
            "overflow_y": null,
            "padding": null,
            "right": null,
            "top": null,
            "visibility": null,
            "width": null
          }
        },
        "fc5b526699d1497db5d2c81ef0634f17": {
          "model_module": "@jupyter-widgets/controls",
          "model_module_version": "1.5.0",
          "model_name": "HBoxModel",
          "state": {
            "_dom_classes": [],
            "_model_module": "@jupyter-widgets/controls",
            "_model_module_version": "1.5.0",
            "_model_name": "HBoxModel",
            "_view_count": null,
            "_view_module": "@jupyter-widgets/controls",
            "_view_module_version": "1.5.0",
            "_view_name": "HBoxView",
            "box_style": "",
            "children": [
              "IPY_MODEL_09277cbe90494d59865212975bc5493c",
              "IPY_MODEL_f8977fd8e4404c028122366c59b57856",
              "IPY_MODEL_76d4fd4d546742cc96607ce761c592ab"
            ],
            "layout": "IPY_MODEL_97d029a25f2d40c7baac04c4a88baffd"
          }
        },
        "febc1623c33148078fa2d4da6cca7269": {
          "model_module": "@jupyter-widgets/controls",
          "model_module_version": "1.5.0",
          "model_name": "HTMLModel",
          "state": {
            "_dom_classes": [],
            "_model_module": "@jupyter-widgets/controls",
            "_model_module_version": "1.5.0",
            "_model_name": "HTMLModel",
            "_view_count": null,
            "_view_module": "@jupyter-widgets/controls",
            "_view_module_version": "1.5.0",
            "_view_name": "HTMLView",
            "description": "",
            "description_tooltip": null,
            "layout": "IPY_MODEL_af21625aeb994f0eb2d8d0abeb995be3",
            "placeholder": "​",
            "style": "IPY_MODEL_7e6b289ccf5649a2a1811977957cb3c7",
            "value": "Evaluating: 100%"
          }
        }
      }
    }
  },
  "nbformat": 4,
  "nbformat_minor": 0
}
