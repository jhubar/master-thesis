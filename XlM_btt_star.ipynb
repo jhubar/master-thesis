{
  "cells": [
    {
      "cell_type": "markdown",
      "metadata": {
        "colab_type": "text",
        "id": "view-in-github"
      },
      "source": [
        "<a href=\"https://colab.research.google.com/github/jhubar/master-thesis/blob/main/XlM_btt_star.ipynb\" target=\"_parent\"><img src=\"https://colab.research.google.com/assets/colab-badge.svg\" alt=\"Open In Colab\"/></a>"
      ]
    },
    {
      "cell_type": "markdown",
      "metadata": {
        "id": "Z7E3hFdIQBYu"
      },
      "source": [
        "\n",
        "## Install dependencies"
      ]
    },
    {
      "cell_type": "code",
      "execution_count": 1,
      "metadata": {
        "colab": {
          "base_uri": "https://localhost:8080/"
        },
        "id": "vL18fbJlmXn8",
        "outputId": "e278050e-3893-4ce9-970b-7e8c72661654"
      },
      "outputs": [
        {
          "name": "stdout",
          "output_type": "stream",
          "text": [
            "Cloning into 'transformers'...\n",
            "remote: Enumerating objects: 109923, done.\u001b[K\n",
            "remote: Counting objects: 100% (17/17), done.\u001b[K\n",
            "remote: Compressing objects: 100% (16/16), done.\u001b[K\n",
            "remote: Total 109923 (delta 0), reused 5 (delta 0), pack-reused 109906\u001b[K\n",
            "Receiving objects: 100% (109923/109923), 97.27 MiB | 23.16 MiB/s, done.\n",
            "Resolving deltas: 100% (80171/80171), done.\n",
            "/bin/bash: line 0: cd: tranformers: No such file or directory\n",
            "\u001b[33m  DEPRECATION: A future pip version will change local packages to be built in-place without first copying to a temporary directory. We recommend you use --use-feature=in-tree-build to test your packages with this new behavior before it becomes the default.\n",
            "   pip 21.3 will remove support for this functionality. You can find discussion regarding this at https://github.com/pypa/pip/issues/7555.\u001b[0m\n",
            "  Installing build dependencies ... \u001b[?25l\u001b[?25hdone\n",
            "  Getting requirements to build wheel ... \u001b[?25l\u001b[?25hdone\n",
            "    Preparing wheel metadata ... \u001b[?25l\u001b[?25hdone\n",
            "  Building wheel for transformers (PEP 517) ... \u001b[?25l\u001b[?25hdone\n"
          ]
        }
      ],
      "source": [
        "!rm -r transformers\n",
        "!git clone https://github.com/huggingface/transformers.git\n",
        "!cd tranformers\n",
        "!pip install -q ./transformers "
      ]
    },
    {
      "cell_type": "code",
      "execution_count": 2,
      "metadata": {
        "id": "5X6FRLUGOES9"
      },
      "outputs": [],
      "source": [
        "!pip install -q datasets seqeval"
      ]
    },
    {
      "cell_type": "code",
      "execution_count": 3,
      "metadata": {
        "colab": {
          "base_uri": "https://localhost:8080/"
        },
        "id": "iTY7cOwuNg3d",
        "outputId": "f68f4b68-8e3e-4f36-ff61-a58bee74a994"
      },
      "outputs": [
        {
          "name": "stdout",
          "output_type": "stream",
          "text": [
            "Requirement already satisfied: pyyaml==5.1 in /usr/local/lib/python3.7/dist-packages (5.1)\n",
            "Looking in links: https://download.pytorch.org/whl/torch_stable.html\n",
            "Requirement already satisfied: torch==1.8.0+cu101 in /usr/local/lib/python3.7/dist-packages (1.8.0+cu101)\n",
            "Requirement already satisfied: torchvision==0.9.0+cu101 in /usr/local/lib/python3.7/dist-packages (0.9.0+cu101)\n",
            "Requirement already satisfied: numpy in /usr/local/lib/python3.7/dist-packages (from torch==1.8.0+cu101) (1.21.6)\n",
            "Requirement already satisfied: typing-extensions in /usr/local/lib/python3.7/dist-packages (from torch==1.8.0+cu101) (4.1.1)\n",
            "Requirement already satisfied: pillow>=4.1.1 in /usr/local/lib/python3.7/dist-packages (from torchvision==0.9.0+cu101) (7.1.2)\n"
          ]
        }
      ],
      "source": [
        "!pip install pyyaml==5.1\n",
        "# workaround: install old version of pytorch since detectron2 hasn't released packages for pytorch 1.9 (issue: https://github.com/facebookresearch/detectron2/issues/3158)\n",
        "!pip install torch==1.8.0+cu101 torchvision==0.9.0+cu101 -f https://download.pytorch.org/whl/torch_stable.html\n",
        "\n",
        "# install detectron2 that matches pytorch 1.8\n",
        "# See https://detectron2.readthedocs.io/tutorials/install.html for instructions\n",
        "!pip install -q detectron2 -f https://dl.fbaipublicfiles.com/detectron2/wheels/cu101/torch1.8/index.html\n",
        "# exit(0)  # After installation, you need to \"restart runtime\" in Colab. This line can also restart runtime"
      ]
    },
    {
      "cell_type": "code",
      "execution_count": 4,
      "metadata": {
        "colab": {
          "base_uri": "https://localhost:8080/"
        },
        "id": "DHZkW3Ss7C6p",
        "outputId": "d6ca1e08-ed7c-4b2d-bc2f-bb25662889d7"
      },
      "outputs": [
        {
          "name": "stdout",
          "output_type": "stream",
          "text": [
            "Requirement already satisfied: sentencepiece in /usr/local/lib/python3.7/dist-packages (0.1.96)\n"
          ]
        }
      ],
      "source": [
        "!pip install sentencepiece"
      ]
    },
    {
      "cell_type": "code",
      "execution_count": 5,
      "metadata": {
        "colab": {
          "base_uri": "https://localhost:8080/"
        },
        "id": "UbKp24nGOJqA",
        "outputId": "5544705a-44eb-422b-b662-c5610ddd0f7c"
      },
      "outputs": [
        {
          "name": "stdout",
          "output_type": "stream",
          "text": [
            "Drive already mounted at /content/drive; to attempt to forcibly remount, call drive.mount(\"/content/drive\", force_remount=True).\n"
          ]
        }
      ],
      "source": [
        "import pandas as pd\n",
        "from google.colab import drive\n",
        "drive.mount('/content/drive')\n"
      ]
    },
    {
      "cell_type": "code",
      "execution_count": 6,
      "metadata": {
        "id": "ipGwX-Co9b7c"
      },
      "outputs": [],
      "source": [
        "path_btt_large_qv = '/content/drive/MyDrive/LayoutLMv2/final/btt_large_star'\n",
        "path_folder = '/content/drive/MyDrive/LayoutLMv2/final/xlm/Base/bbtStar/'"
      ]
    },
    {
      "cell_type": "code",
      "execution_count": 7,
      "metadata": {
        "id": "znnyG9l4OL7j"
      },
      "outputs": [],
      "source": [
        "\n",
        "train = pd.read_pickle(path_btt_large_qv+'/pickel/train.pkl')\n",
        "\n",
        "val = pd.read_pickle(path_btt_large_qv+'/pickel/dev.pkl')\n",
        "test = pd.read_pickle(path_btt_large_qv+'/pickel/test.pkl')\n"
      ]
    },
    {
      "cell_type": "markdown",
      "metadata": {
        "id": "iOxLV0JnQJWJ"
      },
      "source": [
        "## Prepare the data\n",
        "\n"
      ]
    },
    {
      "cell_type": "code",
      "execution_count": 8,
      "metadata": {
        "colab": {
          "base_uri": "https://localhost:8080/"
        },
        "id": "1RJLFClPIYjt",
        "outputId": "ecc67ab7-491d-48c7-89f1-5059e2914a79"
      },
      "outputs": [
        {
          "data": {
            "text/plain": [
              "Counter({'Base': 9690,\n",
              "         'DueDate': 17089,\n",
              "         'Duedate': 6,\n",
              "         'Rem': 6104,\n",
              "         'RemPay': 3034,\n",
              "         'TotAmount': 9253,\n",
              "         'VatNr': 19098,\n",
              "         'iban': 42302,\n",
              "         'noise': 1587894,\n",
              "         'tax': 9233})"
            ]
          },
          "execution_count": 8,
          "metadata": {},
          "output_type": "execute_result"
        }
      ],
      "source": [
        "from collections import Counter\n",
        "\n",
        "all_labels = [item for sublist in train[1] for item in sublist] + [item for sublist in val[1] for item in sublist] + [item for sublist in test[1] for item in sublist]\n",
        "Counter(all_labels)"
      ]
    },
    {
      "cell_type": "code",
      "execution_count": 9,
      "metadata": {
        "id": "7UzRGzqlIx22"
      },
      "outputs": [],
      "source": [
        "replacing_labels = {'noise': 'O','Duedate':'O'}"
      ]
    },
    {
      "cell_type": "code",
      "execution_count": 10,
      "metadata": {
        "id": "ldWhTh1wIyX-"
      },
      "outputs": [],
      "source": [
        "def replace_elem(elem):\n",
        "  try:\n",
        "    return replacing_labels[elem]\n",
        "  except KeyError:\n",
        "    return elem\n",
        "def replace_list(ls):\n",
        "  return [replace_elem(elem) for elem in ls]\n",
        "\n",
        "\n",
        "train[1] = [replace_list(ls) for ls in train[1]]\n",
        "val[1] = [replace_list(ls) for ls in val[1]]\n",
        "test[1] = [replace_list(ls) for ls in test[1]]\n"
      ]
    },
    {
      "cell_type": "code",
      "execution_count": 11,
      "metadata": {
        "colab": {
          "base_uri": "https://localhost:8080/"
        },
        "id": "YIN8ptH4JD3T",
        "outputId": "5d9126ea-151a-4381-faed-7baf3fc06e9a"
      },
      "outputs": [
        {
          "name": "stdout",
          "output_type": "stream",
          "text": [
            "['Rem', 'DueDate', 'tax', 'TotAmount', 'iban', 'O', 'Base', 'VatNr', 'RemPay']\n",
            "{'Rem': 0, 'DueDate': 1, 'tax': 2, 'TotAmount': 3, 'iban': 4, 'O': 5, 'Base': 6, 'VatNr': 7, 'RemPay': 8}\n",
            "{0: 'Rem', 1: 'DueDate', 2: 'tax', 3: 'TotAmount', 4: 'iban', 5: 'O', 6: 'Base', 7: 'VatNr', 8: 'RemPay'}\n"
          ]
        }
      ],
      "source": [
        "all_labels = [item for sublist in train[1] for item in sublist] + [item for sublist in val[1] for item in sublist] + [item for sublist in test[1] for item in sublist]\n",
        "Counter(all_labels)\n",
        "labels = list(set(all_labels))\n",
        "print(labels)\n",
        "label2id = {label: idx for idx, label in enumerate(labels)}\n",
        "id2label = {idx: label for idx, label in enumerate(labels)}\n",
        "print(label2id)\n",
        "print(id2label)"
      ]
    },
    {
      "cell_type": "code",
      "execution_count": 12,
      "metadata": {
        "id": "Gq5CmIRZUy9O"
      },
      "outputs": [],
      "source": [
        "from os import listdir\n",
        "from torch.utils.data import Dataset\n",
        "import torch\n",
        "from PIL import Image\n",
        "class BILLYDataset(Dataset):\n",
        "    \"\"\"Billy dataset.\"\"\"\n",
        "\n",
        "    def __init__(self, annotations, image_dir, processor=None, max_length=512):\n",
        "        self.words, self.labels, self.boxes = annotations\n",
        "        self.image_dir = image_dir\n",
        "        self.image_file_names = [f for f in listdir(image_dir)]\n",
        "        self.processor = processor\n",
        "        self.max_length = max_length\n",
        "        \n",
        "\n",
        "    def __len__(self):\n",
        "        return len(self.image_file_names)\n",
        "\n",
        "    def __getitem__(self, idx):\n",
        "        item = self.image_file_names[idx]\n",
        "        image = Image.open(self.image_dir + item).convert(\"RGB\")\n",
        "        words = self.words[idx]\n",
        "        boxes = self.boxes[idx]\n",
        "        word_labels = self.labels[idx]\n",
        "\n",
        "        \n",
        "        assert len(words) == len(boxes) == len(word_labels)\n",
        "       \n",
        "        word_labels = [label2id[label] for label in word_labels]\n",
        "        encoded_inputs = processor(image, words, boxes=boxes, word_labels=word_labels,\n",
        "                              padding=\"max_length\", truncation=True, max_length=512, return_token_type_ids=True,return_tensors=\"pt\")\n",
        "    \n",
        "        for k,v in encoded_inputs.items():\n",
        "          encoded_inputs[k] = v.squeeze()\n",
        "\n",
        "        assert encoded_inputs.input_ids.shape == torch.Size([512])\n",
        "        assert encoded_inputs.attention_mask.shape == torch.Size([512])\n",
        "        assert encoded_inputs.token_type_ids.shape == torch.Size([512])\n",
        "        assert encoded_inputs.bbox.shape == torch.Size([512, 4])\n",
        "        assert encoded_inputs.image.shape == torch.Size([3, 224, 224])\n",
        "        assert encoded_inputs.labels.shape == torch.Size([512]) \n",
        "      \n",
        "        return encoded_inputs\n",
        "    \n"
      ]
    },
    {
      "cell_type": "code",
      "execution_count": 13,
      "metadata": {
        "colab": {
          "base_uri": "https://localhost:8080/"
        },
        "id": "izA9k5e-egyy",
        "outputId": "6299817b-2cea-4c32-a7ec-5671194db951"
      },
      "outputs": [
        {
          "name": "stderr",
          "output_type": "stream",
          "text": [
            "The tokenizer class you load from this checkpoint is not the same type as the class this function is called from. It may result in unexpected tokenization. \n",
            "The tokenizer class you load from this checkpoint is 'LayoutLMv2Tokenizer'. \n",
            "The class this function is called from is 'LayoutXLMTokenizerFast'.\n"
          ]
        },
        {
          "name": "stdout",
          "output_type": "stream",
          "text": [
            "8252\n",
            "980\n",
            "1031\n"
          ]
        }
      ],
      "source": [
        "from transformers import LayoutLMv2FeatureExtractor\n",
        "from transformers import LayoutXLMTokenizer\n",
        "from transformers import LayoutXLMProcessor\n",
        "\n",
        "processor = LayoutXLMProcessor.from_pretrained(\"microsoft/layoutxlm-base\", apply_ocr=False)\n",
        "\n",
        "train_dataset = BILLYDataset(annotations=train,\n",
        "                            image_dir= path_btt_large_qv+'/train/image/', \n",
        "                            processor=processor)\n",
        "print(len(train_dataset))\n",
        "val_dataset = BILLYDataset(annotations=val,\n",
        "                            image_dir=path_btt_large_qv+'/dev/image/', \n",
        "                            processor=processor)\n",
        "print(len(val_dataset))\n",
        "test_dataset = BILLYDataset(annotations=test,\n",
        "                            image_dir=path_btt_large_qv+'/test/image/', \n",
        "                            processor=processor)\n",
        "print(len(test_dataset))\n",
        "\n",
        "\n"
      ]
    },
    {
      "cell_type": "markdown",
      "metadata": {
        "id": "PAQJLuPPf27V"
      },
      "source": [
        "Next, we create corresponding dataloaders."
      ]
    },
    {
      "cell_type": "code",
      "execution_count": 14,
      "metadata": {
        "colab": {
          "base_uri": "https://localhost:8080/"
        },
        "id": "XI-eM0m4fmfF",
        "outputId": "d2a58bbf-6137-45ec-beba-82ee63892cf5"
      },
      "outputs": [
        {
          "name": "stdout",
          "output_type": "stream",
          "text": [
            "4126\n",
            "490\n",
            "516\n",
            "5158\n"
          ]
        }
      ],
      "source": [
        "from torch.utils.data import DataLoader\n",
        "batch_size = 2\n",
        "train_dataloader = DataLoader(train_dataset, batch_size=2, shuffle=True)\n",
        "print(len(train_dataloader))\n",
        "val_dataloader = DataLoader(val_dataset, batch_size=2, shuffle=True)\n",
        "print(len(val_dataloader))\n",
        "test_dataloader = DataLoader(test_dataset, batch_size=2)\n",
        "print(len(test_dataloader))\n",
        "print(len(test_dataloader)+len(test_dataloader)+len(train_dataloader))"
      ]
    },
    {
      "cell_type": "markdown",
      "metadata": {
        "id": "hHgKGixHgIIC"
      },
      "source": [
        "## Train the model\n",
        "\n",
        "\n"
      ]
    },
    {
      "cell_type": "code",
      "execution_count": 15,
      "metadata": {
        "id": "AjcHF59ZKOWs"
      },
      "outputs": [],
      "source": [
        "import warnings\n",
        "warnings.filterwarnings(\"ignore\")\n",
        "from seqeval.metrics import (\n",
        "    classification_report,\n",
        "    f1_score,\n",
        "    precision_score,\n",
        "    recall_score)\n",
        "\n",
        "def results_test(preds, out_label_ids, labels):\n",
        "  preds = np.argmax(preds, axis=2)\n",
        "\n",
        "  label_map = {i: label for i, label in enumerate(labels)}\n",
        "\n",
        "  out_label_list = [[] for _ in range(out_label_ids.shape[0])]\n",
        "  preds_list = [[] for _ in range(out_label_ids.shape[0])]\n",
        "\n",
        "  for i in range(out_label_ids.shape[0]):\n",
        "      for j in range(out_label_ids.shape[1]):\n",
        "          if out_label_ids[i, j] != -100:\n",
        "              out_label_list[i].append(label_map[out_label_ids[i][j]])\n",
        "              preds_list[i].append(label_map[preds[i][j]])\n",
        "\n",
        "  \n",
        "  results = {\n",
        "      \"precision\": precision_score(out_label_list, preds_list),\n",
        "      \"recall\": recall_score(out_label_list, preds_list),\n",
        "      \"f1\": f1_score(out_label_list, preds_list),\n",
        "  }\n",
        " \n",
        "  return results,out_label_list, preds_list"
      ]
    },
    {
      "cell_type": "code",
      "execution_count": 16,
      "metadata": {
        "colab": {
          "base_uri": "https://localhost:8080/"
        },
        "id": "YPLqj_CMv2tO",
        "outputId": "69818cdc-b55a-48d6-f076-be2e5fb0db55"
      },
      "outputs": [
        {
          "name": "stdout",
          "output_type": "stream",
          "text": [
            "Tesla P100-PCIE-16GB\n"
          ]
        },
        {
          "name": "stderr",
          "output_type": "stream",
          "text": [
            "Some weights of the model checkpoint at microsoft/layoutxlm-base were not used when initializing LayoutLMv2ForTokenClassification: ['layoutlmv2.visual.backbone.bottom_up.res4.15.conv2.norm.num_batches_tracked', 'layoutlmv2.visual.backbone.bottom_up.res2.0.conv2.norm.num_batches_tracked', 'layoutlmv2.visual.backbone.bottom_up.res3.1.conv1.norm.num_batches_tracked', 'layoutlmv2.visual.backbone.bottom_up.res5.1.conv3.norm.num_batches_tracked', 'layoutlmv2.visual.backbone.bottom_up.res5.2.conv1.norm.num_batches_tracked', 'layoutlmv2.visual.backbone.bottom_up.res4.2.conv3.norm.num_batches_tracked', 'layoutlmv2.visual.backbone.bottom_up.res4.19.conv3.norm.num_batches_tracked', 'layoutlmv2.visual.backbone.bottom_up.res4.17.conv3.norm.num_batches_tracked', 'layoutlmv2.visual.backbone.bottom_up.res4.11.conv1.norm.num_batches_tracked', 'layoutlmv2.visual.backbone.bottom_up.res4.3.conv2.norm.num_batches_tracked', 'layoutlmv2.visual.backbone.bottom_up.stem.conv1.norm.num_batches_tracked', 'layoutlmv2.visual.backbone.bottom_up.res4.17.conv2.norm.num_batches_tracked', 'layoutlmv2.visual.backbone.bottom_up.res4.3.conv3.norm.num_batches_tracked', 'layoutlmv2.visual.backbone.bottom_up.res4.21.conv2.norm.num_batches_tracked', 'layoutlmv2.visual.backbone.bottom_up.res4.11.conv3.norm.num_batches_tracked', 'layoutlmv2.visual.backbone.bottom_up.res4.10.conv3.norm.num_batches_tracked', 'layoutlmv2.visual.backbone.bottom_up.res4.12.conv2.norm.num_batches_tracked', 'layoutlmv2.visual.backbone.bottom_up.res5.0.conv3.norm.num_batches_tracked', 'layoutlmv2.visual.backbone.bottom_up.res3.3.conv2.norm.num_batches_tracked', 'layoutlmv2.visual.backbone.bottom_up.res2.0.conv1.norm.num_batches_tracked', 'layoutlmv2.visual.backbone.bottom_up.res4.15.conv1.norm.num_batches_tracked', 'layoutlmv2.visual.backbone.bottom_up.res4.12.conv1.norm.num_batches_tracked', 'layoutlmv2.visual.backbone.bottom_up.res4.5.conv2.norm.num_batches_tracked', 'layoutlmv2.visual.backbone.bottom_up.res3.0.conv3.norm.num_batches_tracked', 'layoutlmv2.visual.backbone.bottom_up.res4.9.conv2.norm.num_batches_tracked', 'layoutlmv2.visual.backbone.bottom_up.res4.21.conv3.norm.num_batches_tracked', 'layoutlmv2.visual.backbone.bottom_up.res4.3.conv1.norm.num_batches_tracked', 'layoutlmv2.visual.backbone.bottom_up.res4.5.conv1.norm.num_batches_tracked', 'layoutlmv2.visual.backbone.bottom_up.res3.2.conv1.norm.num_batches_tracked', 'layoutlmv2.visual.backbone.bottom_up.res4.7.conv1.norm.num_batches_tracked', 'layoutlmv2.visual.backbone.bottom_up.res4.16.conv3.norm.num_batches_tracked', 'layoutlmv2.visual.backbone.bottom_up.res4.19.conv2.norm.num_batches_tracked', 'layoutlmv2.visual.backbone.bottom_up.res4.15.conv3.norm.num_batches_tracked', 'layoutlmv2.visual.backbone.bottom_up.res4.0.conv3.norm.num_batches_tracked', 'layoutlmv2.visual.backbone.bottom_up.res3.2.conv2.norm.num_batches_tracked', 'layoutlmv2.visual.backbone.bottom_up.res3.2.conv3.norm.num_batches_tracked', 'layoutlmv2.visual.backbone.bottom_up.res4.13.conv1.norm.num_batches_tracked', 'layoutlmv2.visual.backbone.bottom_up.res2.1.conv1.norm.num_batches_tracked', 'layoutlmv2.visual.backbone.bottom_up.res4.8.conv2.norm.num_batches_tracked', 'layoutlmv2.visual.backbone.bottom_up.res4.20.conv2.norm.num_batches_tracked', 'layoutlmv2.visual.backbone.bottom_up.res4.1.conv1.norm.num_batches_tracked', 'layoutlmv2.visual.backbone.bottom_up.res4.21.conv1.norm.num_batches_tracked', 'layoutlmv2.visual.backbone.bottom_up.res4.1.conv2.norm.num_batches_tracked', 'layoutlmv2.visual.backbone.bottom_up.res5.0.conv2.norm.num_batches_tracked', 'layoutlmv2.visual.backbone.bottom_up.res4.0.shortcut.norm.num_batches_tracked', 'layoutlmv2.visual.backbone.bottom_up.res4.7.conv2.norm.num_batches_tracked', 'layoutlmv2.visual.backbone.bottom_up.res3.0.shortcut.norm.num_batches_tracked', 'layoutlmv2.visual.backbone.bottom_up.res4.6.conv3.norm.num_batches_tracked', 'layoutlmv2.visual.backbone.bottom_up.res4.14.conv1.norm.num_batches_tracked', 'layoutlmv2.visual.backbone.bottom_up.res3.0.conv2.norm.num_batches_tracked', 'layoutlmv2.visual.backbone.bottom_up.res5.1.conv1.norm.num_batches_tracked', 'layoutlmv2.visual.backbone.bottom_up.res4.13.conv3.norm.num_batches_tracked', 'layoutlmv2.visual.backbone.bottom_up.res3.3.conv1.norm.num_batches_tracked', 'layoutlmv2.visual.backbone.bottom_up.res3.1.conv2.norm.num_batches_tracked', 'layoutlmv2.visual.backbone.bottom_up.res4.22.conv2.norm.num_batches_tracked', 'layoutlmv2.visual.backbone.bottom_up.res4.2.conv2.norm.num_batches_tracked', 'layoutlmv2.visual.backbone.bottom_up.res4.4.conv1.norm.num_batches_tracked', 'layoutlmv2.visual.backbone.bottom_up.res4.19.conv1.norm.num_batches_tracked', 'layoutlmv2.visual.backbone.bottom_up.res4.20.conv1.norm.num_batches_tracked', 'layoutlmv2.visual.backbone.bottom_up.res4.10.conv1.norm.num_batches_tracked', 'layoutlmv2.visual.backbone.bottom_up.res2.1.conv3.norm.num_batches_tracked', 'layoutlmv2.visual.backbone.bottom_up.res4.22.conv3.norm.num_batches_tracked', 'layoutlmv2.visual.backbone.bottom_up.res4.12.conv3.norm.num_batches_tracked', 'layoutlmv2.visual.backbone.bottom_up.res4.2.conv1.norm.num_batches_tracked', 'layoutlmv2.visual.backbone.bottom_up.res2.2.conv1.norm.num_batches_tracked', 'layoutlmv2.visual.backbone.bottom_up.res2.0.conv3.norm.num_batches_tracked', 'layoutlmv2.visual.backbone.bottom_up.res3.3.conv3.norm.num_batches_tracked', 'layoutlmv2.visual.backbone.bottom_up.res4.8.conv1.norm.num_batches_tracked', 'layoutlmv2.visual.backbone.bottom_up.res4.6.conv1.norm.num_batches_tracked', 'layoutlmv2.visual.backbone.bottom_up.res5.2.conv3.norm.num_batches_tracked', 'layoutlmv2.visual.backbone.bottom_up.res4.14.conv3.norm.num_batches_tracked', 'layoutlmv2.visual.backbone.bottom_up.res4.4.conv2.norm.num_batches_tracked', 'layoutlmv2.visual.backbone.bottom_up.res5.1.conv2.norm.num_batches_tracked', 'layoutlmv2.visual.backbone.bottom_up.res4.9.conv1.norm.num_batches_tracked', 'layoutlmv2.visual.backbone.bottom_up.res4.0.conv1.norm.num_batches_tracked', 'layoutlmv2.visual.backbone.bottom_up.res4.18.conv3.norm.num_batches_tracked', 'layoutlmv2.visual.backbone.bottom_up.res2.0.shortcut.norm.num_batches_tracked', 'layoutlmv2.visual.backbone.bottom_up.res4.0.conv2.norm.num_batches_tracked', 'layoutlmv2.visual.backbone.bottom_up.res4.1.conv3.norm.num_batches_tracked', 'layoutlmv2.visual.backbone.bottom_up.res4.16.conv2.norm.num_batches_tracked', 'layoutlmv2.visual.backbone.bottom_up.res4.10.conv2.norm.num_batches_tracked', 'layoutlmv2.visual.backbone.bottom_up.res3.0.conv1.norm.num_batches_tracked', 'layoutlmv2.visual.backbone.bottom_up.res4.17.conv1.norm.num_batches_tracked', 'layoutlmv2.visual.backbone.bottom_up.res4.5.conv3.norm.num_batches_tracked', 'layoutlmv2.visual.backbone.bottom_up.res2.2.conv3.norm.num_batches_tracked', 'layoutlmv2.visual.backbone.bottom_up.res2.1.conv2.norm.num_batches_tracked', 'layoutlmv2.visual.backbone.bottom_up.res4.9.conv3.norm.num_batches_tracked', 'layoutlmv2.visual.backbone.bottom_up.res3.1.conv3.norm.num_batches_tracked', 'layoutlmv2.visual.backbone.bottom_up.res2.2.conv2.norm.num_batches_tracked', 'layoutlmv2.visual.backbone.bottom_up.res4.18.conv2.norm.num_batches_tracked', 'layoutlmv2.visual.backbone.bottom_up.res4.13.conv2.norm.num_batches_tracked', 'layoutlmv2.visual.backbone.bottom_up.res4.8.conv3.norm.num_batches_tracked', 'layoutlmv2.visual.backbone.bottom_up.res4.16.conv1.norm.num_batches_tracked', 'layoutlmv2.visual.backbone.bottom_up.res4.6.conv2.norm.num_batches_tracked', 'layoutlmv2.visual.backbone.bottom_up.res4.4.conv3.norm.num_batches_tracked', 'layoutlmv2.visual.backbone.bottom_up.res5.0.conv1.norm.num_batches_tracked', 'layoutlmv2.visual.backbone.bottom_up.res4.14.conv2.norm.num_batches_tracked', 'layoutlmv2.visual.backbone.bottom_up.res4.7.conv3.norm.num_batches_tracked', 'layoutlmv2.visual.backbone.bottom_up.res5.2.conv2.norm.num_batches_tracked', 'layoutlmv2.visual.backbone.bottom_up.res5.0.shortcut.norm.num_batches_tracked', 'layoutlmv2.visual.backbone.bottom_up.res4.11.conv2.norm.num_batches_tracked', 'layoutlmv2.visual.backbone.bottom_up.res4.20.conv3.norm.num_batches_tracked', 'layoutlmv2.visual.backbone.bottom_up.res4.18.conv1.norm.num_batches_tracked', 'layoutlmv2.visual.backbone.bottom_up.res4.22.conv1.norm.num_batches_tracked']\n",
            "- This IS expected if you are initializing LayoutLMv2ForTokenClassification from the checkpoint of a model trained on another task or with another architecture (e.g. initializing a BertForSequenceClassification model from a BertForPreTraining model).\n",
            "- This IS NOT expected if you are initializing LayoutLMv2ForTokenClassification from the checkpoint of a model that you expect to be exactly identical (initializing a BertForSequenceClassification model from a BertForSequenceClassification model).\n",
            "Some weights of LayoutLMv2ForTokenClassification were not initialized from the model checkpoint at microsoft/layoutxlm-base and are newly initialized: ['classifier.weight', 'classifier.bias']\n",
            "You should probably TRAIN this model on a down-stream task to be able to use it for predictions and inference.\n"
          ]
        },
        {
          "name": "stdout",
          "output_type": "stream",
          "text": [
            "cuda:0\n"
          ]
        }
      ],
      "source": [
        "from transformers import LayoutLMv2ForTokenClassification, AdamW\n",
        "import torch\n",
        "from tqdm.notebook import tqdm\n",
        "from numpy import asarray\n",
        "from numpy import savetxt\n",
        "import numpy as np\n",
        "print(torch.cuda.get_device_name(0))\n",
        "model = LayoutLMv2ForTokenClassification.from_pretrained(\"microsoft/layoutxlm-base\",\n",
        "                                                                      num_labels=len(labels))\n",
        "labels = list(set(all_labels))\n",
        "device = torch.device('cuda:0' if torch.cuda.is_available() else 'cpu')\n",
        "# device = 'cuda'\n",
        "print(device)\n",
        "model.to(device)\n",
        "optimizer = AdamW(model.parameters(), lr=1e-5)\n"
      ]
    },
    {
      "cell_type": "code",
      "execution_count": 17,
      "metadata": {
        "colab": {
          "base_uri": "https://localhost:8080/",
          "height": 1000,
          "referenced_widgets": [
            "7d3382d73b8a499984d8ebe12c30427d",
            "038e96da17ab44aa979b8394caabea69",
            "35bcfcab47af403d959ab4596725f68d",
            "3a41d6d79b704788a74e25b3cecd1e40",
            "ce2ab5d6400f4e7b969b18e8c340b1db",
            "8387a73d0f2140cd94116457c4506dd1",
            "ba0f83b3033c4c4dac1fcd9d7b6a891c",
            "728200d836274ae69bdf18d2d1fcecb4",
            "947a1909c29847c2adb285288d5e0515",
            "ad8bf70707134ac1ba9bbb208b6d6020",
            "0dbd7c6c759c4eb6ac79b4ae5874dc10",
            "3c11ffb1167943998d0098696eeffaf5",
            "500f2a24820d45d5b0267ab0d363a5b9",
            "14ebdb1804e54a79b52b602325a98658",
            "e047200ff7f049429ac1e06d703925bc",
            "075e2c89092d4fe5aa2b8d668cc18746",
            "d1d0e06994ad45cf801ede057292411e",
            "0a599037eddc4ec79bfc99fc567ba2d1",
            "5969512bc9f84cccbcbf36c4ad56cb58",
            "769599ee2831440e9ad5bd165af2fff1",
            "89d61bb7049b403dbf6ce19d67a3518b",
            "456e0a10d6e345d8a275f39c043b0c21"
          ]
        },
        "id": "NxahVHZ0NKq7",
        "outputId": "8bd7d246-c06b-4016-e857-719e85489974"
      },
      "outputs": [
        {
          "name": "stdout",
          "output_type": "stream",
          "text": [
            "Epoch: 0\n"
          ]
        },
        {
          "data": {
            "application/vnd.jupyter.widget-view+json": {
              "model_id": "7d3382d73b8a499984d8ebe12c30427d",
              "version_major": 2,
              "version_minor": 0
            },
            "text/plain": [
              "  0%|          | 0/4126 [00:00<?, ?it/s]"
            ]
          },
          "metadata": {},
          "output_type": "display_data"
        },
        {
          "name": "stdout",
          "output_type": "stream",
          "text": [
            "Overall results: {'precision': 0.0, 'recall': 0.0, 'f1': 0.0}\n",
            "Loss after 0 steps: 2.490812063217163\n",
            "Validation loss: 2.151245594024658\n",
            "Overall results: {'precision': 0.20746268656716418, 'recall': 0.09639389736477115, 'f1': 0.13162878787878787}\n",
            "Loss after 100 steps: 0.10634217411279678\n",
            "Validation loss: 0.09124934673309326\n",
            "Overall results: {'precision': 0.4726027397260274, 'recall': 0.3291311754684838, 'f1': 0.3880297248443462}\n",
            "Loss after 200 steps: 0.08956216275691986\n",
            "Validation loss: 0.1019105538725853\n",
            "Overall results: {'precision': 0.5736083639446171, 'recall': 0.4589645037304997, 'f1': 0.5099221301180609}\n",
            "Loss after 300 steps: 0.06812410056591034\n",
            "Validation loss: 0.08094960451126099\n",
            "Overall results: {'precision': 0.6266349583828775, 'recall': 0.5406052316635322, 'f1': 0.5804497475906379}\n",
            "Loss after 400 steps: 0.039539583027362823\n",
            "Validation loss: 0.021405000239610672\n",
            "Overall results: {'precision': 0.6623574144486692, 'recall': 0.5986254295532646, 'f1': 0.6288808664259927}\n",
            "Loss after 500 steps: 0.09528487920761108\n",
            "Validation loss: 0.13280649483203888\n",
            "Overall results: {'precision': 0.6943419434194342, 'recall': 0.6448480694539639, 'f1': 0.6686804074863776}\n",
            "Loss after 600 steps: 0.07746654003858566\n",
            "Validation loss: 0.06646177917718887\n",
            "Overall results: {'precision': 0.7122974657249689, 'recall': 0.6751993698926848, 'f1': 0.6932524639878695}\n",
            "Loss after 700 steps: 0.07508672028779984\n",
            "Validation loss: 0.040159136056900024\n",
            "Overall results: {'precision': 0.7284982475060663, 'recall': 0.6995167414566793, 'f1': 0.7137134052388289}\n",
            "Loss after 800 steps: 0.06112522631883621\n",
            "Validation loss: 0.025035716593265533\n",
            "Overall results: {'precision': 0.7438133396181946, 'recall': 0.7227480916030534, 'f1': 0.7331294281621433}\n",
            "Loss after 900 steps: 0.059555843472480774\n",
            "Validation loss: 0.07497277110815048\n",
            "Overall results: {'precision': 0.7532712896228395, 'recall': 0.7406260749914001, 'f1': 0.7468951640879761}\n",
            "Loss after 1000 steps: 0.09697674214839935\n",
            "Validation loss: 0.01837470754981041\n",
            "Overall results: {'precision': 0.7618203683777455, 'recall': 0.753332916066846, 'f1': 0.7575528700906344}\n",
            "Loss after 1100 steps: 0.006381642073392868\n",
            "Validation loss: 0.033798981457948685\n",
            "Overall results: {'precision': 0.7702539298669892, 'recall': 0.7669418644650843, 'f1': 0.7685943290528311}\n",
            "Loss after 1200 steps: 0.012434346601366997\n",
            "Validation loss: 0.07716266810894012\n",
            "Overall results: {'precision': 0.7777190571821161, 'recall': 0.7785007670740094, 'f1': 0.7781097157964308}\n",
            "Loss after 1300 steps: 0.004722184967249632\n",
            "Validation loss: 0.04775719717144966\n",
            "Overall results: {'precision': 0.7838790192335927, 'recall': 0.7876180173092053, 'f1': 0.7857440702494543}\n",
            "Loss after 1400 steps: 0.03840949013829231\n",
            "Validation loss: 0.017613038420677185\n",
            "Overall results: {'precision': 0.7900560032782407, 'recall': 0.7959267923489748, 'f1': 0.7929805319440636}\n",
            "Loss after 1500 steps: 0.004295521415770054\n",
            "Validation loss: 0.016393523663282394\n",
            "Overall results: {'precision': 0.7956829019073569, 'recall': 0.8037933852307427, 'f1': 0.7997175806072017}\n",
            "Loss after 1600 steps: 0.020239850506186485\n",
            "Validation loss: 0.013369852676987648\n",
            "Overall results: {'precision': 0.8012422360248447, 'recall': 0.8089901278524033, 'f1': 0.8050975418252099}\n",
            "Loss after 1700 steps: 0.039519716054201126\n",
            "Validation loss: 0.0697823017835617\n",
            "Overall results: {'precision': 0.8050198150594452, 'recall': 0.8151729409516529, 'f1': 0.8100645651348272}\n",
            "Loss after 1800 steps: 0.010943478904664516\n",
            "Validation loss: 0.010784453712403774\n",
            "Overall results: {'precision': 0.8086263009191373, 'recall': 0.8196780742459396, 'f1': 0.81411468178954}\n",
            "Loss after 1900 steps: 0.045511916279792786\n",
            "Validation loss: 0.02790617011487484\n",
            "Overall results: {'precision': 0.8119903914470346, 'recall': 0.8254798101396437, 'f1': 0.8186795381282939}\n",
            "Loss after 2000 steps: 0.02022409439086914\n",
            "Validation loss: 0.005639807321131229\n",
            "Overall results: {'precision': 0.8158843603116348, 'recall': 0.8302647097366007, 'f1': 0.8230117234436398}\n",
            "Loss after 2100 steps: 0.019428368657827377\n",
            "Validation loss: 0.003421755274757743\n",
            "Overall results: {'precision': 0.8187563272693806, 'recall': 0.8342398099524881, 'f1': 0.8264255523386335}\n",
            "Loss after 2200 steps: 0.08695801347494125\n",
            "Validation loss: 0.06016397476196289\n",
            "Overall results: {'precision': 0.8217525319242625, 'recall': 0.8379883251010328, 'f1': 0.8297910182303245}\n",
            "Loss after 2300 steps: 0.016445068642497063\n",
            "Validation loss: 0.016513943672180176\n",
            "Overall results: {'precision': 0.8255048658378804, 'recall': 0.8416494608855242, 'f1': 0.8334989918496011}\n",
            "Loss after 2400 steps: 0.0063654594123363495\n",
            "Validation loss: 0.0023046224378049374\n",
            "Overall results: {'precision': 0.828216551910355, 'recall': 0.8445674321273198, 'f1': 0.8363120799421973}\n",
            "Loss after 2500 steps: 0.003268292173743248\n",
            "Validation loss: 0.03225783258676529\n",
            "Overall results: {'precision': 0.8298032497534132, 'recall': 0.8476018771376302, 'f1': 0.8386081345172671}\n",
            "Loss after 2600 steps: 0.017885081470012665\n",
            "Validation loss: 0.043638817965984344\n",
            "Overall results: {'precision': 0.8329252448530882, 'recall': 0.8509763880025526, 'f1': 0.8418540638139369}\n",
            "Loss after 2700 steps: 0.015773717314004898\n",
            "Validation loss: 0.002715685870498419\n",
            "Overall results: {'precision': 0.8355228333573937, 'recall': 0.8543942525341994, 'f1': 0.8448531737342772}\n",
            "Loss after 2800 steps: 0.014044421724975109\n",
            "Validation loss: 0.009207949042320251\n",
            "Overall results: {'precision': 0.8372573604532367, 'recall': 0.856569351735278, 'f1': 0.8468032642517466}\n",
            "Loss after 2900 steps: 0.02108197845518589\n",
            "Validation loss: 0.09386427700519562\n",
            "Overall results: {'precision': 0.8395025767421017, 'recall': 0.8593742832240011, 'f1': 0.8493222106360793}\n",
            "Loss after 3000 steps: 0.08500595390796661\n",
            "Validation loss: 0.01659112609922886\n",
            "Overall results: {'precision': 0.8415128711153521, 'recall': 0.8614274614274614, 'f1': 0.851353723287551}\n",
            "Loss after 3100 steps: 0.0705021545290947\n",
            "Validation loss: 0.05818404257297516\n",
            "Overall results: {'precision': 0.843309452276404, 'recall': 0.8634642688121155, 'f1': 0.8532678592306793}\n",
            "Loss after 3200 steps: 0.008139781653881073\n",
            "Validation loss: 0.02886946313083172\n",
            "Overall results: {'precision': 0.8450340025247384, 'recall': 0.8656196554457097, 'f1': 0.8552029672367608}\n",
            "Loss after 3300 steps: 0.0062301442958414555\n",
            "Validation loss: 0.07672574371099472\n",
            "Overall results: {'precision': 0.8469307087236649, 'recall': 0.8676277054524103, 'f1': 0.8571542869715668}\n",
            "Loss after 3400 steps: 0.02683534473180771\n",
            "Validation loss: 0.022804388776421547\n",
            "Overall results: {'precision': 0.8489482278359427, 'recall': 0.8695617953208319, 'f1': 0.859131381468953}\n",
            "Loss after 3500 steps: 0.03971376270055771\n",
            "Validation loss: 0.0077780489809811115\n",
            "Overall results: {'precision': 0.8500710121094334, 'recall': 0.8710196266156055, 'f1': 0.8604178291421167}\n",
            "Loss after 3600 steps: 0.013015495613217354\n",
            "Validation loss: 0.0514458492398262\n",
            "Overall results: {'precision': 0.8521500490712806, 'recall': 0.8728684190930077, 'f1': 0.8623848148761244}\n",
            "Loss after 3700 steps: 0.02407115511596203\n",
            "Validation loss: 0.009596421383321285\n",
            "Overall results: {'precision': 0.8537992038920832, 'recall': 0.874594516228412, 'f1': 0.8640717597980413}\n",
            "Loss after 3800 steps: 0.007845853455364704\n",
            "Validation loss: 0.007857436314225197\n",
            "Overall results: {'precision': 0.8548517682727257, 'recall': 0.8759774761257524, 'f1': 0.8652856968492266}\n",
            "Loss after 3900 steps: 0.05627283826470375\n",
            "Validation loss: 0.0028987384866923094\n",
            "Overall results: {'precision': 0.855892040871202, 'recall': 0.8772996623716668, 'f1': 0.8664636428595733}\n",
            "Loss after 4000 steps: 0.04112158715724945\n",
            "Validation loss: 0.005538489203900099\n",
            "Overall results: {'precision': 0.8576581894502107, 'recall': 0.8788708728891876, 'f1': 0.8681349687142121}\n",
            "Loss after 4100 steps: 0.015367873944342136\n",
            "Validation loss: 0.009108352474868298\n",
            "Epoch: 1\n"
          ]
        },
        {
          "data": {
            "application/vnd.jupyter.widget-view+json": {
              "model_id": "3c11ffb1167943998d0098696eeffaf5",
              "version_major": 2,
              "version_minor": 0
            },
            "text/plain": [
              "  0%|          | 0/4126 [00:00<?, ?it/s]"
            ]
          },
          "metadata": {},
          "output_type": "display_data"
        },
        {
          "name": "stdout",
          "output_type": "stream",
          "text": [
            "Overall results: {'precision': 0.858990157637833, 'recall': 0.8801469261925454, 'f1': 0.8694398548611785}\n",
            "Loss after 4200 steps: 0.01516231894493103\n",
            "Validation loss: 0.03132389113306999\n",
            "Overall results: {'precision': 0.8604553053858534, 'recall': 0.8815854771319257, 'f1': 0.8708922415156404}\n",
            "Loss after 4300 steps: 0.0050663333386182785\n",
            "Validation loss: 0.004356240853667259\n",
            "Overall results: {'precision': 0.8614579199609268, 'recall': 0.8829529277411886, 'f1': 0.8720729907834457}\n",
            "Loss after 4400 steps: 0.01675928756594658\n",
            "Validation loss: 0.015712127089500427\n",
            "Overall results: {'precision': 0.8624254176610978, 'recall': 0.8842818469632779, 'f1': 0.8732168883049016}\n",
            "Loss after 4500 steps: 0.008893074467778206\n",
            "Validation loss: 0.002687769243493676\n",
            "Overall results: {'precision': 0.8635335987981155, 'recall': 0.8855300945315304, 'f1': 0.8743935309973045}\n",
            "Loss after 4600 steps: 0.012759816832840443\n",
            "Validation loss: 0.023571323603391647\n",
            "Overall results: {'precision': 0.8643866914179638, 'recall': 0.8864368556701031, 'f1': 0.8752729218178401}\n",
            "Loss after 4700 steps: 0.03268245980143547\n",
            "Validation loss: 0.006035221740603447\n",
            "Overall results: {'precision': 0.8652896838160231, 'recall': 0.8873401021052028, 'f1': 0.8761761811372052}\n",
            "Loss after 4800 steps: 0.008638161234557629\n",
            "Validation loss: 0.05202772840857506\n",
            "Overall results: {'precision': 0.8664218876299817, 'recall': 0.8885282753775905, 'f1': 0.8773358489519025}\n",
            "Loss after 4900 steps: 0.06429135799407959\n",
            "Validation loss: 0.011812391690909863\n",
            "Overall results: {'precision': 0.8676073372303971, 'recall': 0.8896774104645234, 'f1': 0.8785037827246504}\n",
            "Loss after 5000 steps: 0.020565832033753395\n",
            "Validation loss: 0.01071004569530487\n",
            "Overall results: {'precision': 0.8683289012927516, 'recall': 0.8906893525082709, 'f1': 0.8793670050727583}\n",
            "Loss after 5100 steps: 0.08167669177055359\n",
            "Validation loss: 0.017281852662563324\n",
            "Overall results: {'precision': 0.8691879607989981, 'recall': 0.8917089454372045, 'f1': 0.880304437092155}\n",
            "Loss after 5200 steps: 0.005293508060276508\n",
            "Validation loss: 0.028537772595882416\n",
            "Overall results: {'precision': 0.8700826781124574, 'recall': 0.8928153826166039, 'f1': 0.8813024603881989}\n",
            "Loss after 5300 steps: 0.013797667808830738\n",
            "Validation loss: 0.01844519004225731\n",
            "Overall results: {'precision': 0.8707958004597129, 'recall': 0.8935665655200551, 'f1': 0.8820342438600797}\n",
            "Loss after 5400 steps: 0.024283308535814285\n",
            "Validation loss: 0.0010279978159815073\n",
            "Overall results: {'precision': 0.8714740423663703, 'recall': 0.8945246976942143, 'f1': 0.8828489359730672}\n",
            "Loss after 5500 steps: 0.025081317871809006\n",
            "Validation loss: 0.002145997481420636\n",
            "Overall results: {'precision': 0.8725292891540286, 'recall': 0.8954194531864673, 'f1': 0.8838261882515684}\n",
            "Loss after 5600 steps: 0.027900125831365585\n",
            "Validation loss: 0.011891951784491539\n",
            "Overall results: {'precision': 0.8729932677369239, 'recall': 0.8960472589335331, 'f1': 0.8843700444730598}\n",
            "Loss after 5700 steps: 0.009220531210303307\n",
            "Validation loss: 0.0032287384383380413\n",
            "Overall results: {'precision': 0.873953660454146, 'recall': 0.8969551700405819, 'f1': 0.8853050373025074}\n",
            "Loss after 5800 steps: 0.0023623239248991013\n",
            "Validation loss: 0.014270951971411705\n",
            "Overall results: {'precision': 0.8746320228231096, 'recall': 0.8979322737986885, 'f1': 0.8861290081126677}\n",
            "Loss after 5900 steps: 0.017833851277828217\n",
            "Validation loss: 0.03323010727763176\n",
            "Overall results: {'precision': 0.8755379679622612, 'recall': 0.8988179940325912, 'f1': 0.8870252609047719}\n",
            "Loss after 6000 steps: 0.014722147956490517\n",
            "Validation loss: 0.0035229669883847237\n",
            "Overall results: {'precision': 0.8762371882285664, 'recall': 0.8993002257336343, 'f1': 0.8876189203039012}\n",
            "Loss after 6100 steps: 0.010522914119064808\n",
            "Validation loss: 0.04386821389198303\n",
            "Overall results: {'precision': 0.8769565264421777, 'recall': 0.9001299032942143, 'f1': 0.8883921233439627}\n",
            "Loss after 6200 steps: 0.019899513572454453\n",
            "Validation loss: 0.015490717254579067\n",
            "Overall results: {'precision': 0.877778487480838, 'recall': 0.9008128127253261, 'f1': 0.8891464926942363}\n",
            "Loss after 6300 steps: 0.014758102595806122\n",
            "Validation loss: 0.013984935358166695\n",
            "Overall results: {'precision': 0.878334329046526, 'recall': 0.9013670929644728, 'f1': 0.889701666843614}\n",
            "Loss after 6400 steps: 0.021209929138422012\n",
            "Validation loss: 0.010191657580435276\n",
            "Overall results: {'precision': 0.8789432949796192, 'recall': 0.9018847945785684, 'f1': 0.89026627296245}\n",
            "Loss after 6500 steps: 0.013353465124964714\n",
            "Validation loss: 0.003175156656652689\n",
            "Overall results: {'precision': 0.8795905713501591, 'recall': 0.9026191444753888, 'f1': 0.8909560776723019}\n",
            "Loss after 6600 steps: 0.0047424668446183205\n",
            "Validation loss: 0.005191203206777573\n",
            "Overall results: {'precision': 0.8800913132284032, 'recall': 0.9031038415304476, 'f1': 0.891449086492873}\n",
            "Loss after 6700 steps: 0.022833844646811485\n",
            "Validation loss: 0.005804871674627066\n",
            "Overall results: {'precision': 0.8806959403479702, 'recall': 0.9038017733511479, 'f1': 0.892099268672821}\n",
            "Loss after 6800 steps: 0.0018458787817507982\n",
            "Validation loss: 0.007602690253406763\n",
            "Overall results: {'precision': 0.8812962926962032, 'recall': 0.9043538975612189, 'f1': 0.8926762269055248}\n",
            "Loss after 6900 steps: 0.00910789892077446\n",
            "Validation loss: 0.0025831153616309166\n",
            "Overall results: {'precision': 0.8818754252963896, 'recall': 0.9050616725355576, 'f1': 0.8933181233465207}\n",
            "Loss after 7000 steps: 0.020787136629223824\n",
            "Validation loss: 0.01754700019955635\n",
            "Overall results: {'precision': 0.8825897159702931, 'recall': 0.9056603773584906, 'f1': 0.8939762264801027}\n",
            "Loss after 7100 steps: 0.015582921914756298\n",
            "Validation loss: 0.008488527499139309\n",
            "Overall results: {'precision': 0.8832052177964128, 'recall': 0.9061621704299945, 'f1': 0.8945364293095395}\n",
            "Loss after 7200 steps: 0.007011139765381813\n",
            "Validation loss: 0.0009963060729205608\n",
            "Overall results: {'precision': 0.8838143382352941, 'recall': 0.9068181818181819, 'f1': 0.8951684974865016}\n",
            "Loss after 7300 steps: 0.004922409541904926\n",
            "Validation loss: 0.013493216596543789\n",
            "Overall results: {'precision': 0.884118420456091, 'recall': 0.90725956528212, 'f1': 0.8955395234137135}\n",
            "Loss after 7400 steps: 0.009808197617530823\n",
            "Validation loss: 0.002744091907516122\n",
            "Overall results: {'precision': 0.8848073860688149, 'recall': 0.9078658698904891, 'f1': 0.8961883316645296}\n",
            "Loss after 7500 steps: 0.05319993570446968\n",
            "Validation loss: 0.012408590875566006\n",
            "Overall results: {'precision': 0.8851001068630828, 'recall': 0.9083814478776727, 'f1': 0.8965896688078155}\n",
            "Loss after 7600 steps: 0.01746898517012596\n",
            "Validation loss: 0.06331395357847214\n",
            "Overall results: {'precision': 0.8855882711852587, 'recall': 0.9089119894079548, 'f1': 0.8970985572253519}\n",
            "Loss after 7700 steps: 0.004572635516524315\n",
            "Validation loss: 0.0017140095587819815\n",
            "Overall results: {'precision': 0.8860663702735474, 'recall': 0.909602923780434, 'f1': 0.8976803955306777}\n",
            "Loss after 7800 steps: 0.03811826556921005\n",
            "Validation loss: 0.007280176505446434\n",
            "Overall results: {'precision': 0.8868023882929481, 'recall': 0.9101472267501155, 'f1': 0.898323166797154}\n",
            "Loss after 7900 steps: 0.02447921596467495\n",
            "Validation loss: 0.015985889360308647\n",
            "Overall results: {'precision': 0.8872015898437827, 'recall': 0.9105186613082279, 'f1': 0.898708910218296}\n",
            "Loss after 8000 steps: 0.04011993855237961\n",
            "Validation loss: 0.09940335154533386\n",
            "Overall results: {'precision': 0.8876857485823089, 'recall': 0.9110822223921559, 'f1': 0.8992318271778874}\n",
            "Loss after 8100 steps: 0.018413512036204338\n",
            "Validation loss: 0.0003148040850646794\n",
            "Overall results: {'precision': 0.8881864649355959, 'recall': 0.9116420015277557, 'f1': 0.8997613958343689}\n",
            "Loss after 8200 steps: 0.009563743136823177\n",
            "Validation loss: 0.004900301806628704\n"
          ]
        }
      ],
      "source": [
        "\n",
        "\n",
        "val_iterator = iter(val_dataloader)\n",
        "global_step = 0\n",
        "num_train_epochs = 2\n",
        "train_loss = []\n",
        "val_loss = []\n",
        "val_precision = []\n",
        "val_recall = []\n",
        "val_f1 = []\n",
        "preds_val = None\n",
        "out_label_ids = None\n",
        "batch_logits_array = []\n",
        "out_label_list=[]\n",
        "preds_list=[]\n",
        "\n",
        "val_batch_idx = 0\n",
        "for epoch in range(num_train_epochs):  \n",
        "   print(\"Epoch:\", epoch)\n",
        "   loop = tqdm(train_dataloader, leave=True)\n",
        "   for batch_id, batch in enumerate(loop):\n",
        "        model.train() \n",
        "        input_ids = batch['input_ids'].to(device)\n",
        "        bbox = batch['bbox'].to(device)\n",
        "        image = batch['image'].to(device)\n",
        "        attention_mask = batch['attention_mask'].to(device)\n",
        "        token_type_ids = batch['token_type_ids'].to(device)\n",
        "        labels = batch['labels'].to(device)\n",
        "        optimizer.zero_grad()\n",
        "        outputs = model(input_ids=input_ids,\n",
        "                        bbox=bbox,\n",
        "                        image=image,\n",
        "                        attention_mask=attention_mask,\n",
        "                        token_type_ids=token_type_ids,\n",
        "                        labels=labels) \n",
        "        loss = outputs.loss\n",
        "        train_loss.append(loss.item())\n",
        "        # writer.add_scalar(\"Loss/train\", loss.item(), input_ids)\n",
        "        loss.backward()\n",
        "        optimizer.step()\n",
        "        if val_batch_idx >= len(val_iterator):\n",
        "            val_iterator = iter(val_dataloader)\n",
        "            val_batch_idx = 0\n",
        "        val_batch_idx += 1\n",
        "        model.eval()\n",
        "        with torch.no_grad():\n",
        "            batch = next(val_iterator)\n",
        "            input_ids = batch['input_ids'].to(device)\n",
        "            bbox = batch['bbox'].to(device)\n",
        "            image = batch['image'].to(device)\n",
        "            attention_mask = batch['attention_mask'].to(device)\n",
        "            token_type_ids = batch['token_type_ids'].to(device)\n",
        "            labels = batch['labels'].to(device)\n",
        "            # forward pass\n",
        "            outputs = model(input_ids=input_ids, bbox=bbox, image=image, attention_mask=attention_mask, \n",
        "                            token_type_ids=token_type_ids, labels=labels)\n",
        "            if preds_val is None:\n",
        "                preds_val = outputs.logits.detach().cpu().numpy()\n",
        "                out_label_ids = batch[\"labels\"].detach().cpu().numpy()\n",
        "            else:\n",
        "                preds_val = np.append(preds_val, outputs.logits.detach().cpu().numpy(), axis=0)\n",
        "                out_label_ids = np.append(out_label_ids, batch[\"labels\"].detach().cpu().numpy(), axis=0)\n",
        "       \n",
        "\n",
        "        \n",
        "        loss = outputs.loss\n",
        "        val_loss.append(loss.item())\n",
        "         \n",
        "        if global_step % 100 == 0 or global_step == 0:\n",
        "            val_result,out_label_l,preds_l = results_test(preds_val, out_label_ids, list(set(all_labels)))\n",
        "            val_precision.append(val_result['precision'])\n",
        "            val_recall.append(val_result['recall'])\n",
        "            val_f1.append(val_result['f1'])\n",
        "            out_label_list.append(out_label_l)\n",
        "            preds_list.append(preds_l)\n",
        "\n",
        "        \n",
        "            \n",
        "            print(\"Overall results:\", val_result)\n",
        "            print(f\"Loss after {global_step} steps: {train_loss[-1]}\")\n",
        "            print(\"Validation loss: {}\".format(loss.item()))\n",
        "        global_step += 1\n",
        "\n",
        "\n",
        "model.save_pretrained(path_folder +\"check_points/LargeCheckpoints_xlm_lr_1e5\")\n",
        "path_model = path_folder +'model/large_model_xlm_btt_qv_lr_star_1e5.pt'\n",
        "torch.save(model, path_model)\n",
        "\n",
        "# define data\n",
        "data_loss = pd.DataFrame({'batch_loss_array': train_loss,'val_loss':val_loss})\n",
        "data_loss.to_csv(path_folder + 'output/logits_btt_qv_large_star_lr_1e5.csv')\n",
        "data_loss = pd.DataFrame({'precison':val_precision,'recall':val_recall,'f1':val_f1})\n",
        "data_loss.to_csv(path_folder + 'output/metrics.csv')\n",
        "data_loss = pd.DataFrame({'preds_list':preds_list,'out_label_list':out_label_list})\n",
        "data_loss.to_csv(path_folder + 'output/classification_reports.csv')\n"
      ]
    },
    {
      "cell_type": "code",
      "execution_count": 18,
      "metadata": {
        "colab": {
          "base_uri": "https://localhost:8080/",
          "height": 541
        },
        "id": "MSng0Gb8fZy7",
        "outputId": "cdd7de28-7c04-4b4d-e3f2-d24f3e63fe78"
      },
      "outputs": [
        {
          "data": {
            "image/png": "[encoded data removed]",
            "text/plain": [
              "<Figure size 432x288 with 1 Axes>"
            ]
          },
          "metadata": {
            "needs_background": "light"
          },
          "output_type": "display_data"
        },
        {
          "data": {
            "image/png": "[encoded data removed]",
            "text/plain": [
              "<Figure size 432x288 with 1 Axes>"
            ]
          },
          "metadata": {
            "needs_background": "light"
          },
          "output_type": "display_data"
        }
      ],
      "source": [
        "import matplotlib.pyplot as plt\n",
        "import pandas as pd \n",
        "import numpy as np \n",
        "\n",
        "\n",
        "# data_loss = pd.read_csv(path_btt_large_qv + '/output/logits_btt_qv_large_star_lr_1e5.csv')\n",
        "\n",
        "\n",
        "x_avg_train_loss = []\n",
        "y_avg_train_loss = []\n",
        "x_avg_val_loss = []\n",
        "y_avg_val_loss = []\n",
        "\n",
        "x_val_precision = []\n",
        "y_val_precision = []\n",
        "\n",
        "x_avg_val_recall = []\n",
        "y_avg_val_recall = []\n",
        "\n",
        "x_avg_val_f1 = []\n",
        "y_avg_val_f1 = []\n",
        "\n",
        "for i in range(0,len(train_loss)):\n",
        "   if i%100==0:\n",
        "      x_avg_train_loss.append(i)\n",
        "      y_avg_train_loss.append(train_loss[i]) \n",
        "\n",
        "for i in range(0,len(val_loss)):\n",
        "   if i%100==0:\n",
        "      x_avg_val_loss.append(i)\n",
        "      y_avg_val_loss.append(val_loss[i]) \n",
        "      \n",
        "\n",
        "for i in range(0,len(val_loss)):\n",
        "  if i%100==0:\n",
        "    try:\n",
        "      x_val_precision.append(i)\n",
        "      y_val_precision.append(val_precision[i])\n",
        "      x_avg_val_recall.append(i)\n",
        "      y_avg_val_recall.append(val_recall[i])\n",
        "      x_avg_val_f1.append(i)\n",
        "      y_avg_val_f1.append(val_f1[i])\n",
        "    except:\n",
        "      break\n",
        "        \n",
        "\n",
        "# # Loss \n",
        "plt.plot((train_loss), label = 'trainnning loss',color= 'navajowhite')\n",
        "plt.plot((val_loss),label = 'validation loss',color='dodgerblue')\n",
        "plt.plot(x_avg_train_loss,y_avg_train_loss,label='trainning loss every 100 steps',linewidth=2,color='orange')\n",
        "plt.plot(x_avg_val_loss,y_avg_val_loss,label='trainning loss every 100 steps',linewidth=2,color='blue')\n",
        "\n",
        "\n",
        "\n",
        "plt.yscale('log')\n",
        "plt.xlabel('batch')\n",
        "plt.ylabel('Loss')\n",
        "plt.savefig(path_btt_large_qv+'/btt_qv_lr__star_1e5_log_test.png')\n",
        "plt.legend()\n",
        "plt.show()\n",
        "# Loss \n",
        "plt.plot((train_loss), label = 'trainnning loss',color= 'navajowhite')\n",
        "plt.plot((val_loss),label = 'validation loss',color='dodgerblue')\n",
        "plt.plot(x_avg_train_loss,y_avg_train_loss,label='trainning loss every 100 steps',linewidth=2,color='orange')\n",
        "plt.plot(x_avg_val_loss,y_avg_val_loss,label='trainning loss every 100 steps',linewidth=2,color='blue')\n",
        "\n",
        "plt.xlabel('batch')\n",
        "plt.ylabel('Loss')\n",
        "plt.legend()\n",
        "plt.savefig(path_btt_large_qv+'/btt_qv_star_lr_1e5_test.png')\n",
        "plt.show()\n",
        "# precision - recall - f1\n",
        "# plt.plot((data_loss['precison']), label = 'val precision',color= 'navajowhite')\n",
        "# plt.plot((data_loss['recall']),label = 'val recall',color='dodgerblue')\n",
        "# plt.plot((data_loss['f1']),label = 'f1',color='blue')\n",
        "# plt.plot((data_loss['train_loss']), label = 'trainnning loss',color= 'navajowhite')\n",
        "# plt.plot(x_avg_train_loss,y_avg_train_loss,label='trainning loss every 100 steps',linewidth=2,color='orange')\n",
        "# plt.plot(x_avg_val_loss,y_avg_val_loss,label='trainning loss every 100 steps',linewidth=2,color='blue')\n",
        "# plt.xlabel('epoch')\n",
        "# plt.ylabel('')\n",
        "# plt.legend()\n",
        "# plt.savefig(path_btt_large_qv+'/btt_qv_star_lr_1e5_test.png')\n",
        "# plt.show()\n"
      ]
    },
    {
      "cell_type": "markdown",
      "metadata": {
        "id": "jDREDNOhPv0C"
      },
      "source": [
        "## Evaluation\n"
      ]
    },
    {
      "cell_type": "code",
      "execution_count": 19,
      "metadata": {
        "id": "_UDuR5nhrThX"
      },
      "outputs": [],
      "source": [
        "import warnings\n",
        "warnings.filterwarnings(\"ignore\")\n",
        "from seqeval.metrics import (\n",
        "    classification_report,\n",
        "    f1_score,\n",
        "    precision_score,\n",
        "    recall_score)\n",
        "\n",
        "def results_test(preds, out_label_ids, labels):\n",
        "  preds = np.argmax(preds, axis=2)\n",
        "\n",
        "  label_map = {i: label for i, label in enumerate(labels)}\n",
        "\n",
        "  out_label_list = [[] for _ in range(out_label_ids.shape[0])]\n",
        "  preds_list = [[] for _ in range(out_label_ids.shape[0])]\n",
        "\n",
        "  for i in range(out_label_ids.shape[0]):\n",
        "      for j in range(out_label_ids.shape[1]):\n",
        "          if out_label_ids[i, j] != -100:\n",
        "              out_label_list[i].append(label_map[out_label_ids[i][j]])\n",
        "              preds_list[i].append(label_map[preds[i][j]])\n",
        "\n",
        "  \n",
        "  results = {\n",
        "      \"precision\": precision_score(out_label_list, preds_list),\n",
        "      \"recall\": recall_score(out_label_list, preds_list),\n",
        "      \"f1\": f1_score(out_label_list, preds_list),\n",
        "  }\n",
        "  return results, classification_report(out_label_list, preds_list)"
      ]
    },
    {
      "cell_type": "code",
      "execution_count": 20,
      "metadata": {
        "colab": {
          "base_uri": "https://localhost:8080/",
          "height": 48,
          "referenced_widgets": [
            "192b72d05e52437f800467d821fc4604",
            "507e227d70844b7d88ed9e485d4a1fa5",
            "f3c02cb0996c409e842d69310a5860b3",
            "fbcab17a29be49f6990afd3ec0930b2d",
            "e5643e73c9854d5cb73426395924328e",
            "1e0381ad41a74e86b245d4d27c6deeff",
            "a65ec76724534623a209787ebc763c53",
            "e75645bd7e7a47fc830a5dea14da710c",
            "15a33d25a54e436e89a814bf148fa7f5",
            "19167e0683514c6999cca2524413c671",
            "1c4e6db64e4d47b294527b1acd556f66"
          ]
        },
        "id": "-QGUtQuIacyF",
        "outputId": "3b94ae92-a209-4173-df60-ff2bb0f305aa"
      },
      "outputs": [
        {
          "data": {
            "application/vnd.jupyter.widget-view+json": {
              "model_id": "192b72d05e52437f800467d821fc4604",
              "version_major": 2,
              "version_minor": 0
            },
            "text/plain": [
              "Evaluating:   0%|          | 0/516 [00:00<?, ?it/s]"
            ]
          },
          "metadata": {},
          "output_type": "display_data"
        }
      ],
      "source": [
        "import warnings\n",
        "warnings.filterwarnings(\"ignore\")\n",
        "from seqeval.metrics import (\n",
        "    classification_report,\n",
        "    f1_score,\n",
        "    precision_score,\n",
        "    recall_score)\n",
        "import numpy as np\n",
        "\n",
        "\n",
        "\n",
        "\n",
        "\n",
        "preds_val = None\n",
        "out_label_ids = None\n",
        "\n",
        "# put model in evaluation mode\n",
        "model.eval()\n",
        "batch_test_array = []\n",
        "for batch in tqdm(test_dataloader, desc=\"Evaluating\"):\n",
        "    with torch.no_grad():\n",
        "        input_ids = batch['input_ids'].to(device)\n",
        "        bbox = batch['bbox'].to(device)\n",
        "        image = batch['image'].to(device)\n",
        "        attention_mask = batch['attention_mask'].to(device)\n",
        "        token_type_ids = batch['token_type_ids'].to(device)\n",
        "        labels = batch['labels'].to(device)\n",
        "\n",
        "        # forward pass\n",
        "        outputs = model(input_ids=input_ids, bbox=bbox, image=image, attention_mask=attention_mask, \n",
        "                        token_type_ids=token_type_ids, labels=labels)\n",
        "      \n",
        "        \n",
        "        if preds_val is None:\n",
        "          preds_val = outputs.logits.detach().cpu().numpy()\n",
        "          out_label_ids = batch[\"labels\"].detach().cpu().numpy()\n",
        "        else:\n",
        "          preds_val = np.append(preds_val, outputs.logits.detach().cpu().numpy(), axis=0)\n",
        "          out_label_ids = np.append(\n",
        "              out_label_ids, batch[\"labels\"].detach().cpu().numpy(), axis=0\n",
        "          )\n",
        "        \n"
      ]
    },
    {
      "cell_type": "code",
      "execution_count": 21,
      "metadata": {
        "id": "zPW1CISc0DL9"
      },
      "outputs": [],
      "source": [
        "import warnings\n",
        "warnings.filterwarnings(\"ignore\")\n",
        "from seqeval.metrics import (\n",
        "    classification_report,\n",
        "    f1_score,\n",
        "    precision_score,\n",
        "    recall_score)\n",
        "\n",
        "def results_test(preds, out_label_ids, labels):\n",
        "  preds = np.argmax(preds, axis=2)\n",
        "\n",
        "  label_map = {i: label for i, label in enumerate(labels)}\n",
        "\n",
        "  out_label_list = [[] for _ in range(out_label_ids.shape[0])]\n",
        "  preds_list = [[] for _ in range(out_label_ids.shape[0])]\n",
        "\n",
        "  for i in range(out_label_ids.shape[0]):\n",
        "      for j in range(out_label_ids.shape[1]):\n",
        "          if out_label_ids[i, j] != -100:\n",
        "              out_label_list[i].append(label_map[out_label_ids[i][j]])\n",
        "              preds_list[i].append(label_map[preds[i][j]])\n",
        "\n",
        "  \n",
        "  results = {\n",
        "      \"precision\": precision_score(out_label_list, preds_list),\n",
        "      \"recall\": recall_score(out_label_list, preds_list),\n",
        "      \"f1\": f1_score(out_label_list, preds_list),\n",
        "  }\n",
        "  return results, classification_report(out_label_list, preds_list)"
      ]
    },
    {
      "cell_type": "code",
      "execution_count": 22,
      "metadata": {
        "colab": {
          "base_uri": "https://localhost:8080/"
        },
        "id": "dVuQ73870FMF",
        "outputId": "284a50f4-3875-425b-88b9-ab2abf4e80d0"
      },
      "outputs": [
        {
          "name": "stdout",
          "output_type": "stream",
          "text": [
            "Overall results: {'precision': 0.9324465310380803, 'recall': 0.9617971482378262, 'f1': 0.9468944510660839}\n",
            "              precision    recall  f1-score   support\n",
            "\n",
            "         ase       0.93      0.92      0.93      1021\n",
            "        atNr       0.98      1.00      0.99      1441\n",
            "          ax       0.93      0.97      0.95       944\n",
            "         ban       0.99      1.00      0.99      1123\n",
            "          em       0.69      0.88      0.78       546\n",
            "       emPay       1.00      0.98      0.99       284\n",
            "    otAmount       0.92      0.93      0.93       924\n",
            "      ueDate       0.96      0.97      0.97      1151\n",
            "\n",
            "   micro avg       0.93      0.96      0.95      7434\n",
            "   macro avg       0.92      0.96      0.94      7434\n",
            "weighted avg       0.94      0.96      0.95      7434\n",
            "\n"
          ]
        }
      ],
      "source": [
        "labels = list(set(all_labels))\n",
        "val_result, class_report = results_test(preds_val, out_label_ids, labels)\n",
        "print(\"Overall results:\", val_result)\n",
        "print(class_report)\n"
      ]
    },
    {
      "cell_type": "code",
      "execution_count": 24,
      "metadata": {
        "colab": {
          "base_uri": "https://localhost:8080/",
          "height": 621
        },
        "id": "j4Z85HcffRz8",
        "outputId": "fd4275e3-4b52-4e9c-819d-7385e87ee86a"
      },
      "outputs": [
        {
          "data": {
            "image/png": "[encoded data removed]",
            "text/plain": [
              "<Figure size 720x720 with 1 Axes>"
            ]
          },
          "metadata": {
            "needs_background": "light"
          },
          "output_type": "display_data"
        }
      ],
      "source": [
        "from matplotlib import figure\n",
        "from sklearn.metrics import ConfusionMatrixDisplay, confusion_matrix\n",
        "\n",
        "import itertools\n",
        "\n",
        "def plot_confusion_matrix(y_preds,y_true,labels):\n",
        "  cm = confusion_matrix(y_true,y_preds,normalize= \"true\")\n",
        "  fig, ax = plt.subplots(figsize=(10,10))\n",
        "  disp = ConfusionMatrixDisplay(confusion_matrix=cm, display_labels = labels)\n",
        "  disp.plot(cmap=\"Blues\",values_format=\".3f\",ax=ax,colorbar=False)\n",
        "  plt.title(\"Normalized confusion matrix\")\n",
        "  plt.show()\n",
        "\n",
        "def results_cm(preds, out_label_ids, labels):\n",
        "  preds = np.argmax(preds, axis=2)\n",
        "\n",
        "  label_map = {i: label for i, label in enumerate(labels)}\n",
        "\n",
        "  out_label_list = [[] for _ in range(out_label_ids.shape[0])]\n",
        "  preds_list = [[] for _ in range(out_label_ids.shape[0])]\n",
        "\n",
        "  for i in range(out_label_ids.shape[0]):\n",
        "      for j in range(out_label_ids.shape[1]):\n",
        "          if out_label_ids[i, j] != -100:\n",
        "              out_label_list[i].append(label_map[out_label_ids[i][j]])\n",
        "              preds_list[i].append(label_map[preds[i][j]])\n",
        "\n",
        "\n",
        "  return out_label_list,preds_list\n",
        "def flatten(list_of_lists):\n",
        "    if len(list_of_lists) == 0:\n",
        "        return list_of_lists\n",
        "    if isinstance(list_of_lists[0], list):\n",
        "        return flatten(list_of_lists[0]) + flatten(list_of_lists[1:])\n",
        "    return list_of_lists[:1] + flatten(list_of_lists[1:])\n",
        "\n",
        "# plot_confusion_matrix(preds_val, out_label_ids, labels)\n",
        "# preds_val\n",
        "out_label_list,preds_list =results_cm(preds_val, out_label_ids, labels)\n",
        "\n",
        "out_label_list = list(itertools.chain(*out_label_list))\n",
        "preds_list = list(itertools.chain(*preds_list))\n",
        "\n",
        "\n",
        "plot_confusion_matrix(preds_list,out_label_list, labels)"
      ]
    }
  ],
  "metadata": {
    "accelerator": "GPU",
    "colab": {
      "background_execution": "on",
      "collapsed_sections": [],
      "include_colab_link": true,
      "name": "XlM_btt_star.ipynb",
      "provenance": []
    },
    "kernelspec": {
      "display_name": "Python 3",
      "name": "python3"
    },
    "language_info": {
      "name": "python"
    },
    "widgets": {
      "application/vnd.jupyter.widget-state+json": {
        "038e96da17ab44aa979b8394caabea69": {
          "model_module": "@jupyter-widgets/controls",
          "model_module_version": "1.5.0",
          "model_name": "HTMLModel",
          "state": {
            "_dom_classes": [],
            "_model_module": "@jupyter-widgets/controls",
            "_model_module_version": "1.5.0",
            "_model_name": "HTMLModel",
            "_view_count": null,
            "_view_module": "@jupyter-widgets/controls",
            "_view_module_version": "1.5.0",
            "_view_name": "HTMLView",
            "description": "",
            "description_tooltip": null,
            "layout": "IPY_MODEL_8387a73d0f2140cd94116457c4506dd1",
            "placeholder": "​",
            "style": "IPY_MODEL_ba0f83b3033c4c4dac1fcd9d7b6a891c",
            "value": "100%"
          }
        },
        "075e2c89092d4fe5aa2b8d668cc18746": {
          "model_module": "@jupyter-widgets/base",
          "model_module_version": "1.2.0",
          "model_name": "LayoutModel",
          "state": {
            "_model_module": "@jupyter-widgets/base",
            "_model_module_version": "1.2.0",
            "_model_name": "LayoutModel",
            "_view_count": null,
            "_view_module": "@jupyter-widgets/base",
            "_view_module_version": "1.2.0",
            "_view_name": "LayoutView",
            "align_content": null,
            "align_items": null,
            "align_self": null,
            "border": null,
            "bottom": null,
            "display": null,
            "flex": null,
            "flex_flow": null,
            "grid_area": null,
            "grid_auto_columns": null,
            "grid_auto_flow": null,
            "grid_auto_rows": null,
            "grid_column": null,
            "grid_gap": null,
            "grid_row": null,
            "grid_template_areas": null,
            "grid_template_columns": null,
            "grid_template_rows": null,
            "height": null,
            "justify_content": null,
            "justify_items": null,
            "left": null,
            "margin": null,
            "max_height": null,
            "max_width": null,
            "min_height": null,
            "min_width": null,
            "object_fit": null,
            "object_position": null,
            "order": null,
            "overflow": null,
            "overflow_x": null,
            "overflow_y": null,
            "padding": null,
            "right": null,
            "top": null,
            "visibility": null,
            "width": null
          }
        },
        "0a599037eddc4ec79bfc99fc567ba2d1": {
          "model_module": "@jupyter-widgets/controls",
          "model_module_version": "1.5.0",
          "model_name": "DescriptionStyleModel",
          "state": {
            "_model_module": "@jupyter-widgets/controls",
            "_model_module_version": "1.5.0",
            "_model_name": "DescriptionStyleModel",
            "_view_count": null,
            "_view_module": "@jupyter-widgets/base",
            "_view_module_version": "1.2.0",
            "_view_name": "StyleView",
            "description_width": ""
          }
        },
        "0dbd7c6c759c4eb6ac79b4ae5874dc10": {
          "model_module": "@jupyter-widgets/controls",
          "model_module_version": "1.5.0",
          "model_name": "DescriptionStyleModel",
          "state": {
            "_model_module": "@jupyter-widgets/controls",
            "_model_module_version": "1.5.0",
            "_model_name": "DescriptionStyleModel",
            "_view_count": null,
            "_view_module": "@jupyter-widgets/base",
            "_view_module_version": "1.2.0",
            "_view_name": "StyleView",
            "description_width": ""
          }
        },
        "14ebdb1804e54a79b52b602325a98658": {
          "model_module": "@jupyter-widgets/controls",
          "model_module_version": "1.5.0",
          "model_name": "FloatProgressModel",
          "state": {
            "_dom_classes": [],
            "_model_module": "@jupyter-widgets/controls",
            "_model_module_version": "1.5.0",
            "_model_name": "FloatProgressModel",
            "_view_count": null,
            "_view_module": "@jupyter-widgets/controls",
            "_view_module_version": "1.5.0",
            "_view_name": "ProgressView",
            "bar_style": "success",
            "description": "",
            "description_tooltip": null,
            "layout": "IPY_MODEL_5969512bc9f84cccbcbf36c4ad56cb58",
            "max": 4126,
            "min": 0,
            "orientation": "horizontal",
            "style": "IPY_MODEL_769599ee2831440e9ad5bd165af2fff1",
            "value": 4126
          }
        },
        "15a33d25a54e436e89a814bf148fa7f5": {
          "model_module": "@jupyter-widgets/controls",
          "model_module_version": "1.5.0",
          "model_name": "ProgressStyleModel",
          "state": {
            "_model_module": "@jupyter-widgets/controls",
            "_model_module_version": "1.5.0",
            "_model_name": "ProgressStyleModel",
            "_view_count": null,
            "_view_module": "@jupyter-widgets/base",
            "_view_module_version": "1.2.0",
            "_view_name": "StyleView",
            "bar_color": null,
            "description_width": ""
          }
        },
        "19167e0683514c6999cca2524413c671": {
          "model_module": "@jupyter-widgets/base",
          "model_module_version": "1.2.0",
          "model_name": "LayoutModel",
          "state": {
            "_model_module": "@jupyter-widgets/base",
            "_model_module_version": "1.2.0",
            "_model_name": "LayoutModel",
            "_view_count": null,
            "_view_module": "@jupyter-widgets/base",
            "_view_module_version": "1.2.0",
            "_view_name": "LayoutView",
            "align_content": null,
            "align_items": null,
            "align_self": null,
            "border": null,
            "bottom": null,
            "display": null,
            "flex": null,
            "flex_flow": null,
            "grid_area": null,
            "grid_auto_columns": null,
            "grid_auto_flow": null,
            "grid_auto_rows": null,
            "grid_column": null,
            "grid_gap": null,
            "grid_row": null,
            "grid_template_areas": null,
            "grid_template_columns": null,
            "grid_template_rows": null,
            "height": null,
            "justify_content": null,
            "justify_items": null,
            "left": null,
            "margin": null,
            "max_height": null,
            "max_width": null,
            "min_height": null,
            "min_width": null,
            "object_fit": null,
            "object_position": null,
            "order": null,
            "overflow": null,
            "overflow_x": null,
            "overflow_y": null,
            "padding": null,
            "right": null,
            "top": null,
            "visibility": null,
            "width": null
          }
        },
        "192b72d05e52437f800467d821fc4604": {
          "model_module": "@jupyter-widgets/controls",
          "model_module_version": "1.5.0",
          "model_name": "HBoxModel",
          "state": {
            "_dom_classes": [],
            "_model_module": "@jupyter-widgets/controls",
            "_model_module_version": "1.5.0",
            "_model_name": "HBoxModel",
            "_view_count": null,
            "_view_module": "@jupyter-widgets/controls",
            "_view_module_version": "1.5.0",
            "_view_name": "HBoxView",
            "box_style": "",
            "children": [
              "IPY_MODEL_507e227d70844b7d88ed9e485d4a1fa5",
              "IPY_MODEL_f3c02cb0996c409e842d69310a5860b3",
              "IPY_MODEL_fbcab17a29be49f6990afd3ec0930b2d"
            ],
            "layout": "IPY_MODEL_e5643e73c9854d5cb73426395924328e"
          }
        },
        "1c4e6db64e4d47b294527b1acd556f66": {
          "model_module": "@jupyter-widgets/controls",
          "model_module_version": "1.5.0",
          "model_name": "DescriptionStyleModel",
          "state": {
            "_model_module": "@jupyter-widgets/controls",
            "_model_module_version": "1.5.0",
            "_model_name": "DescriptionStyleModel",
            "_view_count": null,
            "_view_module": "@jupyter-widgets/base",
            "_view_module_version": "1.2.0",
            "_view_name": "StyleView",
            "description_width": ""
          }
        },
        "1e0381ad41a74e86b245d4d27c6deeff": {
          "model_module": "@jupyter-widgets/base",
          "model_module_version": "1.2.0",
          "model_name": "LayoutModel",
          "state": {
            "_model_module": "@jupyter-widgets/base",
            "_model_module_version": "1.2.0",
            "_model_name": "LayoutModel",
            "_view_count": null,
            "_view_module": "@jupyter-widgets/base",
            "_view_module_version": "1.2.0",
            "_view_name": "LayoutView",
            "align_content": null,
            "align_items": null,
            "align_self": null,
            "border": null,
            "bottom": null,
            "display": null,
            "flex": null,
            "flex_flow": null,
            "grid_area": null,
            "grid_auto_columns": null,
            "grid_auto_flow": null,
            "grid_auto_rows": null,
            "grid_column": null,
            "grid_gap": null,
            "grid_row": null,
            "grid_template_areas": null,
            "grid_template_columns": null,
            "grid_template_rows": null,
            "height": null,
            "justify_content": null,
            "justify_items": null,
            "left": null,
            "margin": null,
            "max_height": null,
            "max_width": null,
            "min_height": null,
            "min_width": null,
            "object_fit": null,
            "object_position": null,
            "order": null,
            "overflow": null,
            "overflow_x": null,
            "overflow_y": null,
            "padding": null,
            "right": null,
            "top": null,
            "visibility": null,
            "width": null
          }
        },
        "35bcfcab47af403d959ab4596725f68d": {
          "model_module": "@jupyter-widgets/controls",
          "model_module_version": "1.5.0",
          "model_name": "FloatProgressModel",
          "state": {
            "_dom_classes": [],
            "_model_module": "@jupyter-widgets/controls",
            "_model_module_version": "1.5.0",
            "_model_name": "FloatProgressModel",
            "_view_count": null,
            "_view_module": "@jupyter-widgets/controls",
            "_view_module_version": "1.5.0",
            "_view_name": "ProgressView",
            "bar_style": "success",
            "description": "",
            "description_tooltip": null,
            "layout": "IPY_MODEL_728200d836274ae69bdf18d2d1fcecb4",
            "max": 4126,
            "min": 0,
            "orientation": "horizontal",
            "style": "IPY_MODEL_947a1909c29847c2adb285288d5e0515",
            "value": 4126
          }
        },
        "3a41d6d79b704788a74e25b3cecd1e40": {
          "model_module": "@jupyter-widgets/controls",
          "model_module_version": "1.5.0",
          "model_name": "HTMLModel",
          "state": {
            "_dom_classes": [],
            "_model_module": "@jupyter-widgets/controls",
            "_model_module_version": "1.5.0",
            "_model_name": "HTMLModel",
            "_view_count": null,
            "_view_module": "@jupyter-widgets/controls",
            "_view_module_version": "1.5.0",
            "_view_name": "HTMLView",
            "description": "",
            "description_tooltip": null,
            "layout": "IPY_MODEL_ad8bf70707134ac1ba9bbb208b6d6020",
            "placeholder": "​",
            "style": "IPY_MODEL_0dbd7c6c759c4eb6ac79b4ae5874dc10",
            "value": " 4126/4126 [2:33:55&lt;00:00,  2.16s/it]"
          }
        },
        "3c11ffb1167943998d0098696eeffaf5": {
          "model_module": "@jupyter-widgets/controls",
          "model_module_version": "1.5.0",
          "model_name": "HBoxModel",
          "state": {
            "_dom_classes": [],
            "_model_module": "@jupyter-widgets/controls",
            "_model_module_version": "1.5.0",
            "_model_name": "HBoxModel",
            "_view_count": null,
            "_view_module": "@jupyter-widgets/controls",
            "_view_module_version": "1.5.0",
            "_view_name": "HBoxView",
            "box_style": "",
            "children": [
              "IPY_MODEL_500f2a24820d45d5b0267ab0d363a5b9",
              "IPY_MODEL_14ebdb1804e54a79b52b602325a98658",
              "IPY_MODEL_e047200ff7f049429ac1e06d703925bc"
            ],
            "layout": "IPY_MODEL_075e2c89092d4fe5aa2b8d668cc18746"
          }
        },
        "456e0a10d6e345d8a275f39c043b0c21": {
          "model_module": "@jupyter-widgets/controls",
          "model_module_version": "1.5.0",
          "model_name": "DescriptionStyleModel",
          "state": {
            "_model_module": "@jupyter-widgets/controls",
            "_model_module_version": "1.5.0",
            "_model_name": "DescriptionStyleModel",
            "_view_count": null,
            "_view_module": "@jupyter-widgets/base",
            "_view_module_version": "1.2.0",
            "_view_name": "StyleView",
            "description_width": ""
          }
        },
        "500f2a24820d45d5b0267ab0d363a5b9": {
          "model_module": "@jupyter-widgets/controls",
          "model_module_version": "1.5.0",
          "model_name": "HTMLModel",
          "state": {
            "_dom_classes": [],
            "_model_module": "@jupyter-widgets/controls",
            "_model_module_version": "1.5.0",
            "_model_name": "HTMLModel",
            "_view_count": null,
            "_view_module": "@jupyter-widgets/controls",
            "_view_module_version": "1.5.0",
            "_view_name": "HTMLView",
            "description": "",
            "description_tooltip": null,
            "layout": "IPY_MODEL_d1d0e06994ad45cf801ede057292411e",
            "placeholder": "​",
            "style": "IPY_MODEL_0a599037eddc4ec79bfc99fc567ba2d1",
            "value": "100%"
          }
        },
        "507e227d70844b7d88ed9e485d4a1fa5": {
          "model_module": "@jupyter-widgets/controls",
          "model_module_version": "1.5.0",
          "model_name": "HTMLModel",
          "state": {
            "_dom_classes": [],
            "_model_module": "@jupyter-widgets/controls",
            "_model_module_version": "1.5.0",
            "_model_name": "HTMLModel",
            "_view_count": null,
            "_view_module": "@jupyter-widgets/controls",
            "_view_module_version": "1.5.0",
            "_view_name": "HTMLView",
            "description": "",
            "description_tooltip": null,
            "layout": "IPY_MODEL_1e0381ad41a74e86b245d4d27c6deeff",
            "placeholder": "​",
            "style": "IPY_MODEL_a65ec76724534623a209787ebc763c53",
            "value": "Evaluating: 100%"
          }
        },
        "5969512bc9f84cccbcbf36c4ad56cb58": {
          "model_module": "@jupyter-widgets/base",
          "model_module_version": "1.2.0",
          "model_name": "LayoutModel",
          "state": {
            "_model_module": "@jupyter-widgets/base",
            "_model_module_version": "1.2.0",
            "_model_name": "LayoutModel",
            "_view_count": null,
            "_view_module": "@jupyter-widgets/base",
            "_view_module_version": "1.2.0",
            "_view_name": "LayoutView",
            "align_content": null,
            "align_items": null,
            "align_self": null,
            "border": null,
            "bottom": null,
            "display": null,
            "flex": null,
            "flex_flow": null,
            "grid_area": null,
            "grid_auto_columns": null,
            "grid_auto_flow": null,
            "grid_auto_rows": null,
            "grid_column": null,
            "grid_gap": null,
            "grid_row": null,
            "grid_template_areas": null,
            "grid_template_columns": null,
            "grid_template_rows": null,
            "height": null,
            "justify_content": null,
            "justify_items": null,
            "left": null,
            "margin": null,
            "max_height": null,
            "max_width": null,
            "min_height": null,
            "min_width": null,
            "object_fit": null,
            "object_position": null,
            "order": null,
            "overflow": null,
            "overflow_x": null,
            "overflow_y": null,
            "padding": null,
            "right": null,
            "top": null,
            "visibility": null,
            "width": null
          }
        },
        "728200d836274ae69bdf18d2d1fcecb4": {
          "model_module": "@jupyter-widgets/base",
          "model_module_version": "1.2.0",
          "model_name": "LayoutModel",
          "state": {
            "_model_module": "@jupyter-widgets/base",
            "_model_module_version": "1.2.0",
            "_model_name": "LayoutModel",
            "_view_count": null,
            "_view_module": "@jupyter-widgets/base",
            "_view_module_version": "1.2.0",
            "_view_name": "LayoutView",
            "align_content": null,
            "align_items": null,
            "align_self": null,
            "border": null,
            "bottom": null,
            "display": null,
            "flex": null,
            "flex_flow": null,
            "grid_area": null,
            "grid_auto_columns": null,
            "grid_auto_flow": null,
            "grid_auto_rows": null,
            "grid_column": null,
            "grid_gap": null,
            "grid_row": null,
            "grid_template_areas": null,
            "grid_template_columns": null,
            "grid_template_rows": null,
            "height": null,
            "justify_content": null,
            "justify_items": null,
            "left": null,
            "margin": null,
            "max_height": null,
            "max_width": null,
            "min_height": null,
            "min_width": null,
            "object_fit": null,
            "object_position": null,
            "order": null,
            "overflow": null,
            "overflow_x": null,
            "overflow_y": null,
            "padding": null,
            "right": null,
            "top": null,
            "visibility": null,
            "width": null
          }
        },
        "769599ee2831440e9ad5bd165af2fff1": {
          "model_module": "@jupyter-widgets/controls",
          "model_module_version": "1.5.0",
          "model_name": "ProgressStyleModel",
          "state": {
            "_model_module": "@jupyter-widgets/controls",
            "_model_module_version": "1.5.0",
            "_model_name": "ProgressStyleModel",
            "_view_count": null,
            "_view_module": "@jupyter-widgets/base",
            "_view_module_version": "1.2.0",
            "_view_name": "StyleView",
            "bar_color": null,
            "description_width": ""
          }
        },
        "7d3382d73b8a499984d8ebe12c30427d": {
          "model_module": "@jupyter-widgets/controls",
          "model_module_version": "1.5.0",
          "model_name": "HBoxModel",
          "state": {
            "_dom_classes": [],
            "_model_module": "@jupyter-widgets/controls",
            "_model_module_version": "1.5.0",
            "_model_name": "HBoxModel",
            "_view_count": null,
            "_view_module": "@jupyter-widgets/controls",
            "_view_module_version": "1.5.0",
            "_view_name": "HBoxView",
            "box_style": "",
            "children": [
              "IPY_MODEL_038e96da17ab44aa979b8394caabea69",
              "IPY_MODEL_35bcfcab47af403d959ab4596725f68d",
              "IPY_MODEL_3a41d6d79b704788a74e25b3cecd1e40"
            ],
            "layout": "IPY_MODEL_ce2ab5d6400f4e7b969b18e8c340b1db"
          }
        },
        "8387a73d0f2140cd94116457c4506dd1": {
          "model_module": "@jupyter-widgets/base",
          "model_module_version": "1.2.0",
          "model_name": "LayoutModel",
          "state": {
            "_model_module": "@jupyter-widgets/base",
            "_model_module_version": "1.2.0",
            "_model_name": "LayoutModel",
            "_view_count": null,
            "_view_module": "@jupyter-widgets/base",
            "_view_module_version": "1.2.0",
            "_view_name": "LayoutView",
            "align_content": null,
            "align_items": null,
            "align_self": null,
            "border": null,
            "bottom": null,
            "display": null,
            "flex": null,
            "flex_flow": null,
            "grid_area": null,
            "grid_auto_columns": null,
            "grid_auto_flow": null,
            "grid_auto_rows": null,
            "grid_column": null,
            "grid_gap": null,
            "grid_row": null,
            "grid_template_areas": null,
            "grid_template_columns": null,
            "grid_template_rows": null,
            "height": null,
            "justify_content": null,
            "justify_items": null,
            "left": null,
            "margin": null,
            "max_height": null,
            "max_width": null,
            "min_height": null,
            "min_width": null,
            "object_fit": null,
            "object_position": null,
            "order": null,
            "overflow": null,
            "overflow_x": null,
            "overflow_y": null,
            "padding": null,
            "right": null,
            "top": null,
            "visibility": null,
            "width": null
          }
        },
        "89d61bb7049b403dbf6ce19d67a3518b": {
          "model_module": "@jupyter-widgets/base",
          "model_module_version": "1.2.0",
          "model_name": "LayoutModel",
          "state": {
            "_model_module": "@jupyter-widgets/base",
            "_model_module_version": "1.2.0",
            "_model_name": "LayoutModel",
            "_view_count": null,
            "_view_module": "@jupyter-widgets/base",
            "_view_module_version": "1.2.0",
            "_view_name": "LayoutView",
            "align_content": null,
            "align_items": null,
            "align_self": null,
            "border": null,
            "bottom": null,
            "display": null,
            "flex": null,
            "flex_flow": null,
            "grid_area": null,
            "grid_auto_columns": null,
            "grid_auto_flow": null,
            "grid_auto_rows": null,
            "grid_column": null,
            "grid_gap": null,
            "grid_row": null,
            "grid_template_areas": null,
            "grid_template_columns": null,
            "grid_template_rows": null,
            "height": null,
            "justify_content": null,
            "justify_items": null,
            "left": null,
            "margin": null,
            "max_height": null,
            "max_width": null,
            "min_height": null,
            "min_width": null,
            "object_fit": null,
            "object_position": null,
            "order": null,
            "overflow": null,
            "overflow_x": null,
            "overflow_y": null,
            "padding": null,
            "right": null,
            "top": null,
            "visibility": null,
            "width": null
          }
        },
        "947a1909c29847c2adb285288d5e0515": {
          "model_module": "@jupyter-widgets/controls",
          "model_module_version": "1.5.0",
          "model_name": "ProgressStyleModel",
          "state": {
            "_model_module": "@jupyter-widgets/controls",
            "_model_module_version": "1.5.0",
            "_model_name": "ProgressStyleModel",
            "_view_count": null,
            "_view_module": "@jupyter-widgets/base",
            "_view_module_version": "1.2.0",
            "_view_name": "StyleView",
            "bar_color": null,
            "description_width": ""
          }
        },
        "a65ec76724534623a209787ebc763c53": {
          "model_module": "@jupyter-widgets/controls",
          "model_module_version": "1.5.0",
          "model_name": "DescriptionStyleModel",
          "state": {
            "_model_module": "@jupyter-widgets/controls",
            "_model_module_version": "1.5.0",
            "_model_name": "DescriptionStyleModel",
            "_view_count": null,
            "_view_module": "@jupyter-widgets/base",
            "_view_module_version": "1.2.0",
            "_view_name": "StyleView",
            "description_width": ""
          }
        },
        "ad8bf70707134ac1ba9bbb208b6d6020": {
          "model_module": "@jupyter-widgets/base",
          "model_module_version": "1.2.0",
          "model_name": "LayoutModel",
          "state": {
            "_model_module": "@jupyter-widgets/base",
            "_model_module_version": "1.2.0",
            "_model_name": "LayoutModel",
            "_view_count": null,
            "_view_module": "@jupyter-widgets/base",
            "_view_module_version": "1.2.0",
            "_view_name": "LayoutView",
            "align_content": null,
            "align_items": null,
            "align_self": null,
            "border": null,
            "bottom": null,
            "display": null,
            "flex": null,
            "flex_flow": null,
            "grid_area": null,
            "grid_auto_columns": null,
            "grid_auto_flow": null,
            "grid_auto_rows": null,
            "grid_column": null,
            "grid_gap": null,
            "grid_row": null,
            "grid_template_areas": null,
            "grid_template_columns": null,
            "grid_template_rows": null,
            "height": null,
            "justify_content": null,
            "justify_items": null,
            "left": null,
            "margin": null,
            "max_height": null,
            "max_width": null,
            "min_height": null,
            "min_width": null,
            "object_fit": null,
            "object_position": null,
            "order": null,
            "overflow": null,
            "overflow_x": null,
            "overflow_y": null,
            "padding": null,
            "right": null,
            "top": null,
            "visibility": null,
            "width": null
          }
        },
        "ba0f83b3033c4c4dac1fcd9d7b6a891c": {
          "model_module": "@jupyter-widgets/controls",
          "model_module_version": "1.5.0",
          "model_name": "DescriptionStyleModel",
          "state": {
            "_model_module": "@jupyter-widgets/controls",
            "_model_module_version": "1.5.0",
            "_model_name": "DescriptionStyleModel",
            "_view_count": null,
            "_view_module": "@jupyter-widgets/base",
            "_view_module_version": "1.2.0",
            "_view_name": "StyleView",
            "description_width": ""
          }
        },
        "ce2ab5d6400f4e7b969b18e8c340b1db": {
          "model_module": "@jupyter-widgets/base",
          "model_module_version": "1.2.0",
          "model_name": "LayoutModel",
          "state": {
            "_model_module": "@jupyter-widgets/base",
            "_model_module_version": "1.2.0",
            "_model_name": "LayoutModel",
            "_view_count": null,
            "_view_module": "@jupyter-widgets/base",
            "_view_module_version": "1.2.0",
            "_view_name": "LayoutView",
            "align_content": null,
            "align_items": null,
            "align_self": null,
            "border": null,
            "bottom": null,
            "display": null,
            "flex": null,
            "flex_flow": null,
            "grid_area": null,
            "grid_auto_columns": null,
            "grid_auto_flow": null,
            "grid_auto_rows": null,
            "grid_column": null,
            "grid_gap": null,
            "grid_row": null,
            "grid_template_areas": null,
            "grid_template_columns": null,
            "grid_template_rows": null,
            "height": null,
            "justify_content": null,
            "justify_items": null,
            "left": null,
            "margin": null,
            "max_height": null,
            "max_width": null,
            "min_height": null,
            "min_width": null,
            "object_fit": null,
            "object_position": null,
            "order": null,
            "overflow": null,
            "overflow_x": null,
            "overflow_y": null,
            "padding": null,
            "right": null,
            "top": null,
            "visibility": null,
            "width": null
          }
        },
        "d1d0e06994ad45cf801ede057292411e": {
          "model_module": "@jupyter-widgets/base",
          "model_module_version": "1.2.0",
          "model_name": "LayoutModel",
          "state": {
            "_model_module": "@jupyter-widgets/base",
            "_model_module_version": "1.2.0",
            "_model_name": "LayoutModel",
            "_view_count": null,
            "_view_module": "@jupyter-widgets/base",
            "_view_module_version": "1.2.0",
            "_view_name": "LayoutView",
            "align_content": null,
            "align_items": null,
            "align_self": null,
            "border": null,
            "bottom": null,
            "display": null,
            "flex": null,
            "flex_flow": null,
            "grid_area": null,
            "grid_auto_columns": null,
            "grid_auto_flow": null,
            "grid_auto_rows": null,
            "grid_column": null,
            "grid_gap": null,
            "grid_row": null,
            "grid_template_areas": null,
            "grid_template_columns": null,
            "grid_template_rows": null,
            "height": null,
            "justify_content": null,
            "justify_items": null,
            "left": null,
            "margin": null,
            "max_height": null,
            "max_width": null,
            "min_height": null,
            "min_width": null,
            "object_fit": null,
            "object_position": null,
            "order": null,
            "overflow": null,
            "overflow_x": null,
            "overflow_y": null,
            "padding": null,
            "right": null,
            "top": null,
            "visibility": null,
            "width": null
          }
        },
        "e047200ff7f049429ac1e06d703925bc": {
          "model_module": "@jupyter-widgets/controls",
          "model_module_version": "1.5.0",
          "model_name": "HTMLModel",
          "state": {
            "_dom_classes": [],
            "_model_module": "@jupyter-widgets/controls",
            "_model_module_version": "1.5.0",
            "_model_name": "HTMLModel",
            "_view_count": null,
            "_view_module": "@jupyter-widgets/controls",
            "_view_module_version": "1.5.0",
            "_view_name": "HTMLView",
            "description": "",
            "description_tooltip": null,
            "layout": "IPY_MODEL_89d61bb7049b403dbf6ce19d67a3518b",
            "placeholder": "​",
            "style": "IPY_MODEL_456e0a10d6e345d8a275f39c043b0c21",
            "value": " 4126/4126 [2:26:06&lt;00:00,  1.95s/it]"
          }
        },
        "e5643e73c9854d5cb73426395924328e": {
          "model_module": "@jupyter-widgets/base",
          "model_module_version": "1.2.0",
          "model_name": "LayoutModel",
          "state": {
            "_model_module": "@jupyter-widgets/base",
            "_model_module_version": "1.2.0",
            "_model_name": "LayoutModel",
            "_view_count": null,
            "_view_module": "@jupyter-widgets/base",
            "_view_module_version": "1.2.0",
            "_view_name": "LayoutView",
            "align_content": null,
            "align_items": null,
            "align_self": null,
            "border": null,
            "bottom": null,
            "display": null,
            "flex": null,
            "flex_flow": null,
            "grid_area": null,
            "grid_auto_columns": null,
            "grid_auto_flow": null,
            "grid_auto_rows": null,
            "grid_column": null,
            "grid_gap": null,
            "grid_row": null,
            "grid_template_areas": null,
            "grid_template_columns": null,
            "grid_template_rows": null,
            "height": null,
            "justify_content": null,
            "justify_items": null,
            "left": null,
            "margin": null,
            "max_height": null,
            "max_width": null,
            "min_height": null,
            "min_width": null,
            "object_fit": null,
            "object_position": null,
            "order": null,
            "overflow": null,
            "overflow_x": null,
            "overflow_y": null,
            "padding": null,
            "right": null,
            "top": null,
            "visibility": null,
            "width": null
          }
        },
        "e75645bd7e7a47fc830a5dea14da710c": {
          "model_module": "@jupyter-widgets/base",
          "model_module_version": "1.2.0",
          "model_name": "LayoutModel",
          "state": {
            "_model_module": "@jupyter-widgets/base",
            "_model_module_version": "1.2.0",
            "_model_name": "LayoutModel",
            "_view_count": null,
            "_view_module": "@jupyter-widgets/base",
            "_view_module_version": "1.2.0",
            "_view_name": "LayoutView",
            "align_content": null,
            "align_items": null,
            "align_self": null,
            "border": null,
            "bottom": null,
            "display": null,
            "flex": null,
            "flex_flow": null,
            "grid_area": null,
            "grid_auto_columns": null,
            "grid_auto_flow": null,
            "grid_auto_rows": null,
            "grid_column": null,
            "grid_gap": null,
            "grid_row": null,
            "grid_template_areas": null,
            "grid_template_columns": null,
            "grid_template_rows": null,
            "height": null,
            "justify_content": null,
            "justify_items": null,
            "left": null,
            "margin": null,
            "max_height": null,
            "max_width": null,
            "min_height": null,
            "min_width": null,
            "object_fit": null,
            "object_position": null,
            "order": null,
            "overflow": null,
            "overflow_x": null,
            "overflow_y": null,
            "padding": null,
            "right": null,
            "top": null,
            "visibility": null,
            "width": null
          }
        },
        "f3c02cb0996c409e842d69310a5860b3": {
          "model_module": "@jupyter-widgets/controls",
          "model_module_version": "1.5.0",
          "model_name": "FloatProgressModel",
          "state": {
            "_dom_classes": [],
            "_model_module": "@jupyter-widgets/controls",
            "_model_module_version": "1.5.0",
            "_model_name": "FloatProgressModel",
            "_view_count": null,
            "_view_module": "@jupyter-widgets/controls",
            "_view_module_version": "1.5.0",
            "_view_name": "ProgressView",
            "bar_style": "success",
            "description": "",
            "description_tooltip": null,
            "layout": "IPY_MODEL_e75645bd7e7a47fc830a5dea14da710c",
            "max": 516,
            "min": 0,
            "orientation": "horizontal",
            "style": "IPY_MODEL_15a33d25a54e436e89a814bf148fa7f5",
            "value": 516
          }
        },
        "fbcab17a29be49f6990afd3ec0930b2d": {
          "model_module": "@jupyter-widgets/controls",
          "model_module_version": "1.5.0",
          "model_name": "HTMLModel",
          "state": {
            "_dom_classes": [],
            "_model_module": "@jupyter-widgets/controls",
            "_model_module_version": "1.5.0",
            "_model_name": "HTMLModel",
            "_view_count": null,
            "_view_module": "@jupyter-widgets/controls",
            "_view_module_version": "1.5.0",
            "_view_name": "HTMLView",
            "description": "",
            "description_tooltip": null,
            "layout": "IPY_MODEL_19167e0683514c6999cca2524413c671",
            "placeholder": "​",
            "style": "IPY_MODEL_1c4e6db64e4d47b294527b1acd556f66",
            "value": " 516/516 [11:22&lt;00:00,  1.09s/it]"
          }
        }
      }
    }
  },
  "nbformat": 4,
  "nbformat_minor": 0
}
