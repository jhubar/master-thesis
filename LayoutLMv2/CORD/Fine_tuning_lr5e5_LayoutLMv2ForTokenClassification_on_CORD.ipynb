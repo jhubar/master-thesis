{
  "nbformat": 4,
  "nbformat_minor": 0,
  "metadata": {
    "accelerator": "GPU",
    "colab": {
      "name": "Fine-tuning LayoutLMv2ForTokenClassification on CORD.ipynb",
      "provenance": [],
      "collapsed_sections": [],
      "machine_shape": "hm",
      "include_colab_link": true
    },
    "kernelspec": {
      "display_name": "Python 3",
      "name": "python3"
    },
    "language_info": {
      "name": "python"
    },
    "widgets": {
      "application/vnd.jupyter.widget-state+json": {
        "109788a43dba47a7bf97c1e90e6ba975": {
          "model_module": "@jupyter-widgets/controls",
          "model_name": "HBoxModel",
          "model_module_version": "1.5.0",
          "state": {
            "_dom_classes": [],
            "_model_module": "@jupyter-widgets/controls",
            "_model_module_version": "1.5.0",
            "_model_name": "HBoxModel",
            "_view_count": null,
            "_view_module": "@jupyter-widgets/controls",
            "_view_module_version": "1.5.0",
            "_view_name": "HBoxView",
            "box_style": "",
            "children": [
              "IPY_MODEL_d33a45b78a7b47ba83dbaadc781e9558",
              "IPY_MODEL_0cfb9c77a8174ed583f32d54138639e5",
              "IPY_MODEL_7a87e624048a4b4eb908b58a5102e62b"
            ],
            "layout": "IPY_MODEL_884faaf1853343cbbb48f07be09e73b0"
          }
        },
        "d33a45b78a7b47ba83dbaadc781e9558": {
          "model_module": "@jupyter-widgets/controls",
          "model_name": "HTMLModel",
          "model_module_version": "1.5.0",
          "state": {
            "_dom_classes": [],
            "_model_module": "@jupyter-widgets/controls",
            "_model_module_version": "1.5.0",
            "_model_name": "HTMLModel",
            "_view_count": null,
            "_view_module": "@jupyter-widgets/controls",
            "_view_module_version": "1.5.0",
            "_view_name": "HTMLView",
            "description": "",
            "description_tooltip": null,
            "layout": "IPY_MODEL_ea89c1797c1243658ca3c836d882a00f",
            "placeholder": "​",
            "style": "IPY_MODEL_671872a976ad4828b29b2eb609521375",
            "value": "100%"
          }
        },
        "0cfb9c77a8174ed583f32d54138639e5": {
          "model_module": "@jupyter-widgets/controls",
          "model_name": "FloatProgressModel",
          "model_module_version": "1.5.0",
          "state": {
            "_dom_classes": [],
            "_model_module": "@jupyter-widgets/controls",
            "_model_module_version": "1.5.0",
            "_model_name": "FloatProgressModel",
            "_view_count": null,
            "_view_module": "@jupyter-widgets/controls",
            "_view_module_version": "1.5.0",
            "_view_name": "ProgressView",
            "bar_style": "success",
            "description": "",
            "description_tooltip": null,
            "layout": "IPY_MODEL_46805264ef88448f8c63fb6a2a4d395d",
            "max": 373,
            "min": 0,
            "orientation": "horizontal",
            "style": "IPY_MODEL_2ce24c15f9ca4afc95863ba054522df4",
            "value": 373
          }
        },
        "7a87e624048a4b4eb908b58a5102e62b": {
          "model_module": "@jupyter-widgets/controls",
          "model_name": "HTMLModel",
          "model_module_version": "1.5.0",
          "state": {
            "_dom_classes": [],
            "_model_module": "@jupyter-widgets/controls",
            "_model_module_version": "1.5.0",
            "_model_name": "HTMLModel",
            "_view_count": null,
            "_view_module": "@jupyter-widgets/controls",
            "_view_module_version": "1.5.0",
            "_view_name": "HTMLView",
            "description": "",
            "description_tooltip": null,
            "layout": "IPY_MODEL_4f2acfe111084d7aa0025a47f227f03a",
            "placeholder": "​",
            "style": "IPY_MODEL_914253f048d548b99e420b794f712686",
            "value": " 373/373 [03:16&lt;00:00,  1.88it/s]"
          }
        },
        "884faaf1853343cbbb48f07be09e73b0": {
          "model_module": "@jupyter-widgets/base",
          "model_name": "LayoutModel",
          "model_module_version": "1.2.0",
          "state": {
            "_model_module": "@jupyter-widgets/base",
            "_model_module_version": "1.2.0",
            "_model_name": "LayoutModel",
            "_view_count": null,
            "_view_module": "@jupyter-widgets/base",
            "_view_module_version": "1.2.0",
            "_view_name": "LayoutView",
            "align_content": null,
            "align_items": null,
            "align_self": null,
            "border": null,
            "bottom": null,
            "display": null,
            "flex": null,
            "flex_flow": null,
            "grid_area": null,
            "grid_auto_columns": null,
            "grid_auto_flow": null,
            "grid_auto_rows": null,
            "grid_column": null,
            "grid_gap": null,
            "grid_row": null,
            "grid_template_areas": null,
            "grid_template_columns": null,
            "grid_template_rows": null,
            "height": null,
            "justify_content": null,
            "justify_items": null,
            "left": null,
            "margin": null,
            "max_height": null,
            "max_width": null,
            "min_height": null,
            "min_width": null,
            "object_fit": null,
            "object_position": null,
            "order": null,
            "overflow": null,
            "overflow_x": null,
            "overflow_y": null,
            "padding": null,
            "right": null,
            "top": null,
            "visibility": null,
            "width": null
          }
        },
        "ea89c1797c1243658ca3c836d882a00f": {
          "model_module": "@jupyter-widgets/base",
          "model_name": "LayoutModel",
          "model_module_version": "1.2.0",
          "state": {
            "_model_module": "@jupyter-widgets/base",
            "_model_module_version": "1.2.0",
            "_model_name": "LayoutModel",
            "_view_count": null,
            "_view_module": "@jupyter-widgets/base",
            "_view_module_version": "1.2.0",
            "_view_name": "LayoutView",
            "align_content": null,
            "align_items": null,
            "align_self": null,
            "border": null,
            "bottom": null,
            "display": null,
            "flex": null,
            "flex_flow": null,
            "grid_area": null,
            "grid_auto_columns": null,
            "grid_auto_flow": null,
            "grid_auto_rows": null,
            "grid_column": null,
            "grid_gap": null,
            "grid_row": null,
            "grid_template_areas": null,
            "grid_template_columns": null,
            "grid_template_rows": null,
            "height": null,
            "justify_content": null,
            "justify_items": null,
            "left": null,
            "margin": null,
            "max_height": null,
            "max_width": null,
            "min_height": null,
            "min_width": null,
            "object_fit": null,
            "object_position": null,
            "order": null,
            "overflow": null,
            "overflow_x": null,
            "overflow_y": null,
            "padding": null,
            "right": null,
            "top": null,
            "visibility": null,
            "width": null
          }
        },
        "671872a976ad4828b29b2eb609521375": {
          "model_module": "@jupyter-widgets/controls",
          "model_name": "DescriptionStyleModel",
          "model_module_version": "1.5.0",
          "state": {
            "_model_module": "@jupyter-widgets/controls",
            "_model_module_version": "1.5.0",
            "_model_name": "DescriptionStyleModel",
            "_view_count": null,
            "_view_module": "@jupyter-widgets/base",
            "_view_module_version": "1.2.0",
            "_view_name": "StyleView",
            "description_width": ""
          }
        },
        "46805264ef88448f8c63fb6a2a4d395d": {
          "model_module": "@jupyter-widgets/base",
          "model_name": "LayoutModel",
          "model_module_version": "1.2.0",
          "state": {
            "_model_module": "@jupyter-widgets/base",
            "_model_module_version": "1.2.0",
            "_model_name": "LayoutModel",
            "_view_count": null,
            "_view_module": "@jupyter-widgets/base",
            "_view_module_version": "1.2.0",
            "_view_name": "LayoutView",
            "align_content": null,
            "align_items": null,
            "align_self": null,
            "border": null,
            "bottom": null,
            "display": null,
            "flex": null,
            "flex_flow": null,
            "grid_area": null,
            "grid_auto_columns": null,
            "grid_auto_flow": null,
            "grid_auto_rows": null,
            "grid_column": null,
            "grid_gap": null,
            "grid_row": null,
            "grid_template_areas": null,
            "grid_template_columns": null,
            "grid_template_rows": null,
            "height": null,
            "justify_content": null,
            "justify_items": null,
            "left": null,
            "margin": null,
            "max_height": null,
            "max_width": null,
            "min_height": null,
            "min_width": null,
            "object_fit": null,
            "object_position": null,
            "order": null,
            "overflow": null,
            "overflow_x": null,
            "overflow_y": null,
            "padding": null,
            "right": null,
            "top": null,
            "visibility": null,
            "width": null
          }
        },
        "2ce24c15f9ca4afc95863ba054522df4": {
          "model_module": "@jupyter-widgets/controls",
          "model_name": "ProgressStyleModel",
          "model_module_version": "1.5.0",
          "state": {
            "_model_module": "@jupyter-widgets/controls",
            "_model_module_version": "1.5.0",
            "_model_name": "ProgressStyleModel",
            "_view_count": null,
            "_view_module": "@jupyter-widgets/base",
            "_view_module_version": "1.2.0",
            "_view_name": "StyleView",
            "bar_color": null,
            "description_width": ""
          }
        },
        "4f2acfe111084d7aa0025a47f227f03a": {
          "model_module": "@jupyter-widgets/base",
          "model_name": "LayoutModel",
          "model_module_version": "1.2.0",
          "state": {
            "_model_module": "@jupyter-widgets/base",
            "_model_module_version": "1.2.0",
            "_model_name": "LayoutModel",
            "_view_count": null,
            "_view_module": "@jupyter-widgets/base",
            "_view_module_version": "1.2.0",
            "_view_name": "LayoutView",
            "align_content": null,
            "align_items": null,
            "align_self": null,
            "border": null,
            "bottom": null,
            "display": null,
            "flex": null,
            "flex_flow": null,
            "grid_area": null,
            "grid_auto_columns": null,
            "grid_auto_flow": null,
            "grid_auto_rows": null,
            "grid_column": null,
            "grid_gap": null,
            "grid_row": null,
            "grid_template_areas": null,
            "grid_template_columns": null,
            "grid_template_rows": null,
            "height": null,
            "justify_content": null,
            "justify_items": null,
            "left": null,
            "margin": null,
            "max_height": null,
            "max_width": null,
            "min_height": null,
            "min_width": null,
            "object_fit": null,
            "object_position": null,
            "order": null,
            "overflow": null,
            "overflow_x": null,
            "overflow_y": null,
            "padding": null,
            "right": null,
            "top": null,
            "visibility": null,
            "width": null
          }
        },
        "914253f048d548b99e420b794f712686": {
          "model_module": "@jupyter-widgets/controls",
          "model_name": "DescriptionStyleModel",
          "model_module_version": "1.5.0",
          "state": {
            "_model_module": "@jupyter-widgets/controls",
            "_model_module_version": "1.5.0",
            "_model_name": "DescriptionStyleModel",
            "_view_count": null,
            "_view_module": "@jupyter-widgets/base",
            "_view_module_version": "1.2.0",
            "_view_name": "StyleView",
            "description_width": ""
          }
        },
        "d6db070d59dc45489deffe7e65640b8b": {
          "model_module": "@jupyter-widgets/controls",
          "model_name": "HBoxModel",
          "model_module_version": "1.5.0",
          "state": {
            "_dom_classes": [],
            "_model_module": "@jupyter-widgets/controls",
            "_model_module_version": "1.5.0",
            "_model_name": "HBoxModel",
            "_view_count": null,
            "_view_module": "@jupyter-widgets/controls",
            "_view_module_version": "1.5.0",
            "_view_name": "HBoxView",
            "box_style": "",
            "children": [
              "IPY_MODEL_dae9748f0aa44e88bbe4f448e6b0b9ac",
              "IPY_MODEL_3ae6eedd5c1c42c7ab97c8315b3d1ade",
              "IPY_MODEL_318592c35c5c4297b2de41f3910a6aac"
            ],
            "layout": "IPY_MODEL_28b4129c53c84f828061dee3b43234cb"
          }
        },
        "dae9748f0aa44e88bbe4f448e6b0b9ac": {
          "model_module": "@jupyter-widgets/controls",
          "model_name": "HTMLModel",
          "model_module_version": "1.5.0",
          "state": {
            "_dom_classes": [],
            "_model_module": "@jupyter-widgets/controls",
            "_model_module_version": "1.5.0",
            "_model_name": "HTMLModel",
            "_view_count": null,
            "_view_module": "@jupyter-widgets/controls",
            "_view_module_version": "1.5.0",
            "_view_name": "HTMLView",
            "description": "",
            "description_tooltip": null,
            "layout": "IPY_MODEL_e0b1d55cdd4141a28dc89e4f48c421c7",
            "placeholder": "​",
            "style": "IPY_MODEL_2bc61ec3de964cd5b84b59250786db52",
            "value": "100%"
          }
        },
        "3ae6eedd5c1c42c7ab97c8315b3d1ade": {
          "model_module": "@jupyter-widgets/controls",
          "model_name": "FloatProgressModel",
          "model_module_version": "1.5.0",
          "state": {
            "_dom_classes": [],
            "_model_module": "@jupyter-widgets/controls",
            "_model_module_version": "1.5.0",
            "_model_name": "FloatProgressModel",
            "_view_count": null,
            "_view_module": "@jupyter-widgets/controls",
            "_view_module_version": "1.5.0",
            "_view_name": "ProgressView",
            "bar_style": "success",
            "description": "",
            "description_tooltip": null,
            "layout": "IPY_MODEL_70dc55abc17e4221b31b29329c34727a",
            "max": 373,
            "min": 0,
            "orientation": "horizontal",
            "style": "IPY_MODEL_7ed1c0e030614295bc1d005a08af300f",
            "value": 373
          }
        },
        "318592c35c5c4297b2de41f3910a6aac": {
          "model_module": "@jupyter-widgets/controls",
          "model_name": "HTMLModel",
          "model_module_version": "1.5.0",
          "state": {
            "_dom_classes": [],
            "_model_module": "@jupyter-widgets/controls",
            "_model_module_version": "1.5.0",
            "_model_name": "HTMLModel",
            "_view_count": null,
            "_view_module": "@jupyter-widgets/controls",
            "_view_module_version": "1.5.0",
            "_view_name": "HTMLView",
            "description": "",
            "description_tooltip": null,
            "layout": "IPY_MODEL_f8d92ef7eea144f68da00527b0a2297c",
            "placeholder": "​",
            "style": "IPY_MODEL_8b40db3c1928484ca2aa763f545bd711",
            "value": " 373/373 [03:21&lt;00:00,  2.23it/s]"
          }
        },
        "28b4129c53c84f828061dee3b43234cb": {
          "model_module": "@jupyter-widgets/base",
          "model_name": "LayoutModel",
          "model_module_version": "1.2.0",
          "state": {
            "_model_module": "@jupyter-widgets/base",
            "_model_module_version": "1.2.0",
            "_model_name": "LayoutModel",
            "_view_count": null,
            "_view_module": "@jupyter-widgets/base",
            "_view_module_version": "1.2.0",
            "_view_name": "LayoutView",
            "align_content": null,
            "align_items": null,
            "align_self": null,
            "border": null,
            "bottom": null,
            "display": null,
            "flex": null,
            "flex_flow": null,
            "grid_area": null,
            "grid_auto_columns": null,
            "grid_auto_flow": null,
            "grid_auto_rows": null,
            "grid_column": null,
            "grid_gap": null,
            "grid_row": null,
            "grid_template_areas": null,
            "grid_template_columns": null,
            "grid_template_rows": null,
            "height": null,
            "justify_content": null,
            "justify_items": null,
            "left": null,
            "margin": null,
            "max_height": null,
            "max_width": null,
            "min_height": null,
            "min_width": null,
            "object_fit": null,
            "object_position": null,
            "order": null,
            "overflow": null,
            "overflow_x": null,
            "overflow_y": null,
            "padding": null,
            "right": null,
            "top": null,
            "visibility": null,
            "width": null
          }
        },
        "e0b1d55cdd4141a28dc89e4f48c421c7": {
          "model_module": "@jupyter-widgets/base",
          "model_name": "LayoutModel",
          "model_module_version": "1.2.0",
          "state": {
            "_model_module": "@jupyter-widgets/base",
            "_model_module_version": "1.2.0",
            "_model_name": "LayoutModel",
            "_view_count": null,
            "_view_module": "@jupyter-widgets/base",
            "_view_module_version": "1.2.0",
            "_view_name": "LayoutView",
            "align_content": null,
            "align_items": null,
            "align_self": null,
            "border": null,
            "bottom": null,
            "display": null,
            "flex": null,
            "flex_flow": null,
            "grid_area": null,
            "grid_auto_columns": null,
            "grid_auto_flow": null,
            "grid_auto_rows": null,
            "grid_column": null,
            "grid_gap": null,
            "grid_row": null,
            "grid_template_areas": null,
            "grid_template_columns": null,
            "grid_template_rows": null,
            "height": null,
            "justify_content": null,
            "justify_items": null,
            "left": null,
            "margin": null,
            "max_height": null,
            "max_width": null,
            "min_height": null,
            "min_width": null,
            "object_fit": null,
            "object_position": null,
            "order": null,
            "overflow": null,
            "overflow_x": null,
            "overflow_y": null,
            "padding": null,
            "right": null,
            "top": null,
            "visibility": null,
            "width": null
          }
        },
        "2bc61ec3de964cd5b84b59250786db52": {
          "model_module": "@jupyter-widgets/controls",
          "model_name": "DescriptionStyleModel",
          "model_module_version": "1.5.0",
          "state": {
            "_model_module": "@jupyter-widgets/controls",
            "_model_module_version": "1.5.0",
            "_model_name": "DescriptionStyleModel",
            "_view_count": null,
            "_view_module": "@jupyter-widgets/base",
            "_view_module_version": "1.2.0",
            "_view_name": "StyleView",
            "description_width": ""
          }
        },
        "70dc55abc17e4221b31b29329c34727a": {
          "model_module": "@jupyter-widgets/base",
          "model_name": "LayoutModel",
          "model_module_version": "1.2.0",
          "state": {
            "_model_module": "@jupyter-widgets/base",
            "_model_module_version": "1.2.0",
            "_model_name": "LayoutModel",
            "_view_count": null,
            "_view_module": "@jupyter-widgets/base",
            "_view_module_version": "1.2.0",
            "_view_name": "LayoutView",
            "align_content": null,
            "align_items": null,
            "align_self": null,
            "border": null,
            "bottom": null,
            "display": null,
            "flex": null,
            "flex_flow": null,
            "grid_area": null,
            "grid_auto_columns": null,
            "grid_auto_flow": null,
            "grid_auto_rows": null,
            "grid_column": null,
            "grid_gap": null,
            "grid_row": null,
            "grid_template_areas": null,
            "grid_template_columns": null,
            "grid_template_rows": null,
            "height": null,
            "justify_content": null,
            "justify_items": null,
            "left": null,
            "margin": null,
            "max_height": null,
            "max_width": null,
            "min_height": null,
            "min_width": null,
            "object_fit": null,
            "object_position": null,
            "order": null,
            "overflow": null,
            "overflow_x": null,
            "overflow_y": null,
            "padding": null,
            "right": null,
            "top": null,
            "visibility": null,
            "width": null
          }
        },
        "7ed1c0e030614295bc1d005a08af300f": {
          "model_module": "@jupyter-widgets/controls",
          "model_name": "ProgressStyleModel",
          "model_module_version": "1.5.0",
          "state": {
            "_model_module": "@jupyter-widgets/controls",
            "_model_module_version": "1.5.0",
            "_model_name": "ProgressStyleModel",
            "_view_count": null,
            "_view_module": "@jupyter-widgets/base",
            "_view_module_version": "1.2.0",
            "_view_name": "StyleView",
            "bar_color": null,
            "description_width": ""
          }
        },
        "f8d92ef7eea144f68da00527b0a2297c": {
          "model_module": "@jupyter-widgets/base",
          "model_name": "LayoutModel",
          "model_module_version": "1.2.0",
          "state": {
            "_model_module": "@jupyter-widgets/base",
            "_model_module_version": "1.2.0",
            "_model_name": "LayoutModel",
            "_view_count": null,
            "_view_module": "@jupyter-widgets/base",
            "_view_module_version": "1.2.0",
            "_view_name": "LayoutView",
            "align_content": null,
            "align_items": null,
            "align_self": null,
            "border": null,
            "bottom": null,
            "display": null,
            "flex": null,
            "flex_flow": null,
            "grid_area": null,
            "grid_auto_columns": null,
            "grid_auto_flow": null,
            "grid_auto_rows": null,
            "grid_column": null,
            "grid_gap": null,
            "grid_row": null,
            "grid_template_areas": null,
            "grid_template_columns": null,
            "grid_template_rows": null,
            "height": null,
            "justify_content": null,
            "justify_items": null,
            "left": null,
            "margin": null,
            "max_height": null,
            "max_width": null,
            "min_height": null,
            "min_width": null,
            "object_fit": null,
            "object_position": null,
            "order": null,
            "overflow": null,
            "overflow_x": null,
            "overflow_y": null,
            "padding": null,
            "right": null,
            "top": null,
            "visibility": null,
            "width": null
          }
        },
        "8b40db3c1928484ca2aa763f545bd711": {
          "model_module": "@jupyter-widgets/controls",
          "model_name": "DescriptionStyleModel",
          "model_module_version": "1.5.0",
          "state": {
            "_model_module": "@jupyter-widgets/controls",
            "_model_module_version": "1.5.0",
            "_model_name": "DescriptionStyleModel",
            "_view_count": null,
            "_view_module": "@jupyter-widgets/base",
            "_view_module_version": "1.2.0",
            "_view_name": "StyleView",
            "description_width": ""
          }
        },
        "40d04c17fbbe4544a9ced5c5c61d1377": {
          "model_module": "@jupyter-widgets/controls",
          "model_name": "HBoxModel",
          "model_module_version": "1.5.0",
          "state": {
            "_dom_classes": [],
            "_model_module": "@jupyter-widgets/controls",
            "_model_module_version": "1.5.0",
            "_model_name": "HBoxModel",
            "_view_count": null,
            "_view_module": "@jupyter-widgets/controls",
            "_view_module_version": "1.5.0",
            "_view_name": "HBoxView",
            "box_style": "",
            "children": [
              "IPY_MODEL_1c37e4ac5fb64d6db4c57bdc414be06b",
              "IPY_MODEL_63caea9c76de40e18feb782415b4917c",
              "IPY_MODEL_cbf1b54ff8e14aa584c7eba72ab03347"
            ],
            "layout": "IPY_MODEL_6117d48df77a4bd18e4e5af536b93ce0"
          }
        },
        "1c37e4ac5fb64d6db4c57bdc414be06b": {
          "model_module": "@jupyter-widgets/controls",
          "model_name": "HTMLModel",
          "model_module_version": "1.5.0",
          "state": {
            "_dom_classes": [],
            "_model_module": "@jupyter-widgets/controls",
            "_model_module_version": "1.5.0",
            "_model_name": "HTMLModel",
            "_view_count": null,
            "_view_module": "@jupyter-widgets/controls",
            "_view_module_version": "1.5.0",
            "_view_name": "HTMLView",
            "description": "",
            "description_tooltip": null,
            "layout": "IPY_MODEL_03437ba7cbec48559955442ab6628b3a",
            "placeholder": "​",
            "style": "IPY_MODEL_bc06ae5aadf74ccd93f50cbb7fb2f788",
            "value": "100%"
          }
        },
        "63caea9c76de40e18feb782415b4917c": {
          "model_module": "@jupyter-widgets/controls",
          "model_name": "FloatProgressModel",
          "model_module_version": "1.5.0",
          "state": {
            "_dom_classes": [],
            "_model_module": "@jupyter-widgets/controls",
            "_model_module_version": "1.5.0",
            "_model_name": "FloatProgressModel",
            "_view_count": null,
            "_view_module": "@jupyter-widgets/controls",
            "_view_module_version": "1.5.0",
            "_view_name": "ProgressView",
            "bar_style": "success",
            "description": "",
            "description_tooltip": null,
            "layout": "IPY_MODEL_0a6c0d12379b43e2b62fe932f93e062f",
            "max": 373,
            "min": 0,
            "orientation": "horizontal",
            "style": "IPY_MODEL_797b94e33a9346849a0c5ac96521e48f",
            "value": 373
          }
        },
        "cbf1b54ff8e14aa584c7eba72ab03347": {
          "model_module": "@jupyter-widgets/controls",
          "model_name": "HTMLModel",
          "model_module_version": "1.5.0",
          "state": {
            "_dom_classes": [],
            "_model_module": "@jupyter-widgets/controls",
            "_model_module_version": "1.5.0",
            "_model_name": "HTMLModel",
            "_view_count": null,
            "_view_module": "@jupyter-widgets/controls",
            "_view_module_version": "1.5.0",
            "_view_name": "HTMLView",
            "description": "",
            "description_tooltip": null,
            "layout": "IPY_MODEL_030dc8a301e741a792785e35e97cfd10",
            "placeholder": "​",
            "style": "IPY_MODEL_aa3d66857743410c845ebff5d8124a58",
            "value": " 373/373 [03:26&lt;00:00,  1.67it/s]"
          }
        },
        "6117d48df77a4bd18e4e5af536b93ce0": {
          "model_module": "@jupyter-widgets/base",
          "model_name": "LayoutModel",
          "model_module_version": "1.2.0",
          "state": {
            "_model_module": "@jupyter-widgets/base",
            "_model_module_version": "1.2.0",
            "_model_name": "LayoutModel",
            "_view_count": null,
            "_view_module": "@jupyter-widgets/base",
            "_view_module_version": "1.2.0",
            "_view_name": "LayoutView",
            "align_content": null,
            "align_items": null,
            "align_self": null,
            "border": null,
            "bottom": null,
            "display": null,
            "flex": null,
            "flex_flow": null,
            "grid_area": null,
            "grid_auto_columns": null,
            "grid_auto_flow": null,
            "grid_auto_rows": null,
            "grid_column": null,
            "grid_gap": null,
            "grid_row": null,
            "grid_template_areas": null,
            "grid_template_columns": null,
            "grid_template_rows": null,
            "height": null,
            "justify_content": null,
            "justify_items": null,
            "left": null,
            "margin": null,
            "max_height": null,
            "max_width": null,
            "min_height": null,
            "min_width": null,
            "object_fit": null,
            "object_position": null,
            "order": null,
            "overflow": null,
            "overflow_x": null,
            "overflow_y": null,
            "padding": null,
            "right": null,
            "top": null,
            "visibility": null,
            "width": null
          }
        },
        "03437ba7cbec48559955442ab6628b3a": {
          "model_module": "@jupyter-widgets/base",
          "model_name": "LayoutModel",
          "model_module_version": "1.2.0",
          "state": {
            "_model_module": "@jupyter-widgets/base",
            "_model_module_version": "1.2.0",
            "_model_name": "LayoutModel",
            "_view_count": null,
            "_view_module": "@jupyter-widgets/base",
            "_view_module_version": "1.2.0",
            "_view_name": "LayoutView",
            "align_content": null,
            "align_items": null,
            "align_self": null,
            "border": null,
            "bottom": null,
            "display": null,
            "flex": null,
            "flex_flow": null,
            "grid_area": null,
            "grid_auto_columns": null,
            "grid_auto_flow": null,
            "grid_auto_rows": null,
            "grid_column": null,
            "grid_gap": null,
            "grid_row": null,
            "grid_template_areas": null,
            "grid_template_columns": null,
            "grid_template_rows": null,
            "height": null,
            "justify_content": null,
            "justify_items": null,
            "left": null,
            "margin": null,
            "max_height": null,
            "max_width": null,
            "min_height": null,
            "min_width": null,
            "object_fit": null,
            "object_position": null,
            "order": null,
            "overflow": null,
            "overflow_x": null,
            "overflow_y": null,
            "padding": null,
            "right": null,
            "top": null,
            "visibility": null,
            "width": null
          }
        },
        "bc06ae5aadf74ccd93f50cbb7fb2f788": {
          "model_module": "@jupyter-widgets/controls",
          "model_name": "DescriptionStyleModel",
          "model_module_version": "1.5.0",
          "state": {
            "_model_module": "@jupyter-widgets/controls",
            "_model_module_version": "1.5.0",
            "_model_name": "DescriptionStyleModel",
            "_view_count": null,
            "_view_module": "@jupyter-widgets/base",
            "_view_module_version": "1.2.0",
            "_view_name": "StyleView",
            "description_width": ""
          }
        },
        "0a6c0d12379b43e2b62fe932f93e062f": {
          "model_module": "@jupyter-widgets/base",
          "model_name": "LayoutModel",
          "model_module_version": "1.2.0",
          "state": {
            "_model_module": "@jupyter-widgets/base",
            "_model_module_version": "1.2.0",
            "_model_name": "LayoutModel",
            "_view_count": null,
            "_view_module": "@jupyter-widgets/base",
            "_view_module_version": "1.2.0",
            "_view_name": "LayoutView",
            "align_content": null,
            "align_items": null,
            "align_self": null,
            "border": null,
            "bottom": null,
            "display": null,
            "flex": null,
            "flex_flow": null,
            "grid_area": null,
            "grid_auto_columns": null,
            "grid_auto_flow": null,
            "grid_auto_rows": null,
            "grid_column": null,
            "grid_gap": null,
            "grid_row": null,
            "grid_template_areas": null,
            "grid_template_columns": null,
            "grid_template_rows": null,
            "height": null,
            "justify_content": null,
            "justify_items": null,
            "left": null,
            "margin": null,
            "max_height": null,
            "max_width": null,
            "min_height": null,
            "min_width": null,
            "object_fit": null,
            "object_position": null,
            "order": null,
            "overflow": null,
            "overflow_x": null,
            "overflow_y": null,
            "padding": null,
            "right": null,
            "top": null,
            "visibility": null,
            "width": null
          }
        },
        "797b94e33a9346849a0c5ac96521e48f": {
          "model_module": "@jupyter-widgets/controls",
          "model_name": "ProgressStyleModel",
          "model_module_version": "1.5.0",
          "state": {
            "_model_module": "@jupyter-widgets/controls",
            "_model_module_version": "1.5.0",
            "_model_name": "ProgressStyleModel",
            "_view_count": null,
            "_view_module": "@jupyter-widgets/base",
            "_view_module_version": "1.2.0",
            "_view_name": "StyleView",
            "bar_color": null,
            "description_width": ""
          }
        },
        "030dc8a301e741a792785e35e97cfd10": {
          "model_module": "@jupyter-widgets/base",
          "model_name": "LayoutModel",
          "model_module_version": "1.2.0",
          "state": {
            "_model_module": "@jupyter-widgets/base",
            "_model_module_version": "1.2.0",
            "_model_name": "LayoutModel",
            "_view_count": null,
            "_view_module": "@jupyter-widgets/base",
            "_view_module_version": "1.2.0",
            "_view_name": "LayoutView",
            "align_content": null,
            "align_items": null,
            "align_self": null,
            "border": null,
            "bottom": null,
            "display": null,
            "flex": null,
            "flex_flow": null,
            "grid_area": null,
            "grid_auto_columns": null,
            "grid_auto_flow": null,
            "grid_auto_rows": null,
            "grid_column": null,
            "grid_gap": null,
            "grid_row": null,
            "grid_template_areas": null,
            "grid_template_columns": null,
            "grid_template_rows": null,
            "height": null,
            "justify_content": null,
            "justify_items": null,
            "left": null,
            "margin": null,
            "max_height": null,
            "max_width": null,
            "min_height": null,
            "min_width": null,
            "object_fit": null,
            "object_position": null,
            "order": null,
            "overflow": null,
            "overflow_x": null,
            "overflow_y": null,
            "padding": null,
            "right": null,
            "top": null,
            "visibility": null,
            "width": null
          }
        },
        "aa3d66857743410c845ebff5d8124a58": {
          "model_module": "@jupyter-widgets/controls",
          "model_name": "DescriptionStyleModel",
          "model_module_version": "1.5.0",
          "state": {
            "_model_module": "@jupyter-widgets/controls",
            "_model_module_version": "1.5.0",
            "_model_name": "DescriptionStyleModel",
            "_view_count": null,
            "_view_module": "@jupyter-widgets/base",
            "_view_module_version": "1.2.0",
            "_view_name": "StyleView",
            "description_width": ""
          }
        },
        "adcc961f64bc4a05af2ce794aa88de72": {
          "model_module": "@jupyter-widgets/controls",
          "model_name": "HBoxModel",
          "model_module_version": "1.5.0",
          "state": {
            "_dom_classes": [],
            "_model_module": "@jupyter-widgets/controls",
            "_model_module_version": "1.5.0",
            "_model_name": "HBoxModel",
            "_view_count": null,
            "_view_module": "@jupyter-widgets/controls",
            "_view_module_version": "1.5.0",
            "_view_name": "HBoxView",
            "box_style": "",
            "children": [
              "IPY_MODEL_5eba364a6afc4fe6a66393a58ef52513",
              "IPY_MODEL_52bedebe11194e279ba705c6b42338d3",
              "IPY_MODEL_28f7d141500c4b42b63741173b5f6709"
            ],
            "layout": "IPY_MODEL_acd99ff765604609a2705c1f2cece16c"
          }
        },
        "5eba364a6afc4fe6a66393a58ef52513": {
          "model_module": "@jupyter-widgets/controls",
          "model_name": "HTMLModel",
          "model_module_version": "1.5.0",
          "state": {
            "_dom_classes": [],
            "_model_module": "@jupyter-widgets/controls",
            "_model_module_version": "1.5.0",
            "_model_name": "HTMLModel",
            "_view_count": null,
            "_view_module": "@jupyter-widgets/controls",
            "_view_module_version": "1.5.0",
            "_view_name": "HTMLView",
            "description": "",
            "description_tooltip": null,
            "layout": "IPY_MODEL_fac818eaac2847c3a9637030dbee6574",
            "placeholder": "​",
            "style": "IPY_MODEL_a46a6b5cf03945eca3e2ba65ffca59a8",
            "value": "100%"
          }
        },
        "52bedebe11194e279ba705c6b42338d3": {
          "model_module": "@jupyter-widgets/controls",
          "model_name": "FloatProgressModel",
          "model_module_version": "1.5.0",
          "state": {
            "_dom_classes": [],
            "_model_module": "@jupyter-widgets/controls",
            "_model_module_version": "1.5.0",
            "_model_name": "FloatProgressModel",
            "_view_count": null,
            "_view_module": "@jupyter-widgets/controls",
            "_view_module_version": "1.5.0",
            "_view_name": "ProgressView",
            "bar_style": "success",
            "description": "",
            "description_tooltip": null,
            "layout": "IPY_MODEL_57120a805b45468eaccca08c76b7bb82",
            "max": 373,
            "min": 0,
            "orientation": "horizontal",
            "style": "IPY_MODEL_9eba331586d243e19f9c51e55b5c0f39",
            "value": 373
          }
        },
        "28f7d141500c4b42b63741173b5f6709": {
          "model_module": "@jupyter-widgets/controls",
          "model_name": "HTMLModel",
          "model_module_version": "1.5.0",
          "state": {
            "_dom_classes": [],
            "_model_module": "@jupyter-widgets/controls",
            "_model_module_version": "1.5.0",
            "_model_name": "HTMLModel",
            "_view_count": null,
            "_view_module": "@jupyter-widgets/controls",
            "_view_module_version": "1.5.0",
            "_view_name": "HTMLView",
            "description": "",
            "description_tooltip": null,
            "layout": "IPY_MODEL_f0ae27c899be49eeabe739b7ac10ecb5",
            "placeholder": "​",
            "style": "IPY_MODEL_0dfddc71b9754aa6b13c2aafd52ea298",
            "value": " 373/373 [03:30&lt;00:00,  1.77it/s]"
          }
        },
        "acd99ff765604609a2705c1f2cece16c": {
          "model_module": "@jupyter-widgets/base",
          "model_name": "LayoutModel",
          "model_module_version": "1.2.0",
          "state": {
            "_model_module": "@jupyter-widgets/base",
            "_model_module_version": "1.2.0",
            "_model_name": "LayoutModel",
            "_view_count": null,
            "_view_module": "@jupyter-widgets/base",
            "_view_module_version": "1.2.0",
            "_view_name": "LayoutView",
            "align_content": null,
            "align_items": null,
            "align_self": null,
            "border": null,
            "bottom": null,
            "display": null,
            "flex": null,
            "flex_flow": null,
            "grid_area": null,
            "grid_auto_columns": null,
            "grid_auto_flow": null,
            "grid_auto_rows": null,
            "grid_column": null,
            "grid_gap": null,
            "grid_row": null,
            "grid_template_areas": null,
            "grid_template_columns": null,
            "grid_template_rows": null,
            "height": null,
            "justify_content": null,
            "justify_items": null,
            "left": null,
            "margin": null,
            "max_height": null,
            "max_width": null,
            "min_height": null,
            "min_width": null,
            "object_fit": null,
            "object_position": null,
            "order": null,
            "overflow": null,
            "overflow_x": null,
            "overflow_y": null,
            "padding": null,
            "right": null,
            "top": null,
            "visibility": null,
            "width": null
          }
        },
        "fac818eaac2847c3a9637030dbee6574": {
          "model_module": "@jupyter-widgets/base",
          "model_name": "LayoutModel",
          "model_module_version": "1.2.0",
          "state": {
            "_model_module": "@jupyter-widgets/base",
            "_model_module_version": "1.2.0",
            "_model_name": "LayoutModel",
            "_view_count": null,
            "_view_module": "@jupyter-widgets/base",
            "_view_module_version": "1.2.0",
            "_view_name": "LayoutView",
            "align_content": null,
            "align_items": null,
            "align_self": null,
            "border": null,
            "bottom": null,
            "display": null,
            "flex": null,
            "flex_flow": null,
            "grid_area": null,
            "grid_auto_columns": null,
            "grid_auto_flow": null,
            "grid_auto_rows": null,
            "grid_column": null,
            "grid_gap": null,
            "grid_row": null,
            "grid_template_areas": null,
            "grid_template_columns": null,
            "grid_template_rows": null,
            "height": null,
            "justify_content": null,
            "justify_items": null,
            "left": null,
            "margin": null,
            "max_height": null,
            "max_width": null,
            "min_height": null,
            "min_width": null,
            "object_fit": null,
            "object_position": null,
            "order": null,
            "overflow": null,
            "overflow_x": null,
            "overflow_y": null,
            "padding": null,
            "right": null,
            "top": null,
            "visibility": null,
            "width": null
          }
        },
        "a46a6b5cf03945eca3e2ba65ffca59a8": {
          "model_module": "@jupyter-widgets/controls",
          "model_name": "DescriptionStyleModel",
          "model_module_version": "1.5.0",
          "state": {
            "_model_module": "@jupyter-widgets/controls",
            "_model_module_version": "1.5.0",
            "_model_name": "DescriptionStyleModel",
            "_view_count": null,
            "_view_module": "@jupyter-widgets/base",
            "_view_module_version": "1.2.0",
            "_view_name": "StyleView",
            "description_width": ""
          }
        },
        "57120a805b45468eaccca08c76b7bb82": {
          "model_module": "@jupyter-widgets/base",
          "model_name": "LayoutModel",
          "model_module_version": "1.2.0",
          "state": {
            "_model_module": "@jupyter-widgets/base",
            "_model_module_version": "1.2.0",
            "_model_name": "LayoutModel",
            "_view_count": null,
            "_view_module": "@jupyter-widgets/base",
            "_view_module_version": "1.2.0",
            "_view_name": "LayoutView",
            "align_content": null,
            "align_items": null,
            "align_self": null,
            "border": null,
            "bottom": null,
            "display": null,
            "flex": null,
            "flex_flow": null,
            "grid_area": null,
            "grid_auto_columns": null,
            "grid_auto_flow": null,
            "grid_auto_rows": null,
            "grid_column": null,
            "grid_gap": null,
            "grid_row": null,
            "grid_template_areas": null,
            "grid_template_columns": null,
            "grid_template_rows": null,
            "height": null,
            "justify_content": null,
            "justify_items": null,
            "left": null,
            "margin": null,
            "max_height": null,
            "max_width": null,
            "min_height": null,
            "min_width": null,
            "object_fit": null,
            "object_position": null,
            "order": null,
            "overflow": null,
            "overflow_x": null,
            "overflow_y": null,
            "padding": null,
            "right": null,
            "top": null,
            "visibility": null,
            "width": null
          }
        },
        "9eba331586d243e19f9c51e55b5c0f39": {
          "model_module": "@jupyter-widgets/controls",
          "model_name": "ProgressStyleModel",
          "model_module_version": "1.5.0",
          "state": {
            "_model_module": "@jupyter-widgets/controls",
            "_model_module_version": "1.5.0",
            "_model_name": "ProgressStyleModel",
            "_view_count": null,
            "_view_module": "@jupyter-widgets/base",
            "_view_module_version": "1.2.0",
            "_view_name": "StyleView",
            "bar_color": null,
            "description_width": ""
          }
        },
        "f0ae27c899be49eeabe739b7ac10ecb5": {
          "model_module": "@jupyter-widgets/base",
          "model_name": "LayoutModel",
          "model_module_version": "1.2.0",
          "state": {
            "_model_module": "@jupyter-widgets/base",
            "_model_module_version": "1.2.0",
            "_model_name": "LayoutModel",
            "_view_count": null,
            "_view_module": "@jupyter-widgets/base",
            "_view_module_version": "1.2.0",
            "_view_name": "LayoutView",
            "align_content": null,
            "align_items": null,
            "align_self": null,
            "border": null,
            "bottom": null,
            "display": null,
            "flex": null,
            "flex_flow": null,
            "grid_area": null,
            "grid_auto_columns": null,
            "grid_auto_flow": null,
            "grid_auto_rows": null,
            "grid_column": null,
            "grid_gap": null,
            "grid_row": null,
            "grid_template_areas": null,
            "grid_template_columns": null,
            "grid_template_rows": null,
            "height": null,
            "justify_content": null,
            "justify_items": null,
            "left": null,
            "margin": null,
            "max_height": null,
            "max_width": null,
            "min_height": null,
            "min_width": null,
            "object_fit": null,
            "object_position": null,
            "order": null,
            "overflow": null,
            "overflow_x": null,
            "overflow_y": null,
            "padding": null,
            "right": null,
            "top": null,
            "visibility": null,
            "width": null
          }
        },
        "0dfddc71b9754aa6b13c2aafd52ea298": {
          "model_module": "@jupyter-widgets/controls",
          "model_name": "DescriptionStyleModel",
          "model_module_version": "1.5.0",
          "state": {
            "_model_module": "@jupyter-widgets/controls",
            "_model_module_version": "1.5.0",
            "_model_name": "DescriptionStyleModel",
            "_view_count": null,
            "_view_module": "@jupyter-widgets/base",
            "_view_module_version": "1.2.0",
            "_view_name": "StyleView",
            "description_width": ""
          }
        },
        "058359a79be34d39a71e033b7d62e3fc": {
          "model_module": "@jupyter-widgets/controls",
          "model_name": "HBoxModel",
          "model_module_version": "1.5.0",
          "state": {
            "_dom_classes": [],
            "_model_module": "@jupyter-widgets/controls",
            "_model_module_version": "1.5.0",
            "_model_name": "HBoxModel",
            "_view_count": null,
            "_view_module": "@jupyter-widgets/controls",
            "_view_module_version": "1.5.0",
            "_view_name": "HBoxView",
            "box_style": "",
            "children": [
              "IPY_MODEL_cd97dadcf2814effa656680daa147795",
              "IPY_MODEL_f7a2c8feab8f47478b03c6d4e27dca5d",
              "IPY_MODEL_6e2ab25dd8a640dfb93e3e2cfcf46749"
            ],
            "layout": "IPY_MODEL_f64e2a7831ae4e10becc2a3db548ad9f"
          }
        },
        "cd97dadcf2814effa656680daa147795": {
          "model_module": "@jupyter-widgets/controls",
          "model_name": "HTMLModel",
          "model_module_version": "1.5.0",
          "state": {
            "_dom_classes": [],
            "_model_module": "@jupyter-widgets/controls",
            "_model_module_version": "1.5.0",
            "_model_name": "HTMLModel",
            "_view_count": null,
            "_view_module": "@jupyter-widgets/controls",
            "_view_module_version": "1.5.0",
            "_view_name": "HTMLView",
            "description": "",
            "description_tooltip": null,
            "layout": "IPY_MODEL_6bb128cf487e4083b3290603038272db",
            "placeholder": "​",
            "style": "IPY_MODEL_75212cbec3f444dbbd0ca44b41f33e87",
            "value": "Evaluating: 100%"
          }
        },
        "f7a2c8feab8f47478b03c6d4e27dca5d": {
          "model_module": "@jupyter-widgets/controls",
          "model_name": "FloatProgressModel",
          "model_module_version": "1.5.0",
          "state": {
            "_dom_classes": [],
            "_model_module": "@jupyter-widgets/controls",
            "_model_module_version": "1.5.0",
            "_model_name": "FloatProgressModel",
            "_view_count": null,
            "_view_module": "@jupyter-widgets/controls",
            "_view_module_version": "1.5.0",
            "_view_name": "ProgressView",
            "bar_style": "success",
            "description": "",
            "description_tooltip": null,
            "layout": "IPY_MODEL_7b6f866d98ef49c29280001aafa1b1bb",
            "max": 47,
            "min": 0,
            "orientation": "horizontal",
            "style": "IPY_MODEL_be31c7e9e84b4591af76026adf286553",
            "value": 47
          }
        },
        "6e2ab25dd8a640dfb93e3e2cfcf46749": {
          "model_module": "@jupyter-widgets/controls",
          "model_name": "HTMLModel",
          "model_module_version": "1.5.0",
          "state": {
            "_dom_classes": [],
            "_model_module": "@jupyter-widgets/controls",
            "_model_module_version": "1.5.0",
            "_model_name": "HTMLModel",
            "_view_count": null,
            "_view_module": "@jupyter-widgets/controls",
            "_view_module_version": "1.5.0",
            "_view_name": "HTMLView",
            "description": "",
            "description_tooltip": null,
            "layout": "IPY_MODEL_11432b37a28f4926be44cdeb76f5d9ba",
            "placeholder": "​",
            "style": "IPY_MODEL_5f4cff26314541a3ab8a1c3be26ea547",
            "value": " 47/47 [00:09&lt;00:00,  4.76it/s]"
          }
        },
        "f64e2a7831ae4e10becc2a3db548ad9f": {
          "model_module": "@jupyter-widgets/base",
          "model_name": "LayoutModel",
          "model_module_version": "1.2.0",
          "state": {
            "_model_module": "@jupyter-widgets/base",
            "_model_module_version": "1.2.0",
            "_model_name": "LayoutModel",
            "_view_count": null,
            "_view_module": "@jupyter-widgets/base",
            "_view_module_version": "1.2.0",
            "_view_name": "LayoutView",
            "align_content": null,
            "align_items": null,
            "align_self": null,
            "border": null,
            "bottom": null,
            "display": null,
            "flex": null,
            "flex_flow": null,
            "grid_area": null,
            "grid_auto_columns": null,
            "grid_auto_flow": null,
            "grid_auto_rows": null,
            "grid_column": null,
            "grid_gap": null,
            "grid_row": null,
            "grid_template_areas": null,
            "grid_template_columns": null,
            "grid_template_rows": null,
            "height": null,
            "justify_content": null,
            "justify_items": null,
            "left": null,
            "margin": null,
            "max_height": null,
            "max_width": null,
            "min_height": null,
            "min_width": null,
            "object_fit": null,
            "object_position": null,
            "order": null,
            "overflow": null,
            "overflow_x": null,
            "overflow_y": null,
            "padding": null,
            "right": null,
            "top": null,
            "visibility": null,
            "width": null
          }
        },
        "6bb128cf487e4083b3290603038272db": {
          "model_module": "@jupyter-widgets/base",
          "model_name": "LayoutModel",
          "model_module_version": "1.2.0",
          "state": {
            "_model_module": "@jupyter-widgets/base",
            "_model_module_version": "1.2.0",
            "_model_name": "LayoutModel",
            "_view_count": null,
            "_view_module": "@jupyter-widgets/base",
            "_view_module_version": "1.2.0",
            "_view_name": "LayoutView",
            "align_content": null,
            "align_items": null,
            "align_self": null,
            "border": null,
            "bottom": null,
            "display": null,
            "flex": null,
            "flex_flow": null,
            "grid_area": null,
            "grid_auto_columns": null,
            "grid_auto_flow": null,
            "grid_auto_rows": null,
            "grid_column": null,
            "grid_gap": null,
            "grid_row": null,
            "grid_template_areas": null,
            "grid_template_columns": null,
            "grid_template_rows": null,
            "height": null,
            "justify_content": null,
            "justify_items": null,
            "left": null,
            "margin": null,
            "max_height": null,
            "max_width": null,
            "min_height": null,
            "min_width": null,
            "object_fit": null,
            "object_position": null,
            "order": null,
            "overflow": null,
            "overflow_x": null,
            "overflow_y": null,
            "padding": null,
            "right": null,
            "top": null,
            "visibility": null,
            "width": null
          }
        },
        "75212cbec3f444dbbd0ca44b41f33e87": {
          "model_module": "@jupyter-widgets/controls",
          "model_name": "DescriptionStyleModel",
          "model_module_version": "1.5.0",
          "state": {
            "_model_module": "@jupyter-widgets/controls",
            "_model_module_version": "1.5.0",
            "_model_name": "DescriptionStyleModel",
            "_view_count": null,
            "_view_module": "@jupyter-widgets/base",
            "_view_module_version": "1.2.0",
            "_view_name": "StyleView",
            "description_width": ""
          }
        },
        "7b6f866d98ef49c29280001aafa1b1bb": {
          "model_module": "@jupyter-widgets/base",
          "model_name": "LayoutModel",
          "model_module_version": "1.2.0",
          "state": {
            "_model_module": "@jupyter-widgets/base",
            "_model_module_version": "1.2.0",
            "_model_name": "LayoutModel",
            "_view_count": null,
            "_view_module": "@jupyter-widgets/base",
            "_view_module_version": "1.2.0",
            "_view_name": "LayoutView",
            "align_content": null,
            "align_items": null,
            "align_self": null,
            "border": null,
            "bottom": null,
            "display": null,
            "flex": null,
            "flex_flow": null,
            "grid_area": null,
            "grid_auto_columns": null,
            "grid_auto_flow": null,
            "grid_auto_rows": null,
            "grid_column": null,
            "grid_gap": null,
            "grid_row": null,
            "grid_template_areas": null,
            "grid_template_columns": null,
            "grid_template_rows": null,
            "height": null,
            "justify_content": null,
            "justify_items": null,
            "left": null,
            "margin": null,
            "max_height": null,
            "max_width": null,
            "min_height": null,
            "min_width": null,
            "object_fit": null,
            "object_position": null,
            "order": null,
            "overflow": null,
            "overflow_x": null,
            "overflow_y": null,
            "padding": null,
            "right": null,
            "top": null,
            "visibility": null,
            "width": null
          }
        },
        "be31c7e9e84b4591af76026adf286553": {
          "model_module": "@jupyter-widgets/controls",
          "model_name": "ProgressStyleModel",
          "model_module_version": "1.5.0",
          "state": {
            "_model_module": "@jupyter-widgets/controls",
            "_model_module_version": "1.5.0",
            "_model_name": "ProgressStyleModel",
            "_view_count": null,
            "_view_module": "@jupyter-widgets/base",
            "_view_module_version": "1.2.0",
            "_view_name": "StyleView",
            "bar_color": null,
            "description_width": ""
          }
        },
        "11432b37a28f4926be44cdeb76f5d9ba": {
          "model_module": "@jupyter-widgets/base",
          "model_name": "LayoutModel",
          "model_module_version": "1.2.0",
          "state": {
            "_model_module": "@jupyter-widgets/base",
            "_model_module_version": "1.2.0",
            "_model_name": "LayoutModel",
            "_view_count": null,
            "_view_module": "@jupyter-widgets/base",
            "_view_module_version": "1.2.0",
            "_view_name": "LayoutView",
            "align_content": null,
            "align_items": null,
            "align_self": null,
            "border": null,
            "bottom": null,
            "display": null,
            "flex": null,
            "flex_flow": null,
            "grid_area": null,
            "grid_auto_columns": null,
            "grid_auto_flow": null,
            "grid_auto_rows": null,
            "grid_column": null,
            "grid_gap": null,
            "grid_row": null,
            "grid_template_areas": null,
            "grid_template_columns": null,
            "grid_template_rows": null,
            "height": null,
            "justify_content": null,
            "justify_items": null,
            "left": null,
            "margin": null,
            "max_height": null,
            "max_width": null,
            "min_height": null,
            "min_width": null,
            "object_fit": null,
            "object_position": null,
            "order": null,
            "overflow": null,
            "overflow_x": null,
            "overflow_y": null,
            "padding": null,
            "right": null,
            "top": null,
            "visibility": null,
            "width": null
          }
        },
        "5f4cff26314541a3ab8a1c3be26ea547": {
          "model_module": "@jupyter-widgets/controls",
          "model_name": "DescriptionStyleModel",
          "model_module_version": "1.5.0",
          "state": {
            "_model_module": "@jupyter-widgets/controls",
            "_model_module_version": "1.5.0",
            "_model_name": "DescriptionStyleModel",
            "_view_count": null,
            "_view_module": "@jupyter-widgets/base",
            "_view_module_version": "1.2.0",
            "_view_name": "StyleView",
            "description_width": ""
          }
        }
      }
    }
  },
  "cells": [
    {
      "cell_type": "markdown",
      "metadata": {
        "id": "view-in-github",
        "colab_type": "text"
      },
      "source": [
        "<a href=\"https://colab.research.google.com/github/jhubar/master-thesis/blob/main/LayoutLMv2/CORD/Fine_tuning_lr5e5_LayoutLMv2ForTokenClassification_on_CORD.ipynb\" target=\"_parent\"><img src=\"https://colab.research.google.com/assets/colab-badge.svg\" alt=\"Open In Colab\"/></a>"
      ]
    },
    {
      "cell_type": "markdown",
      "metadata": {
        "id": "Z7E3hFdIQBYu"
      },
      "source": [
        "In this notebook, we are going to fine-tune `LayoutLMv2ForTokenClassification` on the [CORD](https://github.com/clovaai/cord) dataset. The goal for the model is to label words appearing in scanned documents (namely, receipts) appropriately. This task is treated as a NER problem (sequence labeling). However, compared to BERT, LayoutLMv2 also incorporates visual and layout information about the tokens when encoding them into vectors. This makes the LayoutLMv2 model very powerful for document understanding tasks.\n",
        "\n",
        "LayoutLMv2 is itself an upgrade of LayoutLM. The main novelty of LayoutLMv2 is that it also pre-trains visual embeddings, whereas the original LayoutLM only adds visual embeddings during fine-tuning.\n",
        "\n",
        "* Paper: https://arxiv.org/abs/2012.14740\n",
        "* Original repo: https://github.com/microsoft/unilm/tree/master/layoutlmv2\n",
        "\n",
        "NOTES: \n",
        "\n",
        "* you first need to prepare the CORD dataset for LayoutLMv2. For that, check out the notebook \"Prepare CORD for LayoutLMv2\".\n",
        "* this notebook is heavily inspired by [this Github repository](https://github.com/omarsou/layoutlm_CORD), which fine-tunes both BERT and LayoutLM (v1) on the CORD dataset.\n",
        "\n",
        "\n",
        "\n",
        "## Install dependencies\n",
        "\n",
        "First, we install the required libraries:\n",
        "* Transformers (for the LayoutLMv2 model)\n",
        "* Datasets (for data preprocessing)\n",
        "* Seqeval (for metrics)\n",
        "* Detectron2 (which LayoutLMv2 requires for its visual backbone).\n",
        "\n"
      ]
    },
    {
      "cell_type": "code",
      "metadata": {
        "colab": {
          "base_uri": "https://localhost:8080/"
        },
        "id": "vL18fbJlmXn8",
        "outputId": "a337b117-f68e-4b8b-d6b0-54c5ec6c11fa"
      },
      "source": [
        "!rm -r transformers\n",
        "!git clone https://github.com/huggingface/transformers.git\n",
        "!cd tranformers\n",
        "!pip install -q ./transformers "
      ],
      "execution_count": 94,
      "outputs": [
        {
          "output_type": "stream",
          "name": "stdout",
          "text": [
            "Cloning into 'transformers'...\n",
            "remote: Enumerating objects: 99900, done.\u001b[K\n",
            "remote: Counting objects: 100% (170/170), done.\u001b[K\n",
            "remote: Compressing objects: 100% (94/94), done.\u001b[K\n",
            "remote: Total 99900 (delta 87), reused 114 (delta 66), pack-reused 99730\u001b[K\n",
            "Receiving objects: 100% (99900/99900), 89.41 MiB | 28.32 MiB/s, done.\n",
            "Resolving deltas: 100% (73242/73242), done.\n",
            "/bin/bash: line 0: cd: tranformers: No such file or directory\n",
            "\u001b[33m  DEPRECATION: A future pip version will change local packages to be built in-place without first copying to a temporary directory. We recommend you use --use-feature=in-tree-build to test your packages with this new behavior before it becomes the default.\n",
            "   pip 21.3 will remove support for this functionality. You can find discussion regarding this at https://github.com/pypa/pip/issues/7555.\u001b[0m\n",
            "  Installing build dependencies ... \u001b[?25l\u001b[?25hdone\n",
            "  Getting requirements to build wheel ... \u001b[?25l\u001b[?25hdone\n",
            "    Preparing wheel metadata ... \u001b[?25l\u001b[?25hdone\n",
            "  Building wheel for transformers (PEP 517) ... \u001b[?25l\u001b[?25hdone\n"
          ]
        }
      ]
    },
    {
      "cell_type": "code",
      "metadata": {
        "id": "Byx9C8bmGVLe"
      },
      "source": [
        "!pip install -q datasets seqeval"
      ],
      "execution_count": 95,
      "outputs": []
    },
    {
      "cell_type": "code",
      "metadata": {
        "colab": {
          "base_uri": "https://localhost:8080/"
        },
        "id": "B1CNb7_MP2Z-",
        "outputId": "499fafe3-0f8a-40e5-b42b-7ec1cfb66be1"
      },
      "source": [
        "!pip install pyyaml==5.1\n",
        "# workaround: install old version of pytorch since detectron2 hasn't released packages for pytorch 1.9 (issue: https://github.com/facebookresearch/detectron2/issues/3158)\n",
        "!pip install torch==1.8.0+cu101 torchvision==0.9.0+cu101 -f https://download.pytorch.org/whl/torch_stable.html\n",
        "\n",
        "# install detectron2 that matches pytorch 1.8\n",
        "# See https://detectron2.readthedocs.io/tutorials/install.html for instructions\n",
        "!pip install -q detectron2 -f https://dl.fbaipublicfiles.com/detectron2/wheels/cu101/torch1.8/index.html\n",
        "# exit(0)  # After installation, you need to \"restart runtime\" in Colab. This line can also restart runtime"
      ],
      "execution_count": 96,
      "outputs": [
        {
          "output_type": "stream",
          "name": "stdout",
          "text": [
            "Requirement already satisfied: pyyaml==5.1 in /usr/local/lib/python3.7/dist-packages (5.1)\n",
            "Looking in links: https://download.pytorch.org/whl/torch_stable.html\n",
            "Requirement already satisfied: torch==1.8.0+cu101 in /usr/local/lib/python3.7/dist-packages (1.8.0+cu101)\n",
            "Requirement already satisfied: torchvision==0.9.0+cu101 in /usr/local/lib/python3.7/dist-packages (0.9.0+cu101)\n",
            "Requirement already satisfied: numpy in /usr/local/lib/python3.7/dist-packages (from torch==1.8.0+cu101) (1.21.6)\n",
            "Requirement already satisfied: typing-extensions in /usr/local/lib/python3.7/dist-packages (from torch==1.8.0+cu101) (4.2.0)\n",
            "Requirement already satisfied: pillow>=4.1.1 in /usr/local/lib/python3.7/dist-packages (from torchvision==0.9.0+cu101) (7.1.2)\n"
          ]
        }
      ]
    },
    {
      "cell_type": "code",
      "source": [
        "from google.colab import drive\n",
        "drive.mount('/content/drive')"
      ],
      "metadata": {
        "colab": {
          "base_uri": "https://localhost:8080/"
        },
        "id": "K6KT9Rnp-a77",
        "outputId": "5c3498cf-896e-46f0-cfee-b2d1d438c5ac"
      },
      "execution_count": 97,
      "outputs": [
        {
          "output_type": "stream",
          "name": "stdout",
          "text": [
            "Drive already mounted at /content/drive; to attempt to forcibly remount, call drive.mount(\"/content/drive\", force_remount=True).\n"
          ]
        }
      ]
    },
    {
      "cell_type": "markdown",
      "metadata": {
        "id": "iOxLV0JnQJWJ"
      },
      "source": [
        "## Prepare the data\n",
        "\n",
        "First, let's read in the annotations which we prepared in the other notebook. These contain the word-level annotations (words, labels, normalized bounding boxes)."
      ]
    },
    {
      "cell_type": "code",
      "metadata": {
        "id": "f4ZyOsDcEGQL"
      },
      "source": [
        "import pandas as pd\n",
        "cord_folder_path = '/content/drive/MyDrive/CORD-2/'\n",
        "cord_folder_output_path = '/content/drive/MyDrive/CORD-2/cord_base_lr_5e5/'\n",
        "cord_pickel_folder_path = cord_folder_path+'pickel'\n",
        "train = pd.read_pickle(cord_pickel_folder_path+'/train.pkl')\n",
        "val = pd.read_pickle(cord_pickel_folder_path+'/dev.pkl')\n",
        "test = pd.read_pickle(cord_pickel_folder_path+'/test.pkl')"
      ],
      "execution_count": 98,
      "outputs": []
    },
    {
      "cell_type": "markdown",
      "metadata": {
        "id": "1cXWGK_yOuOf"
      },
      "source": [
        "Let's define a list of all unique labels. For that, let's first count the number of occurrences for each label:"
      ]
    },
    {
      "cell_type": "code",
      "metadata": {
        "colab": {
          "base_uri": "https://localhost:8080/"
        },
        "id": "1RJLFClPIYjt",
        "outputId": "66100cfd-372d-4203-b29f-97f32f153ba5"
      },
      "source": [
        "from collections import Counter\n",
        "\n",
        "all_labels = [item for sublist in train[1] for item in sublist] + [item for sublist in val[1] for item in sublist] + [item for sublist in test[1] for item in sublist]\n",
        "Counter(all_labels)"
      ],
      "execution_count": 99,
      "outputs": [
        {
          "output_type": "execute_result",
          "data": {
            "text/plain": [
              "Counter({'menu.cnt': 2379,\n",
              "         'menu.discountprice': 401,\n",
              "         'menu.etc': 19,\n",
              "         'menu.itemsubtotal': 7,\n",
              "         'menu.nm': 6475,\n",
              "         'menu.num': 109,\n",
              "         'menu.price': 2535,\n",
              "         'menu.sub_cnt': 183,\n",
              "         'menu.sub_etc': 9,\n",
              "         'menu.sub_nm': 792,\n",
              "         'menu.sub_price': 156,\n",
              "         'menu.sub_unitprice': 14,\n",
              "         'menu.unitprice': 733,\n",
              "         'menu.vatyn': 9,\n",
              "         'sub_total.discount_price': 184,\n",
              "         'sub_total.etc': 279,\n",
              "         'sub_total.othersvc_price': 6,\n",
              "         'sub_total.service_price': 347,\n",
              "         'sub_total.subtotal_price': 1448,\n",
              "         'sub_total.tax_price': 1261,\n",
              "         'total.cashprice': 1366,\n",
              "         'total.changeprice': 1271,\n",
              "         'total.creditcardprice': 405,\n",
              "         'total.emoneyprice': 129,\n",
              "         'total.menuqty_cnt': 614,\n",
              "         'total.menutype_cnt': 123,\n",
              "         'total.total_etc': 81,\n",
              "         'total.total_price': 2089,\n",
              "         'void_menu.nm': 3,\n",
              "         'void_menu.price': 1})"
            ]
          },
          "metadata": {},
          "execution_count": 99
        }
      ]
    },
    {
      "cell_type": "markdown",
      "metadata": {
        "id": "h5jvOQR2Ivs5"
      },
      "source": [
        "As we can see, there are some labels that contain very few examples. Let's replace them by the \"neutral\" label \"O\" (which stands for \"Outside\")."
      ]
    },
    {
      "cell_type": "code",
      "metadata": {
        "id": "7UzRGzqlIx22"
      },
      "source": [
        "replacing_labels = {'menu.etc': 'O', 'mneu.itemsubtotal': 'O', 'menu.sub_etc': 'O', 'menu.sub_unitprice': 'O', 'menu.vatyn': 'O',\n",
        "                  'void_menu.nm': 'O', 'void_menu.price': 'O', 'sub_total.othersvc_price': 'O'}"
      ],
      "execution_count": 100,
      "outputs": []
    },
    {
      "cell_type": "code",
      "metadata": {
        "id": "ldWhTh1wIyX-"
      },
      "source": [
        "def replace_elem(elem):\n",
        "  try:\n",
        "    return replacing_labels[elem]\n",
        "  except KeyError:\n",
        "    return elem\n",
        "def replace_list(ls):\n",
        "  return [replace_elem(elem) for elem in ls]\n",
        "train[1] = [replace_list(ls) for ls in train[1]]\n",
        "val[1] = [replace_list(ls) for ls in val[1]]\n",
        "test[1] = [replace_list(ls) for ls in test[1]]"
      ],
      "execution_count": 101,
      "outputs": []
    },
    {
      "cell_type": "code",
      "metadata": {
        "colab": {
          "base_uri": "https://localhost:8080/"
        },
        "id": "YIN8ptH4JD3T",
        "outputId": "68aff5f8-8f55-4357-d2d1-ef0fa955c49c"
      },
      "source": [
        "all_labels = [item for sublist in train[1] for item in sublist] + [item for sublist in val[1] for item in sublist] + [item for sublist in test[1] for item in sublist]\n",
        "Counter(all_labels)"
      ],
      "execution_count": 102,
      "outputs": [
        {
          "output_type": "execute_result",
          "data": {
            "text/plain": [
              "Counter({'O': 61,\n",
              "         'menu.cnt': 2379,\n",
              "         'menu.discountprice': 401,\n",
              "         'menu.itemsubtotal': 7,\n",
              "         'menu.nm': 6475,\n",
              "         'menu.num': 109,\n",
              "         'menu.price': 2535,\n",
              "         'menu.sub_cnt': 183,\n",
              "         'menu.sub_nm': 792,\n",
              "         'menu.sub_price': 156,\n",
              "         'menu.unitprice': 733,\n",
              "         'sub_total.discount_price': 184,\n",
              "         'sub_total.etc': 279,\n",
              "         'sub_total.service_price': 347,\n",
              "         'sub_total.subtotal_price': 1448,\n",
              "         'sub_total.tax_price': 1261,\n",
              "         'total.cashprice': 1366,\n",
              "         'total.changeprice': 1271,\n",
              "         'total.creditcardprice': 405,\n",
              "         'total.emoneyprice': 129,\n",
              "         'total.menuqty_cnt': 614,\n",
              "         'total.menutype_cnt': 123,\n",
              "         'total.total_etc': 81,\n",
              "         'total.total_price': 2089})"
            ]
          },
          "metadata": {},
          "execution_count": 102
        }
      ]
    },
    {
      "cell_type": "markdown",
      "metadata": {
        "id": "shn-dMRbJGuu"
      },
      "source": [
        "Now we have to save all the unique labels in a list."
      ]
    },
    {
      "cell_type": "code",
      "metadata": {
        "colab": {
          "base_uri": "https://localhost:8080/"
        },
        "id": "EyK3lnaCJHWn",
        "outputId": "d16778ff-c529-43d2-935f-2c07631815ba"
      },
      "source": [
        "labels = list(set(all_labels))\n",
        "print(labels)"
      ],
      "execution_count": 103,
      "outputs": [
        {
          "output_type": "stream",
          "name": "stdout",
          "text": [
            "['sub_total.discount_price', 'total.total_etc', 'menu.itemsubtotal', 'menu.cnt', 'menu.sub_price', 'total.menuqty_cnt', 'total.emoneyprice', 'total.menutype_cnt', 'menu.unitprice', 'menu.price', 'O', 'sub_total.subtotal_price', 'total.changeprice', 'sub_total.etc', 'total.total_price', 'menu.nm', 'total.cashprice', 'total.creditcardprice', 'menu.num', 'sub_total.service_price', 'menu.sub_cnt', 'sub_total.tax_price', 'menu.sub_nm', 'menu.discountprice']\n"
          ]
        }
      ]
    },
    {
      "cell_type": "code",
      "metadata": {
        "colab": {
          "base_uri": "https://localhost:8080/"
        },
        "id": "lvYHvmk1J2a2",
        "outputId": "0f4d6265-ff6b-42e9-e1bc-4475f5265c33"
      },
      "source": [
        "label2id = {label: idx for idx, label in enumerate(labels)}\n",
        "id2label = {idx: label for idx, label in enumerate(labels)}\n",
        "print(label2id)\n",
        "print(id2label)"
      ],
      "execution_count": 104,
      "outputs": [
        {
          "output_type": "stream",
          "name": "stdout",
          "text": [
            "{'sub_total.discount_price': 0, 'total.total_etc': 1, 'menu.itemsubtotal': 2, 'menu.cnt': 3, 'menu.sub_price': 4, 'total.menuqty_cnt': 5, 'total.emoneyprice': 6, 'total.menutype_cnt': 7, 'menu.unitprice': 8, 'menu.price': 9, 'O': 10, 'sub_total.subtotal_price': 11, 'total.changeprice': 12, 'sub_total.etc': 13, 'total.total_price': 14, 'menu.nm': 15, 'total.cashprice': 16, 'total.creditcardprice': 17, 'menu.num': 18, 'sub_total.service_price': 19, 'menu.sub_cnt': 20, 'sub_total.tax_price': 21, 'menu.sub_nm': 22, 'menu.discountprice': 23}\n",
            "{0: 'sub_total.discount_price', 1: 'total.total_etc', 2: 'menu.itemsubtotal', 3: 'menu.cnt', 4: 'menu.sub_price', 5: 'total.menuqty_cnt', 6: 'total.emoneyprice', 7: 'total.menutype_cnt', 8: 'menu.unitprice', 9: 'menu.price', 10: 'O', 11: 'sub_total.subtotal_price', 12: 'total.changeprice', 13: 'sub_total.etc', 14: 'total.total_price', 15: 'menu.nm', 16: 'total.cashprice', 17: 'total.creditcardprice', 18: 'menu.num', 19: 'sub_total.service_price', 20: 'menu.sub_cnt', 21: 'sub_total.tax_price', 22: 'menu.sub_nm', 23: 'menu.discountprice'}\n"
          ]
        }
      ]
    },
    {
      "cell_type": "code",
      "metadata": {
        "id": "Gq5CmIRZUy9O"
      },
      "source": [
        "from os import listdir\n",
        "from torch.utils.data import Dataset\n",
        "import torch\n",
        "from PIL import Image\n",
        "\n",
        "class CORDDataset(Dataset):\n",
        "    \"\"\"CORD dataset.\"\"\"\n",
        "\n",
        "    def __init__(self, annotations, image_dir, processor=None, max_length=512):\n",
        "        \"\"\"\n",
        "        Args:\n",
        "            annotations (List[List]): List of lists containing the word-level annotations (words, labels, boxes).\n",
        "            image_dir (string): Directory with all the document images.\n",
        "            processor (LayoutLMv2Processor): Processor to prepare the text + image.\n",
        "        \"\"\"\n",
        "        self.words, self.labels, self.boxes = annotations\n",
        "        self.image_dir = image_dir\n",
        "        self.image_file_names = [f for f in listdir(image_dir)]\n",
        "        self.processor = processor\n",
        "\n",
        "    def __len__(self):\n",
        "        return len(self.image_file_names)\n",
        "\n",
        "    def __getitem__(self, idx):\n",
        "        # first, take an image\n",
        "        item = self.image_file_names[idx]\n",
        "        image = Image.open(self.image_dir + item).convert(\"RGB\")\n",
        "\n",
        "        # get word-level annotations \n",
        "        words = self.words[idx]\n",
        "        boxes = self.boxes[idx]\n",
        "        word_labels = self.labels[idx]\n",
        "\n",
        "        assert len(words) == len(boxes) == len(word_labels)\n",
        "        \n",
        "        word_labels = [label2id[label] for label in word_labels]\n",
        "        # use processor to prepare everything\n",
        "        encoded_inputs = processor(image, words, boxes=boxes, word_labels=word_labels,\n",
        "                              padding=\"max_length\", truncation=True, max_length=512, return_token_type_ids=True,return_tensors=\"pt\")\n",
        "        \n",
        "        # remove batch dimension\n",
        "        for k,v in encoded_inputs.items():\n",
        "          encoded_inputs[k] = v.squeeze()\n",
        "\n",
        "        assert encoded_inputs.input_ids.shape == torch.Size([512])\n",
        "        assert encoded_inputs.attention_mask.shape == torch.Size([512])\n",
        "        assert encoded_inputs.token_type_ids.shape == torch.Size([512])\n",
        "        assert encoded_inputs.bbox.shape == torch.Size([512, 4])\n",
        "        assert encoded_inputs.image.shape == torch.Size([3, 224, 224])\n",
        "        assert encoded_inputs.labels.shape == torch.Size([512]) \n",
        "      \n",
        "        return encoded_inputs"
      ],
      "execution_count": 105,
      "outputs": []
    },
    {
      "cell_type": "code",
      "metadata": {
        "id": "izA9k5e-egyy"
      },
      "source": [
        "from transformers import LayoutLMv2Processor,AutoTokenizer \n",
        "from transformers import LayoutLMv2FeatureExtractor, LayoutLMv2TokenizerFast, LayoutLMv2Processor\n",
        "\n",
        "feature_extractor = LayoutLMv2FeatureExtractor(apply_ocr=False)  # apply_ocr is set to True by default\n",
        "tokenizer = AutoTokenizer.from_pretrained(\"microsoft/layoutlmv2-base-uncased\")\n",
        "processor = LayoutLMv2Processor(feature_extractor, tokenizer)\n",
        "\n",
        "\n",
        "\n",
        "train_dataset = CORDDataset(annotations=train,\n",
        "                            image_dir=cord_folder_path+'train/image/', \n",
        "                            processor=processor)\n",
        "val_dataset = CORDDataset(annotations=val,\n",
        "                            image_dir=cord_folder_path+'dev/image/', \n",
        "                            processor=processor)\n",
        "test_dataset = CORDDataset(annotations=test,\n",
        "                            image_dir=cord_folder_path+'test/image/', \n",
        "                            processor=processor)"
      ],
      "execution_count": 106,
      "outputs": []
    },
    {
      "cell_type": "markdown",
      "metadata": {
        "id": "PAQJLuPPf27V"
      },
      "source": [
        "Next, we create corresponding dataloaders."
      ]
    },
    {
      "cell_type": "code",
      "metadata": {
        "id": "XI-eM0m4fmfF",
        "colab": {
          "base_uri": "https://localhost:8080/"
        },
        "outputId": "cbf1d48f-2d5d-4ed0-e5d0-6d526f595856"
      },
      "source": [
        "from torch.utils.data import DataLoader\n",
        "\n",
        "train_dataloader = DataLoader(train_dataset, batch_size=2, shuffle=True)\n",
        "val_dataloader = DataLoader(val_dataset, batch_size=2, shuffle=True)\n",
        "test_dataloader = DataLoader(test_dataset, batch_size=2)\n",
        "print(len(train_dataloader))\n",
        "print(len(val_dataloader))\n",
        "print(len(test_dataloader))"
      ],
      "execution_count": 107,
      "outputs": [
        {
          "output_type": "stream",
          "name": "stdout",
          "text": [
            "373\n",
            "47\n",
            "47\n"
          ]
        }
      ]
    },
    {
      "cell_type": "markdown",
      "metadata": {
        "id": "hHgKGixHgIIC"
      },
      "source": [
        "## Train the model\n",
        "\n",
        "Let's train the model using native PyTorch. We use the AdamW optimizer with learning rate = 5e-5 (this is a good default value when fine-tuning Transformer-based models).\n",
        "\n"
      ]
    },
    {
      "cell_type": "code",
      "source": [
        "import warnings\n",
        "warnings.filterwarnings(\"ignore\")\n",
        "from seqeval.metrics import (\n",
        "    classification_report,\n",
        "    f1_score,\n",
        "    precision_score,\n",
        "    recall_score)\n",
        "\n",
        "def results_test(preds, out_label_ids, labels):\n",
        "  preds = np.argmax(preds, axis=2)\n",
        "\n",
        "  label_map = {i: label for i, label in enumerate(labels)}\n",
        "\n",
        "  out_label_list = [[] for _ in range(out_label_ids.shape[0])]\n",
        "  preds_list = [[] for _ in range(out_label_ids.shape[0])]\n",
        "\n",
        "  for i in range(out_label_ids.shape[0]):\n",
        "      for j in range(out_label_ids.shape[1]):\n",
        "          if out_label_ids[i, j] != -100:\n",
        "              out_label_list[i].append(label_map[out_label_ids[i][j]])\n",
        "              preds_list[i].append(label_map[preds[i][j]])\n",
        "\n",
        "  \n",
        "  results = {\n",
        "      \"precision\": precision_score(out_label_list, preds_list),\n",
        "      \"recall\": recall_score(out_label_list, preds_list),\n",
        "      \"f1\": f1_score(out_label_list, preds_list),\n",
        "  }\n",
        " \n",
        "  return results,out_label_list, preds_list"
      ],
      "metadata": {
        "id": "MZauvHD2F6Un"
      },
      "execution_count": 108,
      "outputs": []
    },
    {
      "cell_type": "code",
      "source": [
        "from transformers import LayoutLMv2ForTokenClassification, AdamW\n",
        "import torch\n",
        "from tqdm.notebook import tqdm\n",
        "from numpy import asarray\n",
        "from numpy import savetxt\n",
        "import numpy as np\n",
        "print(torch.cuda.get_device_name(0))\n",
        "model = LayoutLMv2ForTokenClassification.from_pretrained(\"microsoft/layoutlmv2-base-uncased\",\n",
        "                                                                      num_labels=len(labels))\n",
        "\n",
        "device = torch.device('cuda' if torch.cuda.is_available() else 'cpu')\n",
        "model.to(device)\n",
        "optimizer = AdamW(model.parameters(), lr=5e-5)"
      ],
      "metadata": {
        "colab": {
          "base_uri": "https://localhost:8080/"
        },
        "id": "gOT2PlPvGWiG",
        "outputId": "c324d1f7-eb84-40b2-e8c2-b65bd89d3b9e"
      },
      "execution_count": 109,
      "outputs": [
        {
          "output_type": "stream",
          "name": "stdout",
          "text": [
            "Tesla V100-SXM2-16GB\n"
          ]
        },
        {
          "output_type": "stream",
          "name": "stderr",
          "text": [
            "Some weights of the model checkpoint at microsoft/layoutlmv2-base-uncased were not used when initializing LayoutLMv2ForTokenClassification: ['layoutlmv2.visual.backbone.bottom_up.res4.2.conv1.norm.num_batches_tracked', 'layoutlmv2.visual.backbone.bottom_up.stem.conv1.norm.num_batches_tracked', 'layoutlmv2.visual.backbone.bottom_up.res4.5.conv3.norm.num_batches_tracked', 'layoutlmv2.visual.backbone.bottom_up.res4.10.conv3.norm.num_batches_tracked', 'layoutlmv2.visual.backbone.bottom_up.res4.1.conv1.norm.num_batches_tracked', 'layoutlmv2.visual.backbone.bottom_up.res4.0.conv2.norm.num_batches_tracked', 'layoutlmv2.visual.backbone.bottom_up.res4.8.conv3.norm.num_batches_tracked', 'layoutlmv2.visual.backbone.bottom_up.res4.7.conv1.norm.num_batches_tracked', 'layoutlmv2.visual.backbone.bottom_up.res5.0.conv2.norm.num_batches_tracked', 'layoutlmv2.visual.backbone.bottom_up.res4.3.conv2.norm.num_batches_tracked', 'layoutlmv2.visual.backbone.bottom_up.res4.11.conv1.norm.num_batches_tracked', 'layoutlmv2.visual.backbone.bottom_up.res2.0.conv1.norm.num_batches_tracked', 'layoutlmv2.visual.backbone.bottom_up.res2.0.conv2.norm.num_batches_tracked', 'layoutlmv2.visual.backbone.bottom_up.res3.1.conv1.norm.num_batches_tracked', 'layoutlmv2.visual.backbone.bottom_up.res4.9.conv1.norm.num_batches_tracked', 'layoutlmv2.visual.backbone.bottom_up.res4.22.conv1.norm.num_batches_tracked', 'layoutlmv2.visual.backbone.bottom_up.res4.17.conv2.norm.num_batches_tracked', 'layoutlmv2.visual.backbone.bottom_up.res3.1.conv3.norm.num_batches_tracked', 'layoutlmv2.visual.backbone.bottom_up.res4.13.conv3.norm.num_batches_tracked', 'layoutlmv2.visual.backbone.bottom_up.res3.3.conv2.norm.num_batches_tracked', 'layoutlmv2.visual.backbone.bottom_up.res4.21.conv2.norm.num_batches_tracked', 'layoutlmv2.visual.backbone.bottom_up.res4.19.conv3.norm.num_batches_tracked', 'layoutlmv2.visual.backbone.bottom_up.res4.13.conv2.norm.num_batches_tracked', 'layoutlmv2.visual.backbone.bottom_up.res3.0.shortcut.norm.num_batches_tracked', 'layoutlmv2.visual.backbone.bottom_up.res4.14.conv3.norm.num_batches_tracked', 'layoutlmv2.visual.backbone.bottom_up.res4.5.conv1.norm.num_batches_tracked', 'layoutlmv2.visual.backbone.bottom_up.res4.16.conv3.norm.num_batches_tracked', 'layoutlmv2.visual.backbone.bottom_up.res5.1.conv2.norm.num_batches_tracked', 'layoutlmv2.visual.backbone.bottom_up.res4.16.conv2.norm.num_batches_tracked', 'layoutlmv2.visual.backbone.bottom_up.res4.18.conv1.norm.num_batches_tracked', 'layoutlmv2.visual.backbone.bottom_up.res3.0.conv2.norm.num_batches_tracked', 'layoutlmv2.visual.backbone.bottom_up.res3.3.conv3.norm.num_batches_tracked', 'layoutlmv2.visual.backbone.bottom_up.res4.20.conv3.norm.num_batches_tracked', 'layoutlmv2.visual.backbone.bottom_up.res3.3.conv1.norm.num_batches_tracked', 'layoutlmv2.visual.backbone.bottom_up.res4.20.conv1.norm.num_batches_tracked', 'layoutlmv2.visual.backbone.bottom_up.res4.1.conv2.norm.num_batches_tracked', 'layoutlmv2.visual.backbone.bottom_up.res2.1.conv2.norm.num_batches_tracked', 'layoutlmv2.visual.backbone.bottom_up.res4.17.conv3.norm.num_batches_tracked', 'layoutlmv2.visual.backbone.bottom_up.res2.1.conv1.norm.num_batches_tracked', 'layoutlmv2.visual.backbone.bottom_up.res4.2.conv3.norm.num_batches_tracked', 'layoutlmv2.visual.backbone.bottom_up.res5.2.conv3.norm.num_batches_tracked', 'layoutlmv2.visual.backbone.bottom_up.res3.2.conv1.norm.num_batches_tracked', 'layoutlmv2.visual.backbone.bottom_up.res2.0.shortcut.norm.num_batches_tracked', 'layoutlmv2.visual.backbone.bottom_up.res5.2.conv1.norm.num_batches_tracked', 'layoutlmv2.visual.backbone.bottom_up.res4.17.conv1.norm.num_batches_tracked', 'layoutlmv2.visual.backbone.bottom_up.res4.11.conv3.norm.num_batches_tracked', 'layoutlmv2.visual.backbone.bottom_up.res4.6.conv3.norm.num_batches_tracked', 'layoutlmv2.visual.backbone.bottom_up.res5.2.conv2.norm.num_batches_tracked', 'layoutlmv2.visual.backbone.bottom_up.res3.0.conv1.norm.num_batches_tracked', 'layoutlmv2.visual.backbone.bottom_up.res4.18.conv3.norm.num_batches_tracked', 'layoutlmv2.visual.backbone.bottom_up.res3.2.conv2.norm.num_batches_tracked', 'layoutlmv2.visual.backbone.bottom_up.res3.1.conv2.norm.num_batches_tracked', 'layoutlmv2.visual.backbone.bottom_up.res4.19.conv2.norm.num_batches_tracked', 'layoutlmv2.visual.backbone.bottom_up.res4.11.conv2.norm.num_batches_tracked', 'layoutlmv2.visual.backbone.bottom_up.res5.0.conv1.norm.num_batches_tracked', 'layoutlmv2.visual.backbone.bottom_up.res4.6.conv2.norm.num_batches_tracked', 'layoutlmv2.visual.backbone.bottom_up.res4.9.conv3.norm.num_batches_tracked', 'layoutlmv2.visual.backbone.bottom_up.res3.0.conv3.norm.num_batches_tracked', 'layoutlmv2.visual.backbone.bottom_up.res2.0.conv3.norm.num_batches_tracked', 'layoutlmv2.visual.backbone.bottom_up.res4.22.conv2.norm.num_batches_tracked', 'layoutlmv2.visual.backbone.bottom_up.res4.12.conv3.norm.num_batches_tracked', 'layoutlmv2.visual.backbone.bottom_up.res4.22.conv3.norm.num_batches_tracked', 'layoutlmv2.visual.backbone.bottom_up.res4.4.conv3.norm.num_batches_tracked', 'layoutlmv2.visual.backbone.bottom_up.res4.2.conv2.norm.num_batches_tracked', 'layoutlmv2.visual.backbone.bottom_up.res4.3.conv3.norm.num_batches_tracked', 'layoutlmv2.visual.backbone.bottom_up.res5.1.conv1.norm.num_batches_tracked', 'layoutlmv2.visual.backbone.bottom_up.res4.15.conv2.norm.num_batches_tracked', 'layoutlmv2.visual.backbone.bottom_up.res4.21.conv1.norm.num_batches_tracked', 'layoutlmv2.visual.backbone.bottom_up.res4.12.conv2.norm.num_batches_tracked', 'layoutlmv2.visual.backbone.bottom_up.res4.19.conv1.norm.num_batches_tracked', 'layoutlmv2.visual.backbone.bottom_up.res4.0.conv1.norm.num_batches_tracked', 'layoutlmv2.visual.backbone.bottom_up.res4.6.conv1.norm.num_batches_tracked', 'layoutlmv2.visual.backbone.bottom_up.res2.2.conv2.norm.num_batches_tracked', 'layoutlmv2.visual.backbone.bottom_up.res2.2.conv3.norm.num_batches_tracked', 'layoutlmv2.visual.backbone.bottom_up.res4.8.conv1.norm.num_batches_tracked', 'layoutlmv2.visual.backbone.bottom_up.res4.1.conv3.norm.num_batches_tracked', 'layoutlmv2.visual.backbone.bottom_up.res4.15.conv3.norm.num_batches_tracked', 'layoutlmv2.visual.backbone.bottom_up.res2.1.conv3.norm.num_batches_tracked', 'layoutlmv2.visual.backbone.bottom_up.res4.4.conv1.norm.num_batches_tracked', 'layoutlmv2.visual.backbone.bottom_up.res4.14.conv2.norm.num_batches_tracked', 'layoutlmv2.visual.backbone.bottom_up.res4.7.conv2.norm.num_batches_tracked', 'layoutlmv2.visual.backbone.bottom_up.res4.10.conv1.norm.num_batches_tracked', 'layoutlmv2.visual.backbone.bottom_up.res4.9.conv2.norm.num_batches_tracked', 'layoutlmv2.visual.backbone.bottom_up.res5.0.shortcut.norm.num_batches_tracked', 'layoutlmv2.visual.backbone.bottom_up.res2.2.conv1.norm.num_batches_tracked', 'layoutlmv2.visual.backbone.bottom_up.res5.1.conv3.norm.num_batches_tracked', 'layoutlmv2.visual.backbone.bottom_up.res4.20.conv2.norm.num_batches_tracked', 'layoutlmv2.visual.backbone.bottom_up.res4.12.conv1.norm.num_batches_tracked', 'layoutlmv2.visual.backbone.bottom_up.res4.4.conv2.norm.num_batches_tracked', 'layoutlmv2.visual.backbone.bottom_up.res3.2.conv3.norm.num_batches_tracked', 'layoutlmv2.visual.backbone.bottom_up.res4.21.conv3.norm.num_batches_tracked', 'layoutlmv2.visual.backbone.bottom_up.res4.8.conv2.norm.num_batches_tracked', 'layoutlmv2.visual.backbone.bottom_up.res5.0.conv3.norm.num_batches_tracked', 'layoutlmv2.visual.backbone.bottom_up.res4.18.conv2.norm.num_batches_tracked', 'layoutlmv2.visual.backbone.bottom_up.res4.16.conv1.norm.num_batches_tracked', 'layoutlmv2.visual.backbone.bottom_up.res4.3.conv1.norm.num_batches_tracked', 'layoutlmv2.visual.backbone.bottom_up.res4.5.conv2.norm.num_batches_tracked', 'layoutlmv2.visual.backbone.bottom_up.res4.7.conv3.norm.num_batches_tracked', 'layoutlmv2.visual.backbone.bottom_up.res4.0.shortcut.norm.num_batches_tracked', 'layoutlmv2.visual.backbone.bottom_up.res4.0.conv3.norm.num_batches_tracked', 'layoutlmv2.visual.backbone.bottom_up.res4.15.conv1.norm.num_batches_tracked', 'layoutlmv2.visual.backbone.bottom_up.res4.13.conv1.norm.num_batches_tracked', 'layoutlmv2.visual.backbone.bottom_up.res4.14.conv1.norm.num_batches_tracked', 'layoutlmv2.visual.backbone.bottom_up.res4.10.conv2.norm.num_batches_tracked']\n",
            "- This IS expected if you are initializing LayoutLMv2ForTokenClassification from the checkpoint of a model trained on another task or with another architecture (e.g. initializing a BertForSequenceClassification model from a BertForPreTraining model).\n",
            "- This IS NOT expected if you are initializing LayoutLMv2ForTokenClassification from the checkpoint of a model that you expect to be exactly identical (initializing a BertForSequenceClassification model from a BertForSequenceClassification model).\n",
            "Some weights of LayoutLMv2ForTokenClassification were not initialized from the model checkpoint at microsoft/layoutlmv2-base-uncased and are newly initialized: ['classifier.weight', 'classifier.bias']\n",
            "You should probably TRAIN this model on a down-stream task to be able to use it for predictions and inference.\n"
          ]
        }
      ]
    },
    {
      "cell_type": "code",
      "metadata": {
        "colab": {
          "base_uri": "https://localhost:8080/",
          "height": 1000,
          "referenced_widgets": [
            "109788a43dba47a7bf97c1e90e6ba975",
            "d33a45b78a7b47ba83dbaadc781e9558",
            "0cfb9c77a8174ed583f32d54138639e5",
            "7a87e624048a4b4eb908b58a5102e62b",
            "884faaf1853343cbbb48f07be09e73b0",
            "ea89c1797c1243658ca3c836d882a00f",
            "671872a976ad4828b29b2eb609521375",
            "46805264ef88448f8c63fb6a2a4d395d",
            "2ce24c15f9ca4afc95863ba054522df4",
            "4f2acfe111084d7aa0025a47f227f03a",
            "914253f048d548b99e420b794f712686",
            "d6db070d59dc45489deffe7e65640b8b",
            "dae9748f0aa44e88bbe4f448e6b0b9ac",
            "3ae6eedd5c1c42c7ab97c8315b3d1ade",
            "318592c35c5c4297b2de41f3910a6aac",
            "28b4129c53c84f828061dee3b43234cb",
            "e0b1d55cdd4141a28dc89e4f48c421c7",
            "2bc61ec3de964cd5b84b59250786db52",
            "70dc55abc17e4221b31b29329c34727a",
            "7ed1c0e030614295bc1d005a08af300f",
            "f8d92ef7eea144f68da00527b0a2297c",
            "8b40db3c1928484ca2aa763f545bd711",
            "40d04c17fbbe4544a9ced5c5c61d1377",
            "1c37e4ac5fb64d6db4c57bdc414be06b",
            "63caea9c76de40e18feb782415b4917c",
            "cbf1b54ff8e14aa584c7eba72ab03347",
            "6117d48df77a4bd18e4e5af536b93ce0",
            "03437ba7cbec48559955442ab6628b3a",
            "bc06ae5aadf74ccd93f50cbb7fb2f788",
            "0a6c0d12379b43e2b62fe932f93e062f",
            "797b94e33a9346849a0c5ac96521e48f",
            "030dc8a301e741a792785e35e97cfd10",
            "aa3d66857743410c845ebff5d8124a58",
            "adcc961f64bc4a05af2ce794aa88de72",
            "5eba364a6afc4fe6a66393a58ef52513",
            "52bedebe11194e279ba705c6b42338d3",
            "28f7d141500c4b42b63741173b5f6709",
            "acd99ff765604609a2705c1f2cece16c",
            "fac818eaac2847c3a9637030dbee6574",
            "a46a6b5cf03945eca3e2ba65ffca59a8",
            "57120a805b45468eaccca08c76b7bb82",
            "9eba331586d243e19f9c51e55b5c0f39",
            "f0ae27c899be49eeabe739b7ac10ecb5",
            "0dfddc71b9754aa6b13c2aafd52ea298"
          ]
        },
        "id": "NxahVHZ0NKq7",
        "outputId": "3c9ab1d9-af55-4f9f-8abc-60f9f756e5e6"
      },
      "source": [
        "\n",
        "\n",
        "global_step = 0\n",
        "num_train_epochs = 4\n",
        "\n",
        "val_iterator = iter(val_dataloader)\n",
        "global_step = 0\n",
        "train_loss = []\n",
        "val_loss = []\n",
        "val_precision = []\n",
        "val_recall = []\n",
        "val_f1 = []\n",
        "preds_val = None\n",
        "out_label_ids = None\n",
        "batch_logits_array = []\n",
        "out_label_list=[]\n",
        "preds_list=[]\n",
        "#put the model in training mode\n",
        "val_batch_idx = 0\n",
        "for epoch in range(num_train_epochs):  \n",
        "   print(\"Epoch:\", epoch)\n",
        "   loop = tqdm(train_dataloader, leave=True)\n",
        "   for batch_id, batch in enumerate(loop):\n",
        "        model.train() \n",
        "        input_ids = batch['input_ids'].to(device)\n",
        "        bbox = batch['bbox'].to(device)\n",
        "        image = batch['image'].to(device)\n",
        "        attention_mask = batch['attention_mask'].to(device)\n",
        "        token_type_ids = batch['token_type_ids'].to(device)\n",
        "        labels = batch['labels'].to(device)\n",
        "        # zero the parameter gradients\n",
        "        optimizer.zero_grad()\n",
        "        # forward + backward + optimize\n",
        "        outputs = model(input_ids=input_ids,\n",
        "                        bbox=bbox,\n",
        "                        image=image,\n",
        "                        attention_mask=attention_mask,\n",
        "                        token_type_ids=token_type_ids,\n",
        "                        labels=labels) \n",
        "        loss = outputs.loss\n",
        "        train_loss.append(loss.item())\n",
        "        loss.backward()\n",
        "        torch.nn.utils.clip_grad_value_(model.parameters(), clip_value=1.0)\n",
        "        optimizer.step()\n",
        "        \n",
        "        # Testing part\n",
        "        if val_batch_idx >= len(val_iterator):\n",
        "            val_iterator = iter(val_dataloader)\n",
        "            val_batch_idx = 0\n",
        "        val_batch_idx += 1\n",
        "        model.eval()\n",
        "        with torch.no_grad():\n",
        "            batch = next(val_iterator)\n",
        "            input_ids = batch['input_ids'].to(device)\n",
        "            bbox = batch['bbox'].to(device)\n",
        "            image = batch['image'].to(device)\n",
        "            attention_mask = batch['attention_mask'].to(device)\n",
        "            token_type_ids = batch['token_type_ids'].to(device)\n",
        "            labels = batch['labels'].to(device)\n",
        "            # forward pass\n",
        "            outputs = model(input_ids=input_ids, bbox=bbox, image=image, attention_mask=attention_mask, \n",
        "                            token_type_ids=token_type_ids, labels=labels)\n",
        "            if preds_val is None:\n",
        "                preds_val = outputs.logits.detach().cpu().numpy()\n",
        "                out_label_ids = batch[\"labels\"].detach().cpu().numpy()\n",
        "            else:\n",
        "                preds_val = np.append(preds_val, outputs.logits.detach().cpu().numpy(), axis=0)\n",
        "                out_label_ids = np.append(out_label_ids, batch[\"labels\"].detach().cpu().numpy(), axis=0)\n",
        "       \n",
        "\n",
        "        \n",
        "        loss = outputs.loss\n",
        "        val_loss.append(loss.item())\n",
        "         \n",
        "        if global_step % 100 == 0 or global_step == 0:\n",
        "            val_result,out_label_l,preds_l = results_test(preds_val, out_label_ids, list(set(all_labels)))\n",
        "            val_precision.append(val_result['precision'])\n",
        "            val_recall.append(val_result['recall'])\n",
        "            val_f1.append(val_result['f1'])\n",
        "\n",
        "\n",
        "        \n",
        "            \n",
        "            print(\"Overall results:\", val_result)\n",
        "            print(f\"Loss after {global_step} steps: {train_loss[-1]}\")\n",
        "            print(\"Validation loss: {}\".format(loss.item()))\n",
        "        global_step += 1\n",
        "\n",
        "\n",
        "\n",
        "model.save_pretrained(cord_folder_output_path +\"check_points/LargeCheckpoints_xlm_lr_1e5\")\n",
        "path_model = cord_folder_output_path +'model/large_model_xlm_btt_qv_lr_star_1e5.pt'\n",
        "torch.save(model, path_model)\n",
        "\n",
        "# define data\n",
        "data_loss = pd.DataFrame({'batch_loss_array': train_loss,'val_loss':val_loss})\n",
        "data_loss.to_csv(cord_folder_output_path + '/output/logits_btt_qv_large_star_lr_1e5.csv')\n",
        "data_loss = pd.DataFrame({'precison':val_precision,'recall':val_recall,'f1':val_f1})\n",
        "data_loss.to_csv(cord_folder_output_path + '/output/metrics.csv')\n",
        "data_loss = pd.DataFrame({'preds_list':preds_list,'out_label_list':out_label_list})\n",
        "data_loss.to_csv(cord_folder_output_path + '/output/classification_reports.csv')"
      ],
      "execution_count": 110,
      "outputs": [
        {
          "output_type": "stream",
          "name": "stdout",
          "text": [
            "Epoch: 0\n"
          ]
        },
        {
          "output_type": "display_data",
          "data": {
            "text/plain": [
              "  0%|          | 0/373 [00:00<?, ?it/s]"
            ],
            "application/vnd.jupyter.widget-view+json": {
              "version_major": 2,
              "version_minor": 0,
              "model_id": "109788a43dba47a7bf97c1e90e6ba975"
            }
          },
          "metadata": {}
        },
        {
          "output_type": "stream",
          "name": "stdout",
          "text": [
            "Overall results: {'precision': 0.0, 'recall': 0.0, 'f1': 0.0}\n",
            "Loss after 0 steps: 3.175973415374756\n",
            "Validation loss: 3.1501691341400146\n",
            "Overall results: {'precision': 0.5205761316872428, 'recall': 0.501984126984127, 'f1': 0.5111111111111111}\n",
            "Loss after 100 steps: 1.7549176216125488\n",
            "Validation loss: 1.6150286197662354\n",
            "Overall results: {'precision': 0.6696483025005082, 'recall': 0.6491919590067008, 'f1': 0.6592614830381267}\n",
            "Loss after 200 steps: 1.2304359674453735\n",
            "Validation loss: 1.3497483730316162\n",
            "Overall results: {'precision': 0.7235560433529976, 'recall': 0.7026378896882494, 'f1': 0.712943562014194}\n",
            "Loss after 300 steps: 1.3721904754638672\n",
            "Validation loss: 0.7940775156021118\n",
            "Epoch: 1\n"
          ]
        },
        {
          "output_type": "display_data",
          "data": {
            "text/plain": [
              "  0%|          | 0/373 [00:00<?, ?it/s]"
            ],
            "application/vnd.jupyter.widget-view+json": {
              "version_major": 2,
              "version_minor": 0,
              "model_id": "d6db070d59dc45489deffe7e65640b8b"
            }
          },
          "metadata": {}
        },
        {
          "output_type": "stream",
          "name": "stdout",
          "text": [
            "Overall results: {'precision': 0.7544329896907217, 'recall': 0.7328259563388744, 'f1': 0.7434725185410951}\n",
            "Loss after 400 steps: 0.9265272617340088\n",
            "Validation loss: 2.169989824295044\n",
            "Overall results: {'precision': 0.7724369472649852, 'recall': 0.753735517379145, 'f1': 0.7629716504226149}\n",
            "Loss after 500 steps: 0.5048491954803467\n",
            "Validation loss: 1.1420546770095825\n",
            "Overall results: {'precision': 0.7881413755458515, 'recall': 0.7697074698474046, 'f1': 0.778815359201699}\n",
            "Loss after 600 steps: 0.8606996536254883\n",
            "Validation loss: 0.8627287149429321\n",
            "Overall results: {'precision': 0.8014229894442176, 'recall': 0.7845846417356551, 'f1': 0.79291443078876}\n",
            "Loss after 700 steps: 0.7437532544136047\n",
            "Validation loss: 0.32365351915359497\n",
            "Epoch: 2\n"
          ]
        },
        {
          "output_type": "display_data",
          "data": {
            "text/plain": [
              "  0%|          | 0/373 [00:00<?, ?it/s]"
            ],
            "application/vnd.jupyter.widget-view+json": {
              "version_major": 2,
              "version_minor": 0,
              "model_id": "40d04c17fbbe4544a9ced5c5c61d1377"
            }
          },
          "metadata": {}
        },
        {
          "output_type": "stream",
          "name": "stdout",
          "text": [
            "Overall results: {'precision': 0.8103008669046405, 'recall': 0.7948576859586814, 'f1': 0.8025049872477968}\n",
            "Loss after 800 steps: 0.6273745894432068\n",
            "Validation loss: 0.8950583338737488\n",
            "Overall results: {'precision': 0.8174868825764429, 'recall': 0.8037088095343976, 'f1': 0.8105392981275928}\n",
            "Loss after 900 steps: 0.4214012920856476\n",
            "Validation loss: 0.5822328925132751\n",
            "Overall results: {'precision': 0.825690686414127, 'recall': 0.8116226052873655, 'f1': 0.8185962081484469}\n",
            "Loss after 1000 steps: 0.493206650018692\n",
            "Validation loss: 0.17781007289886475\n",
            "Overall results: {'precision': 0.8334626898769265, 'recall': 0.8199469148820129, 'f1': 0.8266495601173022}\n",
            "Loss after 1100 steps: 0.23736125230789185\n",
            "Validation loss: 0.20811116695404053\n",
            "Epoch: 3\n"
          ]
        },
        {
          "output_type": "display_data",
          "data": {
            "text/plain": [
              "  0%|          | 0/373 [00:00<?, ?it/s]"
            ],
            "application/vnd.jupyter.widget-view+json": {
              "version_major": 2,
              "version_minor": 0,
              "model_id": "adcc961f64bc4a05af2ce794aa88de72"
            }
          },
          "metadata": {}
        },
        {
          "output_type": "stream",
          "name": "stdout",
          "text": [
            "Overall results: {'precision': 0.839374724492218, 'recall': 0.8255736392742796, 'f1': 0.8324169819251787}\n",
            "Loss after 1200 steps: 0.7690966129302979\n",
            "Validation loss: 0.08840686082839966\n",
            "Overall results: {'precision': 0.8450638138138138, 'recall': 0.8323832999537821, 'f1': 0.8386756282694068}\n",
            "Loss after 1300 steps: 0.7157995104789734\n",
            "Validation loss: 0.11334546655416489\n",
            "Overall results: {'precision': 0.8503259452411995, 'recall': 0.8384709882010113, 'f1': 0.844356857216836}\n",
            "Loss after 1400 steps: 0.19870513677597046\n",
            "Validation loss: 0.0835065096616745\n"
          ]
        },
        {
          "output_type": "error",
          "ename": "FileNotFoundError",
          "evalue": "ignored",
          "traceback": [
            "\u001b[0;31m---------------------------------------------------------------------------\u001b[0m",
            "\u001b[0;31mFileNotFoundError\u001b[0m                         Traceback (most recent call last)",
            "\u001b[0;32m<ipython-input-110-103482f140de>\u001b[0m in \u001b[0;36m<module>\u001b[0;34m()\u001b[0m\n\u001b[1;32m     91\u001b[0m \u001b[0mmodel\u001b[0m\u001b[0;34m.\u001b[0m\u001b[0msave_pretrained\u001b[0m\u001b[0;34m(\u001b[0m\u001b[0mcord_folder_output_path\u001b[0m \u001b[0;34m+\u001b[0m\u001b[0;34m\"check_points/LargeCheckpoints_xlm_lr_1e5\"\u001b[0m\u001b[0;34m)\u001b[0m\u001b[0;34m\u001b[0m\u001b[0;34m\u001b[0m\u001b[0m\n\u001b[1;32m     92\u001b[0m \u001b[0mpath_model\u001b[0m \u001b[0;34m=\u001b[0m \u001b[0mcord_folder_output_path\u001b[0m \u001b[0;34m+\u001b[0m\u001b[0;34m'model/large_model_xlm_btt_qv_lr_star_1e5.pt'\u001b[0m\u001b[0;34m\u001b[0m\u001b[0;34m\u001b[0m\u001b[0m\n\u001b[0;32m---> 93\u001b[0;31m \u001b[0mtorch\u001b[0m\u001b[0;34m.\u001b[0m\u001b[0msave\u001b[0m\u001b[0;34m(\u001b[0m\u001b[0mmodel\u001b[0m\u001b[0;34m,\u001b[0m \u001b[0mpath_model\u001b[0m\u001b[0;34m)\u001b[0m\u001b[0;34m\u001b[0m\u001b[0;34m\u001b[0m\u001b[0m\n\u001b[0m\u001b[1;32m     94\u001b[0m \u001b[0;34m\u001b[0m\u001b[0m\n\u001b[1;32m     95\u001b[0m \u001b[0;31m# define data\u001b[0m\u001b[0;34m\u001b[0m\u001b[0;34m\u001b[0m\u001b[0;34m\u001b[0m\u001b[0m\n",
            "\u001b[0;32m/usr/local/lib/python3.7/dist-packages/torch/serialization.py\u001b[0m in \u001b[0;36msave\u001b[0;34m(obj, f, pickle_module, pickle_protocol, _use_new_zipfile_serialization)\u001b[0m\n\u001b[1;32m    367\u001b[0m     \u001b[0m_check_dill_version\u001b[0m\u001b[0;34m(\u001b[0m\u001b[0mpickle_module\u001b[0m\u001b[0;34m)\u001b[0m\u001b[0;34m\u001b[0m\u001b[0;34m\u001b[0m\u001b[0m\n\u001b[1;32m    368\u001b[0m \u001b[0;34m\u001b[0m\u001b[0m\n\u001b[0;32m--> 369\u001b[0;31m     \u001b[0;32mwith\u001b[0m \u001b[0m_open_file_like\u001b[0m\u001b[0;34m(\u001b[0m\u001b[0mf\u001b[0m\u001b[0;34m,\u001b[0m \u001b[0;34m'wb'\u001b[0m\u001b[0;34m)\u001b[0m \u001b[0;32mas\u001b[0m \u001b[0mopened_file\u001b[0m\u001b[0;34m:\u001b[0m\u001b[0;34m\u001b[0m\u001b[0;34m\u001b[0m\u001b[0m\n\u001b[0m\u001b[1;32m    370\u001b[0m         \u001b[0;32mif\u001b[0m \u001b[0m_use_new_zipfile_serialization\u001b[0m\u001b[0;34m:\u001b[0m\u001b[0;34m\u001b[0m\u001b[0;34m\u001b[0m\u001b[0m\n\u001b[1;32m    371\u001b[0m             \u001b[0;32mwith\u001b[0m \u001b[0m_open_zipfile_writer\u001b[0m\u001b[0;34m(\u001b[0m\u001b[0mopened_file\u001b[0m\u001b[0;34m)\u001b[0m \u001b[0;32mas\u001b[0m \u001b[0mopened_zipfile\u001b[0m\u001b[0;34m:\u001b[0m\u001b[0;34m\u001b[0m\u001b[0;34m\u001b[0m\u001b[0m\n",
            "\u001b[0;32m/usr/local/lib/python3.7/dist-packages/torch/serialization.py\u001b[0m in \u001b[0;36m_open_file_like\u001b[0;34m(name_or_buffer, mode)\u001b[0m\n\u001b[1;32m    228\u001b[0m \u001b[0;32mdef\u001b[0m \u001b[0m_open_file_like\u001b[0m\u001b[0;34m(\u001b[0m\u001b[0mname_or_buffer\u001b[0m\u001b[0;34m,\u001b[0m \u001b[0mmode\u001b[0m\u001b[0;34m)\u001b[0m\u001b[0;34m:\u001b[0m\u001b[0;34m\u001b[0m\u001b[0;34m\u001b[0m\u001b[0m\n\u001b[1;32m    229\u001b[0m     \u001b[0;32mif\u001b[0m \u001b[0m_is_path\u001b[0m\u001b[0;34m(\u001b[0m\u001b[0mname_or_buffer\u001b[0m\u001b[0;34m)\u001b[0m\u001b[0;34m:\u001b[0m\u001b[0;34m\u001b[0m\u001b[0;34m\u001b[0m\u001b[0m\n\u001b[0;32m--> 230\u001b[0;31m         \u001b[0;32mreturn\u001b[0m \u001b[0m_open_file\u001b[0m\u001b[0;34m(\u001b[0m\u001b[0mname_or_buffer\u001b[0m\u001b[0;34m,\u001b[0m \u001b[0mmode\u001b[0m\u001b[0;34m)\u001b[0m\u001b[0;34m\u001b[0m\u001b[0;34m\u001b[0m\u001b[0m\n\u001b[0m\u001b[1;32m    231\u001b[0m     \u001b[0;32melse\u001b[0m\u001b[0;34m:\u001b[0m\u001b[0;34m\u001b[0m\u001b[0;34m\u001b[0m\u001b[0m\n\u001b[1;32m    232\u001b[0m         \u001b[0;32mif\u001b[0m \u001b[0;34m'w'\u001b[0m \u001b[0;32min\u001b[0m \u001b[0mmode\u001b[0m\u001b[0;34m:\u001b[0m\u001b[0;34m\u001b[0m\u001b[0;34m\u001b[0m\u001b[0m\n",
            "\u001b[0;32m/usr/local/lib/python3.7/dist-packages/torch/serialization.py\u001b[0m in \u001b[0;36m__init__\u001b[0;34m(self, name, mode)\u001b[0m\n\u001b[1;32m    209\u001b[0m \u001b[0;32mclass\u001b[0m \u001b[0m_open_file\u001b[0m\u001b[0;34m(\u001b[0m\u001b[0m_opener\u001b[0m\u001b[0;34m)\u001b[0m\u001b[0;34m:\u001b[0m\u001b[0;34m\u001b[0m\u001b[0;34m\u001b[0m\u001b[0m\n\u001b[1;32m    210\u001b[0m     \u001b[0;32mdef\u001b[0m \u001b[0m__init__\u001b[0m\u001b[0;34m(\u001b[0m\u001b[0mself\u001b[0m\u001b[0;34m,\u001b[0m \u001b[0mname\u001b[0m\u001b[0;34m,\u001b[0m \u001b[0mmode\u001b[0m\u001b[0;34m)\u001b[0m\u001b[0;34m:\u001b[0m\u001b[0;34m\u001b[0m\u001b[0;34m\u001b[0m\u001b[0m\n\u001b[0;32m--> 211\u001b[0;31m         \u001b[0msuper\u001b[0m\u001b[0;34m(\u001b[0m\u001b[0m_open_file\u001b[0m\u001b[0;34m,\u001b[0m \u001b[0mself\u001b[0m\u001b[0;34m)\u001b[0m\u001b[0;34m.\u001b[0m\u001b[0m__init__\u001b[0m\u001b[0;34m(\u001b[0m\u001b[0mopen\u001b[0m\u001b[0;34m(\u001b[0m\u001b[0mname\u001b[0m\u001b[0;34m,\u001b[0m \u001b[0mmode\u001b[0m\u001b[0;34m)\u001b[0m\u001b[0;34m)\u001b[0m\u001b[0;34m\u001b[0m\u001b[0;34m\u001b[0m\u001b[0m\n\u001b[0m\u001b[1;32m    212\u001b[0m \u001b[0;34m\u001b[0m\u001b[0m\n\u001b[1;32m    213\u001b[0m     \u001b[0;32mdef\u001b[0m \u001b[0m__exit__\u001b[0m\u001b[0;34m(\u001b[0m\u001b[0mself\u001b[0m\u001b[0;34m,\u001b[0m \u001b[0;34m*\u001b[0m\u001b[0margs\u001b[0m\u001b[0;34m)\u001b[0m\u001b[0;34m:\u001b[0m\u001b[0;34m\u001b[0m\u001b[0;34m\u001b[0m\u001b[0m\n",
            "\u001b[0;31mFileNotFoundError\u001b[0m: [Errno 2] No such file or directory: '/content/drive/MyDrive/CORD-2/cord_base_lr_5e5/model/large_model_xlm_btt_qv_lr_star_1e5.pt'"
          ]
        }
      ]
    },
    {
      "cell_type": "code",
      "source": [
        "model.save_pretrained(cord_folder_output_path +\"check_points/LargeCheckpoints_xlm_lr_1e5\")\n",
        "path_model = cord_folder_output_path +'model/large_model_xlm_btt_qv_lr_star_1e5.pt'\n",
        "torch.save(model, path_model)\n",
        "\n",
        "# define data\n",
        "data_loss = pd.DataFrame({'batch_loss_array': train_loss,'val_loss':val_loss})\n",
        "data_loss.to_csv(cord_folder_output_path + '/output/logits_btt_qv_large_star_lr_1e5.csv')\n",
        "data_loss = pd.DataFrame({'precison':val_precision,'recall':val_recall,'f1':val_f1})\n",
        "data_loss.to_csv(cord_folder_output_path + '/output/metrics.csv')\n",
        "data_loss = pd.DataFrame({'preds_list':preds_list,'out_label_list':out_label_list})\n",
        "data_loss.to_csv(cord_folder_output_path + '/output/classification_reports.csv')"
      ],
      "metadata": {
        "id": "47zqfvZUKDOd"
      },
      "execution_count": 111,
      "outputs": []
    },
    {
      "cell_type": "markdown",
      "metadata": {
        "id": "jDREDNOhPv0C"
      },
      "source": [
        "## Evaluation\n",
        "\n",
        "Let's evaluate the model on the test set. First, let's do a sanity check on the first example of the test set."
      ]
    },
    {
      "cell_type": "code",
      "source": [
        "import matplotlib.pyplot as plt\n",
        "import pandas as pd \n",
        "import numpy as np \n",
        "\n",
        "\n",
        "\n",
        "x_avg_train_loss = []\n",
        "y_avg_train_loss = []\n",
        "x_avg_val_loss = []\n",
        "y_avg_val_loss = []\n",
        "\n",
        "x_val_precision = []\n",
        "y_val_precision = []\n",
        "\n",
        "x_avg_val_recall = []\n",
        "y_avg_val_recall = []\n",
        "\n",
        "x_avg_val_f1 = []\n",
        "y_avg_val_f1 = []\n",
        "\n",
        "for i in range(0,len(train_loss)):\n",
        "   if i%100==0:\n",
        "      x_avg_train_loss.append(i)\n",
        "      y_avg_train_loss.append(train_loss[i]) \n",
        "\n",
        "for i in range(0,len(val_loss)):\n",
        "   if i%100==0:\n",
        "      x_avg_val_loss.append(i)\n",
        "      y_avg_val_loss.append(val_loss[i]) \n",
        "      \n",
        "\n",
        "for i in range(0,len(val_loss)):\n",
        "  if i%100==0:\n",
        "    try:\n",
        "      x_val_precision.append(i)\n",
        "      y_val_precision.append(val_precision[i])\n",
        "      x_avg_val_recall.append(i)\n",
        "      y_avg_val_recall.append(val_recall[i])\n",
        "      x_avg_val_f1.append(i)\n",
        "      y_avg_val_f1.append(val_f1[i])\n",
        "    except:\n",
        "      break\n",
        "        \n",
        "\n",
        "# # Loss \n",
        "plt.plot((train_loss), label = 'trainnning loss',color= 'navajowhite')\n",
        "plt.plot((val_loss),label = 'validation loss',color='dodgerblue')\n",
        "plt.plot(x_avg_train_loss,y_avg_train_loss,label='trainning loss every 100 steps',linewidth=2,color='orange')\n",
        "plt.plot(x_avg_val_loss,y_avg_val_loss,label='trainning loss every 100 steps',linewidth=2,color='blue')\n",
        "\n",
        "\n",
        "\n",
        "plt.yscale('log')\n",
        "plt.xlabel('epoch')\n",
        "plt.ylabel('Loss')\n",
        "plt.savefig(cord_folder_output_path+'btt_qv_lr__star_1e5_log_test.png')\n",
        "plt.legend()\n",
        "plt.show()\n",
        "# Loss \n",
        "plt.plot((train_loss), label = 'trainnning loss',color= 'navajowhite')\n",
        "plt.plot((val_loss),label = 'validation loss',color='dodgerblue')\n",
        "plt.plot(x_avg_train_loss,y_avg_train_loss,label='trainning loss every 100 steps',linewidth=2,color='orange')\n",
        "plt.plot(x_avg_val_loss,y_avg_val_loss,label='trainning loss every 100 steps',linewidth=2,color='blue')\n",
        "\n",
        "plt.xlabel('epoch')\n",
        "plt.ylabel('Loss')\n",
        "plt.legend()\n",
        "plt.savefig(cord_folder_output_path+'btt_qv_star_lr_1e5_test.png')\n",
        "plt.show()"
      ],
      "metadata": {
        "colab": {
          "base_uri": "https://localhost:8080/",
          "height": 541
        },
        "id": "uOhe932SGmas",
        "outputId": "001c9226-f0ee-4015-f21a-1830810c7187"
      },
      "execution_count": 112,
      "outputs": [
        {
          "output_type": "display_data",
          "data": {
            "text/plain": [
              "<Figure size 432x288 with 1 Axes>"
            ],
            "image/png": "[encoded data removed]"
          },
          "metadata": {
            "needs_background": "light"
          }
        },
        {
          "output_type": "display_data",
          "data": {
            "text/plain": [
              "<Figure size 432x288 with 1 Axes>"
            ],
            "image/png": "[encoded data removed]"
          },
          "metadata": {
            "needs_background": "light"
          }
        }
      ]
    },
    {
      "cell_type": "code",
      "source": [
        "import warnings\n",
        "warnings.filterwarnings(\"ignore\")\n",
        "from seqeval.metrics import (\n",
        "    classification_report,\n",
        "    f1_score,\n",
        "    precision_score,\n",
        "    recall_score)\n",
        "import numpy as np\n",
        "\n",
        "\n",
        "from tqdm.notebook import tqdm\n",
        "from numpy import asarray\n",
        "from numpy import savetxt\n",
        "import numpy as np\n",
        "# PATH=path_btt_large_qv +'/model/large_model_xlm_btt_qv_lr_star_1e5.pt'\n",
        "# model = torch.load(PATH)\n",
        "\n",
        "preds_val = None\n",
        "out_label_ids = None\n",
        "\n",
        "# put model in evaluation mode\n",
        "model.eval()\n",
        "batch_test_array = []\n",
        "for batch in tqdm(test_dataloader, desc=\"Evaluating\"):\n",
        "    with torch.no_grad():\n",
        "        input_ids = batch['input_ids'].to(device)\n",
        "        bbox = batch['bbox'].to(device)\n",
        "        image = batch['image'].to(device)\n",
        "        attention_mask = batch['attention_mask'].to(device)\n",
        "        token_type_ids = batch['token_type_ids'].to(device)\n",
        "        labels = batch['labels'].to(device)\n",
        "\n",
        "        # forward pass\n",
        "        outputs = model(input_ids=input_ids, bbox=bbox, image=image, attention_mask=attention_mask, \n",
        "                        token_type_ids=token_type_ids, labels=labels)\n",
        "      \n",
        "        \n",
        "        if preds_val is None:\n",
        "          preds_val = outputs.logits.detach().cpu().numpy()\n",
        "          out_label_ids = batch[\"labels\"].detach().cpu().numpy()\n",
        "        else:\n",
        "          preds_val = np.append(preds_val, outputs.logits.detach().cpu().numpy(), axis=0)\n",
        "          out_label_ids = np.append(\n",
        "              out_label_ids, batch[\"labels\"].detach().cpu().numpy(), axis=0\n",
        "          )"
      ],
      "metadata": {
        "colab": {
          "base_uri": "https://localhost:8080/",
          "height": 49,
          "referenced_widgets": [
            "058359a79be34d39a71e033b7d62e3fc",
            "cd97dadcf2814effa656680daa147795",
            "f7a2c8feab8f47478b03c6d4e27dca5d",
            "6e2ab25dd8a640dfb93e3e2cfcf46749",
            "f64e2a7831ae4e10becc2a3db548ad9f",
            "6bb128cf487e4083b3290603038272db",
            "75212cbec3f444dbbd0ca44b41f33e87",
            "7b6f866d98ef49c29280001aafa1b1bb",
            "be31c7e9e84b4591af76026adf286553",
            "11432b37a28f4926be44cdeb76f5d9ba",
            "5f4cff26314541a3ab8a1c3be26ea547"
          ]
        },
        "id": "gzOgzbEbGt7z",
        "outputId": "fa0b69f6-1308-4dfc-9493-d31612843266"
      },
      "execution_count": 113,
      "outputs": [
        {
          "output_type": "display_data",
          "data": {
            "text/plain": [
              "Evaluating:   0%|          | 0/47 [00:00<?, ?it/s]"
            ],
            "application/vnd.jupyter.widget-view+json": {
              "version_major": 2,
              "version_minor": 0,
              "model_id": "058359a79be34d39a71e033b7d62e3fc"
            }
          },
          "metadata": {}
        }
      ]
    },
    {
      "cell_type": "code",
      "source": [
        "import warnings\n",
        "warnings.filterwarnings(\"ignore\")\n",
        "from seqeval.metrics import (\n",
        "    classification_report,\n",
        "    f1_score,\n",
        "    precision_score,\n",
        "    recall_score)\n",
        "\n",
        "def results_test(preds, out_label_ids, labels):\n",
        "  preds = np.argmax(preds, axis=2)\n",
        "\n",
        "  label_map = {i: label for i, label in enumerate(labels)}\n",
        "\n",
        "  out_label_list = [[] for _ in range(out_label_ids.shape[0])]\n",
        "  preds_list = [[] for _ in range(out_label_ids.shape[0])]\n",
        "\n",
        "  for i in range(out_label_ids.shape[0]):\n",
        "      for j in range(out_label_ids.shape[1]):\n",
        "          if out_label_ids[i, j] != -100:\n",
        "              out_label_list[i].append(label_map[out_label_ids[i][j]])\n",
        "              preds_list[i].append(label_map[preds[i][j]])\n",
        "\n",
        "  \n",
        "  results = {\n",
        "      \"precision\": precision_score(out_label_list, preds_list),\n",
        "      \"recall\": recall_score(out_label_list, preds_list),\n",
        "      \"f1\": f1_score(out_label_list, preds_list),\n",
        "  }\n",
        "  return results, classification_report(out_label_list, preds_list)"
      ],
      "metadata": {
        "id": "0m162mXLG0rv"
      },
      "execution_count": 114,
      "outputs": []
    },
    {
      "cell_type": "code",
      "source": [
        "labels = list(set(all_labels))\n",
        "val_result, class_report = results_test(preds_val, out_label_ids, labels)\n",
        "print(\"Overall results:\", val_result)\n",
        "print(class_report)"
      ],
      "metadata": {
        "colab": {
          "base_uri": "https://localhost:8080/"
        },
        "id": "Xwl3640KG2vQ",
        "outputId": "c92ff1da-2c7e-405e-aa89-3ddc79c806f9"
      },
      "execution_count": 115,
      "outputs": [
        {
          "output_type": "stream",
          "name": "stdout",
          "text": [
            "Overall results: {'precision': 0.8925081433224755, 'recall': 0.9050371593724195, 'f1': 0.8987289872898729}\n",
            "                         precision    recall  f1-score   support\n",
            "\n",
            "                enu.cnt       0.91      1.00      0.95       202\n",
            "      enu.discountprice       1.00      0.80      0.89        10\n",
            "       enu.itemsubtotal       0.00      0.00      0.00         6\n",
            "                 enu.nm       0.86      0.95      0.90       229\n",
            "                enu.num       0.89      0.73      0.80        11\n",
            "              enu.price       0.88      0.99      0.93       225\n",
            "            enu.sub_cnt       0.00      0.00      0.00        17\n",
            "             enu.sub_nm       0.72      0.62      0.67        29\n",
            "          enu.sub_price       0.69      0.58      0.63        19\n",
            "          enu.unitprice       0.86      0.91      0.88        66\n",
            "         otal.cashprice       0.93      0.88      0.90        65\n",
            "       otal.changeprice       0.98      0.98      0.98        54\n",
            "   otal.creditcardprice       1.00      0.81      0.90        16\n",
            "       otal.emoneyprice       1.00      1.00      1.00         2\n",
            "       otal.menuqty_cnt       0.75      0.81      0.78        26\n",
            "      otal.menutype_cnt       0.00      0.00      0.00         7\n",
            "         otal.total_etc       0.00      0.00      0.00         3\n",
            "       otal.total_price       0.93      0.89      0.91        93\n",
            "ub_total.discount_price       1.00      0.86      0.92         7\n",
            "           ub_total.etc       0.83      0.62      0.71         8\n",
            " ub_total.service_price       1.00      1.00      1.00        10\n",
            "ub_total.subtotal_price       0.95      0.95      0.95        63\n",
            "     ub_total.tax_price       0.95      0.93      0.94        43\n",
            "\n",
            "              micro avg       0.89      0.91      0.90      1211\n",
            "              macro avg       0.75      0.71      0.72      1211\n",
            "           weighted avg       0.87      0.91      0.88      1211\n",
            "\n"
          ]
        }
      ]
    },
    {
      "cell_type": "code",
      "source": [
        "from matplotlib import figure\n",
        "from sklearn.metrics import ConfusionMatrixDisplay, confusion_matrix\n",
        "import json\n",
        "import itertools\n",
        "\n",
        "def plot_confusion_matrix(y_preds,y_true,labels):\n",
        "  cm = confusion_matrix(y_true,y_preds,normalize= \"true\")\n",
        "  fig, ax = plt.subplots(figsize=(40,40))\n",
        "  disp = ConfusionMatrixDisplay(confusion_matrix=cm, display_labels = labels)\n",
        "  disp.plot(cmap=\"Blues\",values_format=\".2f\",ax=ax,colorbar=False)\n",
        "  # plt.title(\"Normalized confusion matrix\")\n",
        "  plt.savefig(cord_folder_output_path+'conf_mat.pdf')\n",
        "  plt.show()\n",
        "\n",
        "def results_cm(preds, out_label_ids, labels):\n",
        "  preds = np.argmax(preds, axis=2)\n",
        "\n",
        "  label_map = {i: label for i, label in enumerate(labels)}\n",
        "\n",
        "  out_label_list = [[] for _ in range(out_label_ids.shape[0])]\n",
        "  preds_list = [[] for _ in range(out_label_ids.shape[0])]\n",
        "\n",
        "  for i in range(out_label_ids.shape[0]):\n",
        "      for j in range(out_label_ids.shape[1]):\n",
        "          if out_label_ids[i, j] != -100:\n",
        "              out_label_list[i].append(label_map[out_label_ids[i][j]])\n",
        "              preds_list[i].append(label_map[preds[i][j]])\n",
        "\n",
        "\n",
        "  return out_label_list,preds_list\n",
        "def flatten(list_of_lists):\n",
        "    if len(list_of_lists) == 0:\n",
        "        return list_of_lists\n",
        "    if isinstance(list_of_lists[0], list):\n",
        "        return flatten(list_of_lists[0]) + flatten(list_of_lists[1:])\n",
        "    return list_of_lists[:1] + flatten(list_of_lists[1:])\n",
        "\n",
        "# plot_confusion_matrix(preds_val, out_label_ids, labels)\n",
        "# preds_val\n",
        "out_label_list,preds_list =results_cm(preds_val, out_label_ids, labels)\n",
        "\n",
        "out_label_list = list(itertools.chain(*out_label_list))\n",
        "preds_list = list(itertools.chain(*preds_list))\n",
        "\n",
        "data_conf = {'out_label_list':out_label_list,'preds_list':preds_list,'labels':labels}\n",
        "\n",
        "with open(cord_folder_output_path+'data_conf.json', 'w', encoding='utf-8') as f:\n",
        "    json.dump(data_conf, f, ensure_ascii=False, indent=4)\n",
        "\n",
        "\n",
        "plot_confusion_matrix(preds_list,out_label_list, labels)"
      ],
      "metadata": {
        "colab": {
          "base_uri": "https://localhost:8080/",
          "height": 1000
        },
        "id": "KiqG7jX8G5pj",
        "outputId": "524c025b-c9f6-4c57-f0ba-3517a405f9c2"
      },
      "execution_count": 116,
      "outputs": [
        {
          "output_type": "display_data",
          "data": {
            "text/plain": [
              "<Figure size 2880x2880 with 1 Axes>"
            ],
            "image/png": "[encoded data removed]"
          },
          "metadata": {
            "needs_background": "light"
          }
        }
      ]
    }
  ]
}